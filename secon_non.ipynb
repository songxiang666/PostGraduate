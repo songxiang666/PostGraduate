{
 "cells": [
  {
   "cell_type": "code",
   "execution_count": 1,
   "metadata": {},
   "outputs": [],
   "source": [
    "import numpy as np\n",
    "import pandas as pd\n",
    "from matplotlib import pyplot as plt\n",
    "\n",
    "%matplotlib inline"
   ]
  },
  {
   "cell_type": "code",
   "execution_count": 2,
   "metadata": {},
   "outputs": [
    {
     "name": "stdout",
     "output_type": "stream",
     "text": [
      "data size: (1314, 6)\n"
     ]
    },
    {
     "data": {
      "text/html": [
       "<div>\n",
       "<style scoped>\n",
       "    .dataframe tbody tr th:only-of-type {\n",
       "        vertical-align: middle;\n",
       "    }\n",
       "\n",
       "    .dataframe tbody tr th {\n",
       "        vertical-align: top;\n",
       "    }\n",
       "\n",
       "    .dataframe thead th {\n",
       "        text-align: right;\n",
       "    }\n",
       "</style>\n",
       "<table border=\"1\" class=\"dataframe\">\n",
       "  <thead>\n",
       "    <tr style=\"text-align: right;\">\n",
       "      <th></th>\n",
       "      <th>ID</th>\n",
       "      <th>X</th>\n",
       "      <th>C-08</th>\n",
       "      <th>C-09</th>\n",
       "      <th>C-10</th>\n",
       "      <th>C-11</th>\n",
       "    </tr>\n",
       "  </thead>\n",
       "  <tbody>\n",
       "    <tr>\n",
       "      <th>0</th>\n",
       "      <td>15-10001</td>\n",
       "      <td>0</td>\n",
       "      <td>143</td>\n",
       "      <td>163</td>\n",
       "      <td>38.0</td>\n",
       "      <td>56.6</td>\n",
       "    </tr>\n",
       "    <tr>\n",
       "      <th>1</th>\n",
       "      <td>15-10002</td>\n",
       "      <td>0</td>\n",
       "      <td>83</td>\n",
       "      <td>87</td>\n",
       "      <td>29.0</td>\n",
       "      <td>63.2</td>\n",
       "    </tr>\n",
       "    <tr>\n",
       "      <th>2</th>\n",
       "      <td>15-10003</td>\n",
       "      <td>1</td>\n",
       "      <td>105</td>\n",
       "      <td>117</td>\n",
       "      <td>36.0</td>\n",
       "      <td>54.7</td>\n",
       "    </tr>\n",
       "    <tr>\n",
       "      <th>3</th>\n",
       "      <td>15-10004</td>\n",
       "      <td>0</td>\n",
       "      <td>116</td>\n",
       "      <td>57</td>\n",
       "      <td>24.0</td>\n",
       "      <td>45.4</td>\n",
       "    </tr>\n",
       "    <tr>\n",
       "      <th>4</th>\n",
       "      <td>15-10005</td>\n",
       "      <td>1</td>\n",
       "      <td>186</td>\n",
       "      <td>142</td>\n",
       "      <td>66.0</td>\n",
       "      <td>49.9</td>\n",
       "    </tr>\n",
       "  </tbody>\n",
       "</table>\n",
       "</div>"
      ],
      "text/plain": [
       "         ID  X  C-08  C-09  C-10  C-11\n",
       "0  15-10001  0   143   163  38.0  56.6\n",
       "1  15-10002  0    83    87  29.0  63.2\n",
       "2  15-10003  1   105   117  36.0  54.7\n",
       "3  15-10004  0   116    57  24.0  45.4\n",
       "4  15-10005  1   186   142  66.0  49.9"
      ]
     },
     "execution_count": 2,
     "metadata": {},
     "output_type": "execute_result"
    }
   ],
   "source": [
    "data = open('three_kind_andMark/G_in/secon_non.csv', encoding = 'utf-8')\n",
    "df = pd.read_csv(data, skiprows = 0)\n",
    "print('data size:', df.shape)\n",
    "df.head()"
   ]
  },
  {
   "cell_type": "markdown",
   "metadata": {},
   "source": [
    "ID：病例编号\n",
    "X：分类目标\n",
    "其余特征表示一线标志物"
   ]
  },
  {
   "cell_type": "markdown",
   "metadata": {},
   "source": [
    "# 数据的直观分布\n",
    "\n",
    "## 数据构成比例\n",
    "\n",
    "### 时间与患病数"
   ]
  },
  {
   "cell_type": "code",
   "execution_count": 5,
   "metadata": {},
   "outputs": [
    {
     "data": {
      "text/html": [
       "<div>\n",
       "<style scoped>\n",
       "    .dataframe tbody tr th:only-of-type {\n",
       "        vertical-align: middle;\n",
       "    }\n",
       "\n",
       "    .dataframe tbody tr th {\n",
       "        vertical-align: top;\n",
       "    }\n",
       "\n",
       "    .dataframe thead th {\n",
       "        text-align: right;\n",
       "    }\n",
       "</style>\n",
       "<table border=\"1\" class=\"dataframe\">\n",
       "  <thead>\n",
       "    <tr style=\"text-align: right;\">\n",
       "      <th></th>\n",
       "      <th></th>\n",
       "      <th>ID</th>\n",
       "    </tr>\n",
       "    <tr>\n",
       "      <th>Year</th>\n",
       "      <th>X</th>\n",
       "      <th></th>\n",
       "    </tr>\n",
       "  </thead>\n",
       "  <tbody>\n",
       "    <tr>\n",
       "      <th rowspan=\"3\" valign=\"top\">15</th>\n",
       "      <th>0</th>\n",
       "      <td>199</td>\n",
       "    </tr>\n",
       "    <tr>\n",
       "      <th>1</th>\n",
       "      <td>100</td>\n",
       "    </tr>\n",
       "    <tr>\n",
       "      <th>2</th>\n",
       "      <td>110</td>\n",
       "    </tr>\n",
       "    <tr>\n",
       "      <th rowspan=\"3\" valign=\"top\">16</th>\n",
       "      <th>0</th>\n",
       "      <td>228</td>\n",
       "    </tr>\n",
       "    <tr>\n",
       "      <th>1</th>\n",
       "      <td>98</td>\n",
       "    </tr>\n",
       "    <tr>\n",
       "      <th>2</th>\n",
       "      <td>102</td>\n",
       "    </tr>\n",
       "    <tr>\n",
       "      <th rowspan=\"3\" valign=\"top\">17</th>\n",
       "      <th>0</th>\n",
       "      <td>271</td>\n",
       "    </tr>\n",
       "    <tr>\n",
       "      <th>1</th>\n",
       "      <td>122</td>\n",
       "    </tr>\n",
       "    <tr>\n",
       "      <th>2</th>\n",
       "      <td>84</td>\n",
       "    </tr>\n",
       "  </tbody>\n",
       "</table>\n",
       "</div>"
      ],
      "text/plain": [
       "         ID\n",
       "Year X     \n",
       "15   0  199\n",
       "     1  100\n",
       "     2  110\n",
       "16   0  228\n",
       "     1   98\n",
       "     2  102\n",
       "17   0  271\n",
       "     1  122\n",
       "     2   84"
      ]
     },
     "execution_count": 5,
     "metadata": {},
     "output_type": "execute_result"
    }
   ],
   "source": [
    "df['Year'] = df['ID']. apply(lambda row : row.split('-')[0] )\n",
    "a = df[['Year', 'X', 'ID']].groupby(['Year', 'X']).count()\n",
    "a"
   ]
  },
  {
   "cell_type": "code",
   "execution_count": 6,
   "metadata": {},
   "outputs": [],
   "source": [
    "plt.style.use('seaborn')"
   ]
  },
  {
   "cell_type": "code",
   "execution_count": 7,
   "metadata": {},
   "outputs": [
    {
     "data": {
      "text/plain": [
       "array([<matplotlib.axes._subplots.AxesSubplot object at 0x0000026F6B733BE0>,\n",
       "       <matplotlib.axes._subplots.AxesSubplot object at 0x0000026F6B7DFE48>,\n",
       "       <matplotlib.axes._subplots.AxesSubplot object at 0x0000026F6B80D6D8>],\n",
       "      dtype=object)"
      ]
     },
     "execution_count": 7,
     "metadata": {},
     "output_type": "execute_result"
    },
    {
     "data": {
      "image/png": "[encoded data removed]",
      "text/plain": [
       "<Figure size 576x396 with 3 Axes>"
      ]
     },
     "metadata": {},
     "output_type": "display_data"
    }
   ],
   "source": [
    "b = a.unstack()\n",
    "b\n",
    "(b.T).plot(kind = 'pie', subplots = True)"
   ]
  },
  {
   "cell_type": "markdown",
   "metadata": {},
   "source": [
    "## 特征的分布规律"
   ]
  },
  {
   "cell_type": "code",
   "execution_count": 8,
   "metadata": {},
   "outputs": [
    {
     "name": "stderr",
     "output_type": "stream",
     "text": [
      "D:\\ANOCONDA\\lib\\site-packages\\IPython\\core\\interactiveshell.py:3267: UserWarning: To output multiple subplots, the figure containing the passed axes is being cleared\n",
      "  exec(code_obj, self.user_global_ns, self.user_ns)\n"
     ]
    },
    {
     "data": {
      "text/plain": [
       "array([[<matplotlib.axes._subplots.AxesSubplot object at 0x0000026F6B8C17B8>,\n",
       "        <matplotlib.axes._subplots.AxesSubplot object at 0x0000026F6B91FF28>],\n",
       "       [<matplotlib.axes._subplots.AxesSubplot object at 0x0000026F6B94B860>,\n",
       "        <matplotlib.axes._subplots.AxesSubplot object at 0x0000026F6B97C208>]],\n",
       "      dtype=object)"
      ]
     },
     "execution_count": 8,
     "metadata": {},
     "output_type": "execute_result"
    },
    {
     "data": {
      "image/png": "[encoded data removed]",
      "text/plain": [
       "<Figure size 576x396 with 4 Axes>"
      ]
     },
     "metadata": {},
     "output_type": "display_data"
    }
   ],
   "source": [
    "#复制除编号以及病状的所有特征\n",
    "features = [x for x in df.columns if x not in['ID', 'X'] ]\n",
    "plt.figure()\n",
    "ax = plt.subplot(111)\n",
    "df.hist(column = features, bins = 20, ax = ax)"
   ]
  },
  {
   "cell_type": "code",
   "execution_count": null,
   "metadata": {},
   "outputs": [],
   "source": []
  },
  {
   "cell_type": "markdown",
   "metadata": {},
   "source": [
    "正相关的特征分布"
   ]
  },
  {
   "cell_type": "code",
   "execution_count": null,
   "metadata": {},
   "outputs": [],
   "source": [
    "df.hist(column = ['','',''], bins = 20)"
   ]
  },
  {
   "cell_type": "markdown",
   "metadata": {},
   "source": [
    "负相关的特征分布"
   ]
  },
  {
   "cell_type": "code",
   "execution_count": null,
   "metadata": {},
   "outputs": [],
   "source": [
    "df.hist(column = ['','',''], bins = 20)"
   ]
  },
  {
   "cell_type": "markdown",
   "metadata": {},
   "source": [
    "## 数据的正态化变换\n",
    "\n"
   ]
  },
  {
   "cell_type": "markdown",
   "metadata": {},
   "source": [
    "C-08和C-09两个特征的分布图不符合正态性"
   ]
  },
  {
   "cell_type": "code",
   "execution_count": null,
   "metadata": {},
   "outputs": [],
   "source": []
  },
  {
   "cell_type": "code",
   "execution_count": 10,
   "metadata": {},
   "outputs": [
    {
     "data": {
      "text/plain": [
       "<matplotlib.legend.Legend at 0x26f6c55d6a0>"
      ]
     },
     "execution_count": 10,
     "metadata": {},
     "output_type": "execute_result"
    },
    {
     "data": {
      "image/png": "[encoded data removed]",
      "text/plain": [
       "<Figure size 576x396 with 1 Axes>"
      ]
     },
     "metadata": {},
     "output_type": "display_data"
    }
   ],
   "source": [
    "df['C-08'].plot(kind = 'kde', xlim = [0,50], label = 'C-08-old')\n",
    "\n",
    "np.log10(df['C-08']).plot(kind = 'kde', xlim = [0,50], label = 'C-08-new')\n",
    "plt.legend()"
   ]
  },
  {
   "cell_type": "code",
   "execution_count": 13,
   "metadata": {},
   "outputs": [
    {
     "data": {
      "text/plain": [
       "<matplotlib.axes._subplots.AxesSubplot at 0x26f6dd04e10>"
      ]
     },
     "execution_count": 13,
     "metadata": {},
     "output_type": "execute_result"
    },
    {
     "data": {
      "image/png": "[encoded data removed]",
      "text/plain": [
       "<Figure size 576x396 with 1 Axes>"
      ]
     },
     "metadata": {},
     "output_type": "display_data"
    }
   ],
   "source": [
    "np.log10(df['C-08']).hist(bins = 15)"
   ]
  },
  {
   "cell_type": "code",
   "execution_count": 14,
   "metadata": {},
   "outputs": [
    {
     "data": {
      "text/plain": [
       "<matplotlib.legend.Legend at 0x26f6dd82160>"
      ]
     },
     "execution_count": 14,
     "metadata": {},
     "output_type": "execute_result"
    },
    {
     "data": {
      "image/png": "[encoded data removed]",
      "text/plain": [
       "<Figure size 576x396 with 1 Axes>"
      ]
     },
     "metadata": {},
     "output_type": "display_data"
    }
   ],
   "source": [
    "df['C-09'].plot(kind = 'kde', xlim = [0,50], label = 'C-09-old')\n",
    "\n",
    "np.log10(df['C-09']).plot(kind = 'kde', xlim = [0,50], label = 'C-09-new')\n",
    "plt.legend()"
   ]
  },
  {
   "cell_type": "code",
   "execution_count": 15,
   "metadata": {},
   "outputs": [
    {
     "data": {
      "text/plain": [
       "<matplotlib.axes._subplots.AxesSubplot at 0x26f6ddd63c8>"
      ]
     },
     "execution_count": 15,
     "metadata": {},
     "output_type": "execute_result"
    },
    {
     "data": {
      "image/png": "[encoded data removed]",
      "text/plain": [
       "<Figure size 576x396 with 1 Axes>"
      ]
     },
     "metadata": {},
     "output_type": "display_data"
    }
   ],
   "source": [
    "np.log10(df['C-09']).hist(bins = 25)"
   ]
  },
  {
   "cell_type": "markdown",
   "metadata": {},
   "source": [
    "# 数据的浓缩\n",
    "\n",
    "五数概括法：  \n",
    "最小值、最大值、中位数、上四分位数、下四分位数"
   ]
  },
  {
   "cell_type": "code",
   "execution_count": 16,
   "metadata": {},
   "outputs": [
    {
     "name": "stdout",
     "output_type": "stream",
     "text": [
      "数据的概况总览\n"
     ]
    },
    {
     "data": {
      "text/html": [
       "<div>\n",
       "<style scoped>\n",
       "    .dataframe tbody tr th:only-of-type {\n",
       "        vertical-align: middle;\n",
       "    }\n",
       "\n",
       "    .dataframe tbody tr th {\n",
       "        vertical-align: top;\n",
       "    }\n",
       "\n",
       "    .dataframe thead th {\n",
       "        text-align: right;\n",
       "    }\n",
       "</style>\n",
       "<table border=\"1\" class=\"dataframe\">\n",
       "  <thead>\n",
       "    <tr style=\"text-align: right;\">\n",
       "      <th></th>\n",
       "      <th>X</th>\n",
       "      <th>C-08</th>\n",
       "      <th>C-09</th>\n",
       "      <th>C-10</th>\n",
       "      <th>C-11</th>\n",
       "    </tr>\n",
       "  </thead>\n",
       "  <tbody>\n",
       "    <tr>\n",
       "      <th>count</th>\n",
       "      <td>1314.000000</td>\n",
       "      <td>1314.000000</td>\n",
       "      <td>1314.000000</td>\n",
       "      <td>1271.000000</td>\n",
       "      <td>1253.000000</td>\n",
       "    </tr>\n",
       "    <tr>\n",
       "      <th>mean</th>\n",
       "      <td>0.694064</td>\n",
       "      <td>89.873668</td>\n",
       "      <td>91.315830</td>\n",
       "      <td>28.078678</td>\n",
       "      <td>54.598643</td>\n",
       "    </tr>\n",
       "    <tr>\n",
       "      <th>std</th>\n",
       "      <td>0.814479</td>\n",
       "      <td>130.231299</td>\n",
       "      <td>48.110829</td>\n",
       "      <td>12.161322</td>\n",
       "      <td>11.177110</td>\n",
       "    </tr>\n",
       "    <tr>\n",
       "      <th>min</th>\n",
       "      <td>0.000000</td>\n",
       "      <td>9.000000</td>\n",
       "      <td>18.000000</td>\n",
       "      <td>3.000000</td>\n",
       "      <td>33.900000</td>\n",
       "    </tr>\n",
       "    <tr>\n",
       "      <th>25%</th>\n",
       "      <td>0.000000</td>\n",
       "      <td>31.000000</td>\n",
       "      <td>66.000000</td>\n",
       "      <td>21.000000</td>\n",
       "      <td>47.300000</td>\n",
       "    </tr>\n",
       "    <tr>\n",
       "      <th>50%</th>\n",
       "      <td>0.000000</td>\n",
       "      <td>54.000000</td>\n",
       "      <td>80.500000</td>\n",
       "      <td>26.000000</td>\n",
       "      <td>52.300000</td>\n",
       "    </tr>\n",
       "    <tr>\n",
       "      <th>75%</th>\n",
       "      <td>1.000000</td>\n",
       "      <td>99.000000</td>\n",
       "      <td>102.000000</td>\n",
       "      <td>32.000000</td>\n",
       "      <td>59.000000</td>\n",
       "    </tr>\n",
       "    <tr>\n",
       "      <th>max</th>\n",
       "      <td>2.000000</td>\n",
       "      <td>2433.000000</td>\n",
       "      <td>654.000000</td>\n",
       "      <td>178.000000</td>\n",
       "      <td>114.100000</td>\n",
       "    </tr>\n",
       "  </tbody>\n",
       "</table>\n",
       "</div>"
      ],
      "text/plain": [
       "                 X         C-08         C-09         C-10         C-11\n",
       "count  1314.000000  1314.000000  1314.000000  1271.000000  1253.000000\n",
       "mean      0.694064    89.873668    91.315830    28.078678    54.598643\n",
       "std       0.814479   130.231299    48.110829    12.161322    11.177110\n",
       "min       0.000000     9.000000    18.000000     3.000000    33.900000\n",
       "25%       0.000000    31.000000    66.000000    21.000000    47.300000\n",
       "50%       0.000000    54.000000    80.500000    26.000000    52.300000\n",
       "75%       1.000000    99.000000   102.000000    32.000000    59.000000\n",
       "max       2.000000  2433.000000   654.000000   178.000000   114.100000"
      ]
     },
     "execution_count": 16,
     "metadata": {},
     "output_type": "execute_result"
    }
   ],
   "source": [
    "print('数据的概况总览')\n",
    "df.describe()"
   ]
  },
  {
   "cell_type": "markdown",
   "metadata": {},
   "source": [
    "## 样本的矩\n",
    "\n",
    "\n",
    "1阶原点矩——数学期望、均值  \n",
    "2阶中心矩——方差  \n",
    "3阶中心矩——偏度系数  \n",
    "4阶中心矩——峰度系数"
   ]
  },
  {
   "cell_type": "code",
   "execution_count": 17,
   "metadata": {},
   "outputs": [
    {
     "data": {
      "text/plain": [
       "count    1314.000000\n",
       "mean       91.315830\n",
       "std        48.110829\n",
       "min        18.000000\n",
       "25%        66.000000\n",
       "50%        80.500000\n",
       "75%       102.000000\n",
       "max       654.000000\n",
       "Name: C-09, dtype: float64"
      ]
     },
     "execution_count": 17,
     "metadata": {},
     "output_type": "execute_result"
    }
   ],
   "source": [
    "df['C-09'].describe()"
   ]
  },
  {
   "cell_type": "code",
   "execution_count": 18,
   "metadata": {},
   "outputs": [
    {
     "name": "stdout",
     "output_type": "stream",
     "text": [
      "以特征C-09为例：\n",
      "均值 =  91.31582952815829\n",
      "方差 =  2314.651889372289\n",
      "偏度 =  4.475053606520319\n",
      "峰度 =  33.12509370725447\n"
     ]
    }
   ],
   "source": [
    "print('以特征C-09为例：')\n",
    "print('均值 = ', df['C-09'].mean())\n",
    "print('方差 = ', df['C-09'].var())\n",
    "print('偏度 = ', df['C-09'].skew())\n",
    "print('峰度 = ', df['C-09'].kurt())"
   ]
  },
  {
   "cell_type": "markdown",
   "metadata": {},
   "source": [
    "## 箱型图和异常值"
   ]
  },
  {
   "cell_type": "code",
   "execution_count": 19,
   "metadata": {},
   "outputs": [],
   "source": [
    "import seaborn as sns"
   ]
  },
  {
   "cell_type": "markdown",
   "metadata": {},
   "source": [
    "使用seaborn的箱线图展示"
   ]
  },
  {
   "cell_type": "code",
   "execution_count": 20,
   "metadata": {},
   "outputs": [
    {
     "name": "stdout",
     "output_type": "stream",
     "text": [
      "同样以C-09为例，看各分类的箱型图：\n"
     ]
    },
    {
     "data": {
      "image/png": "[encoded data removed]",
      "text/plain": [
       "<Figure size 576x396 with 1 Axes>"
      ]
     },
     "metadata": {},
     "output_type": "display_data"
    }
   ],
   "source": [
    "sns.boxplot(x = 'X', y = 'C-09', data = df)\n",
    "print('同样以C-09为例，看各分类的箱型图：')"
   ]
  },
  {
   "cell_type": "markdown",
   "metadata": {},
   "source": [
    "异常值分析：  \n",
    "1) 大于Q3+1.5*IQR或小于Q1-1.5IQR的值，其中IQR为四分位距  \n",
    "2) 3西格玛原则，数值分布在（μ—3σ,μ+3σ)中的概率为0.9974 "
   ]
  },
  {
   "cell_type": "markdown",
   "metadata": {},
   "source": [
    "## 数据相关性"
   ]
  },
  {
   "cell_type": "code",
   "execution_count": 21,
   "metadata": {},
   "outputs": [
    {
     "data": {
      "text/plain": [
       "<matplotlib.axes._subplots.AxesSubplot at 0x26f6e0ed278>"
      ]
     },
     "execution_count": 21,
     "metadata": {},
     "output_type": "execute_result"
    },
    {
     "data": {
      "image/png": "[encoded data removed]",
      "text/plain": [
       "<Figure size 576x396 with 1 Axes>"
      ]
     },
     "metadata": {},
     "output_type": "display_data"
    }
   ],
   "source": [
    "df[['X', 'C-09']].plot(x = 'X', y = 'C-09', kind = 'scatter')"
   ]
  },
  {
   "cell_type": "markdown",
   "metadata": {},
   "source": []
  },
  {
   "cell_type": "code",
   "execution_count": 22,
   "metadata": {},
   "outputs": [
    {
     "data": {
      "text/plain": [
       "<matplotlib.axes._subplots.AxesSubplot at 0x26f6dd3ef98>"
      ]
     },
     "execution_count": 22,
     "metadata": {},
     "output_type": "execute_result"
    },
    {
     "data": {
      "image/png": "[encoded data removed]",
      "text/plain": [
       "<Figure size 576x396 with 1 Axes>"
      ]
     },
     "metadata": {},
     "output_type": "display_data"
    }
   ],
   "source": [
    "df[['X','C-08']].plot(x = 'X', y = 'C-08', kind = 'scatter')"
   ]
  },
  {
   "cell_type": "code",
   "execution_count": 23,
   "metadata": {},
   "outputs": [
    {
     "data": {
      "text/plain": [
       "<matplotlib.axes._subplots.AxesSubplot at 0x26f6e1c0cc0>"
      ]
     },
     "execution_count": 23,
     "metadata": {},
     "output_type": "execute_result"
    },
    {
     "data": {
      "image/png": "[encoded data removed]",
      "text/plain": [
       "<Figure size 576x396 with 1 Axes>"
      ]
     },
     "metadata": {},
     "output_type": "display_data"
    }
   ],
   "source": [
    "df[['X','C-10']].plot(x = 'X', y = 'C-10', kind = 'scatter')"
   ]
  },
  {
   "cell_type": "code",
   "execution_count": 31,
   "metadata": {},
   "outputs": [
    {
     "data": {
      "text/plain": [
       "<matplotlib.axes._subplots.AxesSubplot at 0x26f6f49e940>"
      ]
     },
     "execution_count": 31,
     "metadata": {},
     "output_type": "execute_result"
    },
    {
     "data": {
      "image/png": "[encoded data removed]",
      "text/plain": [
       "<Figure size 576x396 with 1 Axes>"
      ]
     },
     "metadata": {},
     "output_type": "display_data"
    }
   ],
   "source": [
    "df[['C-09', 'C-10']].plot(x='C-09', y='C-10', c=df['X'], kind='scatter')"
   ]
  },
  {
   "cell_type": "code",
   "execution_count": 32,
   "metadata": {},
   "outputs": [
    {
     "data": {
      "text/plain": [
       "<matplotlib.axes._subplots.AxesSubplot at 0x26f6f43c0b8>"
      ]
     },
     "execution_count": 32,
     "metadata": {},
     "output_type": "execute_result"
    },
    {
     "data": {
      "image/png": "[encoded data removed]",
      "text/plain": [
       "<Figure size 576x396 with 1 Axes>"
      ]
     },
     "metadata": {},
     "output_type": "display_data"
    }
   ],
   "source": [
    "df[['C-10', 'C-11']].plot(x='C-10', y='C-11', c=df['X'], kind='scatter')"
   ]
  },
  {
   "cell_type": "markdown",
   "metadata": {},
   "source": [
    "## 相关系数矩阵"
   ]
  },
  {
   "cell_type": "code",
   "execution_count": 34,
   "metadata": {
    "collapsed": true
   },
   "outputs": [
    {
     "data": {
      "text/plain": [
       "0       1\n",
       "1       0\n",
       "2       1\n",
       "3       0\n",
       "4       1\n",
       "5       0\n",
       "6       1\n",
       "7       0\n",
       "8       0\n",
       "9       1\n",
       "10      0\n",
       "11      1\n",
       "12      0\n",
       "13      1\n",
       "14      0\n",
       "15      0\n",
       "16      1\n",
       "17      0\n",
       "18      1\n",
       "19      0\n",
       "20      0\n",
       "21      1\n",
       "22      1\n",
       "23      1\n",
       "24      0\n",
       "25      0\n",
       "26      0\n",
       "27      0\n",
       "28      1\n",
       "29      0\n",
       "       ..\n",
       "1284    0\n",
       "1285    1\n",
       "1286    2\n",
       "1287    0\n",
       "1288    0\n",
       "1289    0\n",
       "1290    0\n",
       "1291    0\n",
       "1292    0\n",
       "1293    1\n",
       "1294    0\n",
       "1295    0\n",
       "1296    1\n",
       "1297    0\n",
       "1298    1\n",
       "1299    0\n",
       "1300    1\n",
       "1301    0\n",
       "1302    0\n",
       "1303    0\n",
       "1304    0\n",
       "1305    1\n",
       "1306    0\n",
       "1307    0\n",
       "1308    1\n",
       "1309    0\n",
       "1310    0\n",
       "1311    0\n",
       "1312    1\n",
       "1313    0\n",
       "Name: C-09-new, Length: 1314, dtype: int64"
      ]
     },
     "execution_count": 34,
     "metadata": {},
     "output_type": "execute_result"
    }
   ],
   "source": [
    "def process(x):\n",
    "    if 0<= x <= 91:\n",
    "        return 0\n",
    "    elif 91< x < 190:\n",
    "        return 1\n",
    "    else:\n",
    "        return 2\n",
    "df['C-09-new'] = df['C-09'].apply(lambda x : process(x))"
   ]
  },
  {
   "cell_type": "markdown",
   "metadata": {},
   "source": [
    "皮尔逊相关系数：\n",
    "    值域为[-1,1], 1表示完全正相关， -1表示完全负相关，0表示无关， 绝对值越大表明相关性越强"
   ]
  },
  {
   "cell_type": "code",
   "execution_count": 38,
   "metadata": {},
   "outputs": [
    {
     "data": {
      "text/html": [
       "<div>\n",
       "<style scoped>\n",
       "    .dataframe tbody tr th:only-of-type {\n",
       "        vertical-align: middle;\n",
       "    }\n",
       "\n",
       "    .dataframe tbody tr th {\n",
       "        vertical-align: top;\n",
       "    }\n",
       "\n",
       "    .dataframe thead th {\n",
       "        text-align: right;\n",
       "    }\n",
       "</style>\n",
       "<table border=\"1\" class=\"dataframe\">\n",
       "  <thead>\n",
       "    <tr style=\"text-align: right;\">\n",
       "      <th></th>\n",
       "      <th>X</th>\n",
       "      <th>C-09-new</th>\n",
       "    </tr>\n",
       "  </thead>\n",
       "  <tbody>\n",
       "    <tr>\n",
       "      <th>X</th>\n",
       "      <td>1.000000</td>\n",
       "      <td>0.134532</td>\n",
       "    </tr>\n",
       "    <tr>\n",
       "      <th>C-09-new</th>\n",
       "      <td>0.134532</td>\n",
       "      <td>1.000000</td>\n",
       "    </tr>\n",
       "  </tbody>\n",
       "</table>\n",
       "</div>"
      ],
      "text/plain": [
       "                 X  C-09-new\n",
       "X         1.000000  0.134532\n",
       "C-09-new  0.134532  1.000000"
      ]
     },
     "execution_count": 38,
     "metadata": {},
     "output_type": "execute_result"
    }
   ],
   "source": [
    "df[['X','C-09-new']].corr(method = 'spearman')"
   ]
  },
  {
   "cell_type": "code",
   "execution_count": 3,
   "metadata": {},
   "outputs": [
    {
     "data": {
      "text/plain": [
       "X       1.000000\n",
       "C-10    0.149038\n",
       "C-08    0.133131\n",
       "C-11    0.121975\n",
       "C-09    0.114148\n",
       "Name: X, dtype: float64"
      ]
     },
     "execution_count": 3,
     "metadata": {},
     "output_type": "execute_result"
    }
   ],
   "source": [
    "corr_mat = df.corr(method = 'pearson')\n",
    "corr_mat['X'].abs().sort_values(ascending = False) #得到性别与其他特征的相关系数  倒序"
   ]
  },
  {
   "cell_type": "markdown",
   "metadata": {},
   "source": [
    "## 协方差矩阵"
   ]
  },
  {
   "cell_type": "code",
   "execution_count": 40,
   "metadata": {},
   "outputs": [
    {
     "name": "stdout",
     "output_type": "stream",
     "text": [
      "计算X,与C-08、C-09、C-10、C-11\n"
     ]
    },
    {
     "data": {
      "text/html": [
       "<div>\n",
       "<style scoped>\n",
       "    .dataframe tbody tr th:only-of-type {\n",
       "        vertical-align: middle;\n",
       "    }\n",
       "\n",
       "    .dataframe tbody tr th {\n",
       "        vertical-align: top;\n",
       "    }\n",
       "\n",
       "    .dataframe thead th {\n",
       "        text-align: right;\n",
       "    }\n",
       "</style>\n",
       "<table border=\"1\" class=\"dataframe\">\n",
       "  <thead>\n",
       "    <tr style=\"text-align: right;\">\n",
       "      <th></th>\n",
       "      <th>X</th>\n",
       "      <th>C-08</th>\n",
       "      <th>C-09</th>\n",
       "      <th>C-10</th>\n",
       "      <th>C-11</th>\n",
       "    </tr>\n",
       "  </thead>\n",
       "  <tbody>\n",
       "    <tr>\n",
       "      <th>X</th>\n",
       "      <td>0.663377</td>\n",
       "      <td>14.121260</td>\n",
       "      <td>4.472935</td>\n",
       "      <td>1.480358</td>\n",
       "      <td>1.112689</td>\n",
       "    </tr>\n",
       "    <tr>\n",
       "      <th>C-08</th>\n",
       "      <td>14.121260</td>\n",
       "      <td>16960.191187</td>\n",
       "      <td>4066.243281</td>\n",
       "      <td>598.196960</td>\n",
       "      <td>303.888678</td>\n",
       "    </tr>\n",
       "    <tr>\n",
       "      <th>C-09</th>\n",
       "      <td>4.472935</td>\n",
       "      <td>4066.243281</td>\n",
       "      <td>2314.651889</td>\n",
       "      <td>204.528531</td>\n",
       "      <td>184.095211</td>\n",
       "    </tr>\n",
       "    <tr>\n",
       "      <th>C-10</th>\n",
       "      <td>1.480358</td>\n",
       "      <td>598.196960</td>\n",
       "      <td>204.528531</td>\n",
       "      <td>147.897742</td>\n",
       "      <td>26.579158</td>\n",
       "    </tr>\n",
       "    <tr>\n",
       "      <th>C-11</th>\n",
       "      <td>1.112689</td>\n",
       "      <td>303.888678</td>\n",
       "      <td>184.095211</td>\n",
       "      <td>26.579158</td>\n",
       "      <td>124.927786</td>\n",
       "    </tr>\n",
       "  </tbody>\n",
       "</table>\n",
       "</div>"
      ],
      "text/plain": [
       "              X          C-08         C-09        C-10        C-11\n",
       "X      0.663377     14.121260     4.472935    1.480358    1.112689\n",
       "C-08  14.121260  16960.191187  4066.243281  598.196960  303.888678\n",
       "C-09   4.472935   4066.243281  2314.651889  204.528531  184.095211\n",
       "C-10   1.480358    598.196960   204.528531  147.897742   26.579158\n",
       "C-11   1.112689    303.888678   184.095211   26.579158  124.927786"
      ]
     },
     "execution_count": 40,
     "metadata": {},
     "output_type": "execute_result"
    }
   ],
   "source": [
    "print('计算X,与C-08、C-09、C-10、C-11')\n",
    "df[['X', 'C-08', 'C-09', 'C-10', 'C-11']].cov()"
   ]
  },
  {
   "cell_type": "markdown",
   "metadata": {},
   "source": [
    "# 预处理和降维\n",
    "\n",
    "## 异常值的处理\n",
    "\n",
    "### 缺失值处理"
   ]
  },
  {
   "cell_type": "code",
   "execution_count": 47,
   "metadata": {},
   "outputs": [
    {
     "name": "stdout",
     "output_type": "stream",
     "text": [
      "观察缺失值的比例，以决定采用填补还是丢弃\n"
     ]
    },
    {
     "data": {
      "text/html": [
       "<div>\n",
       "<style scoped>\n",
       "    .dataframe tbody tr th:only-of-type {\n",
       "        vertical-align: middle;\n",
       "    }\n",
       "\n",
       "    .dataframe tbody tr th {\n",
       "        vertical-align: top;\n",
       "    }\n",
       "\n",
       "    .dataframe thead th {\n",
       "        text-align: right;\n",
       "    }\n",
       "</style>\n",
       "<table border=\"1\" class=\"dataframe\">\n",
       "  <thead>\n",
       "    <tr style=\"text-align: right;\">\n",
       "      <th></th>\n",
       "      <th>ID</th>\n",
       "      <th>X</th>\n",
       "      <th>C-08</th>\n",
       "      <th>C-09</th>\n",
       "      <th>C-10</th>\n",
       "      <th>C-11</th>\n",
       "    </tr>\n",
       "  </thead>\n",
       "  <tbody>\n",
       "    <tr>\n",
       "      <th>count</th>\n",
       "      <td>1314</td>\n",
       "      <td>1314</td>\n",
       "      <td>1314</td>\n",
       "      <td>1314</td>\n",
       "      <td>1314</td>\n",
       "      <td>1314</td>\n",
       "    </tr>\n",
       "    <tr>\n",
       "      <th>unique</th>\n",
       "      <td>1</td>\n",
       "      <td>1</td>\n",
       "      <td>1</td>\n",
       "      <td>1</td>\n",
       "      <td>2</td>\n",
       "      <td>2</td>\n",
       "    </tr>\n",
       "    <tr>\n",
       "      <th>top</th>\n",
       "      <td>False</td>\n",
       "      <td>False</td>\n",
       "      <td>False</td>\n",
       "      <td>False</td>\n",
       "      <td>False</td>\n",
       "      <td>False</td>\n",
       "    </tr>\n",
       "    <tr>\n",
       "      <th>freq</th>\n",
       "      <td>1314</td>\n",
       "      <td>1314</td>\n",
       "      <td>1314</td>\n",
       "      <td>1314</td>\n",
       "      <td>1271</td>\n",
       "      <td>1253</td>\n",
       "    </tr>\n",
       "  </tbody>\n",
       "</table>\n",
       "</div>"
      ],
      "text/plain": [
       "           ID      X   C-08   C-09   C-10   C-11\n",
       "count    1314   1314   1314   1314   1314   1314\n",
       "unique      1      1      1      1      2      2\n",
       "top     False  False  False  False  False  False\n",
       "freq     1314   1314   1314   1314   1271   1253"
      ]
     },
     "execution_count": 47,
     "metadata": {},
     "output_type": "execute_result"
    }
   ],
   "source": [
    "print(\"观察缺失值的比例，以决定采用填补还是丢弃\")\n",
    "df.isnull().describe()"
   ]
  },
  {
   "cell_type": "markdown",
   "metadata": {},
   "source": [
    "这里直接删除包含缺失的样本  \n",
    "实际应用中可能需要适合的fill none算法  "
   ]
  },
  {
   "cell_type": "code",
   "execution_count": 3,
   "metadata": {},
   "outputs": [
    {
     "name": "stdout",
     "output_type": "stream",
     "text": [
      "剩余样本： (1252, 6)\n"
     ]
    }
   ],
   "source": [
    "df.dropna(inplace = True) #数据清洗\n",
    "print('剩余样本：', df.shape)\n",
    "#df.drop(columns = 'Year')"
   ]
  },
  {
   "cell_type": "markdown",
   "metadata": {},
   "source": [
    "### 离群点处理\n",
    "\n",
    "这里直接用3西格玛原则删除了异常的年龄  \n",
    "实际应用中需要适合的outlier detect算法"
   ]
  },
  {
   "cell_type": "markdown",
   "metadata": {},
   "source": [
    "3西格玛原则：|采样点与均值的差| > 3倍标准差 --》 则剔除\n",
    "变形为：\n",
    "     Xi< X - 3σ or  Xi > X + 3σ"
   ]
  },
  {
   "cell_type": "code",
   "execution_count": 4,
   "metadata": {},
   "outputs": [
    {
     "name": "stdout",
     "output_type": "stream",
     "text": [
      "处理特征C-08, 剩余样本：1231\n",
      "处理特征C-09, 剩余样本：1214\n",
      "处理特征C-10, 剩余样本：1197\n"
     ]
    }
   ],
   "source": [
    "cols = df.columns\n",
    "for i in range(2,df.shape[1]-1):\n",
    "    up_bound = df[cols[i]].mean() + 3*df[cols[i]].std()\n",
    "    low_bound = df[cols[i]].mean() - 3*df[cols[i]].std()\n",
    "    df = df[(df[cols[i]]<=up_bound) & (df[cols[i]]>=low_bound)]\n",
    "    print(\"处理特征%s, 剩余样本：%d\" % (cols[i],df.shape[0]))"
   ]
  },
  {
   "cell_type": "markdown",
   "metadata": {},
   "source": [
    "## 数据降维\n",
    "\n",
    "### 主成分分析\n",
    "\n",
    "#### to maximize Var(c1X1 + c2X2 + c3X3 + ...) 其中 c1^2 + c2^2 +....+ cp^2 = 1"
   ]
  },
  {
   "cell_type": "markdown",
   "metadata": {},
   "source": [
    "PCA算法流程：  \n",
    "1) 0均值化：将X的每一维数据分别减去其平均值，即 X=X-Mean（X）  \n",
    "2) 协方差矩阵：协方差矩阵C可以描述m维属性之间的相关关系，即 C=(X'X)/m  \n",
    "3) 数据降维：协方差矩阵C是m*m阶，选取的特征向量矩阵P是m*k阶。通过 Y=XP 即得到投影后的k维样本。"
   ]
  },
  {
   "cell_type": "code",
   "execution_count": 51,
   "metadata": {},
   "outputs": [
    {
     "name": "stdout",
     "output_type": "stream",
     "text": [
      "[0.86282121 0.10777483 0.01805516 0.0113488 ]\n",
      "[4919.09547695  614.44324569  102.93563976   64.70150493]\n"
     ]
    }
   ],
   "source": [
    "from sklearn.decomposition import PCA\n",
    "# 直接调包实现了，手写也不复杂\n",
    "features = [i for i in df.columns if i not in ['ID', 'X', 'Year']]  #feature中去除了 'ID', 'X', 'Year'\n",
    "X, y = df[features], df['X']\n",
    "#PCA算法所要保留下来的主成分个数\n",
    "pca = PCA(n_components=4)\n",
    "pca.fit(X)\n",
    "#降维后 各主成分的方差值 \n",
    "print(pca.explained_variance_ratio_)\n",
    "#返回各主成分的方差百分比(贡献率)\n",
    "print(pca.explained_variance_)"
   ]
  },
  {
   "cell_type": "code",
   "execution_count": 52,
   "metadata": {},
   "outputs": [
    {
     "data": {
      "image/png": "[encoded data removed]",
      "text/plain": [
       "<Figure size 576x396 with 1 Axes>"
      ]
     },
     "metadata": {},
     "output_type": "display_data"
    }
   ],
   "source": [
    "# n_component PCA算法中要保留的成分个数\n",
    "pca = PCA(n_components=2)\n",
    "#训练模型  用数据X来训练\n",
    "pca.fit(X)\n",
    "#返回降维后的数据\n",
    "X_new = pca.transform(X)\n",
    "#画出散点图\n",
    "plt.scatter(X_new[:, 0], X_new[:, 1], c=y, marker='o')  # y = 0 /1 /2\n",
    "plt.show()"
   ]
  },
  {
   "cell_type": "markdown",
   "metadata": {},
   "source": [
    "# 参数检测和方差分析"
   ]
  },
  {
   "cell_type": "code",
   "execution_count": 53,
   "metadata": {},
   "outputs": [],
   "source": [
    "from scipy.stats.mstats import kruskalwallis\n",
    "import scipy.stats as stats\n",
    "import numpy as np\n",
    "import scipy as sp\n",
    "\n",
    "#啥叫显著性差异\n",
    "# p>0.05 表示差异不显著\n",
    "# 0.01 < p < 0.05 表示差异性显著\n",
    "# p< 0.01 表示差异性极显著\n",
    "\n",
    "#三组非正太分布数据检验\n",
    "def Kruskawallis_test(list1, list2, list3):\n",
    "    # Perform the Kruskal-Wallis test,返回True表示有显著差异，返回False表示无显著差异\n",
    "    print(\"Use kruskawallis test:\")\n",
    "     \n",
    "    h, p = kruskalwallis(list1, list2, list3)\n",
    "    print(\"H value:\",h)\n",
    "    print(\"p value:\",p)\n",
    "      \n",
    "    # Print the results\n",
    "    if p<0.05:\n",
    "        print('There is a significant difference.')\n",
    "        return True\n",
    "    else:\n",
    "        print('No significant difference.')\n",
    "        return False\n",
    "\n",
    "#两组非正态分布数据检验   有关于统计学的知识\n",
    "def Mannwhitneyu(group1, group2):   \n",
    "    #以下处理sp版本问题 \n",
    "    if np.int(sp.__version__.split('.')[1]) > 16:\n",
    "        u, p_value = stats.mannwhitneyu(group1, group2, alternative='two-sided')\n",
    "    else:\n",
    "        u, p_value = stats.mannwhitneyu(group1, group2, use_continuity=True)\n",
    "        p_value *= 2    # because the default was a one-sided p-value\n",
    "    print((\"Mann-Whitney test\", p_value))\n",
    "    if p_value<0.05:\n",
    "        print(\"there is significant difference\")\n",
    "    else:\n",
    "        print(\"there is no significant difference\")"
   ]
  },
  {
   "cell_type": "markdown",
   "metadata": {},
   "source": [
    "## 单因素方差分析"
   ]
  },
  {
   "cell_type": "code",
   "execution_count": 54,
   "metadata": {},
   "outputs": [
    {
     "data": {
      "text/plain": [
       "\"\\n#检验C-09和患病是否有关\\nlist_1 = df[df['C-09'] == 1]['X'].tolist()\\nlist_2 = df[df['C-09'] == 2]['X'].tolist()\\n\\n#独立T检验\\nprint(stats.ttest_ind(list_1, list_2))\\n\\n#Mannwhitneyu 检验\\nprint(Mannwhitneyu(list_1, list_2))\\n\""
      ]
     },
     "execution_count": 54,
     "metadata": {},
     "output_type": "execute_result"
    }
   ],
   "source": [
    "\"\"\"\n",
    "#检验C-09和患病是否有关\n",
    "list_1 = df[df['C-09'] == 1]['X'].tolist()\n",
    "list_2 = df[df['C-09'] == 2]['X'].tolist()\n",
    "\n",
    "#独立T检验\n",
    "print(stats.ttest_ind(list_1, list_2))\n",
    "\n",
    "#Mannwhitneyu 检验\n",
    "print(Mannwhitneyu(list_1, list_2))\n",
    "\"\"\""
   ]
  },
  {
   "cell_type": "markdown",
   "metadata": {},
   "source": [
    "## 多因素方差分析"
   ]
  },
  {
   "cell_type": "markdown",
   "metadata": {},
   "source": [
    "连续型的属性，需要采样后进行多因子的方差分析  \n",
    "例如T-05，可以分成多段bins与其他因素结合 "
   ]
  },
  {
   "cell_type": "code",
   "execution_count": 55,
   "metadata": {},
   "outputs": [
    {
     "data": {
      "text/plain": [
       "0    1\n",
       "1    0\n",
       "2    1\n",
       "3    0\n",
       "5    0\n",
       "Name: C-09-new, dtype: int64"
      ]
     },
     "execution_count": 55,
     "metadata": {},
     "output_type": "execute_result"
    }
   ],
   "source": [
    "def process(x):\n",
    "    if 0<= x <=91:\n",
    "        return 0\n",
    "    elif 91< x< 180:\n",
    "        return 1\n",
    "    else:\n",
    "        return 2\n",
    "\n",
    "df['C-09-new'] = df['C-09'].apply(lambda x : process(x))\n",
    "df['C-09-new'].head()"
   ]
  },
  {
   "cell_type": "code",
   "execution_count": 56,
   "metadata": {},
   "outputs": [
    {
     "name": "stdout",
     "output_type": "stream",
     "text": [
      "Use kruskawallis test:\n",
      "H value: 21.42602598884576\n",
      "p value: 2.2253461366382807e-05\n",
      "There is a significant difference.\n"
     ]
    },
    {
     "data": {
      "text/plain": [
       "True"
      ]
     },
     "execution_count": 56,
     "metadata": {},
     "output_type": "execute_result"
    }
   ],
   "source": [
    "list_C_09_0 = df[df['C-09-new']==0]['X'].tolist()\n",
    "list_C_09_1 = df[df['C-09-new']==1]['X'].tolist()\n",
    "list_C_09_2 = df[df['C-09-new']==2]['X'].tolist()\n",
    "list_group = [list_C_09_0, list_C_09_1, list_C_09_2]\n",
    "\n",
    "#Kruskawallis_test  三组非正太分布数据检验\n",
    "Kruskawallis_test(list_C_09_0, list_C_09_1, list_C_09_2)"
   ]
  },
  {
   "cell_type": "markdown",
   "metadata": {},
   "source": [
    "结果说明，C-09和患病与否具有显著相关"
   ]
  },
  {
   "cell_type": "markdown",
   "metadata": {},
   "source": [
    "# 完整的处理流程"
   ]
  },
  {
   "cell_type": "markdown",
   "metadata": {},
   "source": [
    "## 数据分析\n",
    "\n",
    "## 数据清洗"
   ]
  },
  {
   "cell_type": "markdown",
   "metadata": {},
   "source": [
    "### 删除缺失> 15%的列"
   ]
  },
  {
   "cell_type": "code",
   "execution_count": 5,
   "metadata": {},
   "outputs": [
    {
     "data": {
      "text/html": [
       "<div>\n",
       "<style scoped>\n",
       "    .dataframe tbody tr th:only-of-type {\n",
       "        vertical-align: middle;\n",
       "    }\n",
       "\n",
       "    .dataframe tbody tr th {\n",
       "        vertical-align: top;\n",
       "    }\n",
       "\n",
       "    .dataframe thead th {\n",
       "        text-align: right;\n",
       "    }\n",
       "</style>\n",
       "<table border=\"1\" class=\"dataframe\">\n",
       "  <thead>\n",
       "    <tr style=\"text-align: right;\">\n",
       "      <th></th>\n",
       "      <th>ID</th>\n",
       "      <th>X</th>\n",
       "      <th>C-08</th>\n",
       "      <th>C-09</th>\n",
       "      <th>C-10</th>\n",
       "      <th>C-11</th>\n",
       "    </tr>\n",
       "  </thead>\n",
       "  <tbody>\n",
       "    <tr>\n",
       "      <th>count</th>\n",
       "      <td>1197</td>\n",
       "      <td>1197</td>\n",
       "      <td>1197</td>\n",
       "      <td>1197</td>\n",
       "      <td>1197</td>\n",
       "      <td>1197</td>\n",
       "    </tr>\n",
       "    <tr>\n",
       "      <th>unique</th>\n",
       "      <td>1</td>\n",
       "      <td>1</td>\n",
       "      <td>1</td>\n",
       "      <td>1</td>\n",
       "      <td>1</td>\n",
       "      <td>1</td>\n",
       "    </tr>\n",
       "    <tr>\n",
       "      <th>top</th>\n",
       "      <td>False</td>\n",
       "      <td>False</td>\n",
       "      <td>False</td>\n",
       "      <td>False</td>\n",
       "      <td>False</td>\n",
       "      <td>False</td>\n",
       "    </tr>\n",
       "    <tr>\n",
       "      <th>freq</th>\n",
       "      <td>1197</td>\n",
       "      <td>1197</td>\n",
       "      <td>1197</td>\n",
       "      <td>1197</td>\n",
       "      <td>1197</td>\n",
       "      <td>1197</td>\n",
       "    </tr>\n",
       "  </tbody>\n",
       "</table>\n",
       "</div>"
      ],
      "text/plain": [
       "           ID      X   C-08   C-09   C-10   C-11\n",
       "count    1197   1197   1197   1197   1197   1197\n",
       "unique      1      1      1      1      1      1\n",
       "top     False  False  False  False  False  False\n",
       "freq     1197   1197   1197   1197   1197   1197"
      ]
     },
     "execution_count": 5,
     "metadata": {},
     "output_type": "execute_result"
    }
   ],
   "source": [
    "isnull_df = df.isnull().describe()\n",
    "isnull_df"
   ]
  },
  {
   "cell_type": "code",
   "execution_count": 6,
   "metadata": {},
   "outputs": [
    {
     "data": {
      "text/html": [
       "<div>\n",
       "<style scoped>\n",
       "    .dataframe tbody tr th:only-of-type {\n",
       "        vertical-align: middle;\n",
       "    }\n",
       "\n",
       "    .dataframe tbody tr th {\n",
       "        vertical-align: top;\n",
       "    }\n",
       "\n",
       "    .dataframe thead th {\n",
       "        text-align: right;\n",
       "    }\n",
       "</style>\n",
       "<table border=\"1\" class=\"dataframe\">\n",
       "  <thead>\n",
       "    <tr style=\"text-align: right;\">\n",
       "      <th></th>\n",
       "    </tr>\n",
       "  </thead>\n",
       "  <tbody>\n",
       "    <tr>\n",
       "      <th>count</th>\n",
       "    </tr>\n",
       "    <tr>\n",
       "      <th>unique</th>\n",
       "    </tr>\n",
       "    <tr>\n",
       "      <th>top</th>\n",
       "    </tr>\n",
       "    <tr>\n",
       "      <th>freq</th>\n",
       "    </tr>\n",
       "  </tbody>\n",
       "</table>\n",
       "</div>"
      ],
      "text/plain": [
       "Empty DataFrame\n",
       "Columns: []\n",
       "Index: [count, unique, top, freq]"
      ]
     },
     "execution_count": 6,
     "metadata": {},
     "output_type": "execute_result"
    }
   ],
   "source": [
    "isnull_df.loc[:, isnull_df.loc['freq'] < isnull_df.loc['count']*0.85]"
   ]
  },
  {
   "cell_type": "code",
   "execution_count": 27,
   "metadata": {},
   "outputs": [],
   "source": [
    "#删除缺失值比例大于0.85的列\n",
    "#df.drop(columns = [ ''] ,inplace = True)\n",
    "#df.head()"
   ]
  },
  {
   "cell_type": "markdown",
   "metadata": {},
   "source": [
    "### 删除相关性<0.01的列"
   ]
  },
  {
   "cell_type": "code",
   "execution_count": 9,
   "metadata": {},
   "outputs": [
    {
     "data": {
      "text/plain": [
       "X       1.000000\n",
       "C-08    0.190330\n",
       "C-10    0.146732\n",
       "C-09    0.137867\n",
       "C-11    0.111884\n",
       "Name: X, dtype: float64"
      ]
     },
     "execution_count": 9,
     "metadata": {},
     "output_type": "execute_result"
    }
   ],
   "source": [
    "corr_mat = df.corr(method = 'pearson')\n",
    "corr_mat['X'].abs().sort_values(ascending = False)"
   ]
  },
  {
   "cell_type": "code",
   "execution_count": 10,
   "metadata": {},
   "outputs": [
    {
     "name": "stdout",
     "output_type": "stream",
     "text": [
      "Index([], dtype='object')\n"
     ]
    }
   ],
   "source": [
    "corr = corr_mat['X'].abs()\n",
    "print(corr[corr < 0.01].index)"
   ]
  },
  {
   "cell_type": "code",
   "execution_count": 5,
   "metadata": {},
   "outputs": [
    {
     "data": {
      "text/html": [
       "<div>\n",
       "<style scoped>\n",
       "    .dataframe tbody tr th:only-of-type {\n",
       "        vertical-align: middle;\n",
       "    }\n",
       "\n",
       "    .dataframe tbody tr th {\n",
       "        vertical-align: top;\n",
       "    }\n",
       "\n",
       "    .dataframe thead th {\n",
       "        text-align: right;\n",
       "    }\n",
       "</style>\n",
       "<table border=\"1\" class=\"dataframe\">\n",
       "  <thead>\n",
       "    <tr style=\"text-align: right;\">\n",
       "      <th></th>\n",
       "      <th>ID</th>\n",
       "      <th>X</th>\n",
       "      <th>C-08</th>\n",
       "      <th>C-09</th>\n",
       "      <th>C-10</th>\n",
       "      <th>C-11</th>\n",
       "    </tr>\n",
       "  </thead>\n",
       "  <tbody>\n",
       "    <tr>\n",
       "      <th>0</th>\n",
       "      <td>15-10001</td>\n",
       "      <td>0</td>\n",
       "      <td>143</td>\n",
       "      <td>163</td>\n",
       "      <td>38.0</td>\n",
       "      <td>56.6</td>\n",
       "    </tr>\n",
       "    <tr>\n",
       "      <th>1</th>\n",
       "      <td>15-10002</td>\n",
       "      <td>0</td>\n",
       "      <td>83</td>\n",
       "      <td>87</td>\n",
       "      <td>29.0</td>\n",
       "      <td>63.2</td>\n",
       "    </tr>\n",
       "    <tr>\n",
       "      <th>2</th>\n",
       "      <td>15-10003</td>\n",
       "      <td>1</td>\n",
       "      <td>105</td>\n",
       "      <td>117</td>\n",
       "      <td>36.0</td>\n",
       "      <td>54.7</td>\n",
       "    </tr>\n",
       "    <tr>\n",
       "      <th>3</th>\n",
       "      <td>15-10004</td>\n",
       "      <td>0</td>\n",
       "      <td>116</td>\n",
       "      <td>57</td>\n",
       "      <td>24.0</td>\n",
       "      <td>45.4</td>\n",
       "    </tr>\n",
       "    <tr>\n",
       "      <th>4</th>\n",
       "      <td>15-10005</td>\n",
       "      <td>1</td>\n",
       "      <td>186</td>\n",
       "      <td>142</td>\n",
       "      <td>66.0</td>\n",
       "      <td>49.9</td>\n",
       "    </tr>\n",
       "  </tbody>\n",
       "</table>\n",
       "</div>"
      ],
      "text/plain": [
       "         ID  X  C-08  C-09  C-10  C-11\n",
       "0  15-10001  0   143   163  38.0  56.6\n",
       "1  15-10002  0    83    87  29.0  63.2\n",
       "2  15-10003  1   105   117  36.0  54.7\n",
       "3  15-10004  0   116    57  24.0  45.4\n",
       "4  15-10005  1   186   142  66.0  49.9"
      ]
     },
     "execution_count": 5,
     "metadata": {},
     "output_type": "execute_result"
    }
   ],
   "source": [
    "df.drop(columns = [] , inplace = True)\n",
    "df.head()"
   ]
  },
  {
   "cell_type": "markdown",
   "metadata": {},
   "source": [
    "## 数据预处理\n",
    "\n",
    "### 删除6sigma离群点"
   ]
  },
  {
   "cell_type": "code",
   "execution_count": 8,
   "metadata": {},
   "outputs": [
    {
     "name": "stdout",
     "output_type": "stream",
     "text": [
      "原始样本 (1197, 6)\n"
     ]
    },
    {
     "data": {
      "text/html": [
       "<div>\n",
       "<style scoped>\n",
       "    .dataframe tbody tr th:only-of-type {\n",
       "        vertical-align: middle;\n",
       "    }\n",
       "\n",
       "    .dataframe tbody tr th {\n",
       "        vertical-align: top;\n",
       "    }\n",
       "\n",
       "    .dataframe thead th {\n",
       "        text-align: right;\n",
       "    }\n",
       "</style>\n",
       "<table border=\"1\" class=\"dataframe\">\n",
       "  <thead>\n",
       "    <tr style=\"text-align: right;\">\n",
       "      <th></th>\n",
       "      <th>X</th>\n",
       "      <th>C-08</th>\n",
       "      <th>C-09</th>\n",
       "      <th>C-10</th>\n",
       "      <th>C-11</th>\n",
       "    </tr>\n",
       "  </thead>\n",
       "  <tbody>\n",
       "    <tr>\n",
       "      <th>count</th>\n",
       "      <td>1197.000000</td>\n",
       "      <td>1197.000000</td>\n",
       "      <td>1197.000000</td>\n",
       "      <td>1197.000000</td>\n",
       "      <td>1197.000000</td>\n",
       "    </tr>\n",
       "    <tr>\n",
       "      <th>mean</th>\n",
       "      <td>0.685046</td>\n",
       "      <td>74.679198</td>\n",
       "      <td>85.233083</td>\n",
       "      <td>26.898914</td>\n",
       "      <td>54.080117</td>\n",
       "    </tr>\n",
       "    <tr>\n",
       "      <th>std</th>\n",
       "      <td>0.813896</td>\n",
       "      <td>68.381106</td>\n",
       "      <td>28.746586</td>\n",
       "      <td>8.995854</td>\n",
       "      <td>10.858577</td>\n",
       "    </tr>\n",
       "    <tr>\n",
       "      <th>min</th>\n",
       "      <td>0.000000</td>\n",
       "      <td>9.000000</td>\n",
       "      <td>18.000000</td>\n",
       "      <td>3.000000</td>\n",
       "      <td>33.900000</td>\n",
       "    </tr>\n",
       "    <tr>\n",
       "      <th>25%</th>\n",
       "      <td>0.000000</td>\n",
       "      <td>31.000000</td>\n",
       "      <td>65.000000</td>\n",
       "      <td>21.000000</td>\n",
       "      <td>47.000000</td>\n",
       "    </tr>\n",
       "    <tr>\n",
       "      <th>50%</th>\n",
       "      <td>0.000000</td>\n",
       "      <td>51.000000</td>\n",
       "      <td>80.000000</td>\n",
       "      <td>25.000000</td>\n",
       "      <td>51.900000</td>\n",
       "    </tr>\n",
       "    <tr>\n",
       "      <th>75%</th>\n",
       "      <td>1.000000</td>\n",
       "      <td>93.000000</td>\n",
       "      <td>99.000000</td>\n",
       "      <td>31.000000</td>\n",
       "      <td>58.400000</td>\n",
       "    </tr>\n",
       "    <tr>\n",
       "      <th>max</th>\n",
       "      <td>2.000000</td>\n",
       "      <td>479.000000</td>\n",
       "      <td>203.000000</td>\n",
       "      <td>61.000000</td>\n",
       "      <td>114.100000</td>\n",
       "    </tr>\n",
       "  </tbody>\n",
       "</table>\n",
       "</div>"
      ],
      "text/plain": [
       "                 X         C-08         C-09         C-10         C-11\n",
       "count  1197.000000  1197.000000  1197.000000  1197.000000  1197.000000\n",
       "mean      0.685046    74.679198    85.233083    26.898914    54.080117\n",
       "std       0.813896    68.381106    28.746586     8.995854    10.858577\n",
       "min       0.000000     9.000000    18.000000     3.000000    33.900000\n",
       "25%       0.000000    31.000000    65.000000    21.000000    47.000000\n",
       "50%       0.000000    51.000000    80.000000    25.000000    51.900000\n",
       "75%       1.000000    93.000000    99.000000    31.000000    58.400000\n",
       "max       2.000000   479.000000   203.000000    61.000000   114.100000"
      ]
     },
     "execution_count": 8,
     "metadata": {},
     "output_type": "execute_result"
    }
   ],
   "source": [
    "print('原始样本', df.shape)\n",
    "des_df = df.describe()\n",
    "des_df"
   ]
  },
  {
   "cell_type": "markdown",
   "metadata": {},
   "source": [
    "离群点大于Q3+1.5*IQR或小于Q1-1.5IQR的值，其中IQR为四分位距 箱线图中上限和下限"
   ]
  },
  {
   "cell_type": "code",
   "execution_count": 7,
   "metadata": {},
   "outputs": [
    {
     "data": {
      "text/plain": [
       "66.0"
      ]
     },
     "execution_count": 7,
     "metadata": {},
     "output_type": "execute_result"
    }
   ],
   "source": [
    "des_df.loc['25%', 'C-09']"
   ]
  },
  {
   "cell_type": "code",
   "execution_count": 11,
   "metadata": {},
   "outputs": [
    {
     "name": "stdout",
     "output_type": "stream",
     "text": [
      "剩余样本： (1197, 6)\n"
     ]
    }
   ],
   "source": [
    "#删除离群点  改为正常值\n",
    "\n",
    "#得到目前为止 经过清洗后的数据的特征名 除 ‘ID’ 'X':病情\n",
    "features = [x for x in df.columns if x not in['ID', 'X']] \n",
    "#提取出除X外 与x相关系数大于0.1的索引\n",
    "importances = [x for x in corr[corr>0.1].index.tolist() if x != 'X']\n",
    "for x in features:\n",
    "#     upper_bound = des_df.loc['75%', x] + 1.5*(des_df.loc['75%', x]-des_df.loc['25%', x])\n",
    "#     lower_bound = des_df.loc['25%', x] - 1.5*(des_df.loc['75%', x]-des_df.loc['25%', x])\n",
    "    upper_bound = des_df.loc['mean', x] + 6*des_df.loc['std', x]\n",
    "    lower_bound = des_df.loc['mean', x] - 6*des_df.loc['std', x]\n",
    "    if x in importances:\n",
    "        df = df[(df[x]<=upper_bound) & (df[x]>=lower_bound)]\n",
    "    else:\n",
    "        df.loc[df[x]>upper_bound, x] = upper_bound\n",
    "        df.loc[df[x]<lower_bound, x] = lower_bound\n",
    "print(\"剩余样本：\", df.shape)"
   ]
  },
  {
   "cell_type": "code",
   "execution_count": 9,
   "metadata": {},
   "outputs": [
    {
     "data": {
      "text/html": [
       "<div>\n",
       "<style scoped>\n",
       "    .dataframe tbody tr th:only-of-type {\n",
       "        vertical-align: middle;\n",
       "    }\n",
       "\n",
       "    .dataframe tbody tr th {\n",
       "        vertical-align: top;\n",
       "    }\n",
       "\n",
       "    .dataframe thead th {\n",
       "        text-align: right;\n",
       "    }\n",
       "</style>\n",
       "<table border=\"1\" class=\"dataframe\">\n",
       "  <thead>\n",
       "    <tr style=\"text-align: right;\">\n",
       "      <th></th>\n",
       "      <th>ID</th>\n",
       "      <th>X</th>\n",
       "      <th>C-08</th>\n",
       "      <th>C-09</th>\n",
       "      <th>C-10</th>\n",
       "      <th>C-11</th>\n",
       "    </tr>\n",
       "  </thead>\n",
       "  <tbody>\n",
       "    <tr>\n",
       "      <th>count</th>\n",
       "      <td>1243</td>\n",
       "      <td>1243</td>\n",
       "      <td>1243</td>\n",
       "      <td>1243</td>\n",
       "      <td>1243</td>\n",
       "      <td>1243</td>\n",
       "    </tr>\n",
       "    <tr>\n",
       "      <th>unique</th>\n",
       "      <td>1</td>\n",
       "      <td>1</td>\n",
       "      <td>1</td>\n",
       "      <td>1</td>\n",
       "      <td>1</td>\n",
       "      <td>1</td>\n",
       "    </tr>\n",
       "    <tr>\n",
       "      <th>top</th>\n",
       "      <td>False</td>\n",
       "      <td>False</td>\n",
       "      <td>False</td>\n",
       "      <td>False</td>\n",
       "      <td>False</td>\n",
       "      <td>False</td>\n",
       "    </tr>\n",
       "    <tr>\n",
       "      <th>freq</th>\n",
       "      <td>1243</td>\n",
       "      <td>1243</td>\n",
       "      <td>1243</td>\n",
       "      <td>1243</td>\n",
       "      <td>1243</td>\n",
       "      <td>1243</td>\n",
       "    </tr>\n",
       "  </tbody>\n",
       "</table>\n",
       "</div>"
      ],
      "text/plain": [
       "           ID      X   C-08   C-09   C-10   C-11\n",
       "count    1243   1243   1243   1243   1243   1243\n",
       "unique      1      1      1      1      1      1\n",
       "top     False  False  False  False  False  False\n",
       "freq     1243   1243   1243   1243   1243   1243"
      ]
     },
     "execution_count": 9,
     "metadata": {},
     "output_type": "execute_result"
    }
   ],
   "source": [
    "df.isnull().describe()"
   ]
  },
  {
   "cell_type": "markdown",
   "metadata": {},
   "source": [
    "### 分段mean 补全缺失值"
   ]
  },
  {
   "cell_type": "code",
   "execution_count": 10,
   "metadata": {},
   "outputs": [
    {
     "data": {
      "text/html": [
       "<div>\n",
       "<style scoped>\n",
       "    .dataframe tbody tr th:only-of-type {\n",
       "        vertical-align: middle;\n",
       "    }\n",
       "\n",
       "    .dataframe tbody tr th {\n",
       "        vertical-align: top;\n",
       "    }\n",
       "\n",
       "    .dataframe thead th {\n",
       "        text-align: right;\n",
       "    }\n",
       "</style>\n",
       "<table border=\"1\" class=\"dataframe\">\n",
       "  <thead>\n",
       "    <tr style=\"text-align: right;\">\n",
       "      <th></th>\n",
       "      <th>ID</th>\n",
       "    </tr>\n",
       "    <tr>\n",
       "      <th>X</th>\n",
       "      <th></th>\n",
       "    </tr>\n",
       "  </thead>\n",
       "  <tbody>\n",
       "    <tr>\n",
       "      <th>0</th>\n",
       "      <td>659</td>\n",
       "    </tr>\n",
       "    <tr>\n",
       "      <th>1</th>\n",
       "      <td>301</td>\n",
       "    </tr>\n",
       "    <tr>\n",
       "      <th>2</th>\n",
       "      <td>283</td>\n",
       "    </tr>\n",
       "  </tbody>\n",
       "</table>\n",
       "</div>"
      ],
      "text/plain": [
       "    ID\n",
       "X     \n",
       "0  659\n",
       "1  301\n",
       "2  283"
      ]
     },
     "execution_count": 10,
     "metadata": {},
     "output_type": "execute_result"
    }
   ],
   "source": [
    "df[['X', 'ID']].groupby('X').count()"
   ]
  },
  {
   "cell_type": "code",
   "execution_count": 11,
   "metadata": {},
   "outputs": [
    {
     "name": "stdout",
     "output_type": "stream",
     "text": [
      "[0, 1, 2]\n"
     ]
    },
    {
     "data": {
      "text/html": [
       "<div>\n",
       "<style scoped>\n",
       "    .dataframe tbody tr th:only-of-type {\n",
       "        vertical-align: middle;\n",
       "    }\n",
       "\n",
       "    .dataframe tbody tr th {\n",
       "        vertical-align: top;\n",
       "    }\n",
       "\n",
       "    .dataframe thead th {\n",
       "        text-align: right;\n",
       "    }\n",
       "</style>\n",
       "<table border=\"1\" class=\"dataframe\">\n",
       "  <thead>\n",
       "    <tr style=\"text-align: right;\">\n",
       "      <th></th>\n",
       "      <th>ID</th>\n",
       "      <th>X</th>\n",
       "      <th>C-08</th>\n",
       "      <th>C-09</th>\n",
       "      <th>C-10</th>\n",
       "      <th>C-11</th>\n",
       "    </tr>\n",
       "  </thead>\n",
       "  <tbody>\n",
       "    <tr>\n",
       "      <th>count</th>\n",
       "      <td>1243</td>\n",
       "      <td>1243</td>\n",
       "      <td>1243</td>\n",
       "      <td>1243</td>\n",
       "      <td>1243</td>\n",
       "      <td>1243</td>\n",
       "    </tr>\n",
       "    <tr>\n",
       "      <th>unique</th>\n",
       "      <td>1</td>\n",
       "      <td>1</td>\n",
       "      <td>1</td>\n",
       "      <td>1</td>\n",
       "      <td>1</td>\n",
       "      <td>1</td>\n",
       "    </tr>\n",
       "    <tr>\n",
       "      <th>top</th>\n",
       "      <td>False</td>\n",
       "      <td>False</td>\n",
       "      <td>False</td>\n",
       "      <td>False</td>\n",
       "      <td>False</td>\n",
       "      <td>False</td>\n",
       "    </tr>\n",
       "    <tr>\n",
       "      <th>freq</th>\n",
       "      <td>1243</td>\n",
       "      <td>1243</td>\n",
       "      <td>1243</td>\n",
       "      <td>1243</td>\n",
       "      <td>1243</td>\n",
       "      <td>1243</td>\n",
       "    </tr>\n",
       "  </tbody>\n",
       "</table>\n",
       "</div>"
      ],
      "text/plain": [
       "           ID      X   C-08   C-09   C-10   C-11\n",
       "count    1243   1243   1243   1243   1243   1243\n",
       "unique      1      1      1      1      1      1\n",
       "top     False  False  False  False  False  False\n",
       "freq     1243   1243   1243   1243   1243   1243"
      ]
     },
     "execution_count": 11,
     "metadata": {},
     "output_type": "execute_result"
    }
   ],
   "source": [
    "# 分段 按x=0， 1， 2不同情况 把每列进行均值填充\n",
    "print(df['X'].unique().tolist())\n",
    "for x in df['X'].unique().tolist():\n",
    "    #复制所有df['X'] = 当前遍历值 的行\n",
    "    tmp = df[df['X']==x].copy(deep=False)\n",
    "   #tmp.fillna(tmp.mean(axis=0, skipna=True), inplace=True)\n",
    "    #print(tmp.mean())\n",
    "    #以'X' 为分组， NAN均以每列的平均值填充 \n",
    "    df.loc[df['X']==x] = df[df['X']==x].fillna(tmp.mean()) \n",
    "df.isnull().describe()"
   ]
  },
  {
   "cell_type": "markdown",
   "metadata": {},
   "source": [
    "### 数据标准化"
   ]
  },
  {
   "cell_type": "code",
   "execution_count": 12,
   "metadata": {},
   "outputs": [
    {
     "data": {
      "text/html": [
       "<div>\n",
       "<style scoped>\n",
       "    .dataframe tbody tr th:only-of-type {\n",
       "        vertical-align: middle;\n",
       "    }\n",
       "\n",
       "    .dataframe tbody tr th {\n",
       "        vertical-align: top;\n",
       "    }\n",
       "\n",
       "    .dataframe thead th {\n",
       "        text-align: right;\n",
       "    }\n",
       "</style>\n",
       "<table border=\"1\" class=\"dataframe\">\n",
       "  <thead>\n",
       "    <tr style=\"text-align: right;\">\n",
       "      <th></th>\n",
       "      <th>X</th>\n",
       "      <th>C-08</th>\n",
       "      <th>C-09</th>\n",
       "      <th>C-10</th>\n",
       "      <th>C-11</th>\n",
       "    </tr>\n",
       "  </thead>\n",
       "  <tbody>\n",
       "    <tr>\n",
       "      <th>count</th>\n",
       "      <td>1197.000000</td>\n",
       "      <td>1.197000e+03</td>\n",
       "      <td>1.197000e+03</td>\n",
       "      <td>1.197000e+03</td>\n",
       "      <td>1.197000e+03</td>\n",
       "    </tr>\n",
       "    <tr>\n",
       "      <th>mean</th>\n",
       "      <td>0.685046</td>\n",
       "      <td>9.052445e-17</td>\n",
       "      <td>-1.573048e-16</td>\n",
       "      <td>-2.374412e-17</td>\n",
       "      <td>5.342427e-17</td>\n",
       "    </tr>\n",
       "    <tr>\n",
       "      <th>std</th>\n",
       "      <td>0.813896</td>\n",
       "      <td>1.000000e+00</td>\n",
       "      <td>1.000000e+00</td>\n",
       "      <td>9.999999e-01</td>\n",
       "      <td>9.999999e-01</td>\n",
       "    </tr>\n",
       "    <tr>\n",
       "      <th>min</th>\n",
       "      <td>0.000000</td>\n",
       "      <td>-9.604875e-01</td>\n",
       "      <td>-2.338820e+00</td>\n",
       "      <td>-2.656658e+00</td>\n",
       "      <td>-1.858449e+00</td>\n",
       "    </tr>\n",
       "    <tr>\n",
       "      <th>25%</th>\n",
       "      <td>0.000000</td>\n",
       "      <td>-6.387612e-01</td>\n",
       "      <td>-7.038430e-01</td>\n",
       "      <td>-6.557369e-01</td>\n",
       "      <td>-6.520299e-01</td>\n",
       "    </tr>\n",
       "    <tr>\n",
       "      <th>50%</th>\n",
       "      <td>0.000000</td>\n",
       "      <td>-3.462828e-01</td>\n",
       "      <td>-1.820419e-01</td>\n",
       "      <td>-2.110877e-01</td>\n",
       "      <td>-2.007737e-01</td>\n",
       "    </tr>\n",
       "    <tr>\n",
       "      <th>75%</th>\n",
       "      <td>1.000000</td>\n",
       "      <td>2.679220e-01</td>\n",
       "      <td>4.789062e-01</td>\n",
       "      <td>4.558862e-01</td>\n",
       "      <td>3.978314e-01</td>\n",
       "    </tr>\n",
       "    <tr>\n",
       "      <th>max</th>\n",
       "      <td>2.000000</td>\n",
       "      <td>5.912756e+00</td>\n",
       "      <td>4.096727e+00</td>\n",
       "      <td>3.790755e+00</td>\n",
       "      <td>5.527417e+00</td>\n",
       "    </tr>\n",
       "  </tbody>\n",
       "</table>\n",
       "</div>"
      ],
      "text/plain": [
       "                 X          C-08          C-09          C-10          C-11\n",
       "count  1197.000000  1.197000e+03  1.197000e+03  1.197000e+03  1.197000e+03\n",
       "mean      0.685046  9.052445e-17 -1.573048e-16 -2.374412e-17  5.342427e-17\n",
       "std       0.813896  1.000000e+00  1.000000e+00  9.999999e-01  9.999999e-01\n",
       "min       0.000000 -9.604875e-01 -2.338820e+00 -2.656658e+00 -1.858449e+00\n",
       "25%       0.000000 -6.387612e-01 -7.038430e-01 -6.557369e-01 -6.520299e-01\n",
       "50%       0.000000 -3.462828e-01 -1.820419e-01 -2.110877e-01 -2.007737e-01\n",
       "75%       1.000000  2.679220e-01  4.789062e-01  4.558862e-01  3.978314e-01\n",
       "max       2.000000  5.912756e+00  4.096727e+00  3.790755e+00  5.527417e+00"
      ]
     },
     "execution_count": 12,
     "metadata": {},
     "output_type": "execute_result"
    }
   ],
   "source": [
    "\n",
    "for x in features:\n",
    "    delta = 0.000001\n",
    "    df[x] = (df[x] - df[x].mean()) / (df[x].std() + delta)\n",
    "\n",
    "df.describe()"
   ]
  },
  {
   "cell_type": "markdown",
   "metadata": {},
   "source": [
    "计算协方差"
   ]
  },
  {
   "cell_type": "code",
   "execution_count": 14,
   "metadata": {},
   "outputs": [
    {
     "data": {
      "text/plain": [
       "X       0.666878\n",
       "C-08    0.148628\n",
       "C-10    0.124247\n",
       "C-09    0.120980\n",
       "C-11    0.102361\n",
       "Name: X, dtype: float64"
      ]
     },
     "execution_count": 14,
     "metadata": {},
     "output_type": "execute_result"
    }
   ],
   "source": [
    "cov_mat = df.cov()\n",
    "cov_mat['X'].abs().sort_values(ascending = False)"
   ]
  },
  {
   "cell_type": "code",
   "execution_count": 71,
   "metadata": {},
   "outputs": [
    {
     "name": "stdout",
     "output_type": "stream",
     "text": [
      "正向： ['X', 'C-08', 'C-09', 'C-10', 'C-11', 'C-09-new']\n",
      "负向:  []\n"
     ]
    }
   ],
   "source": [
    "cov = cov_mat['X']\n",
    "print('正向：', cov[cov > 0].index.tolist())\n",
    "print('负向: ', cov[cov < 0].index.tolist())"
   ]
  },
  {
   "cell_type": "markdown",
   "metadata": {},
   "source": [
    "### 保存cleaned数据"
   ]
  },
  {
   "cell_type": "code",
   "execution_count": 72,
   "metadata": {},
   "outputs": [],
   "source": [
    "df.to_csv('secon_non_Cleaned.csv', index = False, header = True, encoding = 'utf-8')"
   ]
  },
  {
   "cell_type": "code",
   "execution_count": 73,
   "metadata": {},
   "outputs": [
    {
     "data": {
      "text/html": [
       "<div>\n",
       "<style scoped>\n",
       "    .dataframe tbody tr th:only-of-type {\n",
       "        vertical-align: middle;\n",
       "    }\n",
       "\n",
       "    .dataframe tbody tr th {\n",
       "        vertical-align: top;\n",
       "    }\n",
       "\n",
       "    .dataframe thead th {\n",
       "        text-align: right;\n",
       "    }\n",
       "</style>\n",
       "<table border=\"1\" class=\"dataframe\">\n",
       "  <thead>\n",
       "    <tr style=\"text-align: right;\">\n",
       "      <th></th>\n",
       "      <th>ID</th>\n",
       "      <th>X</th>\n",
       "      <th>C-08</th>\n",
       "      <th>C-09</th>\n",
       "      <th>C-10</th>\n",
       "      <th>C-11</th>\n",
       "      <th>C-09-new</th>\n",
       "    </tr>\n",
       "  </thead>\n",
       "  <tbody>\n",
       "    <tr>\n",
       "      <th>0</th>\n",
       "      <td>15-10001</td>\n",
       "      <td>0</td>\n",
       "      <td>0.999117</td>\n",
       "      <td>2.705255</td>\n",
       "      <td>1.234021</td>\n",
       "      <td>0.232064</td>\n",
       "      <td>1.351392</td>\n",
       "    </tr>\n",
       "    <tr>\n",
       "      <th>1</th>\n",
       "      <td>15-10002</td>\n",
       "      <td>0</td>\n",
       "      <td>0.121683</td>\n",
       "      <td>0.061465</td>\n",
       "      <td>0.233561</td>\n",
       "      <td>0.839877</td>\n",
       "      <td>-0.678240</td>\n",
       "    </tr>\n",
       "    <tr>\n",
       "      <th>2</th>\n",
       "      <td>15-10003</td>\n",
       "      <td>1</td>\n",
       "      <td>0.443409</td>\n",
       "      <td>1.105066</td>\n",
       "      <td>1.011697</td>\n",
       "      <td>0.057087</td>\n",
       "      <td>1.351392</td>\n",
       "    </tr>\n",
       "    <tr>\n",
       "      <th>3</th>\n",
       "      <td>15-10004</td>\n",
       "      <td>0</td>\n",
       "      <td>0.604272</td>\n",
       "      <td>-0.982136</td>\n",
       "      <td>-0.322250</td>\n",
       "      <td>-0.799378</td>\n",
       "      <td>-0.678240</td>\n",
       "    </tr>\n",
       "    <tr>\n",
       "      <th>5</th>\n",
       "      <td>15-10006</td>\n",
       "      <td>2</td>\n",
       "      <td>0.048563</td>\n",
       "      <td>-0.877776</td>\n",
       "      <td>-0.211087</td>\n",
       "      <td>2.331784</td>\n",
       "      <td>-0.678240</td>\n",
       "    </tr>\n",
       "  </tbody>\n",
       "</table>\n",
       "</div>"
      ],
      "text/plain": [
       "         ID  X      C-08      C-09      C-10      C-11  C-09-new\n",
       "0  15-10001  0  0.999117  2.705255  1.234021  0.232064  1.351392\n",
       "1  15-10002  0  0.121683  0.061465  0.233561  0.839877 -0.678240\n",
       "2  15-10003  1  0.443409  1.105066  1.011697  0.057087  1.351392\n",
       "3  15-10004  0  0.604272 -0.982136 -0.322250 -0.799378 -0.678240\n",
       "5  15-10006  2  0.048563 -0.877776 -0.211087  2.331784 -0.678240"
      ]
     },
     "execution_count": 73,
     "metadata": {},
     "output_type": "execute_result"
    }
   ],
   "source": [
    "df.head()"
   ]
  },
  {
   "cell_type": "markdown",
   "metadata": {},
   "source": [
    "## 数据建模\n",
    "\n",
    "### 训练逻辑回归LR模型"
   ]
  },
  {
   "cell_type": "code",
   "execution_count": 74,
   "metadata": {},
   "outputs": [],
   "source": [
    "from sklearn.linear_model import LogisticRegressionCV,LinearRegression\n",
    "from sklearn.model_selection import train_test_split\n",
    "from sklearn.preprocessing import StandardScaler\n",
    "from sklearn.linear_model.coordinate_descent import ConvergenceWarning"
   ]
  },
  {
   "cell_type": "code",
   "execution_count": 75,
   "metadata": {},
   "outputs": [],
   "source": [
    "#划分训练集与测试集  随机\n",
    "target = 'X'\n",
    "features = [x for x in df.columns if x not in['ID', 'X']]\n",
    "X, Y = df[features], df[target]# X = dataSet  and Y =  labels\n",
    "X_train, X_test, Y_train, Y_test = train_test_split(X, Y, test_size=0.2, random_state=0)"
   ]
  },
  {
   "cell_type": "code",
   "execution_count": 76,
   "metadata": {},
   "outputs": [],
   "source": [
    "#构建并训练模型\n",
    "##  multi_class:分类方式选择参数，有\"ovr(默认)\"和\"multinomial\"两个值可选择，在二元逻辑回归中无区别\n",
    "##  cv:几折交叉验证\n",
    "##  solver:优化算法选择参数，当penalty为\"l1\"时，参数只能是\"liblinear(坐标轴下降法)\"\n",
    "##  \"lbfgs\"和\"cg\"都是关于目标函数的二阶泰勒展开\n",
    "##  当penalty为\"l2\"时，参数可以是\"lbfgs(拟牛顿法)\",\"newton_cg(牛顿法变种)\",\"seg(minibactch随机平均梯度下降)\"\n",
    "##  维度<10000时，选择\"lbfgs\"法，维度>10000时，选择\"cs\"法比较好，显卡计算的时候，lbfgs\"和\"cs\"都比\"seg\"快\n",
    "##  penalty:正则化选择参数，用于解决过拟合，可选\"l1\",\"l2\"\n",
    "##  tol:当目标函数下降到该值是就停止，叫：容忍度，防止计算的过多\n",
    "lr = LogisticRegressionCV(\n",
    "    multi_class=\"multinomial\",\n",
    "    fit_intercept=True,\n",
    "    Cs=np.logspace(-2,2,20),\n",
    "    cv=2,\n",
    "    penalty=\"l2\",\n",
    "    solver=\"lbfgs\",\n",
    "    tol=0.01,\n",
    "    max_iter = 1000,\n",
    "    class_weight='balanced',\n",
    "    \n",
    ")\n",
    "re = lr.fit(X_train,Y_train)\n"
   ]
  },
  {
   "cell_type": "code",
   "execution_count": 77,
   "metadata": {},
   "outputs": [
    {
     "name": "stdout",
     "output_type": "stream",
     "text": [
      "R值(准确率): 0.4660397074190178\n",
      "参数: [[-0.1478752  -0.01640389 -0.03020862 -0.08685095 -0.03125973]\n",
      " [ 0.05387188  0.01065532 -0.06098579  0.01018455 -0.05327588]\n",
      " [ 0.09400333  0.00574857  0.09119441  0.0766664   0.08453561]]\n",
      "截距: [ 0.00224008  0.01700059 -0.01924068]\n",
      "稀疏化特征比率:0.00%\n",
      "=========sigmoid函数转化的值，即：概率p=========\n",
      "[[0.14454248 0.22471034 0.63074718]\n",
      " [0.37098256 0.32865725 0.30036019]\n",
      " [0.37254182 0.32461229 0.30284589]\n",
      " [0.40987957 0.33851431 0.25160613]\n",
      " [0.2857361  0.31076535 0.40349855]\n",
      " [0.30404958 0.28623597 0.40971445]\n",
      " [0.42773433 0.33820152 0.23406415]\n",
      " [0.401885   0.32964787 0.26846713]\n",
      " [0.32335005 0.31325082 0.36339913]\n",
      " [0.30770235 0.34878698 0.34351067]\n",
      " [0.329978   0.30473108 0.36529092]\n",
      " [0.28014586 0.38096899 0.33888515]\n",
      " [0.28599584 0.3118308  0.40217336]\n",
      " [0.30671089 0.39772274 0.29556637]\n",
      " [0.31988961 0.31967364 0.36043675]\n",
      " [0.32457119 0.33490104 0.34052777]\n",
      " [0.161191   0.29868041 0.5401286 ]\n",
      " [0.31415158 0.32146495 0.36438347]\n",
      " [0.3562313  0.32701529 0.31675341]\n",
      " [0.32701832 0.36290977 0.31007191]\n",
      " [0.24836726 0.33470981 0.41692294]\n",
      " [0.38308248 0.31762338 0.29929414]\n",
      " [0.26075015 0.31624106 0.42300879]\n",
      " [0.41183168 0.34330303 0.24486529]\n",
      " [0.34623745 0.32705034 0.32671222]\n",
      " [0.20507823 0.29942617 0.4954956 ]\n",
      " [0.35591206 0.30869543 0.33539251]\n",
      " [0.24487418 0.3143639  0.44076193]\n",
      " [0.34396968 0.38180927 0.27422105]\n",
      " [0.31406679 0.37550098 0.31043223]\n",
      " [0.32907627 0.36056884 0.31035489]\n",
      " [0.37526745 0.34182346 0.28290908]\n",
      " [0.26590079 0.30131161 0.4327876 ]\n",
      " [0.362161   0.34941396 0.28842504]\n",
      " [0.30477426 0.26436123 0.43086451]\n",
      " [0.42454009 0.34999464 0.22546527]\n",
      " [0.17624633 0.31546384 0.50828983]\n",
      " [0.28042315 0.3791449  0.34043196]\n",
      " [0.20877381 0.33689244 0.45433375]\n",
      " [0.34029034 0.30904241 0.35066725]\n",
      " [0.3358184  0.36142241 0.30275919]\n",
      " [0.38435104 0.36164535 0.25400361]\n",
      " [0.39256898 0.33210017 0.27533084]\n",
      " [0.39034349 0.35173385 0.25792266]\n",
      " [0.35979974 0.28738104 0.35281922]\n",
      " [0.37398352 0.32277174 0.30324474]\n",
      " [0.26681976 0.28884919 0.44433105]\n",
      " [0.39702801 0.33368918 0.26928281]\n",
      " [0.38853338 0.33756095 0.27390567]\n",
      " [0.28818496 0.29788403 0.413931  ]\n",
      " [0.22460756 0.28838034 0.48701211]\n",
      " [0.1685302  0.35144028 0.48002952]\n",
      " [0.32794192 0.33618402 0.33587405]\n",
      " [0.38981389 0.33937579 0.27081032]\n",
      " [0.36666777 0.34788285 0.28544938]\n",
      " [0.08443376 0.27220974 0.64335651]\n",
      " [0.33156175 0.3076514  0.36078685]\n",
      " [0.36235221 0.36258496 0.27506283]\n",
      " [0.32919706 0.34294564 0.3278573 ]\n",
      " [0.31858193 0.30191462 0.37950345]\n",
      " [0.21562165 0.32008492 0.46429343]\n",
      " [0.41765154 0.33537522 0.24697324]\n",
      " [0.32973743 0.28471461 0.38554796]\n",
      " [0.39720862 0.34963583 0.25315555]\n",
      " [0.28631731 0.34036506 0.37331764]\n",
      " [0.29014553 0.31664244 0.39321203]\n",
      " [0.30875971 0.31184699 0.3793933 ]\n",
      " [0.36797845 0.35669023 0.27533132]\n",
      " [0.30647262 0.33460328 0.35892409]\n",
      " [0.34781977 0.335996   0.31618423]\n",
      " [0.22061497 0.3363779  0.44300714]\n",
      " [0.40097955 0.36011166 0.23890879]\n",
      " [0.39985429 0.34154991 0.2585958 ]\n",
      " [0.31466817 0.32037162 0.36496021]\n",
      " [0.39032415 0.33796993 0.27170592]\n",
      " [0.24254763 0.32142847 0.4360239 ]\n",
      " [0.35753786 0.32620246 0.31625968]\n",
      " [0.40996776 0.35363444 0.23639781]\n",
      " [0.25351803 0.37837409 0.36810788]\n",
      " [0.372111   0.33297448 0.29491453]\n",
      " [0.24576584 0.30428699 0.44994717]\n",
      " [0.35022429 0.3528298  0.2969459 ]\n",
      " [0.38504649 0.36285094 0.25210257]\n",
      " [0.34993913 0.314393   0.33566787]\n",
      " [0.34039307 0.36575637 0.29385056]\n",
      " [0.1006698  0.29668803 0.60264217]\n",
      " [0.37754793 0.34510699 0.27734509]\n",
      " [0.38806047 0.3560397  0.25589982]\n",
      " [0.33769963 0.31568648 0.34661389]\n",
      " [0.35356912 0.32422858 0.3222023 ]\n",
      " [0.37686814 0.34303558 0.28009628]\n",
      " [0.36479295 0.34949236 0.28571469]\n",
      " [0.39134993 0.31953473 0.28911534]\n",
      " [0.38520878 0.36306908 0.25172214]\n",
      " [0.31543801 0.33996961 0.34459238]\n",
      " [0.30724437 0.36764871 0.32510692]\n",
      " [0.36734489 0.33372953 0.29892558]\n",
      " [0.30629609 0.35360803 0.34009588]\n",
      " [0.40750111 0.33356753 0.25893135]\n",
      " [0.25578676 0.33241229 0.41180095]\n",
      " [0.2438201  0.2475234  0.5086565 ]\n",
      " [0.32782732 0.33576623 0.33640645]\n",
      " [0.33979439 0.37242775 0.28777786]\n",
      " [0.38424146 0.34932838 0.26643016]\n",
      " [0.35434345 0.34865016 0.29700639]\n",
      " [0.37788211 0.33347789 0.28864   ]\n",
      " [0.28426598 0.31560244 0.40013159]\n",
      " [0.34787064 0.3606713  0.29145806]\n",
      " [0.26527756 0.33034407 0.40437836]\n",
      " [0.41014157 0.36160835 0.22825009]\n",
      " [0.19749058 0.33100349 0.47150592]\n",
      " [0.38240684 0.32073116 0.296862  ]\n",
      " [0.36428903 0.32036538 0.31534559]\n",
      " [0.33689478 0.34795325 0.31515197]\n",
      " [0.2393827  0.36867622 0.39194108]\n",
      " [0.41056402 0.33095181 0.25848417]\n",
      " [0.273737   0.28775961 0.43850339]\n",
      " [0.10308434 0.2476616  0.64925406]\n",
      " [0.40215441 0.32687883 0.27096676]\n",
      " [0.41141228 0.31383049 0.27475722]\n",
      " [0.36334313 0.3419435  0.29471337]\n",
      " [0.42527637 0.35575105 0.21897258]\n",
      " [0.1519932  0.30676693 0.54123987]\n",
      " [0.35927774 0.34075554 0.29996672]\n",
      " [0.40048947 0.30442632 0.2950842 ]\n",
      " [0.25376158 0.31468064 0.43155778]\n",
      " [0.18890818 0.31391827 0.49717354]\n",
      " [0.36701524 0.34020997 0.29277479]\n",
      " [0.39122621 0.34967148 0.25910232]\n",
      " [0.42021842 0.31876411 0.26101747]\n",
      " [0.25024606 0.31725176 0.43250218]\n",
      " [0.37634483 0.35839793 0.26525724]\n",
      " [0.39437898 0.35104321 0.25457781]\n",
      " [0.21013267 0.34467027 0.44519706]\n",
      " [0.22081011 0.33042576 0.44876412]\n",
      " [0.30014111 0.32479685 0.37506204]\n",
      " [0.36224604 0.35466509 0.28308887]\n",
      " [0.40486399 0.343529   0.25160701]\n",
      " [0.40347496 0.3377141  0.25881095]\n",
      " [0.39975588 0.36860018 0.23164393]\n",
      " [0.19619943 0.30324664 0.50055393]\n",
      " [0.38696097 0.35182792 0.26121111]\n",
      " [0.38045739 0.34760364 0.27193897]\n",
      " [0.22067879 0.34273184 0.43658936]\n",
      " [0.36663165 0.3367962  0.29657215]\n",
      " [0.41701887 0.34173502 0.24124611]\n",
      " [0.31318587 0.3751237  0.31169043]\n",
      " [0.35514114 0.33670823 0.30815064]\n",
      " [0.4099597  0.34859248 0.24144782]\n",
      " [0.27911057 0.3533141  0.36757533]\n",
      " [0.33427153 0.29248387 0.3732446 ]\n",
      " [0.30458791 0.31284366 0.38256843]\n",
      " [0.29274841 0.32057249 0.3866791 ]\n",
      " [0.32966402 0.3232681  0.34706788]\n",
      " [0.39571477 0.33376096 0.27052427]\n",
      " [0.31779809 0.32653268 0.35566923]\n",
      " [0.36110664 0.35444696 0.2844464 ]\n",
      " [0.38069739 0.36084568 0.25845692]\n",
      " [0.32089624 0.2805416  0.39856216]\n",
      " [0.28619603 0.36568712 0.34811684]\n",
      " [0.36525464 0.3650013  0.26974406]\n",
      " [0.38924607 0.35090294 0.259851  ]\n",
      " [0.16555666 0.2891963  0.54524705]\n",
      " [0.24443316 0.31809382 0.43747301]\n",
      " [0.39143908 0.3245653  0.28399561]\n",
      " [0.26099015 0.38590317 0.35310668]\n",
      " [0.16306461 0.33290531 0.50403007]\n",
      " [0.31376528 0.35079029 0.33544442]\n",
      " [0.30730059 0.3101019  0.38259751]\n",
      " [0.40737698 0.31634494 0.27627808]\n",
      " [0.36760971 0.34409474 0.28829556]\n",
      " [0.33057207 0.37096746 0.29846047]\n",
      " [0.35755141 0.34033465 0.30211394]\n",
      " [0.38343219 0.35161849 0.26494932]\n",
      " [0.27651395 0.34028458 0.38320147]\n",
      " [0.26128755 0.32610231 0.41261014]\n",
      " [0.30860913 0.35152828 0.33986259]\n",
      " [0.38378167 0.34362022 0.2725981 ]\n",
      " [0.31205444 0.32935676 0.3585888 ]\n",
      " [0.32742352 0.37388496 0.29869152]\n",
      " [0.36766359 0.33219811 0.3001383 ]\n",
      " [0.35713858 0.36535072 0.2775107 ]\n",
      " [0.3246973  0.30021007 0.37509263]\n",
      " [0.29418561 0.33969294 0.36612145]\n",
      " [0.37656247 0.31633524 0.30710229]\n",
      " [0.31788306 0.37220466 0.30991228]\n",
      " [0.12831962 0.2537268  0.61795358]\n",
      " [0.3599846  0.2788439  0.3611715 ]\n",
      " [0.3975123  0.33054036 0.27194734]\n",
      " [0.38742621 0.30125501 0.31131879]\n",
      " [0.34342002 0.33901031 0.31756967]\n",
      " [0.35648056 0.36648684 0.2770326 ]\n",
      " [0.42621133 0.34964142 0.22414725]\n",
      " [0.22190105 0.28293676 0.49516219]\n",
      " [0.33195211 0.31139975 0.35664814]\n",
      " [0.35651164 0.33571733 0.30777103]\n",
      " [0.40332297 0.33554402 0.26113301]\n",
      " [0.40160476 0.3370966  0.26129864]\n",
      " [0.43794851 0.34531367 0.21673782]\n",
      " [0.28625112 0.36931086 0.34443802]\n",
      " [0.38402777 0.35453692 0.26143531]\n",
      " [0.32775614 0.30052459 0.37171927]\n",
      " [0.35220209 0.29444445 0.35335346]\n",
      " [0.32726183 0.35988202 0.31285615]\n",
      " [0.25128578 0.35542618 0.39328804]\n",
      " [0.37729553 0.36187537 0.2608291 ]\n",
      " [0.39802626 0.32866056 0.27331318]\n",
      " [0.37993701 0.30680041 0.31326258]\n",
      " [0.41321121 0.33435787 0.25243092]\n",
      " [0.2967925  0.36835163 0.33485587]\n",
      " [0.37001734 0.37044619 0.25953648]\n",
      " [0.3984195  0.33442523 0.26715527]\n",
      " [0.29586938 0.30908654 0.39504408]\n",
      " [0.26853247 0.29618047 0.43528706]\n",
      " [0.18100933 0.40599123 0.41299944]\n",
      " [0.41404786 0.33027841 0.25567373]\n",
      " [0.32948714 0.34550328 0.32500959]\n",
      " [0.41009788 0.33866934 0.25123278]\n",
      " [0.39597747 0.35603844 0.24798409]\n",
      " [0.36763337 0.342297   0.29006963]\n",
      " [0.40226278 0.33937018 0.25836704]\n",
      " [0.34584693 0.28892988 0.3652232 ]\n",
      " [0.19553293 0.26030345 0.54416361]\n",
      " [0.33947155 0.3553075  0.30522095]\n",
      " [0.36957686 0.35975331 0.27066983]\n",
      " [0.39498144 0.36857728 0.23644127]\n",
      " [0.37047001 0.31180418 0.31772581]\n",
      " [0.3956882  0.34753009 0.25678172]\n",
      " [0.14200986 0.27671952 0.58127062]\n",
      " [0.39565479 0.33720629 0.26713892]\n",
      " [0.31944552 0.36301497 0.31753951]\n",
      " [0.40802205 0.35288663 0.23909133]\n",
      " [0.30006314 0.32622208 0.37371478]\n",
      " [0.30739494 0.27346413 0.41914093]\n",
      " [0.34730014 0.35755903 0.29514082]\n",
      " [0.37285484 0.37609964 0.25104551]\n",
      " [0.35788235 0.31982307 0.32229457]\n",
      " [0.31235332 0.380002   0.30764468]\n",
      " [0.37328688 0.32317956 0.30353356]\n",
      " [0.4224172  0.33796986 0.23961294]]\n"
     ]
    }
   ],
   "source": [
    "#模型效果获取\n",
    "r = re.score(X_train,Y_train)\n",
    "print(\"R值(准确率):\",r)\n",
    "print(\"参数:\",re.coef_)\n",
    "print(\"截距:\",re.intercept_)\n",
    "print(\"稀疏化特征比率:%.2f%%\" %(np.mean(lr.coef_.ravel()==0)*100))\n",
    "print(\"=========sigmoid函数转化的值，即：概率p=========\")\n",
    "print(re.predict_proba(X_test))     #sigmoid函数转化的值，即：概率p"
   ]
  },
  {
   "cell_type": "markdown",
   "metadata": {},
   "source": [
    "### 模型的持久化"
   ]
  },
  {
   "cell_type": "code",
   "execution_count": 78,
   "metadata": {},
   "outputs": [
    {
     "data": {
      "text/plain": [
       "LogisticRegressionCV(Cs=array([1.00000e-02, 1.62378e-02, 2.63665e-02, 4.28133e-02, 6.95193e-02,\n",
       "       1.12884e-01, 1.83298e-01, 2.97635e-01, 4.83293e-01, 7.84760e-01,\n",
       "       1.27427e+00, 2.06914e+00, 3.35982e+00, 5.45559e+00, 8.85867e+00,\n",
       "       1.43845e+01, 2.33572e+01, 3.79269e+01, 6.15848e+01, 1.00000e+02]),\n",
       "           class_weight='balanced', cv=2, dual=False, fit_intercept=True,\n",
       "           intercept_scaling=1.0, max_iter=1000, multi_class='multinomial',\n",
       "           n_jobs=None, penalty='l2', random_state=None, refit=True,\n",
       "           scoring=None, solver='lbfgs', tol=0.01, verbose=0)"
      ]
     },
     "execution_count": 78,
     "metadata": {},
     "output_type": "execute_result"
    }
   ],
   "source": [
    "#模型的保存与持久化\n",
    "from sklearn.externals import joblib\n",
    "# joblib.dump(ss,\"logistic_ss.model\")     #将标准化模型保存\n",
    "joblib.dump(lr,\"secon_non_logistic_lr.model\")     #将训练后的线性模型保存\n",
    "# joblib.load(\"logistic_ss.model\")        #加载模型,会保存该model文件\n",
    "joblib.load(\"secon_non_logistic_lr.model\")"
   ]
  },
  {
   "cell_type": "markdown",
   "metadata": {},
   "source": [
    "### 预测结果评价"
   ]
  },
  {
   "cell_type": "code",
   "execution_count": 79,
   "metadata": {},
   "outputs": [],
   "source": [
    "import matplotlib as mpl\n",
    "\n",
    "#解决中文显示问题\n",
    "mpl.rcParams['font.sans-serif']=[u'simHei']\n",
    "mpl.rcParams['axes.unicode_minus']=False"
   ]
  },
  {
   "cell_type": "code",
   "execution_count": 80,
   "metadata": {},
   "outputs": [
    {
     "data": {
      "image/png": "[encoded data removed]",
      "text/plain": [
       "<Figure size 1008x504 with 1 Axes>"
      ]
     },
     "metadata": {},
     "output_type": "display_data"
    },
    {
     "name": "stdout",
     "output_type": "stream",
     "text": [
      "=============Y_test==============\n",
      "[1 0 1 1 0 0 0 1 2 2 0 2 0 0 0 1 2 2 0 0 2 1 0 0 2 2 1 2 0 1 2 0 2 0 0 1 1\n",
      " 0 2 0 0 1 0 0 1 0 1 0 0 2 1 0 0 2 0 2 0 2 1 1 1 1 2 0 1 0 0 2 1 1 0 0 0 1\n",
      " 0 2 2 0 0 0 2 1 2 0 0 2 0 0 2 0 0 0 0 0 0 0 2 0 0 2 2 0 1 1 0 0 1 0 0 0 1\n",
      " 1 0 1 2 0 0 1 0 0 0 2 2 1 0 0 1 2 1 1 2 0 0 0 1 0 0 0 1 0 0 0 0 0 1 0 0 1\n",
      " 0 2 2 0 0 1 0 1 0 0 1 1 0 1 0 0 2 0 1 1 1 0 0 1 0 1 1 2 0 0 0 0 0 0 1 0 0\n",
      " 0 0 1 0 1 2 0 0 0 0 2 1 1 2 2 0 0 0 0 0 0 0 0 0 0 0 1 0 1 1 0 2 1 2 0 2 2\n",
      " 0 0 0 0 1 0 2 1 0 2 0 2 0 1 2 2 1 0]\n",
      "============Y_predict============\n",
      "[2 0 0 0 2 2 0 0 2 1 2 1 2 1 2 2 2 2 0 1 2 0 2 0 0 2 0 2 1 1 1 0 2 0 2 0 2\n",
      " 1 2 2 1 0 0 0 0 0 2 0 0 2 2 2 1 0 0 2 2 1 1 2 2 0 2 0 2 2 2 0 2 0 2 0 0 2\n",
      " 0 2 0 0 1 0 2 1 0 0 1 2 0 0 2 0 0 0 0 0 2 1 0 1 0 2 2 2 1 0 0 0 2 1 2 0 2\n",
      " 0 0 1 2 0 2 2 0 0 0 0 2 0 0 2 2 0 0 0 2 0 0 2 2 2 0 0 0 0 2 0 0 2 0 0 1 0\n",
      " 0 2 2 2 2 2 0 2 0 0 2 1 0 0 2 2 0 1 2 1 2 0 0 1 0 0 2 2 1 0 2 1 0 1 2 2 0\n",
      " 1 2 2 0 0 0 1 0 2 2 0 0 0 0 1 0 2 2 1 2 0 0 0 0 1 1 0 2 2 2 0 1 0 0 0 0 2\n",
      " 2 1 0 0 0 0 2 0 1 0 2 2 1 1 0 1 0 0]\n"
     ]
    }
   ],
   "source": [
    "#预测\n",
    "Y_predict = lr.predict(X_test)\n",
    " \n",
    "#画图对预测值和实际值进行比较\n",
    "x = range(len(X_test))\n",
    "plt.figure(figsize=(14,7),facecolor=\"w\")\n",
    "plt.ylim(0,6)\n",
    "plt.plot(x,Y_test,\"ro\",markersize=8,zorder=3,label=u\"Groud Truth\")\n",
    "plt.plot(x,Y_predict,\"go\",markersize=14,zorder=2,label=u\"Predict Value,$R^2$=%.3f\" %lr.score(X_test,Y_test))\n",
    "plt.legend(loc=\"upper left\")\n",
    "plt.xlabel(u\"sample\",fontsize=18)\n",
    "plt.ylabel(u\"label\",fontsize=18)\n",
    "plt.title(u\"Logistic Model\",fontsize=20)\n",
    "plt.show()\n",
    " \n",
    "print(\"=============Y_test==============\")\n",
    "print(Y_test.ravel())\n",
    "print(\"============Y_predict============\")\n",
    "print(Y_predict)"
   ]
  },
  {
   "cell_type": "code",
   "execution_count": 81,
   "metadata": {},
   "outputs": [
    {
     "name": "stdout",
     "output_type": "stream",
     "text": [
      "预测准确率： 0.42916666666666664\n",
      "精度： 0.44478625541125544\n",
      "召回率： 0.42916666666666664\n"
     ]
    }
   ],
   "source": [
    "from sklearn import metrics\n",
    "\n",
    "print(\"预测准确率：\", metrics.accuracy_score(Y_test, Y_predict))\n",
    "print(\"精度：\", metrics.precision_score(Y_test, Y_predict, average=\"weighted\"))\n",
    "print(\"召回率：\", metrics.recall_score(Y_test, Y_predict, average=\"weighted\"))"
   ]
  },
  {
   "cell_type": "code",
   "execution_count": 13,
   "metadata": {},
   "outputs": [],
   "source": [
    "from sklearn.model_selection import train_test_split\n",
    "from sklearn.preprocessing import StandardScaler\n",
    "import numpy as np"
   ]
  },
  {
   "cell_type": "code",
   "execution_count": 14,
   "metadata": {},
   "outputs": [
    {
     "name": "stdout",
     "output_type": "stream",
     "text": [
      "best score 0.54\n",
      "depth 2\n",
      "criterion gini\n"
     ]
    }
   ],
   "source": [
    "\n",
    "#from sklearn.linear_model.coordinate_descent import ConvergenceWarning\n",
    "from sklearn import tree\n",
    "from matplotlib import pyplot as plt\n",
    "\n",
    "\n",
    "\n",
    "\n",
    "#划分训练集与测试集  随机\n",
    "target = 'X'\n",
    "features = [x for x in df.columns if x not in['ID', 'X']]\n",
    "X, Y = df[features], df[target]# X = dataSet  and Y =  labels\n",
    "X_train, X_test, Y_train, Y_test = train_test_split(X, Y, test_size=0.2, random_state=0)\n",
    "\n",
    "bestTestingScore = 0.0\n",
    "bestDepth = 0\n",
    "bestriterion = ''\n",
    "\n",
    "maxdepth = 40\n",
    "depths = np.arange(2, maxdepth)\n",
    "criterions = ['gini','entropy']\n",
    "for criterion in criterions:\n",
    "    training_scores = []\n",
    "    testing_scores = []\n",
    "    for depth in depths:\n",
    "        clf = tree.DecisionTreeClassifier(criterion = criterion ,max_depth = depth)\n",
    "        clf.fit(X_train, Y_train)\n",
    "        trSc = clf.score(X_train, Y_train)\n",
    "        teSc = clf.score(X_test, Y_test)\n",
    "        training_scores.append(trSc)\n",
    "        testing_scores.append(teSc)\n",
    "        if bestTestingScore< teSc:\n",
    "            bestTestingScore = teSc\n",
    "            bestDepth = depth\n",
    "            bestriterion = criterion\n",
    "print('best score %.2f' % bestTestingScore)\n",
    "print('depth %d' % bestDepth)\n",
    "print('criterion %s' % bestriterion)\n"
   ]
  },
  {
   "cell_type": "code",
   "execution_count": 15,
   "metadata": {},
   "outputs": [
    {
     "name": "stdout",
     "output_type": "stream",
     "text": [
      "linear_svc training score:0.539185\n",
      "linear_svc testing score:0.550000\n",
      "rbf_kernel_svc training score:0.922675\n",
      "rbf_kernel_svc testing score:0.479167\n"
     ]
    },
    {
     "name": "stderr",
     "output_type": "stream",
     "text": [
      "/Users/xiangsong/Library/Python/3.6/lib/python/site-packages/sklearn/svm/base.py:929: ConvergenceWarning: Liblinear failed to converge, increase the number of iterations.\n",
      "  \"the number of iterations.\", ConvergenceWarning)\n"
     ]
    }
   ],
   "source": [
    "from sklearn import datasets\n",
    "from sklearn.pipeline import Pipeline\n",
    "from sklearn.preprocessing import StandardScaler\n",
    "from sklearn.svm import LinearSVC\n",
    "\n",
    "from sklearn.svm import SVC\n",
    "\n",
    "\n",
    "target = 'X'\n",
    "features = [x for x in df.columns if x not in['ID', 'X']]\n",
    "X, Y = df[features], df[target]# X = dataSet  and Y =  labels\n",
    "X_train, X_test, Y_train, Y_test = train_test_split(X, Y, test_size=0.2, random_state=0)\n",
    "\n",
    "\n",
    "svm_clf = Pipeline((\n",
    "                    ('scaler', StandardScaler()),\n",
    "                   ('linear_svc', LinearSVC(C = 1, loss = 'hinge'))\n",
    "                  )).fit(X_train, Y_train)\n",
    "print('linear_svc training score:%f' % svm_clf.score(X_train, Y_train))\n",
    "print('linear_svc testing score:%f' % svm_clf.score(X_test, Y_test))\n",
    "\n",
    "\n",
    "rbf_kernel_svm_clf = Pipeline((('scaler', StandardScaler()),\n",
    "                               ('svm_clf', SVC(kernel = 'rbf', gamma = 5, C = 5 )) #当C为0.001 时 预测非1\n",
    "                               )).fit(X_train, Y_train)\n",
    "print('rbf_kernel_svc training score:%f' % rbf_kernel_svm_clf.score(X_train, Y_train))\n",
    "print('rbf_kernel_svc testing score:%f' % rbf_kernel_svm_clf.score(X_test, Y_test))"
   ]
  },
  {
   "cell_type": "markdown",
   "metadata": {},
   "source": [
    "## CCA 特征"
   ]
  },
  {
   "cell_type": "code",
   "execution_count": null,
   "metadata": {},
   "outputs": [],
   "source": [
    "## CCA 数据 没有\n",
    "\"\"\"\n",
    "CCA_FILES = [\"CCA.csv\", \"DMPCCA.csv\", \"LDCCA.csv\", \"LPCCA.csv\", \"rank-CCA.csv\", \"semi-CCA.csv\"]\n",
    "\n",
    "for fi in CCA_FILES:\n",
    "    df = pd.read_csv(open(fi, encoding='utf-8'), skiprows=0)  \n",
    "    #划分训练集与测试集\n",
    "    target = 't'\n",
    "    features = [x for x in df.columns if x not in['t']]\n",
    "    X, Y = df[features], df[target]\n",
    "    X_train, X_test, Y_train, Y_test = train_test_split(X, Y, test_size=0.2, random_state=0)\n",
    "    lr = LogisticRegressionCV(\n",
    "        multi_class=\"multinomial\",\n",
    "        fit_intercept=True,\n",
    "        Cs=np.logspace(-2,2,20),\n",
    "        cv=2,\n",
    "        penalty=\"l2\",\n",
    "        solver=\"lbfgs\",\n",
    "        tol=0.01,\n",
    "        max_iter = 1000,\n",
    "        class_weight='balanced', \n",
    "    )\n",
    "    re = lr.fit(X_train,Y_train)\n",
    "    Y_predict = lr.predict(X_test)\n",
    "    print(\"===== %s =====\" % fi)\n",
    "    print(\"训练准确率：\", re.score(X_train,Y_train))\n",
    "    print(\"预测准确率：\", metrics.accuracy_score(Y_test, Y_predict))\n",
    "    print(\"精度：\", metrics.precision_score(Y_test, Y_predict, average=\"weighted\"))\n",
    "    print(\"召回率：\", metrics.recall_score(Y_test, Y_predict, average=\"weighted\"))\n",
    "    print(\"==========\")\n",
    "\"\"\""
   ]
  }
 ],
 "metadata": {
  "kernelspec": {
   "display_name": "Python 3",
   "language": "python",
   "name": "python3"
  },
  "language_info": {
   "codemirror_mode": {
    "name": "ipython",
    "version": 3
   },
   "file_extension": ".py",
   "mimetype": "text/x-python",
   "name": "python",
   "nbconvert_exporter": "python",
   "pygments_lexer": "ipython3",
   "version": "3.6.7"
  }
 },
 "nbformat": 4,
 "nbformat_minor": 2
}
