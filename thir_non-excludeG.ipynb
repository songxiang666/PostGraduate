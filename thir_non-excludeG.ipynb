{
 "cells": [
  {
   "cell_type": "code",
   "execution_count": 25,
   "metadata": {},
   "outputs": [],
   "source": [
    "import numpy as np\n",
    "import pandas as pd\n",
    "from matplotlib import pyplot as plt\n",
    "\n",
    "%matplotlib inline"
   ]
  },
  {
   "cell_type": "code",
   "execution_count": 26,
   "metadata": {},
   "outputs": [
    {
     "name": "stdout",
     "output_type": "stream",
     "text": [
      "data size: (7212, 6)\n"
     ]
    },
    {
     "data": {
      "text/html": [
       "<div>\n",
       "<style scoped>\n",
       "    .dataframe tbody tr th:only-of-type {\n",
       "        vertical-align: middle;\n",
       "    }\n",
       "\n",
       "    .dataframe tbody tr th {\n",
       "        vertical-align: top;\n",
       "    }\n",
       "\n",
       "    .dataframe thead th {\n",
       "        text-align: right;\n",
       "    }\n",
       "</style>\n",
       "<table border=\"1\" class=\"dataframe\">\n",
       "  <thead>\n",
       "    <tr style=\"text-align: right;\">\n",
       "      <th></th>\n",
       "      <th>ID</th>\n",
       "      <th>X</th>\n",
       "      <th>H-12</th>\n",
       "      <th>P-01</th>\n",
       "      <th>C-01</th>\n",
       "      <th>C-04</th>\n",
       "    </tr>\n",
       "  </thead>\n",
       "  <tbody>\n",
       "    <tr>\n",
       "      <th>0</th>\n",
       "      <td>2015-10001</td>\n",
       "      <td>1</td>\n",
       "      <td>65.0</td>\n",
       "      <td>12.5</td>\n",
       "      <td>18.0</td>\n",
       "      <td>29.0</td>\n",
       "    </tr>\n",
       "    <tr>\n",
       "      <th>1</th>\n",
       "      <td>2015-10002</td>\n",
       "      <td>2</td>\n",
       "      <td>173.0</td>\n",
       "      <td>11.5</td>\n",
       "      <td>7.1</td>\n",
       "      <td>45.4</td>\n",
       "    </tr>\n",
       "    <tr>\n",
       "      <th>2</th>\n",
       "      <td>2015-10003</td>\n",
       "      <td>0</td>\n",
       "      <td>166.0</td>\n",
       "      <td>11.1</td>\n",
       "      <td>14.9</td>\n",
       "      <td>45.6</td>\n",
       "    </tr>\n",
       "    <tr>\n",
       "      <th>3</th>\n",
       "      <td>2015-10004</td>\n",
       "      <td>1</td>\n",
       "      <td>125.0</td>\n",
       "      <td>12.4</td>\n",
       "      <td>11.5</td>\n",
       "      <td>41.4</td>\n",
       "    </tr>\n",
       "    <tr>\n",
       "      <th>4</th>\n",
       "      <td>2015-10005</td>\n",
       "      <td>2</td>\n",
       "      <td>117.0</td>\n",
       "      <td>11.5</td>\n",
       "      <td>12.3</td>\n",
       "      <td>42.2</td>\n",
       "    </tr>\n",
       "  </tbody>\n",
       "</table>\n",
       "</div>"
      ],
      "text/plain": [
       "           ID  X   H-12  P-01  C-01  C-04\n",
       "0  2015-10001  1   65.0  12.5  18.0  29.0\n",
       "1  2015-10002  2  173.0  11.5   7.1  45.4\n",
       "2  2015-10003  0  166.0  11.1  14.9  45.6\n",
       "3  2015-10004  1  125.0  12.4  11.5  41.4\n",
       "4  2015-10005  2  117.0  11.5  12.3  42.2"
      ]
     },
     "execution_count": 26,
     "metadata": {},
     "output_type": "execute_result"
    }
   ],
   "source": [
    "data = open('three_kind_andMark/G_ex/third_non_excludeG.csv', encoding = 'utf-8')\n",
    "df = pd.read_csv(data, skiprows = 0)\n",
    "print('data size:', df.shape)\n",
    "df.head()"
   ]
  },
  {
   "cell_type": "markdown",
   "metadata": {},
   "source": [
    "ID：病例编号\n",
    "X：分类目标\n",
    "其余特征表示一线标志物"
   ]
  },
  {
   "cell_type": "markdown",
   "metadata": {},
   "source": [
    "# 数据的直观分布\n",
    "\n",
    "## 数据构成比例\n",
    "\n",
    "### 时间与患病数"
   ]
  },
  {
   "cell_type": "code",
   "execution_count": 3,
   "metadata": {
    "collapsed": true
   },
   "outputs": [
    {
     "data": {
      "text/html": [
       "<div>\n",
       "<style scoped>\n",
       "    .dataframe tbody tr th:only-of-type {\n",
       "        vertical-align: middle;\n",
       "    }\n",
       "\n",
       "    .dataframe tbody tr th {\n",
       "        vertical-align: top;\n",
       "    }\n",
       "\n",
       "    .dataframe thead th {\n",
       "        text-align: right;\n",
       "    }\n",
       "</style>\n",
       "<table border=\"1\" class=\"dataframe\">\n",
       "  <thead>\n",
       "    <tr style=\"text-align: right;\">\n",
       "      <th></th>\n",
       "      <th></th>\n",
       "      <th>ID</th>\n",
       "    </tr>\n",
       "    <tr>\n",
       "      <th>Year</th>\n",
       "      <th>X</th>\n",
       "      <th></th>\n",
       "    </tr>\n",
       "  </thead>\n",
       "  <tbody>\n",
       "    <tr>\n",
       "      <th rowspan=\"3\" valign=\"top\">15</th>\n",
       "      <th>0</th>\n",
       "      <td>199</td>\n",
       "    </tr>\n",
       "    <tr>\n",
       "      <th>1</th>\n",
       "      <td>100</td>\n",
       "    </tr>\n",
       "    <tr>\n",
       "      <th>2</th>\n",
       "      <td>110</td>\n",
       "    </tr>\n",
       "    <tr>\n",
       "      <th rowspan=\"3\" valign=\"top\">16</th>\n",
       "      <th>0</th>\n",
       "      <td>228</td>\n",
       "    </tr>\n",
       "    <tr>\n",
       "      <th>1</th>\n",
       "      <td>98</td>\n",
       "    </tr>\n",
       "    <tr>\n",
       "      <th>2</th>\n",
       "      <td>102</td>\n",
       "    </tr>\n",
       "    <tr>\n",
       "      <th rowspan=\"3\" valign=\"top\">17</th>\n",
       "      <th>0</th>\n",
       "      <td>271</td>\n",
       "    </tr>\n",
       "    <tr>\n",
       "      <th>1</th>\n",
       "      <td>122</td>\n",
       "    </tr>\n",
       "    <tr>\n",
       "      <th>2</th>\n",
       "      <td>84</td>\n",
       "    </tr>\n",
       "  </tbody>\n",
       "</table>\n",
       "</div>"
      ],
      "text/plain": [
       "         ID\n",
       "Year X     \n",
       "15   0  199\n",
       "     1  100\n",
       "     2  110\n",
       "16   0  228\n",
       "     1   98\n",
       "     2  102\n",
       "17   0  271\n",
       "     1  122\n",
       "     2   84"
      ]
     },
     "execution_count": 3,
     "metadata": {},
     "output_type": "execute_result"
    }
   ],
   "source": [
    "df['Year'] = df['ID']. apply(lambda row : row.split('-')[0] )\n",
    "a = df[['Year', 'X', 'ID']].groupby(['Year', 'X']).count()\n",
    "a"
   ]
  },
  {
   "cell_type": "code",
   "execution_count": 12,
   "metadata": {},
   "outputs": [],
   "source": [
    "plt.style.use('seaborn')"
   ]
  },
  {
   "cell_type": "code",
   "execution_count": 5,
   "metadata": {
    "collapsed": true
   },
   "outputs": [
    {
     "data": {
      "text/plain": [
       "array([<matplotlib.axes._subplots.AxesSubplot object at 0x000001A2F2EB7C18>,\n",
       "       <matplotlib.axes._subplots.AxesSubplot object at 0x000001A2F2FD25F8>,\n",
       "       <matplotlib.axes._subplots.AxesSubplot object at 0x000001A2F2FFBE48>],\n",
       "      dtype=object)"
      ]
     },
     "execution_count": 5,
     "metadata": {},
     "output_type": "execute_result"
    },
    {
     "data": {
      "image/png": "[encoded data removed]",
      "text/plain": [
       "<Figure size 576x396 with 3 Axes>"
      ]
     },
     "metadata": {},
     "output_type": "display_data"
    }
   ],
   "source": [
    "b = a.unstack()\n",
    "b\n",
    "(b.T).plot(kind = 'pie', subplots = True)"
   ]
  },
  {
   "cell_type": "markdown",
   "metadata": {},
   "source": [
    "## 特征的分布规律"
   ]
  },
  {
   "cell_type": "code",
   "execution_count": 14,
   "metadata": {},
   "outputs": [
    {
     "name": "stderr",
     "output_type": "stream",
     "text": [
      "/Library/Frameworks/Python.framework/Versions/3.6/lib/python3.6/site-packages/ipykernel_launcher.py:6: UserWarning: To output multiple subplots, the figure containing the passed axes is being cleared\n",
      "  \n"
     ]
    },
    {
     "data": {
      "text/plain": [
       "array([[<matplotlib.axes._subplots.AxesSubplot object at 0x1200369e8>,\n",
       "        <matplotlib.axes._subplots.AxesSubplot object at 0x120331390>],\n",
       "       [<matplotlib.axes._subplots.AxesSubplot object at 0x12035dd30>,\n",
       "        <matplotlib.axes._subplots.AxesSubplot object at 0x120398710>]],\n",
       "      dtype=object)"
      ]
     },
     "execution_count": 14,
     "metadata": {},
     "output_type": "execute_result"
    },
    {
     "data": {
      "image/png": "[encoded data removed]",
      "text/plain": [
       "<Figure size 576x396 with 4 Axes>"
      ]
     },
     "metadata": {},
     "output_type": "display_data"
    }
   ],
   "source": [
    "#复制除编号以及病状的所有特征\n",
    "plt.style.use('seaborn')\n",
    "features = [x for x in df.columns if x not in['ID', 'X'] ]\n",
    "plt.figure()\n",
    "ax = plt.subplot(111)\n",
    "df.hist(column = features, bins = 20, ax = ax)"
   ]
  },
  {
   "cell_type": "code",
   "execution_count": null,
   "metadata": {},
   "outputs": [],
   "source": []
  },
  {
   "cell_type": "markdown",
   "metadata": {},
   "source": [
    "正相关的特征分布"
   ]
  },
  {
   "cell_type": "code",
   "execution_count": 7,
   "metadata": {},
   "outputs": [
    {
     "data": {
      "text/plain": [
       "array([[<matplotlib.axes._subplots.AxesSubplot object at 0x000001A2F3303A20>,\n",
       "        <matplotlib.axes._subplots.AxesSubplot object at 0x000001A2F3360048>]],\n",
       "      dtype=object)"
      ]
     },
     "execution_count": 7,
     "metadata": {},
     "output_type": "execute_result"
    },
    {
     "data": {
      "image/png": "[encoded data removed]",
      "text/plain": [
       "<Figure size 576x396 with 2 Axes>"
      ]
     },
     "metadata": {},
     "output_type": "display_data"
    }
   ],
   "source": [
    "df.hist(column = ['C-01','P-01'], bins = 20)"
   ]
  },
  {
   "cell_type": "markdown",
   "metadata": {},
   "source": [
    "负相关的特征分布"
   ]
  },
  {
   "cell_type": "code",
   "execution_count": 8,
   "metadata": {},
   "outputs": [
    {
     "data": {
      "text/plain": [
       "array([[<matplotlib.axes._subplots.AxesSubplot object at 0x000001A2F33F9BE0>,\n",
       "        <matplotlib.axes._subplots.AxesSubplot object at 0x000001A2F345E668>]],\n",
       "      dtype=object)"
      ]
     },
     "execution_count": 8,
     "metadata": {},
     "output_type": "execute_result"
    },
    {
     "data": {
      "image/png": "[encoded data removed]",
      "text/plain": [
       "<Figure size 576x396 with 2 Axes>"
      ]
     },
     "metadata": {},
     "output_type": "display_data"
    }
   ],
   "source": [
    "df.hist(column = ['H-12','C-04'], bins = 20)"
   ]
  },
  {
   "cell_type": "markdown",
   "metadata": {},
   "source": [
    "## 数据的正态化变换\n",
    "\n"
   ]
  },
  {
   "cell_type": "markdown",
   "metadata": {},
   "source": [
    "C-01的分布图不符合正态性"
   ]
  },
  {
   "cell_type": "code",
   "execution_count": 10,
   "metadata": {},
   "outputs": [
    {
     "data": {
      "text/plain": [
       "<matplotlib.legend.Legend at 0x1a2f4f761d0>"
      ]
     },
     "execution_count": 10,
     "metadata": {},
     "output_type": "execute_result"
    },
    {
     "data": {
      "image/png": "[encoded data removed]",
      "text/plain": [
       "<Figure size 576x396 with 1 Axes>"
      ]
     },
     "metadata": {},
     "output_type": "display_data"
    }
   ],
   "source": [
    "df['C-01'].plot(kind = 'kde', xlim = [0,50], label = 'C-01-old')\n",
    "\n",
    "np.log10(df['C-01']).plot(kind = 'kde', xlim = [0,50], label = 'C-01-new')\n",
    "plt.legend()"
   ]
  },
  {
   "cell_type": "code",
   "execution_count": 11,
   "metadata": {},
   "outputs": [
    {
     "data": {
      "text/plain": [
       "<matplotlib.axes._subplots.AxesSubplot at 0x1a2f4fe97b8>"
      ]
     },
     "execution_count": 11,
     "metadata": {},
     "output_type": "execute_result"
    },
    {
     "data": {
      "image/png": "[encoded data removed]",
      "text/plain": [
       "<Figure size 576x396 with 1 Axes>"
      ]
     },
     "metadata": {},
     "output_type": "display_data"
    }
   ],
   "source": [
    "np.log10(df['C-01']).hist(bins = 25)"
   ]
  },
  {
   "cell_type": "markdown",
   "metadata": {},
   "source": [
    "# 数据的浓缩\n",
    "\n",
    "五数概括法：  \n",
    "最小值、最大值、中位数、上四分位数、下四分位数"
   ]
  },
  {
   "cell_type": "code",
   "execution_count": 15,
   "metadata": {},
   "outputs": [
    {
     "name": "stdout",
     "output_type": "stream",
     "text": [
      "数据的概况总览\n"
     ]
    },
    {
     "data": {
      "text/html": [
       "<div>\n",
       "<style scoped>\n",
       "    .dataframe tbody tr th:only-of-type {\n",
       "        vertical-align: middle;\n",
       "    }\n",
       "\n",
       "    .dataframe tbody tr th {\n",
       "        vertical-align: top;\n",
       "    }\n",
       "\n",
       "    .dataframe thead th {\n",
       "        text-align: right;\n",
       "    }\n",
       "</style>\n",
       "<table border=\"1\" class=\"dataframe\">\n",
       "  <thead>\n",
       "    <tr style=\"text-align: right;\">\n",
       "      <th></th>\n",
       "      <th>X</th>\n",
       "      <th>H-12</th>\n",
       "      <th>P-01</th>\n",
       "      <th>C-01</th>\n",
       "      <th>C-04</th>\n",
       "    </tr>\n",
       "  </thead>\n",
       "  <tbody>\n",
       "    <tr>\n",
       "      <th>count</th>\n",
       "      <td>7212.000000</td>\n",
       "      <td>7202.000000</td>\n",
       "      <td>7195.000000</td>\n",
       "      <td>7202.000000</td>\n",
       "      <td>7202.000000</td>\n",
       "    </tr>\n",
       "    <tr>\n",
       "      <th>mean</th>\n",
       "      <td>0.688436</td>\n",
       "      <td>160.104277</td>\n",
       "      <td>11.840347</td>\n",
       "      <td>15.461261</td>\n",
       "      <td>41.719592</td>\n",
       "    </tr>\n",
       "    <tr>\n",
       "      <th>std</th>\n",
       "      <td>0.811350</td>\n",
       "      <td>69.618879</td>\n",
       "      <td>1.086943</td>\n",
       "      <td>10.948117</td>\n",
       "      <td>3.799057</td>\n",
       "    </tr>\n",
       "    <tr>\n",
       "      <th>min</th>\n",
       "      <td>0.000000</td>\n",
       "      <td>3.000000</td>\n",
       "      <td>9.100000</td>\n",
       "      <td>2.400000</td>\n",
       "      <td>21.300000</td>\n",
       "    </tr>\n",
       "    <tr>\n",
       "      <th>25%</th>\n",
       "      <td>0.000000</td>\n",
       "      <td>112.000000</td>\n",
       "      <td>11.100000</td>\n",
       "      <td>10.700000</td>\n",
       "      <td>39.400000</td>\n",
       "    </tr>\n",
       "    <tr>\n",
       "      <th>50%</th>\n",
       "      <td>0.000000</td>\n",
       "      <td>153.000000</td>\n",
       "      <td>11.700000</td>\n",
       "      <td>13.900000</td>\n",
       "      <td>41.900000</td>\n",
       "    </tr>\n",
       "    <tr>\n",
       "      <th>75%</th>\n",
       "      <td>1.000000</td>\n",
       "      <td>197.000000</td>\n",
       "      <td>12.400000</td>\n",
       "      <td>18.100000</td>\n",
       "      <td>44.200000</td>\n",
       "    </tr>\n",
       "    <tr>\n",
       "      <th>max</th>\n",
       "      <td>2.000000</td>\n",
       "      <td>770.000000</td>\n",
       "      <td>22.200000</td>\n",
       "      <td>300.300000</td>\n",
       "      <td>53.900000</td>\n",
       "    </tr>\n",
       "  </tbody>\n",
       "</table>\n",
       "</div>"
      ],
      "text/plain": [
       "                 X         H-12         P-01         C-01         C-04\n",
       "count  7212.000000  7202.000000  7195.000000  7202.000000  7202.000000\n",
       "mean      0.688436   160.104277    11.840347    15.461261    41.719592\n",
       "std       0.811350    69.618879     1.086943    10.948117     3.799057\n",
       "min       0.000000     3.000000     9.100000     2.400000    21.300000\n",
       "25%       0.000000   112.000000    11.100000    10.700000    39.400000\n",
       "50%       0.000000   153.000000    11.700000    13.900000    41.900000\n",
       "75%       1.000000   197.000000    12.400000    18.100000    44.200000\n",
       "max       2.000000   770.000000    22.200000   300.300000    53.900000"
      ]
     },
     "execution_count": 15,
     "metadata": {},
     "output_type": "execute_result"
    }
   ],
   "source": [
    "print('数据的概况总览')\n",
    "df.describe()"
   ]
  },
  {
   "cell_type": "markdown",
   "metadata": {},
   "source": [
    "## 样本的矩\n",
    "\n",
    "\n",
    "1阶原点矩——数学期望、均值  \n",
    "2阶中心矩——方差  \n",
    "3阶中心矩——偏度系数  \n",
    "4阶中心矩——峰度系数"
   ]
  },
  {
   "cell_type": "code",
   "execution_count": 49,
   "metadata": {},
   "outputs": [
    {
     "data": {
      "text/plain": [
       "count    1289.000000\n",
       "mean       13.467029\n",
       "std        17.657283\n",
       "min         0.000000\n",
       "25%         0.000000\n",
       "50%         4.800000\n",
       "75%        22.400000\n",
       "max        82.700000\n",
       "Name: T-05, dtype: float64"
      ]
     },
     "execution_count": 49,
     "metadata": {},
     "output_type": "execute_result"
    }
   ],
   "source": [
    "df['C-04'].describe()"
   ]
  },
  {
   "cell_type": "code",
   "execution_count": 13,
   "metadata": {},
   "outputs": [
    {
     "name": "stdout",
     "output_type": "stream",
     "text": [
      "以特征C-04为例：\n",
      "均值 =  41.86468797564688\n",
      "方差 =  13.42132636867481\n",
      "偏度 =  -0.3685360586476185\n",
      "峰度 =  0.6131902463656678\n"
     ]
    }
   ],
   "source": [
    "print('以特征C-04为例：')\n",
    "print('均值 = ', df['C-04'].mean())\n",
    "print('方差 = ', df['C-04'].var())\n",
    "print('偏度 = ', df['C-04'].skew())\n",
    "print('峰度 = ', df['C-04'].kurt())"
   ]
  },
  {
   "cell_type": "markdown",
   "metadata": {},
   "source": [
    "## 箱型图和异常值"
   ]
  },
  {
   "cell_type": "code",
   "execution_count": 27,
   "metadata": {},
   "outputs": [],
   "source": [
    "import seaborn as sns"
   ]
  },
  {
   "cell_type": "markdown",
   "metadata": {},
   "source": [
    "使用seaborn的箱线图展示"
   ]
  },
  {
   "cell_type": "code",
   "execution_count": 28,
   "metadata": {},
   "outputs": [
    {
     "name": "stdout",
     "output_type": "stream",
     "text": [
      "同样以C-04为例，看各分类的箱型图：\n"
     ]
    },
    {
     "data": {
      "image/png": "[encoded data removed]",
      "text/plain": [
       "<Figure size 432x288 with 1 Axes>"
      ]
     },
     "metadata": {
      "needs_background": "light"
     },
     "output_type": "display_data"
    }
   ],
   "source": [
    "sns.boxplot(x = 'X', y = 'C-04', data = df)\n",
    "print('同样以C-04为例，看各分类的箱型图：')"
   ]
  },
  {
   "cell_type": "markdown",
   "metadata": {},
   "source": [
    "异常值分析：  \n",
    "1) 大于Q3+1.5*IQR或小于Q1-1.5IQR的值，其中IQR为四分位距  \n",
    "2) 3西格玛原则，数值分布在（μ—3σ,μ+3σ)中的概率为0.9974 "
   ]
  },
  {
   "cell_type": "markdown",
   "metadata": {},
   "source": [
    "## 数据相关性"
   ]
  },
  {
   "cell_type": "code",
   "execution_count": 17,
   "metadata": {},
   "outputs": [
    {
     "data": {
      "text/plain": [
       "<matplotlib.axes._subplots.AxesSubplot at 0x1a2f537b1d0>"
      ]
     },
     "execution_count": 17,
     "metadata": {},
     "output_type": "execute_result"
    },
    {
     "data": {
      "image/png": "[encoded data removed]",
      "text/plain": [
       "<Figure size 576x396 with 1 Axes>"
      ]
     },
     "metadata": {},
     "output_type": "display_data"
    }
   ],
   "source": [
    "df[['X', 'C-04']].plot(x = 'X', y = 'C-04', kind = 'scatter')\n"
   ]
  },
  {
   "cell_type": "code",
   "execution_count": 19,
   "metadata": {},
   "outputs": [
    {
     "data": {
      "text/plain": [
       "<matplotlib.axes._subplots.AxesSubplot at 0x1a2f58a1e10>"
      ]
     },
     "execution_count": 19,
     "metadata": {},
     "output_type": "execute_result"
    },
    {
     "data": {
      "image/png": "[encoded data removed]",
      "text/plain": [
       "<Figure size 576x396 with 1 Axes>"
      ]
     },
     "metadata": {},
     "output_type": "display_data"
    }
   ],
   "source": [
    "df[['X','H-12']].plot(x = 'X', y = 'H-12', kind = 'scatter')"
   ]
  },
  {
   "cell_type": "code",
   "execution_count": 20,
   "metadata": {},
   "outputs": [
    {
     "data": {
      "text/plain": [
       "<matplotlib.axes._subplots.AxesSubplot at 0x1a2f59fa550>"
      ]
     },
     "execution_count": 20,
     "metadata": {},
     "output_type": "execute_result"
    },
    {
     "data": {
      "image/png": "[encoded data removed]",
      "text/plain": [
       "<Figure size 576x396 with 1 Axes>"
      ]
     },
     "metadata": {},
     "output_type": "display_data"
    }
   ],
   "source": [
    "df[['X','P-01']].plot(x = 'X', y = 'P-01', kind = 'scatter')"
   ]
  },
  {
   "cell_type": "code",
   "execution_count": 28,
   "metadata": {},
   "outputs": [
    {
     "data": {
      "text/plain": [
       "<matplotlib.axes._subplots.AxesSubplot at 0x1a2f52e7438>"
      ]
     },
     "execution_count": 28,
     "metadata": {},
     "output_type": "execute_result"
    },
    {
     "data": {
      "image/png": "[encoded data removed]",
      "text/plain": [
       "<Figure size 576x396 with 1 Axes>"
      ]
     },
     "metadata": {},
     "output_type": "display_data"
    }
   ],
   "source": [
    "df[['C-01', 'P-01']].plot(x='C-01', y='P-01', c=df['X'], kind='scatter')\n"
   ]
  },
  {
   "cell_type": "code",
   "execution_count": 29,
   "metadata": {},
   "outputs": [
    {
     "data": {
      "text/plain": [
       "<matplotlib.axes._subplots.AxesSubplot at 0x1a2f52c1390>"
      ]
     },
     "execution_count": 29,
     "metadata": {},
     "output_type": "execute_result"
    },
    {
     "data": {
      "image/png": "[encoded data removed]",
      "text/plain": [
       "<Figure size 576x396 with 1 Axes>"
      ]
     },
     "metadata": {},
     "output_type": "display_data"
    }
   ],
   "source": [
    "df[['C-01', 'C-04']].plot(x='C-01', y='C-04', c=df['X'], kind='scatter')\n"
   ]
  },
  {
   "cell_type": "code",
   "execution_count": 31,
   "metadata": {},
   "outputs": [
    {
     "data": {
      "text/plain": [
       "<matplotlib.axes._subplots.AxesSubplot at 0x1a2f6c12630>"
      ]
     },
     "execution_count": 31,
     "metadata": {},
     "output_type": "execute_result"
    },
    {
     "data": {
      "image/png": "[encoded data removed]",
      "text/plain": [
       "<Figure size 576x396 with 1 Axes>"
      ]
     },
     "metadata": {},
     "output_type": "display_data"
    }
   ],
   "source": [
    "df[['H-12', 'C-01']].plot(x='H-12', y='C-01', c=df['X'], kind='scatter')"
   ]
  },
  {
   "cell_type": "markdown",
   "metadata": {},
   "source": [
    "## 相关系数矩阵"
   ]
  },
  {
   "cell_type": "code",
   "execution_count": 32,
   "metadata": {},
   "outputs": [
    {
     "data": {
      "text/plain": [
       "0       1\n",
       "1       2\n",
       "2       1\n",
       "3       2\n",
       "4       1\n",
       "5       0\n",
       "6       2\n",
       "7       2\n",
       "8       1\n",
       "9       1\n",
       "10      1\n",
       "11      1\n",
       "12      1\n",
       "13      0\n",
       "14      0\n",
       "15      0\n",
       "16      2\n",
       "17      1\n",
       "18      1\n",
       "19      1\n",
       "20      0\n",
       "21      2\n",
       "22      1\n",
       "23      1\n",
       "24      0\n",
       "25      2\n",
       "26      2\n",
       "27      1\n",
       "28      1\n",
       "29      1\n",
       "       ..\n",
       "1284    2\n",
       "1285    2\n",
       "1286    2\n",
       "1287    2\n",
       "1288    1\n",
       "1289    2\n",
       "1290    1\n",
       "1291    0\n",
       "1292    1\n",
       "1293    1\n",
       "1294    1\n",
       "1295    2\n",
       "1296    2\n",
       "1297    1\n",
       "1298    0\n",
       "1299    1\n",
       "1300    0\n",
       "1301    1\n",
       "1302    0\n",
       "1303    2\n",
       "1304    1\n",
       "1305    1\n",
       "1306    1\n",
       "1307    2\n",
       "1308    1\n",
       "1309    1\n",
       "1310    0\n",
       "1311    1\n",
       "1312    1\n",
       "1313    1\n",
       "Name: C-04-new, Length: 1314, dtype: int64"
      ]
     },
     "execution_count": 32,
     "metadata": {},
     "output_type": "execute_result"
    }
   ],
   "source": [
    "def process(x):\n",
    "    if 0<= x <= 38:\n",
    "        return 0\n",
    "    elif 38< x < 45:\n",
    "        return 1\n",
    "    else:\n",
    "        return 2\n",
    "df['C-04-new'] = df['C-04'].apply(lambda x : process(x))\n",
    "df['C-04-new']"
   ]
  },
  {
   "cell_type": "markdown",
   "metadata": {},
   "source": [
    "皮尔逊相关系数：\n",
    "    值域为[-1,1], 1表示完全正相关， -1表示完全负相关，0表示无关， 绝对值越大表明相关性越强"
   ]
  },
  {
   "cell_type": "code",
   "execution_count": 35,
   "metadata": {},
   "outputs": [
    {
     "data": {
      "text/html": [
       "<div>\n",
       "<style scoped>\n",
       "    .dataframe tbody tr th:only-of-type {\n",
       "        vertical-align: middle;\n",
       "    }\n",
       "\n",
       "    .dataframe tbody tr th {\n",
       "        vertical-align: top;\n",
       "    }\n",
       "\n",
       "    .dataframe thead th {\n",
       "        text-align: right;\n",
       "    }\n",
       "</style>\n",
       "<table border=\"1\" class=\"dataframe\">\n",
       "  <thead>\n",
       "    <tr style=\"text-align: right;\">\n",
       "      <th></th>\n",
       "      <th>X</th>\n",
       "      <th>C-04-new</th>\n",
       "    </tr>\n",
       "  </thead>\n",
       "  <tbody>\n",
       "    <tr>\n",
       "      <th>X</th>\n",
       "      <td>1.000000</td>\n",
       "      <td>-0.108772</td>\n",
       "    </tr>\n",
       "    <tr>\n",
       "      <th>C-04-new</th>\n",
       "      <td>-0.108772</td>\n",
       "      <td>1.000000</td>\n",
       "    </tr>\n",
       "  </tbody>\n",
       "</table>\n",
       "</div>"
      ],
      "text/plain": [
       "                 X  C-04-new\n",
       "X         1.000000 -0.108772\n",
       "C-04-new -0.108772  1.000000"
      ]
     },
     "execution_count": 35,
     "metadata": {},
     "output_type": "execute_result"
    }
   ],
   "source": [
    "df[['X','C-04-new']].corr(method = 'spearman')"
   ]
  },
  {
   "cell_type": "code",
   "execution_count": 18,
   "metadata": {},
   "outputs": [
    {
     "data": {
      "text/plain": [
       "X       1.000000\n",
       "C-04    0.056981\n",
       "H-12    0.049242\n",
       "P-01    0.034999\n",
       "C-01    0.033094\n",
       "Name: X, dtype: float64"
      ]
     },
     "execution_count": 18,
     "metadata": {},
     "output_type": "execute_result"
    }
   ],
   "source": [
    "corr_mat = df.corr(method = 'pearson')\n",
    "corr_mat['X'].abs().sort_values(ascending = False) #得到性别与其他特征的相关系数  倒序"
   ]
  },
  {
   "cell_type": "markdown",
   "metadata": {},
   "source": [
    "# 预处理和降维\n",
    "\n",
    "## 异常值的处理\n",
    "\n",
    "### 缺失值处理"
   ]
  },
  {
   "cell_type": "code",
   "execution_count": 37,
   "metadata": {},
   "outputs": [
    {
     "name": "stdout",
     "output_type": "stream",
     "text": [
      "观察缺失值的比例，以决定采用填补还是丢弃\n"
     ]
    },
    {
     "data": {
      "text/html": [
       "<div>\n",
       "<style scoped>\n",
       "    .dataframe tbody tr th:only-of-type {\n",
       "        vertical-align: middle;\n",
       "    }\n",
       "\n",
       "    .dataframe tbody tr th {\n",
       "        vertical-align: top;\n",
       "    }\n",
       "\n",
       "    .dataframe thead th {\n",
       "        text-align: right;\n",
       "    }\n",
       "</style>\n",
       "<table border=\"1\" class=\"dataframe\">\n",
       "  <thead>\n",
       "    <tr style=\"text-align: right;\">\n",
       "      <th></th>\n",
       "      <th>ID</th>\n",
       "      <th>X</th>\n",
       "      <th>H-12</th>\n",
       "      <th>P-01</th>\n",
       "      <th>C-01</th>\n",
       "      <th>C-04</th>\n",
       "      <th>Year</th>\n",
       "      <th>C-04-new</th>\n",
       "    </tr>\n",
       "  </thead>\n",
       "  <tbody>\n",
       "    <tr>\n",
       "      <th>count</th>\n",
       "      <td>1314</td>\n",
       "      <td>1314</td>\n",
       "      <td>1314</td>\n",
       "      <td>1314</td>\n",
       "      <td>1314</td>\n",
       "      <td>1314</td>\n",
       "      <td>1314</td>\n",
       "      <td>1314</td>\n",
       "    </tr>\n",
       "    <tr>\n",
       "      <th>unique</th>\n",
       "      <td>1</td>\n",
       "      <td>1</td>\n",
       "      <td>1</td>\n",
       "      <td>2</td>\n",
       "      <td>1</td>\n",
       "      <td>1</td>\n",
       "      <td>1</td>\n",
       "      <td>1</td>\n",
       "    </tr>\n",
       "    <tr>\n",
       "      <th>top</th>\n",
       "      <td>False</td>\n",
       "      <td>False</td>\n",
       "      <td>False</td>\n",
       "      <td>False</td>\n",
       "      <td>False</td>\n",
       "      <td>False</td>\n",
       "      <td>False</td>\n",
       "      <td>False</td>\n",
       "    </tr>\n",
       "    <tr>\n",
       "      <th>freq</th>\n",
       "      <td>1314</td>\n",
       "      <td>1314</td>\n",
       "      <td>1314</td>\n",
       "      <td>1313</td>\n",
       "      <td>1314</td>\n",
       "      <td>1314</td>\n",
       "      <td>1314</td>\n",
       "      <td>1314</td>\n",
       "    </tr>\n",
       "  </tbody>\n",
       "</table>\n",
       "</div>"
      ],
      "text/plain": [
       "           ID      X   H-12   P-01   C-01   C-04   Year C-04-new\n",
       "count    1314   1314   1314   1314   1314   1314   1314     1314\n",
       "unique      1      1      1      2      1      1      1        1\n",
       "top     False  False  False  False  False  False  False    False\n",
       "freq     1314   1314   1314   1313   1314   1314   1314     1314"
      ]
     },
     "execution_count": 37,
     "metadata": {},
     "output_type": "execute_result"
    }
   ],
   "source": [
    "print(\"观察缺失值的比例，以决定采用填补还是丢弃\")\n",
    "df.isnull().describe()"
   ]
  },
  {
   "cell_type": "markdown",
   "metadata": {},
   "source": [
    "这里直接删除包含缺失的样本  \n",
    "实际应用中可能需要适合的fill none算法  "
   ]
  },
  {
   "cell_type": "code",
   "execution_count": 38,
   "metadata": {},
   "outputs": [
    {
     "name": "stdout",
     "output_type": "stream",
     "text": [
      "剩余样本： (1313, 8)\n"
     ]
    }
   ],
   "source": [
    "df.dropna(inplace = True) #数据清洗\n",
    "print('剩余样本：', df.shape)"
   ]
  },
  {
   "cell_type": "markdown",
   "metadata": {},
   "source": [
    "## 离群点处理\n",
    "\n",
    "这里直接用3西格玛原则删除了异常的年龄  \n",
    "实际应用中需要适合的outlier detect算法"
   ]
  },
  {
   "cell_type": "markdown",
   "metadata": {},
   "source": [
    "3西格玛原则：|采样点与均值的差| > 3倍标准差 --》 则剔除\n",
    "变形为：\n",
    "     Xi< X - 3σ or  Xi > X + 3σ"
   ]
  },
  {
   "cell_type": "code",
   "execution_count": 39,
   "metadata": {},
   "outputs": [
    {
     "name": "stdout",
     "output_type": "stream",
     "text": [
      "处理特征H-12, 剩余样本：1293\n",
      "处理特征P-01, 剩余样本：1276\n",
      "处理特征C-01, 剩余样本：1269\n",
      "处理特征C-04, 剩余样本：1261\n",
      "处理特征C-04-new, 剩余样本：1261\n"
     ]
    }
   ],
   "source": [
    "df.drop(columns = ['Year'], inplace = True)\n",
    "cols = df.columns\n",
    "for i in range(2,df.shape[1]):\n",
    "    up_bound = df[cols[i]].mean() + 3*df[cols[i]].std()\n",
    "    low_bound = df[cols[i]].mean() - 3*df[cols[i]].std()\n",
    "    df = df[(df[cols[i]]<=up_bound) & (df[cols[i]]>=low_bound)]\n",
    "    print(\"处理特征%s, 剩余样本：%d\" % (cols[i],df.shape[0]))"
   ]
  },
  {
   "cell_type": "markdown",
   "metadata": {},
   "source": [
    "## 数据降维\n",
    "\n",
    "### 主成分分析\n",
    "\n",
    "#### to maximize Var(c1X1 + c2X2 + c3X3 + ...) 其中 c1^2 + c2^2 +....+ cp^2 = 1"
   ]
  },
  {
   "cell_type": "markdown",
   "metadata": {},
   "source": [
    "PCA算法流程：  \n",
    "1) 0均值化：将X的每一维数据分别减去其平均值，即 X=X-Mean（X）  \n",
    "2) 协方差矩阵：协方差矩阵C可以描述m维属性之间的相关关系，即 C=(X'X)/m  \n",
    "3) 数据降维：协方差矩阵C是m*m阶，选取的特征向量矩阵P是m*k阶。通过 Y=XP 即得到投影后的k维样本。"
   ]
  },
  {
   "cell_type": "code",
   "execution_count": 20,
   "metadata": {},
   "outputs": [
    {
     "name": "stdout",
     "output_type": "stream",
     "text": [
      "[9.72973004e-01 2.39119310e-02 2.91894790e-03 1.96117428e-04]\n",
      "[4.84089799e+03 1.18970638e+02 1.45228377e+01 9.75756221e-01]\n"
     ]
    }
   ],
   "source": [
    "from sklearn.decomposition import PCA\n",
    "# 直接调包实现了，手写也不复杂\n",
    "features = [i for i in df.columns if i not in ['ID', 'X', 'Year']]  #feature中去除了 'ID', 'X', 'Year'\n",
    "X, y = df[features], df['X']\n",
    "#PCA算法所要保留下来的主成分个数\n",
    "pca = PCA(n_components=4)\n",
    "pca.fit(X)\n",
    "#降维后 各主成分的方差值 \n",
    "print(pca.explained_variance_ratio_)\n",
    "#返回各主成分的方差百分比(贡献率)\n",
    "print(pca.explained_variance_)"
   ]
  },
  {
   "cell_type": "code",
   "execution_count": 21,
   "metadata": {},
   "outputs": [
    {
     "data": {
      "image/png": "[encoded data removed]",
      "text/plain": [
       "<Figure size 576x396 with 1 Axes>"
      ]
     },
     "metadata": {},
     "output_type": "display_data"
    }
   ],
   "source": [
    "# n_component PCA算法中要保留的成分个数\n",
    "pca = PCA(n_components=2)\n",
    "#训练模型  用数据X来训练\n",
    "pca.fit(X)\n",
    "#返回降维后的数据\n",
    "X_new = pca.transform(X)\n",
    "#画出散点图\n",
    "plt.scatter(X_new[:, 0], X_new[:, 1], c=y, marker='o')  # y = 0 /1 /2\n",
    "plt.show()"
   ]
  },
  {
   "cell_type": "markdown",
   "metadata": {},
   "source": [
    "# 参数检测和方差分析"
   ]
  },
  {
   "cell_type": "code",
   "execution_count": 42,
   "metadata": {},
   "outputs": [],
   "source": [
    "from scipy.stats.mstats import kruskalwallis\n",
    "import scipy.stats as stats\n",
    "import numpy as np\n",
    "import scipy as sp\n",
    "\n",
    "#啥叫显著性差异\n",
    "# p>0.05 表示差异不显著\n",
    "# 0.01 < p < 0.05 表示差异性显著\n",
    "# p< 0.01 表示差异性极显著\n",
    "\n",
    "#三组非正太分布数据检验\n",
    "def Kruskawallis_test(list1, list2, list3):\n",
    "    # Perform the Kruskal-Wallis test,返回True表示有显著差异，返回False表示无显著差异\n",
    "    print(\"Use kruskawallis test:\")\n",
    "     \n",
    "    h, p = kruskalwallis(list1, list2, list3)\n",
    "    print(\"H value:\",h)\n",
    "    print(\"p value:\",p)\n",
    "      \n",
    "    # Print the results\n",
    "    if p<0.05:\n",
    "        print('There is a significant difference.')\n",
    "        return True\n",
    "    else:\n",
    "        print('No significant difference.')\n",
    "        return False\n",
    "\n",
    "#两组非正态分布数据检验   有关于统计学的知识\n",
    "def Mannwhitneyu(group1, group2):   \n",
    "    #以下处理sp版本问题 \n",
    "    if np.int(sp.__version__.split('.')[1]) > 16:\n",
    "        u, p_value = stats.mannwhitneyu(group1, group2, alternative='two-sided')\n",
    "    else:\n",
    "        u, p_value = stats.mannwhitneyu(group1, group2, use_continuity=True)\n",
    "        p_value *= 2    # because the default was a one-sided p-value\n",
    "    print((\"Mann-Whitney test\", p_value))\n",
    "    if p_value<0.05:\n",
    "        print(\"there is significant difference\")\n",
    "    else:\n",
    "        print(\"there is no significant difference\")"
   ]
  },
  {
   "cell_type": "markdown",
   "metadata": {},
   "source": [
    "## 单因素方差分析"
   ]
  },
  {
   "cell_type": "code",
   "execution_count": 14,
   "metadata": {},
   "outputs": [
    {
     "name": "stdout",
     "output_type": "stream",
     "text": [
      "Ttest_indResult(statistic=-8.119339385238147, pvalue=1.1398953086689947e-15)\n",
      "('Mann-Whitney test', 3.3458328186518683e-15)\n",
      "there is significant difference\n",
      "None\n"
     ]
    }
   ],
   "source": [
    "\"\"\"\n",
    "#检验C-04和患病是否有关\n",
    "list_1 = df[df['C-04'] == 1]['X'].tolist()\n",
    "list_2 = df[df['C-04'] == 2]['X'].tolist()\n",
    "\n",
    "#独立T检验\n",
    "print(stats.ttest_ind(list_1, list_2))\n",
    "\n",
    "#Mannwhitneyu 检验\n",
    "print(Mannwhitneyu(list_1, list_2))\n",
    "\"\"\""
   ]
  },
  {
   "cell_type": "markdown",
   "metadata": {},
   "source": [
    "结果说明，T-06和患病与否有显著性相关"
   ]
  },
  {
   "cell_type": "markdown",
   "metadata": {},
   "source": [
    "## 多因素方差分析"
   ]
  },
  {
   "cell_type": "markdown",
   "metadata": {},
   "source": [
    "连续型的属性，需要采样后进行多因子的方差分析  \n",
    "例如C-04，可以分成多段bins与其他因素结合 "
   ]
  },
  {
   "cell_type": "code",
   "execution_count": 44,
   "metadata": {},
   "outputs": [
    {
     "data": {
      "text/plain": [
       "0    1\n",
       "1    2\n",
       "2    1\n",
       "3    2\n",
       "4    1\n",
       "Name: C-04-new, dtype: int64"
      ]
     },
     "execution_count": 44,
     "metadata": {},
     "output_type": "execute_result"
    }
   ],
   "source": [
    "\"\"\"\n",
    "def process(x):\n",
    "    if 0<= x <=30:\n",
    "        return 0\n",
    "    elif 30< x< 60:\n",
    "        return 1\n",
    "    else:\n",
    "        return 2\n",
    "\"\"\"\n",
    "df.drop(columns = ['C-04-new'], inplace = True)\n",
    "df['C-04-new'] = df['C-04'].apply(lambda x : process(x))\n",
    "df['C-04-new'].head()"
   ]
  },
  {
   "cell_type": "code",
   "execution_count": 45,
   "metadata": {},
   "outputs": [
    {
     "name": "stdout",
     "output_type": "stream",
     "text": [
      "Use kruskawallis test:\n",
      "H value: 20.23337159265936\n",
      "p value: 4.0399797057876315e-05\n",
      "There is a significant difference.\n"
     ]
    },
    {
     "data": {
      "text/plain": [
       "True"
      ]
     },
     "execution_count": 45,
     "metadata": {},
     "output_type": "execute_result"
    }
   ],
   "source": [
    "list_C04_0 = df[df['C-04-new']==0]['X'].tolist()\n",
    "list_C04_1 = df[df['C-04-new']==1]['X'].tolist()\n",
    "list_C04_2 = df[df['C-04-new']==2]['X'].tolist()\n",
    "list_group = [list_C04_0, list_C04_1, list_C04_2]\n",
    "\n",
    "#Kruskawallis_test  三组非正太分布数据检验\n",
    "Kruskawallis_test(list_C04_0, list_C04_1, list_C04_2)"
   ]
  },
  {
   "cell_type": "markdown",
   "metadata": {},
   "source": [
    "结果说明，T-05和患病与否具有显著相关"
   ]
  },
  {
   "cell_type": "markdown",
   "metadata": {},
   "source": [
    "# 完整的处理流程"
   ]
  },
  {
   "cell_type": "markdown",
   "metadata": {},
   "source": [
    "## 数据分析\n",
    "\n",
    "## 数据清洗"
   ]
  },
  {
   "cell_type": "markdown",
   "metadata": {},
   "source": [
    "### 删除缺失> 15%的列"
   ]
  },
  {
   "cell_type": "code",
   "execution_count": 46,
   "metadata": {},
   "outputs": [
    {
     "data": {
      "text/html": [
       "<div>\n",
       "<style scoped>\n",
       "    .dataframe tbody tr th:only-of-type {\n",
       "        vertical-align: middle;\n",
       "    }\n",
       "\n",
       "    .dataframe tbody tr th {\n",
       "        vertical-align: top;\n",
       "    }\n",
       "\n",
       "    .dataframe thead th {\n",
       "        text-align: right;\n",
       "    }\n",
       "</style>\n",
       "<table border=\"1\" class=\"dataframe\">\n",
       "  <thead>\n",
       "    <tr style=\"text-align: right;\">\n",
       "      <th></th>\n",
       "      <th>ID</th>\n",
       "      <th>X</th>\n",
       "      <th>H-12</th>\n",
       "      <th>P-01</th>\n",
       "      <th>C-01</th>\n",
       "      <th>C-04</th>\n",
       "      <th>C-04-new</th>\n",
       "    </tr>\n",
       "  </thead>\n",
       "  <tbody>\n",
       "    <tr>\n",
       "      <th>count</th>\n",
       "      <td>1261</td>\n",
       "      <td>1261</td>\n",
       "      <td>1261</td>\n",
       "      <td>1261</td>\n",
       "      <td>1261</td>\n",
       "      <td>1261</td>\n",
       "      <td>1261</td>\n",
       "    </tr>\n",
       "    <tr>\n",
       "      <th>unique</th>\n",
       "      <td>1</td>\n",
       "      <td>1</td>\n",
       "      <td>1</td>\n",
       "      <td>1</td>\n",
       "      <td>1</td>\n",
       "      <td>1</td>\n",
       "      <td>1</td>\n",
       "    </tr>\n",
       "    <tr>\n",
       "      <th>top</th>\n",
       "      <td>False</td>\n",
       "      <td>False</td>\n",
       "      <td>False</td>\n",
       "      <td>False</td>\n",
       "      <td>False</td>\n",
       "      <td>False</td>\n",
       "      <td>False</td>\n",
       "    </tr>\n",
       "    <tr>\n",
       "      <th>freq</th>\n",
       "      <td>1261</td>\n",
       "      <td>1261</td>\n",
       "      <td>1261</td>\n",
       "      <td>1261</td>\n",
       "      <td>1261</td>\n",
       "      <td>1261</td>\n",
       "      <td>1261</td>\n",
       "    </tr>\n",
       "  </tbody>\n",
       "</table>\n",
       "</div>"
      ],
      "text/plain": [
       "           ID      X   H-12   P-01   C-01   C-04 C-04-new\n",
       "count    1261   1261   1261   1261   1261   1261     1261\n",
       "unique      1      1      1      1      1      1        1\n",
       "top     False  False  False  False  False  False    False\n",
       "freq     1261   1261   1261   1261   1261   1261     1261"
      ]
     },
     "execution_count": 46,
     "metadata": {},
     "output_type": "execute_result"
    }
   ],
   "source": [
    "isnull_df = df.isnull().describe()\n",
    "isnull_df"
   ]
  },
  {
   "cell_type": "code",
   "execution_count": 26,
   "metadata": {},
   "outputs": [
    {
     "data": {
      "text/html": [
       "<div>\n",
       "<style scoped>\n",
       "    .dataframe tbody tr th:only-of-type {\n",
       "        vertical-align: middle;\n",
       "    }\n",
       "\n",
       "    .dataframe tbody tr th {\n",
       "        vertical-align: top;\n",
       "    }\n",
       "\n",
       "    .dataframe thead th {\n",
       "        text-align: right;\n",
       "    }\n",
       "</style>\n",
       "<table border=\"1\" class=\"dataframe\">\n",
       "  <thead>\n",
       "    <tr style=\"text-align: right;\">\n",
       "      <th></th>\n",
       "    </tr>\n",
       "  </thead>\n",
       "  <tbody>\n",
       "    <tr>\n",
       "      <th>count</th>\n",
       "    </tr>\n",
       "    <tr>\n",
       "      <th>unique</th>\n",
       "    </tr>\n",
       "    <tr>\n",
       "      <th>top</th>\n",
       "    </tr>\n",
       "    <tr>\n",
       "      <th>freq</th>\n",
       "    </tr>\n",
       "  </tbody>\n",
       "</table>\n",
       "</div>"
      ],
      "text/plain": [
       "Empty DataFrame\n",
       "Columns: []\n",
       "Index: [count, unique, top, freq]"
      ]
     },
     "execution_count": 26,
     "metadata": {},
     "output_type": "execute_result"
    }
   ],
   "source": [
    "isnull_df.loc[:, isnull_df.loc['freq'] < isnull_df.loc['count']*0.85]"
   ]
  },
  {
   "cell_type": "code",
   "execution_count": 27,
   "metadata": {},
   "outputs": [],
   "source": [
    "#删除缺失值比例大于0.85的列\n",
    "#df.drop(columns = [ ''] ,inplace = True)\n",
    "#df.head()"
   ]
  },
  {
   "cell_type": "markdown",
   "metadata": {},
   "source": [
    "### 删除相关性<0.01的列"
   ]
  },
  {
   "cell_type": "code",
   "execution_count": 47,
   "metadata": {},
   "outputs": [
    {
     "data": {
      "text/plain": [
       "X           1.000000\n",
       "C-04        0.129565\n",
       "C-04-new    0.124240\n",
       "H-12        0.067840\n",
       "P-01        0.032611\n",
       "C-01        0.019646\n",
       "Name: X, dtype: float64"
      ]
     },
     "execution_count": 47,
     "metadata": {},
     "output_type": "execute_result"
    }
   ],
   "source": [
    "corr_mat = df.corr(method = 'pearson')\n",
    "corr_mat['X'].abs().sort_values(ascending = False)"
   ]
  },
  {
   "cell_type": "code",
   "execution_count": 48,
   "metadata": {},
   "outputs": [
    {
     "name": "stdout",
     "output_type": "stream",
     "text": [
      "Index([], dtype='object')\n"
     ]
    }
   ],
   "source": [
    "corr = corr_mat['X'].abs()\n",
    "print(corr[corr < 0.01].index)"
   ]
  },
  {
   "cell_type": "code",
   "execution_count": 49,
   "metadata": {},
   "outputs": [
    {
     "data": {
      "text/html": [
       "<div>\n",
       "<style scoped>\n",
       "    .dataframe tbody tr th:only-of-type {\n",
       "        vertical-align: middle;\n",
       "    }\n",
       "\n",
       "    .dataframe tbody tr th {\n",
       "        vertical-align: top;\n",
       "    }\n",
       "\n",
       "    .dataframe thead th {\n",
       "        text-align: right;\n",
       "    }\n",
       "</style>\n",
       "<table border=\"1\" class=\"dataframe\">\n",
       "  <thead>\n",
       "    <tr style=\"text-align: right;\">\n",
       "      <th></th>\n",
       "      <th>ID</th>\n",
       "      <th>X</th>\n",
       "      <th>H-12</th>\n",
       "      <th>P-01</th>\n",
       "      <th>C-01</th>\n",
       "      <th>C-04</th>\n",
       "      <th>C-04-new</th>\n",
       "    </tr>\n",
       "  </thead>\n",
       "  <tbody>\n",
       "    <tr>\n",
       "      <th>0</th>\n",
       "      <td>15-10001</td>\n",
       "      <td>0</td>\n",
       "      <td>121</td>\n",
       "      <td>10.8</td>\n",
       "      <td>14.6</td>\n",
       "      <td>41.8</td>\n",
       "      <td>1</td>\n",
       "    </tr>\n",
       "    <tr>\n",
       "      <th>1</th>\n",
       "      <td>15-10002</td>\n",
       "      <td>0</td>\n",
       "      <td>172</td>\n",
       "      <td>12.5</td>\n",
       "      <td>18.5</td>\n",
       "      <td>45.5</td>\n",
       "      <td>2</td>\n",
       "    </tr>\n",
       "    <tr>\n",
       "      <th>2</th>\n",
       "      <td>15-10003</td>\n",
       "      <td>1</td>\n",
       "      <td>141</td>\n",
       "      <td>11.7</td>\n",
       "      <td>34.2</td>\n",
       "      <td>41.7</td>\n",
       "      <td>1</td>\n",
       "    </tr>\n",
       "    <tr>\n",
       "      <th>3</th>\n",
       "      <td>15-10004</td>\n",
       "      <td>0</td>\n",
       "      <td>105</td>\n",
       "      <td>10.8</td>\n",
       "      <td>14.6</td>\n",
       "      <td>46.5</td>\n",
       "      <td>2</td>\n",
       "    </tr>\n",
       "    <tr>\n",
       "      <th>4</th>\n",
       "      <td>15-10005</td>\n",
       "      <td>1</td>\n",
       "      <td>207</td>\n",
       "      <td>10.1</td>\n",
       "      <td>10.4</td>\n",
       "      <td>41.9</td>\n",
       "      <td>1</td>\n",
       "    </tr>\n",
       "  </tbody>\n",
       "</table>\n",
       "</div>"
      ],
      "text/plain": [
       "         ID  X  H-12  P-01  C-01  C-04  C-04-new\n",
       "0  15-10001  0   121  10.8  14.6  41.8         1\n",
       "1  15-10002  0   172  12.5  18.5  45.5         2\n",
       "2  15-10003  1   141  11.7  34.2  41.7         1\n",
       "3  15-10004  0   105  10.8  14.6  46.5         2\n",
       "4  15-10005  1   207  10.1  10.4  41.9         1"
      ]
     },
     "execution_count": 49,
     "metadata": {},
     "output_type": "execute_result"
    }
   ],
   "source": [
    "df.drop(columns = [] , inplace = True)\n",
    "df.head()"
   ]
  },
  {
   "cell_type": "markdown",
   "metadata": {},
   "source": [
    "## 数据预处理\n",
    "\n",
    "### 删除6sigma离群点"
   ]
  },
  {
   "cell_type": "code",
   "execution_count": 50,
   "metadata": {},
   "outputs": [
    {
     "name": "stdout",
     "output_type": "stream",
     "text": [
      "原始样本 (1261, 7)\n"
     ]
    },
    {
     "data": {
      "text/html": [
       "<div>\n",
       "<style scoped>\n",
       "    .dataframe tbody tr th:only-of-type {\n",
       "        vertical-align: middle;\n",
       "    }\n",
       "\n",
       "    .dataframe tbody tr th {\n",
       "        vertical-align: top;\n",
       "    }\n",
       "\n",
       "    .dataframe thead th {\n",
       "        text-align: right;\n",
       "    }\n",
       "</style>\n",
       "<table border=\"1\" class=\"dataframe\">\n",
       "  <thead>\n",
       "    <tr style=\"text-align: right;\">\n",
       "      <th></th>\n",
       "      <th>X</th>\n",
       "      <th>H-12</th>\n",
       "      <th>P-01</th>\n",
       "      <th>C-01</th>\n",
       "      <th>C-04</th>\n",
       "      <th>C-04-new</th>\n",
       "    </tr>\n",
       "  </thead>\n",
       "  <tbody>\n",
       "    <tr>\n",
       "      <th>count</th>\n",
       "      <td>1261.000000</td>\n",
       "      <td>1261.000000</td>\n",
       "      <td>1261.000000</td>\n",
       "      <td>1261.000000</td>\n",
       "      <td>1261.000000</td>\n",
       "      <td>1261.000000</td>\n",
       "    </tr>\n",
       "    <tr>\n",
       "      <th>mean</th>\n",
       "      <td>0.691515</td>\n",
       "      <td>158.589215</td>\n",
       "      <td>11.770500</td>\n",
       "      <td>14.887470</td>\n",
       "      <td>42.016416</td>\n",
       "      <td>1.060270</td>\n",
       "    </tr>\n",
       "    <tr>\n",
       "      <th>std</th>\n",
       "      <td>0.813087</td>\n",
       "      <td>61.670986</td>\n",
       "      <td>0.886711</td>\n",
       "      <td>5.605808</td>\n",
       "      <td>3.479150</td>\n",
       "      <td>0.570032</td>\n",
       "    </tr>\n",
       "    <tr>\n",
       "      <th>min</th>\n",
       "      <td>0.000000</td>\n",
       "      <td>25.000000</td>\n",
       "      <td>9.600000</td>\n",
       "      <td>2.400000</td>\n",
       "      <td>31.400000</td>\n",
       "      <td>0.000000</td>\n",
       "    </tr>\n",
       "    <tr>\n",
       "      <th>25%</th>\n",
       "      <td>0.000000</td>\n",
       "      <td>116.000000</td>\n",
       "      <td>11.200000</td>\n",
       "      <td>11.100000</td>\n",
       "      <td>39.800000</td>\n",
       "      <td>1.000000</td>\n",
       "    </tr>\n",
       "    <tr>\n",
       "      <th>50%</th>\n",
       "      <td>0.000000</td>\n",
       "      <td>153.000000</td>\n",
       "      <td>11.700000</td>\n",
       "      <td>14.100000</td>\n",
       "      <td>42.200000</td>\n",
       "      <td>1.000000</td>\n",
       "    </tr>\n",
       "    <tr>\n",
       "      <th>75%</th>\n",
       "      <td>1.000000</td>\n",
       "      <td>194.000000</td>\n",
       "      <td>12.300000</td>\n",
       "      <td>17.800000</td>\n",
       "      <td>44.300000</td>\n",
       "      <td>1.000000</td>\n",
       "    </tr>\n",
       "    <tr>\n",
       "      <th>max</th>\n",
       "      <td>2.000000</td>\n",
       "      <td>371.000000</td>\n",
       "      <td>14.900000</td>\n",
       "      <td>46.100000</td>\n",
       "      <td>52.500000</td>\n",
       "      <td>2.000000</td>\n",
       "    </tr>\n",
       "  </tbody>\n",
       "</table>\n",
       "</div>"
      ],
      "text/plain": [
       "                 X         H-12         P-01         C-01         C-04  \\\n",
       "count  1261.000000  1261.000000  1261.000000  1261.000000  1261.000000   \n",
       "mean      0.691515   158.589215    11.770500    14.887470    42.016416   \n",
       "std       0.813087    61.670986     0.886711     5.605808     3.479150   \n",
       "min       0.000000    25.000000     9.600000     2.400000    31.400000   \n",
       "25%       0.000000   116.000000    11.200000    11.100000    39.800000   \n",
       "50%       0.000000   153.000000    11.700000    14.100000    42.200000   \n",
       "75%       1.000000   194.000000    12.300000    17.800000    44.300000   \n",
       "max       2.000000   371.000000    14.900000    46.100000    52.500000   \n",
       "\n",
       "          C-04-new  \n",
       "count  1261.000000  \n",
       "mean      1.060270  \n",
       "std       0.570032  \n",
       "min       0.000000  \n",
       "25%       1.000000  \n",
       "50%       1.000000  \n",
       "75%       1.000000  \n",
       "max       2.000000  "
      ]
     },
     "execution_count": 50,
     "metadata": {},
     "output_type": "execute_result"
    }
   ],
   "source": [
    "print('原始样本', df.shape)\n",
    "des_df = df.describe()\n",
    "des_df"
   ]
  },
  {
   "cell_type": "markdown",
   "metadata": {},
   "source": [
    "离群点大于Q3+1.5*IQR或小于Q1-1.5IQR的值，其中IQR为四分位距 箱线图中上限和下限"
   ]
  },
  {
   "cell_type": "code",
   "execution_count": 51,
   "metadata": {},
   "outputs": [
    {
     "data": {
      "text/plain": [
       "39.8"
      ]
     },
     "execution_count": 51,
     "metadata": {},
     "output_type": "execute_result"
    }
   ],
   "source": [
    "des_df.loc['25%', 'C-04']"
   ]
  },
  {
   "cell_type": "code",
   "execution_count": 52,
   "metadata": {},
   "outputs": [
    {
     "name": "stdout",
     "output_type": "stream",
     "text": [
      "剩余样本： (1261, 7)\n"
     ]
    }
   ],
   "source": [
    "#删除离群点  改为正常值\n",
    "\n",
    "#得到目前为止 经过清洗后的数据的特征名 除 ‘ID’ 'X':病情\n",
    "features = [x for x in df.columns if x not in['ID', 'X']] \n",
    "#提取出除X外 与x相关系数大于0.1的索引\n",
    "importances = [x for x in corr[corr>0.1].index.tolist() if x != 'X']\n",
    "for x in features:\n",
    "#     upper_bound = des_df.loc['75%', x] + 1.5*(des_df.loc['75%', x]-des_df.loc['25%', x])\n",
    "#     lower_bound = des_df.loc['25%', x] - 1.5*(des_df.loc['75%', x]-des_df.loc['25%', x])\n",
    "    upper_bound = des_df.loc['mean', x] + 6*des_df.loc['std', x]\n",
    "    lower_bound = des_df.loc['mean', x] - 6*des_df.loc['std', x]\n",
    "    if x in importances:\n",
    "        df = df[(df[x]<=upper_bound) & (df[x]>=lower_bound)]\n",
    "    else:\n",
    "        df.loc[df[x]>upper_bound, x] = upper_bound\n",
    "        df.loc[df[x]<lower_bound, x] = lower_bound\n",
    "print(\"剩余样本：\", df.shape)"
   ]
  },
  {
   "cell_type": "markdown",
   "metadata": {},
   "source": [
    "### 分段mean 补全缺失值"
   ]
  },
  {
   "cell_type": "code",
   "execution_count": 3,
   "metadata": {},
   "outputs": [
    {
     "data": {
      "text/html": [
       "<div>\n",
       "<style scoped>\n",
       "    .dataframe tbody tr th:only-of-type {\n",
       "        vertical-align: middle;\n",
       "    }\n",
       "\n",
       "    .dataframe tbody tr th {\n",
       "        vertical-align: top;\n",
       "    }\n",
       "\n",
       "    .dataframe thead th {\n",
       "        text-align: right;\n",
       "    }\n",
       "</style>\n",
       "<table border=\"1\" class=\"dataframe\">\n",
       "  <thead>\n",
       "    <tr style=\"text-align: right;\">\n",
       "      <th></th>\n",
       "      <th>ID</th>\n",
       "    </tr>\n",
       "    <tr>\n",
       "      <th>X</th>\n",
       "      <th></th>\n",
       "    </tr>\n",
       "  </thead>\n",
       "  <tbody>\n",
       "    <tr>\n",
       "      <th>0</th>\n",
       "      <td>3847</td>\n",
       "    </tr>\n",
       "    <tr>\n",
       "      <th>1</th>\n",
       "      <td>1765</td>\n",
       "    </tr>\n",
       "    <tr>\n",
       "      <th>2</th>\n",
       "      <td>1600</td>\n",
       "    </tr>\n",
       "  </tbody>\n",
       "</table>\n",
       "</div>"
      ],
      "text/plain": [
       "     ID\n",
       "X      \n",
       "0  3847\n",
       "1  1765\n",
       "2  1600"
      ]
     },
     "execution_count": 3,
     "metadata": {},
     "output_type": "execute_result"
    }
   ],
   "source": [
    "df[['X', 'ID']].groupby('X').count()"
   ]
  },
  {
   "cell_type": "code",
   "execution_count": 19,
   "metadata": {},
   "outputs": [
    {
     "name": "stdout",
     "output_type": "stream",
     "text": [
      "[1, 2, 0]\n"
     ]
    },
    {
     "data": {
      "text/html": [
       "<div>\n",
       "<style scoped>\n",
       "    .dataframe tbody tr th:only-of-type {\n",
       "        vertical-align: middle;\n",
       "    }\n",
       "\n",
       "    .dataframe tbody tr th {\n",
       "        vertical-align: top;\n",
       "    }\n",
       "\n",
       "    .dataframe thead th {\n",
       "        text-align: right;\n",
       "    }\n",
       "</style>\n",
       "<table border=\"1\" class=\"dataframe\">\n",
       "  <thead>\n",
       "    <tr style=\"text-align: right;\">\n",
       "      <th></th>\n",
       "      <th>ID</th>\n",
       "      <th>X</th>\n",
       "      <th>H-12</th>\n",
       "      <th>P-01</th>\n",
       "      <th>C-01</th>\n",
       "      <th>C-04</th>\n",
       "    </tr>\n",
       "  </thead>\n",
       "  <tbody>\n",
       "    <tr>\n",
       "      <th>count</th>\n",
       "      <td>7212</td>\n",
       "      <td>7212</td>\n",
       "      <td>7212</td>\n",
       "      <td>7212</td>\n",
       "      <td>7212</td>\n",
       "      <td>7212</td>\n",
       "    </tr>\n",
       "    <tr>\n",
       "      <th>unique</th>\n",
       "      <td>1</td>\n",
       "      <td>1</td>\n",
       "      <td>1</td>\n",
       "      <td>1</td>\n",
       "      <td>1</td>\n",
       "      <td>1</td>\n",
       "    </tr>\n",
       "    <tr>\n",
       "      <th>top</th>\n",
       "      <td>False</td>\n",
       "      <td>False</td>\n",
       "      <td>False</td>\n",
       "      <td>False</td>\n",
       "      <td>False</td>\n",
       "      <td>False</td>\n",
       "    </tr>\n",
       "    <tr>\n",
       "      <th>freq</th>\n",
       "      <td>7212</td>\n",
       "      <td>7212</td>\n",
       "      <td>7212</td>\n",
       "      <td>7212</td>\n",
       "      <td>7212</td>\n",
       "      <td>7212</td>\n",
       "    </tr>\n",
       "  </tbody>\n",
       "</table>\n",
       "</div>"
      ],
      "text/plain": [
       "           ID      X   H-12   P-01   C-01   C-04\n",
       "count    7212   7212   7212   7212   7212   7212\n",
       "unique      1      1      1      1      1      1\n",
       "top     False  False  False  False  False  False\n",
       "freq     7212   7212   7212   7212   7212   7212"
      ]
     },
     "execution_count": 19,
     "metadata": {},
     "output_type": "execute_result"
    }
   ],
   "source": [
    "# 分段 按x=0， 1， 2不同情况 把每列进行均值填充\n",
    "print(df['X'].unique().tolist())\n",
    "for x in df['X'].unique().tolist():\n",
    "    #复制所有df['X'] = 当前遍历值 的行\n",
    "    tmp = df[df['X']==x].copy(deep=False)\n",
    "   #tmp.fillna(tmp.mean(axis=0, skipna=True), inplace=True)\n",
    "    #print(tmp.mean())\n",
    "    #以'X' 为分组， NAN均以每列的平均值填充 \n",
    "    df.loc[df['X']==x] = df[df['X']==x].fillna(tmp.mean()) \n",
    "df.isnull().describe()"
   ]
  },
  {
   "cell_type": "markdown",
   "metadata": {},
   "source": [
    "### 数据标准化"
   ]
  },
  {
   "cell_type": "code",
   "execution_count": 22,
   "metadata": {},
   "outputs": [
    {
     "data": {
      "text/html": [
       "<div>\n",
       "<style scoped>\n",
       "    .dataframe tbody tr th:only-of-type {\n",
       "        vertical-align: middle;\n",
       "    }\n",
       "\n",
       "    .dataframe tbody tr th {\n",
       "        vertical-align: top;\n",
       "    }\n",
       "\n",
       "    .dataframe thead th {\n",
       "        text-align: right;\n",
       "    }\n",
       "</style>\n",
       "<table border=\"1\" class=\"dataframe\">\n",
       "  <thead>\n",
       "    <tr style=\"text-align: right;\">\n",
       "      <th></th>\n",
       "      <th>X</th>\n",
       "      <th>H-12</th>\n",
       "      <th>P-01</th>\n",
       "      <th>C-01</th>\n",
       "      <th>C-04</th>\n",
       "    </tr>\n",
       "  </thead>\n",
       "  <tbody>\n",
       "    <tr>\n",
       "      <th>count</th>\n",
       "      <td>7212.000000</td>\n",
       "      <td>7.212000e+03</td>\n",
       "      <td>7.212000e+03</td>\n",
       "      <td>7.212000e+03</td>\n",
       "      <td>7.212000e+03</td>\n",
       "    </tr>\n",
       "    <tr>\n",
       "      <th>mean</th>\n",
       "      <td>0.688436</td>\n",
       "      <td>2.916260e-16</td>\n",
       "      <td>3.152713e-16</td>\n",
       "      <td>3.300497e-17</td>\n",
       "      <td>-1.846308e-15</td>\n",
       "    </tr>\n",
       "    <tr>\n",
       "      <th>std</th>\n",
       "      <td>0.811350</td>\n",
       "      <td>1.000000e+00</td>\n",
       "      <td>9.999991e-01</td>\n",
       "      <td>9.999999e-01</td>\n",
       "      <td>9.999997e-01</td>\n",
       "    </tr>\n",
       "    <tr>\n",
       "      <th>min</th>\n",
       "      <td>0.000000</td>\n",
       "      <td>-2.258182e+00</td>\n",
       "      <td>-2.524100e+00</td>\n",
       "      <td>-1.193827e+00</td>\n",
       "      <td>-5.378645e+00</td>\n",
       "    </tr>\n",
       "    <tr>\n",
       "      <th>25%</th>\n",
       "      <td>0.000000</td>\n",
       "      <td>-6.914305e-01</td>\n",
       "      <td>-6.819081e-01</td>\n",
       "      <td>-4.351797e-01</td>\n",
       "      <td>-6.110084e-01</td>\n",
       "    </tr>\n",
       "    <tr>\n",
       "      <th>50%</th>\n",
       "      <td>0.000000</td>\n",
       "      <td>-1.021019e-01</td>\n",
       "      <td>-1.292505e-01</td>\n",
       "      <td>-1.426893e-01</td>\n",
       "      <td>5.011429e-02</td>\n",
       "    </tr>\n",
       "    <tr>\n",
       "      <th>75%</th>\n",
       "      <td>1.000000</td>\n",
       "      <td>5.303484e-01</td>\n",
       "      <td>5.155166e-01</td>\n",
       "      <td>2.412043e-01</td>\n",
       "      <td>6.533372e-01</td>\n",
       "    </tr>\n",
       "    <tr>\n",
       "      <th>max</th>\n",
       "      <td>2.000000</td>\n",
       "      <td>8.766576e+00</td>\n",
       "      <td>9.542256e+00</td>\n",
       "      <td>2.603520e+01</td>\n",
       "      <td>3.208369e+00</td>\n",
       "    </tr>\n",
       "  </tbody>\n",
       "</table>\n",
       "</div>"
      ],
      "text/plain": [
       "                 X          H-12          P-01          C-01          C-04\n",
       "count  7212.000000  7.212000e+03  7.212000e+03  7.212000e+03  7.212000e+03\n",
       "mean      0.688436  2.916260e-16  3.152713e-16  3.300497e-17 -1.846308e-15\n",
       "std       0.811350  1.000000e+00  9.999991e-01  9.999999e-01  9.999997e-01\n",
       "min       0.000000 -2.258182e+00 -2.524100e+00 -1.193827e+00 -5.378645e+00\n",
       "25%       0.000000 -6.914305e-01 -6.819081e-01 -4.351797e-01 -6.110084e-01\n",
       "50%       0.000000 -1.021019e-01 -1.292505e-01 -1.426893e-01  5.011429e-02\n",
       "75%       1.000000  5.303484e-01  5.155166e-01  2.412043e-01  6.533372e-01\n",
       "max       2.000000  8.766576e+00  9.542256e+00  2.603520e+01  3.208369e+00"
      ]
     },
     "execution_count": 22,
     "metadata": {},
     "output_type": "execute_result"
    }
   ],
   "source": [
    "features = [x for x in df.columns if x not in['ID', 'X']]\n",
    "for x in features:\n",
    "    delta = 0.000001\n",
    "    df[x] = (df[x] - df[x].mean()) / (df[x].std() + delta)\n",
    "df.describe()"
   ]
  },
  {
   "cell_type": "markdown",
   "metadata": {},
   "source": [
    "计算协方差"
   ]
  },
  {
   "cell_type": "code",
   "execution_count": 23,
   "metadata": {},
   "outputs": [
    {
     "data": {
      "text/plain": [
       "X       0.658288\n",
       "C-04    0.046258\n",
       "H-12    0.039975\n",
       "P-01    0.028421\n",
       "C-01    0.026860\n",
       "Name: X, dtype: float64"
      ]
     },
     "execution_count": 23,
     "metadata": {},
     "output_type": "execute_result"
    }
   ],
   "source": [
    "#df.drop(columns = ['C-04-new'], inplace = True)\n",
    "cov_mat = df.cov()\n",
    "cov_mat['X'].abs().sort_values(ascending = False)"
   ]
  },
  {
   "cell_type": "code",
   "execution_count": 24,
   "metadata": {},
   "outputs": [
    {
     "name": "stdout",
     "output_type": "stream",
     "text": [
      "正向： ['X', 'H-12', 'P-01', 'C-01']\n",
      "负向:  ['C-04']\n"
     ]
    }
   ],
   "source": [
    "cov = cov_mat['X']\n",
    "print('正向：', cov[cov > 0].index.tolist())\n",
    "print('负向: ', cov[cov < 0].index.tolist())"
   ]
  },
  {
   "cell_type": "markdown",
   "metadata": {},
   "source": [
    "### 保存cleaned数据"
   ]
  },
  {
   "cell_type": "code",
   "execution_count": 8,
   "metadata": {},
   "outputs": [],
   "source": [
    "df.to_csv('thir_non_excludeG_Cleaned.csv', index = False, header = True, encoding = 'utf-8')"
   ]
  },
  {
   "cell_type": "code",
   "execution_count": 62,
   "metadata": {},
   "outputs": [
    {
     "data": {
      "text/html": [
       "<div>\n",
       "<style scoped>\n",
       "    .dataframe tbody tr th:only-of-type {\n",
       "        vertical-align: middle;\n",
       "    }\n",
       "\n",
       "    .dataframe tbody tr th {\n",
       "        vertical-align: top;\n",
       "    }\n",
       "\n",
       "    .dataframe thead th {\n",
       "        text-align: right;\n",
       "    }\n",
       "</style>\n",
       "<table border=\"1\" class=\"dataframe\">\n",
       "  <thead>\n",
       "    <tr style=\"text-align: right;\">\n",
       "      <th></th>\n",
       "      <th>ID</th>\n",
       "      <th>X</th>\n",
       "      <th>H-12</th>\n",
       "      <th>P-01</th>\n",
       "      <th>C-01</th>\n",
       "      <th>C-04</th>\n",
       "    </tr>\n",
       "  </thead>\n",
       "  <tbody>\n",
       "    <tr>\n",
       "      <th>0</th>\n",
       "      <td>15-10001</td>\n",
       "      <td>0</td>\n",
       "      <td>-0.609512</td>\n",
       "      <td>-1.094493</td>\n",
       "      <td>-0.051281</td>\n",
       "      <td>-0.062204</td>\n",
       "    </tr>\n",
       "    <tr>\n",
       "      <th>1</th>\n",
       "      <td>15-10002</td>\n",
       "      <td>0</td>\n",
       "      <td>0.217457</td>\n",
       "      <td>0.822703</td>\n",
       "      <td>0.644426</td>\n",
       "      <td>1.001274</td>\n",
       "    </tr>\n",
       "    <tr>\n",
       "      <th>2</th>\n",
       "      <td>15-10003</td>\n",
       "      <td>1</td>\n",
       "      <td>-0.285211</td>\n",
       "      <td>-0.079507</td>\n",
       "      <td>3.445092</td>\n",
       "      <td>-0.090946</td>\n",
       "    </tr>\n",
       "    <tr>\n",
       "      <th>3</th>\n",
       "      <td>15-10004</td>\n",
       "      <td>0</td>\n",
       "      <td>-0.868953</td>\n",
       "      <td>-1.094493</td>\n",
       "      <td>-0.051281</td>\n",
       "      <td>1.288701</td>\n",
       "    </tr>\n",
       "    <tr>\n",
       "      <th>4</th>\n",
       "      <td>15-10005</td>\n",
       "      <td>1</td>\n",
       "      <td>0.784985</td>\n",
       "      <td>-1.883926</td>\n",
       "      <td>-0.800504</td>\n",
       "      <td>-0.033461</td>\n",
       "    </tr>\n",
       "  </tbody>\n",
       "</table>\n",
       "</div>"
      ],
      "text/plain": [
       "         ID  X      H-12      P-01      C-01      C-04\n",
       "0  15-10001  0 -0.609512 -1.094493 -0.051281 -0.062204\n",
       "1  15-10002  0  0.217457  0.822703  0.644426  1.001274\n",
       "2  15-10003  1 -0.285211 -0.079507  3.445092 -0.090946\n",
       "3  15-10004  0 -0.868953 -1.094493 -0.051281  1.288701\n",
       "4  15-10005  1  0.784985 -1.883926 -0.800504 -0.033461"
      ]
     },
     "execution_count": 62,
     "metadata": {},
     "output_type": "execute_result"
    }
   ],
   "source": [
    "df.head()"
   ]
  },
  {
   "cell_type": "markdown",
   "metadata": {},
   "source": [
    "## 数据建模\n",
    "\n",
    "### 训练逻辑回归LR模型"
   ]
  },
  {
   "cell_type": "code",
   "execution_count": 7,
   "metadata": {},
   "outputs": [],
   "source": [
    "from sklearn.linear_model import LogisticRegressionCV,LinearRegression\n",
    "from sklearn.model_selection import train_test_split\n",
    "from sklearn.preprocessing import StandardScaler\n",
    "#from sklearn.linear_model.coordinate_descent import ConvergenceWarning"
   ]
  },
  {
   "cell_type": "code",
   "execution_count": 8,
   "metadata": {},
   "outputs": [],
   "source": [
    "#划分训练集与测试集  随机\n",
    "target = 'X'\n",
    "features = [x for x in df.columns if x not in['ID', 'X']]\n",
    "X, Y = df[features], df[target]# X = dataSet  and Y =  labels\n",
    "X_train, X_test, Y_train, Y_test = train_test_split(X, Y, test_size=0.2, random_state=0)"
   ]
  },
  {
   "cell_type": "code",
   "execution_count": 9,
   "metadata": {},
   "outputs": [],
   "source": [
    "#构建并训练模型\n",
    "##  multi_class:分类方式选择参数，有\"ovr(默认)\"和\"multinomial\"两个值可选择，在二元逻辑回归中无区别\n",
    "##  cv:几折交叉验证\n",
    "##  solver:优化算法选择参数，当penalty为\"l1\"时，参数只能是\"liblinear(坐标轴下降法)\"\n",
    "##  \"lbfgs\"和\"cg\"都是关于目标函数的二阶泰勒展开\n",
    "##  当penalty为\"l2\"时，参数可以是\"lbfgs(拟牛顿法)\",\"newton_cg(牛顿法变种)\",\"seg(minibactch随机平均梯度下降)\"\n",
    "##  维度<10000时，选择\"lbfgs\"法，维度>10000时，选择\"cs\"法比较好，显卡计算的时候，lbfgs\"和\"cs\"都比\"seg\"快\n",
    "##  penalty:正则化选择参数，用于解决过拟合，可选\"l1\",\"l2\"\n",
    "##  tol:当目标函数下降到该值是就停止，叫：容忍度，防止计算的过多\n",
    "lr = LogisticRegressionCV(\n",
    "    multi_class=\"multinomial\",\n",
    "    fit_intercept=True,\n",
    "    Cs=np.logspace(-2,2,20),\n",
    "    cv=2,\n",
    "    penalty=\"l2\",\n",
    "    solver=\"lbfgs\",\n",
    "    tol=0.01,\n",
    "    max_iter = 1000,\n",
    "    class_weight='balanced',\n",
    "    \n",
    ")\n",
    "re = lr.fit(X_train,Y_train)\n"
   ]
  },
  {
   "cell_type": "code",
   "execution_count": 10,
   "metadata": {},
   "outputs": [
    {
     "name": "stdout",
     "output_type": "stream",
     "text": [
      "R值(准确率): 0.40960305078869824\n",
      "参数: [[-0.0704507  -0.02578174 -0.04255361  0.0751556 ]\n",
      " [ 0.00638767 -0.02213617 -0.01793203 -0.0379971 ]\n",
      " [ 0.06406303  0.04791791  0.06048564 -0.03715851]]\n",
      "截距: [ 0.00173513  0.0028778  -0.00461293]\n",
      "稀疏化特征比率:0.00%\n",
      "=========sigmoid函数转化的值，即：概率p=========\n",
      "[[0.30505869 0.33252083 0.36242048]\n",
      " [0.23797743 0.35003337 0.4119892 ]\n",
      " [0.29337159 0.32353356 0.38309485]\n",
      " ...\n",
      " [0.36923718 0.33410451 0.29665831]\n",
      " [0.28147076 0.32579408 0.39273516]\n",
      " [0.32723739 0.33539819 0.33736443]]\n"
     ]
    }
   ],
   "source": [
    "#模型效果获取\n",
    "r = re.score(X_train,Y_train)\n",
    "print(\"R值(准确率):\",r)\n",
    "print(\"参数:\",re.coef_)\n",
    "print(\"截距:\",re.intercept_)\n",
    "print(\"稀疏化特征比率:%.2f%%\" %(np.mean(lr.coef_.ravel()==0)*100))\n",
    "print(\"=========sigmoid函数转化的值，即：概率p=========\")\n",
    "print(re.predict_proba(X_test))     #sigmoid函数转化的值，即：概率p"
   ]
  },
  {
   "cell_type": "markdown",
   "metadata": {},
   "source": [
    "### 模型的持久化"
   ]
  },
  {
   "cell_type": "code",
   "execution_count": 68,
   "metadata": {},
   "outputs": [
    {
     "data": {
      "text/plain": [
       "LogisticRegressionCV(Cs=array([1.00000e-02, 1.62378e-02, 2.63665e-02, 4.28133e-02, 6.95193e-02,\n",
       "       1.12884e-01, 1.83298e-01, 2.97635e-01, 4.83293e-01, 7.84760e-01,\n",
       "       1.27427e+00, 2.06914e+00, 3.35982e+00, 5.45559e+00, 8.85867e+00,\n",
       "       1.43845e+01, 2.33572e+01, 3.79269e+01, 6.15848e+01, 1.00000e+02]),\n",
       "           class_weight='balanced', cv=2, dual=False, fit_intercept=True,\n",
       "           intercept_scaling=1.0, max_iter=1000, multi_class='multinomial',\n",
       "           n_jobs=None, penalty='l2', random_state=None, refit=True,\n",
       "           scoring=None, solver='lbfgs', tol=0.01, verbose=0)"
      ]
     },
     "execution_count": 68,
     "metadata": {},
     "output_type": "execute_result"
    }
   ],
   "source": [
    "#模型的保存与持久化\n",
    "from sklearn.externals import joblib\n",
    "# joblib.dump(ss,\"logistic_ss.model\")     #将标准化模型保存\n",
    "joblib.dump(lr,\"thir_non_logistic_lr.model\")     #将训练后的线性模型保存\n",
    "# joblib.load(\"logistic_ss.model\")        #加载模型,会保存该model文件\n",
    "joblib.load(\"thir_non_logistic_lr.model\")"
   ]
  },
  {
   "cell_type": "markdown",
   "metadata": {},
   "source": [
    "### 预测结果评价"
   ]
  },
  {
   "cell_type": "code",
   "execution_count": 11,
   "metadata": {},
   "outputs": [],
   "source": [
    "import matplotlib as mpl\n",
    "\n",
    "#解决matplotlib 中文显示问题\n",
    "mpl.rcParams['font.sans-serif']=[u'simHei']\n",
    "mpl.rcParams['axes.unicode_minus']=False"
   ]
  },
  {
   "cell_type": "code",
   "execution_count": 12,
   "metadata": {},
   "outputs": [
    {
     "name": "stderr",
     "output_type": "stream",
     "text": [
      "findfont: Font family ['sans-serif'] not found. Falling back to DejaVu Sans.\n",
      "findfont: Font family ['sans-serif'] not found. Falling back to DejaVu Sans.\n",
      "findfont: Font family ['sans-serif'] not found. Falling back to DejaVu Sans.\n"
     ]
    },
    {
     "data": {
      "image/png": "[encoded data removed]",
      "text/plain": [
       "<Figure size 1008x504 with 1 Axes>"
      ]
     },
     "metadata": {},
     "output_type": "display_data"
    },
    {
     "name": "stdout",
     "output_type": "stream",
     "text": [
      "=============Y_test==============\n",
      "[0 1 0 ... 1 1 0]\n",
      "============Y_predict============\n",
      "[2 2 2 ... 0 2 2]\n"
     ]
    }
   ],
   "source": [
    "#预测\n",
    "Y_predict = lr.predict(X_test)\n",
    " \n",
    "#画图对预测值和实际值进行比较\n",
    "x = range(len(X_test))\n",
    "plt.figure(figsize=(14,7),facecolor=\"w\")\n",
    "plt.ylim(0,6)\n",
    "plt.plot(x,Y_test,\"ro\",markersize=8,zorder=3,label=u\"Groud Truth\")\n",
    "plt.plot(x,Y_predict,\"go\",markersize=14,zorder=2,label=u\"Predict Value,$R^2$=%.3f\" %lr.score(X_test,Y_test))\n",
    "plt.legend(loc=\"upper left\")\n",
    "plt.xlabel(u\"sample\",fontsize=18)\n",
    "plt.ylabel(u\"label\",fontsize=18)\n",
    "plt.title(u\"Logistic Model\",fontsize=20)\n",
    "plt.show()\n",
    " \n",
    "print(\"=============Y_test==============\")\n",
    "print(Y_test.ravel())\n",
    "print(\"============Y_predict============\")\n",
    "print(Y_predict)"
   ]
  },
  {
   "cell_type": "code",
   "execution_count": 13,
   "metadata": {},
   "outputs": [
    {
     "name": "stdout",
     "output_type": "stream",
     "text": [
      "预测准确率： 0.3776853776853777\n",
      "精度： 0.39443537523340827\n",
      "召回率： 0.3776853776853777\n"
     ]
    }
   ],
   "source": [
    "from sklearn import metrics\n",
    "\n",
    "print(\"预测准确率：\", metrics.accuracy_score(Y_test, Y_predict))\n",
    "print(\"精度：\", metrics.precision_score(Y_test, Y_predict, average=\"weighted\"))\n",
    "print(\"召回率：\", metrics.recall_score(Y_test, Y_predict, average=\"weighted\"))"
   ]
  },
  {
   "cell_type": "code",
   "execution_count": 6,
   "metadata": {},
   "outputs": [],
   "source": [
    "from sklearn.linear_model import LogisticRegressionCV,LinearRegression\n",
    "from sklearn.model_selection import train_test_split\n",
    "from sklearn.preprocessing import StandardScaler\n",
    "#from sklearn.linear_model.coordinate_descent import ConvergenceWarning\n",
    "from sklearn import tree\n",
    "from matplotlib import pyplot as plt\n",
    "\n",
    "import numpy as np\n",
    "from sklearn import datasets\n",
    "from sklearn.pipeline import Pipeline\n",
    "from sklearn.preprocessing import StandardScaler\n",
    "from sklearn.svm import LinearSVC\n",
    "\n",
    "from sklearn.svm import SVC\n",
    "\n",
    "\n",
    "#划分训练集与测试集  随机\n",
    "target = 'X'\n",
    "features = [x for x in df.columns if x not in['ID', 'X']]\n",
    "X, Y = df[features], df[target]# X = dataSet  and Y =  labels\n",
    "X_train, X_test, Y_train, Y_test = train_test_split(X, Y, test_size=0.2, random_state=0)"
   ]
  },
  {
   "cell_type": "code",
   "execution_count": 7,
   "metadata": {},
   "outputs": [
    {
     "name": "stdout",
     "output_type": "stream",
     "text": [
      "0.5287595287595288\n",
      "2\n",
      "gini\n"
     ]
    }
   ],
   "source": [
    "def DT(X_train, X_test, Y_train, Y_test):\n",
    "    maxdepth = 40\n",
    "    depths = np.arange(2, maxdepth)\n",
    "    criterions = ['gini','entropy']\n",
    "\n",
    "    best_testing_score = -1\n",
    "    best_testing_depth = 0\n",
    "    best_criterions = ''\n",
    "\n",
    "    for criterion in criterions:\n",
    "        training_scores = []\n",
    "        testing_scores = []\n",
    "        for depth in depths:\n",
    "            clf = tree.DecisionTreeClassifier(criterion = criterion ,max_depth = depth)\n",
    "            clf.fit(X_train, Y_train)\n",
    "            tra_s = clf.score(X_train, Y_train)\n",
    "            tes_s = clf.score(X_test, Y_test)\n",
    "            training_scores.append(tra_s)\n",
    "            testing_scores.append(tes_s)\n",
    "            if best_testing_score < tes_s:\n",
    "                best_testing_score = tes_s\n",
    "                best_testing_depth = depth\n",
    "                best_criterions = criterion\n",
    "    print(best_testing_score)\n",
    "    print(best_testing_depth)\n",
    "    print(best_criterions)\n",
    "DT(X_train, X_test, Y_train, Y_test)"
   ]
  },
  {
   "cell_type": "code",
   "execution_count": 8,
   "metadata": {},
   "outputs": [
    {
     "name": "stdout",
     "output_type": "stream",
     "text": [
      "rbf_kernel_svc training score:0.780551\n",
      "rbf_kernel_svc testing score:0.486486\n"
     ]
    }
   ],
   "source": [
    "rbf_kernel_svm_clf = Pipeline((('scaler', StandardScaler()),\n",
    "                               ('svm_clf', SVC(kernel = 'rbf', gamma = 5, C = 5 )) #当C为0.001 时 预测非1\n",
    "                               )).fit(X_train, Y_train)\n",
    "print('rbf_kernel_svc training score:%f' % rbf_kernel_svm_clf.score(X_train, Y_train))\n",
    "print('rbf_kernel_svc testing score:%f' % rbf_kernel_svm_clf.score(X_test, Y_test))"
   ]
  },
  {
   "cell_type": "markdown",
   "metadata": {},
   "source": [
    "## CCA 特征"
   ]
  },
  {
   "cell_type": "code",
   "execution_count": 16,
   "metadata": {},
   "outputs": [
    {
     "name": "stdout",
     "output_type": "stream",
     "text": [
      "===== CCA.csv =====\n",
      "rbf_kernel_svc training score:0.557116\n",
      "rbf_kernel_svc testing score:0.517672\n",
      "==========\n",
      "===== LDCCA.csv =====\n",
      "rbf_kernel_svc training score:0.557116\n",
      "rbf_kernel_svc testing score:0.517672\n",
      "==========\n",
      "===== LPCCA.csv =====\n",
      "rbf_kernel_svc training score:0.552089\n",
      "rbf_kernel_svc testing score:0.523909\n",
      "==========\n",
      "===== rank-CCA.csv =====\n",
      "rbf_kernel_svc training score:0.557636\n",
      "rbf_kernel_svc testing score:0.519058\n",
      "==========\n",
      "===== semi-CCA.csv =====\n",
      "rbf_kernel_svc training score:0.557116\n",
      "rbf_kernel_svc testing score:0.518365\n",
      "==========\n"
     ]
    }
   ],
   "source": [
    "CCA_FILES = [\"CCA.csv\", \"LDCCA.csv\", \"LPCCA.csv\", \"rank-CCA.csv\", \"semi-CCA.csv\"]#, \"DMPCCA.csv\"\n",
    "PATH = '/Users/xiangsong/Desktop/数据分析/cleaned_data/CCA/CCA_cleaned/third_non/'\n",
    "for fi in CCA_FILES:\n",
    "    \n",
    "    df = pd.read_csv(open(PATH+fi, encoding='utf-8'), skiprows=0)  \n",
    "    #划分训练集与测试集\n",
    "    target = 't'\n",
    "    features = [x for x in df.columns if x not in['t']]\n",
    "    X, Y = df[features], df[target]\n",
    "    X_train, X_test, Y_train, Y_test = train_test_split(X, Y, test_size=0.2, random_state=0)\n",
    "    rbf_kernel_svm_clf = Pipeline((('scaler', StandardScaler()),\n",
    "                               ('svm_clf', SVC(kernel = 'rbf', gamma = 5, C = 5 )) #当C为0.001 时 预测非1\n",
    "                               )).fit(X_train, Y_train)\n",
    "    print(\"===== %s =====\" % fi)\n",
    "    print('rbf_kernel_svc training score:%f' % rbf_kernel_svm_clf.score(X_train, Y_train))\n",
    "    print('rbf_kernel_svc testing score:%f' % rbf_kernel_svm_clf.score(X_test, Y_test))\n",
    "    print(\"==========\")\n",
    "    "
   ]
  },
  {
   "cell_type": "code",
   "execution_count": 19,
   "metadata": {},
   "outputs": [
    {
     "name": "stdout",
     "output_type": "stream",
     "text": [
      "===== CCA.csv =====\n",
      "0.5287595287595288\n",
      "2\n",
      "gini\n",
      "==========\n",
      "===== LDCCA.csv =====\n",
      "0.5287595287595288\n",
      "2\n",
      "gini\n",
      "==========\n",
      "===== LPCCA.csv =====\n",
      "0.5287595287595288\n",
      "2\n",
      "gini\n",
      "==========\n",
      "===== rank-CCA.csv =====\n",
      "0.5287595287595288\n",
      "2\n",
      "gini\n",
      "==========\n",
      "===== semi-CCA.csv =====\n",
      "0.5287595287595288\n",
      "2\n",
      "gini\n",
      "==========\n"
     ]
    }
   ],
   "source": [
    "CCA_FILES = [\"CCA.csv\", \"LDCCA.csv\", \"LPCCA.csv\", \"rank-CCA.csv\", \"semi-CCA.csv\"]#, \"DMPCCA.csv\"\n",
    "PATH = '/Users/xiangsong/Desktop/数据分析/cleaned_data/CCA/CCA_cleaned/third_non/'\n",
    "for fi in CCA_FILES:\n",
    "    \n",
    "    df = pd.read_csv(open(PATH+fi, encoding='utf-8'), skiprows=0)  \n",
    "    #划分训练集与测试集\n",
    "    target = 't'\n",
    "    features = [x for x in df.columns if x not in['t']]\n",
    "    X, Y = df[features], df[target]\n",
    "    X_train, X_test, Y_train, Y_test = train_test_split(X, Y, test_size=0.2, random_state=0)\n",
    "    print(\"===== %s =====\" % fi)\n",
    "    DT(X_train, X_test, Y_train, Y_test)\n",
    "    print(\"==========\")"
   ]
  },
  {
   "cell_type": "code",
   "execution_count": null,
   "metadata": {},
   "outputs": [],
   "source": []
  }
 ],
 "metadata": {
  "kernelspec": {
   "display_name": "Python 3",
   "language": "python",
   "name": "python3"
  },
  "language_info": {
   "codemirror_mode": {
    "name": "ipython",
    "version": 3
   },
   "file_extension": ".py",
   "mimetype": "text/x-python",
   "name": "python",
   "nbconvert_exporter": "python",
   "pygments_lexer": "ipython3",
   "version": "3.6.7"
  }
 },
 "nbformat": 4,
 "nbformat_minor": 2
}
