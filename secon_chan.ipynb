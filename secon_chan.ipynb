{
 "cells": [
  {
   "cell_type": "code",
   "execution_count": 1,
   "metadata": {},
   "outputs": [],
   "source": [
    "import numpy as np\n",
    "import pandas as pd\n",
    "from matplotlib import pyplot as plt\n",
    "\n",
    "%matplotlib inline"
   ]
  },
  {
   "cell_type": "code",
   "execution_count": 2,
   "metadata": {},
   "outputs": [
    {
     "name": "stdout",
     "output_type": "stream",
     "text": [
      "data size: (1314, 6)\n"
     ]
    },
    {
     "data": {
      "text/html": [
       "<div>\n",
       "<style scoped>\n",
       "    .dataframe tbody tr th:only-of-type {\n",
       "        vertical-align: middle;\n",
       "    }\n",
       "\n",
       "    .dataframe tbody tr th {\n",
       "        vertical-align: top;\n",
       "    }\n",
       "\n",
       "    .dataframe thead th {\n",
       "        text-align: right;\n",
       "    }\n",
       "</style>\n",
       "<table border=\"1\" class=\"dataframe\">\n",
       "  <thead>\n",
       "    <tr style=\"text-align: right;\">\n",
       "      <th></th>\n",
       "      <th>ID</th>\n",
       "      <th>X</th>\n",
       "      <th>C-08</th>\n",
       "      <th>C-09</th>\n",
       "      <th>C-10</th>\n",
       "      <th>C-11</th>\n",
       "    </tr>\n",
       "  </thead>\n",
       "  <tbody>\n",
       "    <tr>\n",
       "      <th>0</th>\n",
       "      <td>15-10001</td>\n",
       "      <td>0</td>\n",
       "      <td>143</td>\n",
       "      <td>163</td>\n",
       "      <td>38.0</td>\n",
       "      <td>56.6</td>\n",
       "    </tr>\n",
       "    <tr>\n",
       "      <th>1</th>\n",
       "      <td>15-10002</td>\n",
       "      <td>0</td>\n",
       "      <td>83</td>\n",
       "      <td>87</td>\n",
       "      <td>29.0</td>\n",
       "      <td>63.2</td>\n",
       "    </tr>\n",
       "    <tr>\n",
       "      <th>2</th>\n",
       "      <td>15-10003</td>\n",
       "      <td>1</td>\n",
       "      <td>105</td>\n",
       "      <td>117</td>\n",
       "      <td>36.0</td>\n",
       "      <td>54.7</td>\n",
       "    </tr>\n",
       "    <tr>\n",
       "      <th>3</th>\n",
       "      <td>15-10004</td>\n",
       "      <td>0</td>\n",
       "      <td>116</td>\n",
       "      <td>57</td>\n",
       "      <td>24.0</td>\n",
       "      <td>45.4</td>\n",
       "    </tr>\n",
       "    <tr>\n",
       "      <th>4</th>\n",
       "      <td>15-10005</td>\n",
       "      <td>1</td>\n",
       "      <td>186</td>\n",
       "      <td>142</td>\n",
       "      <td>66.0</td>\n",
       "      <td>49.9</td>\n",
       "    </tr>\n",
       "  </tbody>\n",
       "</table>\n",
       "</div>"
      ],
      "text/plain": [
       "         ID  X  C-08  C-09  C-10  C-11\n",
       "0  15-10001  0   143   163  38.0  56.6\n",
       "1  15-10002  0    83    87  29.0  63.2\n",
       "2  15-10003  1   105   117  36.0  54.7\n",
       "3  15-10004  0   116    57  24.0  45.4\n",
       "4  15-10005  1   186   142  66.0  49.9"
      ]
     },
     "execution_count": 2,
     "metadata": {},
     "output_type": "execute_result"
    }
   ],
   "source": [
    "data = open('three_kind_andMark/G_in/secon_chan.csv', encoding = 'utf-8')\n",
    "df = pd.read_csv(data, skiprows = 0)\n",
    "print('data size:', df.shape)\n",
    "df.head()"
   ]
  },
  {
   "cell_type": "markdown",
   "metadata": {},
   "source": [
    "ID：病例编号\n",
    "X：分类目标\n",
    "其余特征表示一线标志物"
   ]
  },
  {
   "cell_type": "markdown",
   "metadata": {},
   "source": [
    "# 数据的直观分布\n",
    "\n",
    "## 数据构成比例\n",
    "\n",
    "### 时间与患病数"
   ]
  },
  {
   "cell_type": "code",
   "execution_count": 3,
   "metadata": {},
   "outputs": [
    {
     "data": {
      "text/html": [
       "<div>\n",
       "<style scoped>\n",
       "    .dataframe tbody tr th:only-of-type {\n",
       "        vertical-align: middle;\n",
       "    }\n",
       "\n",
       "    .dataframe tbody tr th {\n",
       "        vertical-align: top;\n",
       "    }\n",
       "\n",
       "    .dataframe thead th {\n",
       "        text-align: right;\n",
       "    }\n",
       "</style>\n",
       "<table border=\"1\" class=\"dataframe\">\n",
       "  <thead>\n",
       "    <tr style=\"text-align: right;\">\n",
       "      <th></th>\n",
       "      <th></th>\n",
       "      <th>ID</th>\n",
       "    </tr>\n",
       "    <tr>\n",
       "      <th>Year</th>\n",
       "      <th>X</th>\n",
       "      <th></th>\n",
       "    </tr>\n",
       "  </thead>\n",
       "  <tbody>\n",
       "    <tr>\n",
       "      <th rowspan=\"2\" valign=\"top\">15</th>\n",
       "      <th>0</th>\n",
       "      <td>199</td>\n",
       "    </tr>\n",
       "    <tr>\n",
       "      <th>1</th>\n",
       "      <td>210</td>\n",
       "    </tr>\n",
       "    <tr>\n",
       "      <th rowspan=\"2\" valign=\"top\">16</th>\n",
       "      <th>0</th>\n",
       "      <td>228</td>\n",
       "    </tr>\n",
       "    <tr>\n",
       "      <th>1</th>\n",
       "      <td>200</td>\n",
       "    </tr>\n",
       "    <tr>\n",
       "      <th rowspan=\"2\" valign=\"top\">17</th>\n",
       "      <th>0</th>\n",
       "      <td>271</td>\n",
       "    </tr>\n",
       "    <tr>\n",
       "      <th>1</th>\n",
       "      <td>206</td>\n",
       "    </tr>\n",
       "  </tbody>\n",
       "</table>\n",
       "</div>"
      ],
      "text/plain": [
       "         ID\n",
       "Year X     \n",
       "15   0  199\n",
       "     1  210\n",
       "16   0  228\n",
       "     1  200\n",
       "17   0  271\n",
       "     1  206"
      ]
     },
     "execution_count": 3,
     "metadata": {},
     "output_type": "execute_result"
    }
   ],
   "source": [
    "df['Year'] = df['ID']. apply(lambda row : row.split('-')[0] )\n",
    "a = df[['Year', 'X', 'ID']].groupby(['Year', 'X']).count()\n",
    "a"
   ]
  },
  {
   "cell_type": "code",
   "execution_count": 4,
   "metadata": {},
   "outputs": [],
   "source": [
    "plt.style.use('seaborn')"
   ]
  },
  {
   "cell_type": "code",
   "execution_count": 5,
   "metadata": {},
   "outputs": [
    {
     "data": {
      "text/plain": [
       "array([<matplotlib.axes._subplots.AxesSubplot object at 0x000001DB46C0D710>,\n",
       "       <matplotlib.axes._subplots.AxesSubplot object at 0x000001DB46CA25C0>,\n",
       "       <matplotlib.axes._subplots.AxesSubplot object at 0x000001DB46CCAE10>],\n",
       "      dtype=object)"
      ]
     },
     "execution_count": 5,
     "metadata": {},
     "output_type": "execute_result"
    },
    {
     "data": {
      "image/png": "[encoded data removed]",
      "text/plain": [
       "<Figure size 576x396 with 3 Axes>"
      ]
     },
     "metadata": {},
     "output_type": "display_data"
    }
   ],
   "source": [
    "b = a.unstack()\n",
    "b\n",
    "(b.T).plot(kind = 'pie', subplots = True)"
   ]
  },
  {
   "cell_type": "markdown",
   "metadata": {},
   "source": [
    "## 特征的分布规律"
   ]
  },
  {
   "cell_type": "code",
   "execution_count": 6,
   "metadata": {},
   "outputs": [
    {
     "name": "stderr",
     "output_type": "stream",
     "text": [
      "D:\\ANOCONDA\\lib\\site-packages\\IPython\\core\\interactiveshell.py:3267: UserWarning: To output multiple subplots, the figure containing the passed axes is being cleared\n",
      "  exec(code_obj, self.user_global_ns, self.user_ns)\n"
     ]
    },
    {
     "data": {
      "text/plain": [
       "array([[<matplotlib.axes._subplots.AxesSubplot object at 0x000001DB46D75198>,\n",
       "        <matplotlib.axes._subplots.AxesSubplot object at 0x000001DB46E16EF0>],\n",
       "       [<matplotlib.axes._subplots.AxesSubplot object at 0x000001DB46E44898>,\n",
       "        <matplotlib.axes._subplots.AxesSubplot object at 0x000001DB46E72208>]],\n",
       "      dtype=object)"
      ]
     },
     "execution_count": 6,
     "metadata": {},
     "output_type": "execute_result"
    },
    {
     "data": {
      "image/png": "[encoded data removed]",
      "text/plain": [
       "<Figure size 576x396 with 4 Axes>"
      ]
     },
     "metadata": {},
     "output_type": "display_data"
    }
   ],
   "source": [
    "#复制除编号以及病状的所有特征\n",
    "features = [x for x in df.columns if x not in['ID', 'X','Year'] ]\n",
    "plt.figure()\n",
    "ax = plt.subplot(111)\n",
    "df.hist(column = features, bins = 20, ax = ax)"
   ]
  },
  {
   "cell_type": "code",
   "execution_count": null,
   "metadata": {},
   "outputs": [],
   "source": []
  },
  {
   "cell_type": "markdown",
   "metadata": {},
   "source": [
    "正相关的特征分布"
   ]
  },
  {
   "cell_type": "code",
   "execution_count": null,
   "metadata": {},
   "outputs": [],
   "source": [
    "df.hist(column = ['','',''], bins = 20)"
   ]
  },
  {
   "cell_type": "markdown",
   "metadata": {},
   "source": [
    "负相关的特征分布"
   ]
  },
  {
   "cell_type": "code",
   "execution_count": null,
   "metadata": {},
   "outputs": [],
   "source": [
    "df.hist(column = ['','',''], bins = 20)"
   ]
  },
  {
   "cell_type": "markdown",
   "metadata": {},
   "source": [
    "## 数据的正态化变换\n",
    "\n"
   ]
  },
  {
   "cell_type": "markdown",
   "metadata": {},
   "source": [
    "C-08和C-09两个特征的分布图不符合正态性"
   ]
  },
  {
   "cell_type": "code",
   "execution_count": null,
   "metadata": {},
   "outputs": [],
   "source": []
  },
  {
   "cell_type": "code",
   "execution_count": 10,
   "metadata": {},
   "outputs": [
    {
     "data": {
      "text/plain": [
       "<matplotlib.legend.Legend at 0x26f6c55d6a0>"
      ]
     },
     "execution_count": 10,
     "metadata": {},
     "output_type": "execute_result"
    },
    {
     "data": {
      "image/png": "[encoded data removed]",
      "text/plain": [
       "<Figure size 576x396 with 1 Axes>"
      ]
     },
     "metadata": {},
     "output_type": "display_data"
    }
   ],
   "source": [
    "df['C-08'].plot(kind = 'kde', xlim = [0,50], label = 'C-08-old')\n",
    "\n",
    "np.log10(df['C-08']).plot(kind = 'kde', xlim = [0,50], label = 'C-08-new')\n",
    "plt.legend()"
   ]
  },
  {
   "cell_type": "code",
   "execution_count": 13,
   "metadata": {},
   "outputs": [
    {
     "data": {
      "text/plain": [
       "<matplotlib.axes._subplots.AxesSubplot at 0x26f6dd04e10>"
      ]
     },
     "execution_count": 13,
     "metadata": {},
     "output_type": "execute_result"
    },
    {
     "data": {
      "image/png": "[encoded data removed]",
      "text/plain": [
       "<Figure size 576x396 with 1 Axes>"
      ]
     },
     "metadata": {},
     "output_type": "display_data"
    }
   ],
   "source": [
    "np.log10(df['C-08']).hist(bins = 15)"
   ]
  },
  {
   "cell_type": "code",
   "execution_count": 14,
   "metadata": {},
   "outputs": [
    {
     "data": {
      "text/plain": [
       "<matplotlib.legend.Legend at 0x26f6dd82160>"
      ]
     },
     "execution_count": 14,
     "metadata": {},
     "output_type": "execute_result"
    },
    {
     "data": {
      "image/png": "[encoded data removed]",
      "text/plain": [
       "<Figure size 576x396 with 1 Axes>"
      ]
     },
     "metadata": {},
     "output_type": "display_data"
    }
   ],
   "source": [
    "df['C-09'].plot(kind = 'kde', xlim = [0,50], label = 'C-09-old')\n",
    "\n",
    "np.log10(df['C-09']).plot(kind = 'kde', xlim = [0,50], label = 'C-09-new')\n",
    "plt.legend()"
   ]
  },
  {
   "cell_type": "code",
   "execution_count": 15,
   "metadata": {},
   "outputs": [
    {
     "data": {
      "text/plain": [
       "<matplotlib.axes._subplots.AxesSubplot at 0x26f6ddd63c8>"
      ]
     },
     "execution_count": 15,
     "metadata": {},
     "output_type": "execute_result"
    },
    {
     "data": {
      "image/png": "[encoded data removed]",
      "text/plain": [
       "<Figure size 576x396 with 1 Axes>"
      ]
     },
     "metadata": {},
     "output_type": "display_data"
    }
   ],
   "source": [
    "np.log10(df['C-09']).hist(bins = 25)"
   ]
  },
  {
   "cell_type": "markdown",
   "metadata": {},
   "source": [
    "# 数据的浓缩\n",
    "\n",
    "五数概括法：  \n",
    "最小值、最大值、中位数、上四分位数、下四分位数"
   ]
  },
  {
   "cell_type": "code",
   "execution_count": 7,
   "metadata": {},
   "outputs": [
    {
     "name": "stdout",
     "output_type": "stream",
     "text": [
      "数据的概况总览\n"
     ]
    },
    {
     "data": {
      "text/html": [
       "<div>\n",
       "<style scoped>\n",
       "    .dataframe tbody tr th:only-of-type {\n",
       "        vertical-align: middle;\n",
       "    }\n",
       "\n",
       "    .dataframe tbody tr th {\n",
       "        vertical-align: top;\n",
       "    }\n",
       "\n",
       "    .dataframe thead th {\n",
       "        text-align: right;\n",
       "    }\n",
       "</style>\n",
       "<table border=\"1\" class=\"dataframe\">\n",
       "  <thead>\n",
       "    <tr style=\"text-align: right;\">\n",
       "      <th></th>\n",
       "      <th>X</th>\n",
       "      <th>C-08</th>\n",
       "      <th>C-09</th>\n",
       "      <th>C-10</th>\n",
       "      <th>C-11</th>\n",
       "    </tr>\n",
       "  </thead>\n",
       "  <tbody>\n",
       "    <tr>\n",
       "      <th>count</th>\n",
       "      <td>1314.000000</td>\n",
       "      <td>1314.000000</td>\n",
       "      <td>1314.000000</td>\n",
       "      <td>1271.000000</td>\n",
       "      <td>1253.000000</td>\n",
       "    </tr>\n",
       "    <tr>\n",
       "      <th>mean</th>\n",
       "      <td>0.468798</td>\n",
       "      <td>89.873668</td>\n",
       "      <td>91.315830</td>\n",
       "      <td>28.078678</td>\n",
       "      <td>54.598643</td>\n",
       "    </tr>\n",
       "    <tr>\n",
       "      <th>std</th>\n",
       "      <td>0.499215</td>\n",
       "      <td>130.231299</td>\n",
       "      <td>48.110829</td>\n",
       "      <td>12.161322</td>\n",
       "      <td>11.177110</td>\n",
       "    </tr>\n",
       "    <tr>\n",
       "      <th>min</th>\n",
       "      <td>0.000000</td>\n",
       "      <td>9.000000</td>\n",
       "      <td>18.000000</td>\n",
       "      <td>3.000000</td>\n",
       "      <td>33.900000</td>\n",
       "    </tr>\n",
       "    <tr>\n",
       "      <th>25%</th>\n",
       "      <td>0.000000</td>\n",
       "      <td>31.000000</td>\n",
       "      <td>66.000000</td>\n",
       "      <td>21.000000</td>\n",
       "      <td>47.300000</td>\n",
       "    </tr>\n",
       "    <tr>\n",
       "      <th>50%</th>\n",
       "      <td>0.000000</td>\n",
       "      <td>54.000000</td>\n",
       "      <td>80.500000</td>\n",
       "      <td>26.000000</td>\n",
       "      <td>52.300000</td>\n",
       "    </tr>\n",
       "    <tr>\n",
       "      <th>75%</th>\n",
       "      <td>1.000000</td>\n",
       "      <td>99.000000</td>\n",
       "      <td>102.000000</td>\n",
       "      <td>32.000000</td>\n",
       "      <td>59.000000</td>\n",
       "    </tr>\n",
       "    <tr>\n",
       "      <th>max</th>\n",
       "      <td>1.000000</td>\n",
       "      <td>2433.000000</td>\n",
       "      <td>654.000000</td>\n",
       "      <td>178.000000</td>\n",
       "      <td>114.100000</td>\n",
       "    </tr>\n",
       "  </tbody>\n",
       "</table>\n",
       "</div>"
      ],
      "text/plain": [
       "                 X         C-08         C-09         C-10         C-11\n",
       "count  1314.000000  1314.000000  1314.000000  1271.000000  1253.000000\n",
       "mean      0.468798    89.873668    91.315830    28.078678    54.598643\n",
       "std       0.499215   130.231299    48.110829    12.161322    11.177110\n",
       "min       0.000000     9.000000    18.000000     3.000000    33.900000\n",
       "25%       0.000000    31.000000    66.000000    21.000000    47.300000\n",
       "50%       0.000000    54.000000    80.500000    26.000000    52.300000\n",
       "75%       1.000000    99.000000   102.000000    32.000000    59.000000\n",
       "max       1.000000  2433.000000   654.000000   178.000000   114.100000"
      ]
     },
     "execution_count": 7,
     "metadata": {},
     "output_type": "execute_result"
    }
   ],
   "source": [
    "print('数据的概况总览')\n",
    "df.describe()"
   ]
  },
  {
   "cell_type": "markdown",
   "metadata": {},
   "source": [
    "## 样本的矩\n",
    "\n",
    "\n",
    "1阶原点矩——数学期望、均值  \n",
    "2阶中心矩——方差  \n",
    "3阶中心矩——偏度系数  \n",
    "4阶中心矩——峰度系数"
   ]
  },
  {
   "cell_type": "code",
   "execution_count": 17,
   "metadata": {},
   "outputs": [
    {
     "data": {
      "text/plain": [
       "count    1314.000000\n",
       "mean       91.315830\n",
       "std        48.110829\n",
       "min        18.000000\n",
       "25%        66.000000\n",
       "50%        80.500000\n",
       "75%       102.000000\n",
       "max       654.000000\n",
       "Name: C-09, dtype: float64"
      ]
     },
     "execution_count": 17,
     "metadata": {},
     "output_type": "execute_result"
    }
   ],
   "source": [
    "df['C-09'].describe()"
   ]
  },
  {
   "cell_type": "code",
   "execution_count": 18,
   "metadata": {},
   "outputs": [
    {
     "name": "stdout",
     "output_type": "stream",
     "text": [
      "以特征C-09为例：\n",
      "均值 =  91.31582952815829\n",
      "方差 =  2314.651889372289\n",
      "偏度 =  4.475053606520319\n",
      "峰度 =  33.12509370725447\n"
     ]
    }
   ],
   "source": [
    "print('以特征C-09为例：')\n",
    "print('均值 = ', df['C-09'].mean())\n",
    "print('方差 = ', df['C-09'].var())\n",
    "print('偏度 = ', df['C-09'].skew())\n",
    "print('峰度 = ', df['C-09'].kurt())"
   ]
  },
  {
   "cell_type": "markdown",
   "metadata": {},
   "source": [
    "## 箱型图和异常值"
   ]
  },
  {
   "cell_type": "code",
   "execution_count": 8,
   "metadata": {},
   "outputs": [],
   "source": [
    "import seaborn as sns"
   ]
  },
  {
   "cell_type": "markdown",
   "metadata": {},
   "source": [
    "使用seaborn的箱线图展示"
   ]
  },
  {
   "cell_type": "code",
   "execution_count": 9,
   "metadata": {},
   "outputs": [
    {
     "name": "stdout",
     "output_type": "stream",
     "text": [
      "同样以C-09为例，看各分类的箱型图：\n"
     ]
    },
    {
     "data": {
      "image/png": "[encoded data removed]",
      "text/plain": [
       "<Figure size 576x396 with 1 Axes>"
      ]
     },
     "metadata": {},
     "output_type": "display_data"
    }
   ],
   "source": [
    "sns.boxplot(x = 'X', y = 'C-09', data = df)\n",
    "print('同样以C-09为例，看各分类的箱型图：')"
   ]
  },
  {
   "cell_type": "markdown",
   "metadata": {},
   "source": [
    "异常值分析：  \n",
    "1) 大于Q3+1.5*IQR或小于Q1-1.5IQR的值，其中IQR为四分位距  \n",
    "2) 3西格玛原则，数值分布在（μ—3σ,μ+3σ)中的概率为0.9974 "
   ]
  },
  {
   "cell_type": "markdown",
   "metadata": {},
   "source": [
    "## 数据相关性"
   ]
  },
  {
   "cell_type": "code",
   "execution_count": 10,
   "metadata": {},
   "outputs": [
    {
     "data": {
      "text/plain": [
       "<matplotlib.axes._subplots.AxesSubplot at 0x1db48c5c278>"
      ]
     },
     "execution_count": 10,
     "metadata": {},
     "output_type": "execute_result"
    },
    {
     "data": {
      "image/png": "[encoded data removed]",
      "text/plain": [
       "<Figure size 576x396 with 1 Axes>"
      ]
     },
     "metadata": {},
     "output_type": "display_data"
    }
   ],
   "source": [
    "df[['X', 'C-09']].plot(x = 'X', y = 'C-09', kind = 'scatter')"
   ]
  },
  {
   "cell_type": "markdown",
   "metadata": {},
   "source": []
  },
  {
   "cell_type": "code",
   "execution_count": 11,
   "metadata": {},
   "outputs": [
    {
     "data": {
      "text/plain": [
       "<matplotlib.axes._subplots.AxesSubplot at 0x1db48cb8ac8>"
      ]
     },
     "execution_count": 11,
     "metadata": {},
     "output_type": "execute_result"
    },
    {
     "data": {
      "image/png": "[encoded data removed]",
      "text/plain": [
       "<Figure size 576x396 with 1 Axes>"
      ]
     },
     "metadata": {},
     "output_type": "display_data"
    }
   ],
   "source": [
    "df[['X','C-08']].plot(x = 'X', y = 'C-08', kind = 'scatter')"
   ]
  },
  {
   "cell_type": "code",
   "execution_count": 12,
   "metadata": {},
   "outputs": [
    {
     "data": {
      "text/plain": [
       "<matplotlib.axes._subplots.AxesSubplot at 0x1db48d1b6d8>"
      ]
     },
     "execution_count": 12,
     "metadata": {},
     "output_type": "execute_result"
    },
    {
     "data": {
      "image/png": "[encoded data removed]",
      "text/plain": [
       "<Figure size 576x396 with 1 Axes>"
      ]
     },
     "metadata": {},
     "output_type": "display_data"
    }
   ],
   "source": [
    "df[['X','C-10']].plot(x = 'X', y = 'C-10', kind = 'scatter')"
   ]
  },
  {
   "cell_type": "code",
   "execution_count": 13,
   "metadata": {},
   "outputs": [
    {
     "data": {
      "text/plain": [
       "<matplotlib.axes._subplots.AxesSubplot at 0x1db48d04780>"
      ]
     },
     "execution_count": 13,
     "metadata": {},
     "output_type": "execute_result"
    },
    {
     "data": {
      "image/png": "[encoded data removed]",
      "text/plain": [
       "<Figure size 576x396 with 1 Axes>"
      ]
     },
     "metadata": {},
     "output_type": "display_data"
    }
   ],
   "source": [
    "df[['C-09', 'C-10']].plot(x='C-09', y='C-10', c=df['X'], kind='scatter')"
   ]
  },
  {
   "cell_type": "code",
   "execution_count": 14,
   "metadata": {},
   "outputs": [
    {
     "data": {
      "text/plain": [
       "<matplotlib.axes._subplots.AxesSubplot at 0x1db48dd6d68>"
      ]
     },
     "execution_count": 14,
     "metadata": {},
     "output_type": "execute_result"
    },
    {
     "data": {
      "image/png": "[encoded data removed]",
      "text/plain": [
       "<Figure size 576x396 with 1 Axes>"
      ]
     },
     "metadata": {},
     "output_type": "display_data"
    }
   ],
   "source": [
    "df[['C-10', 'C-11']].plot(x='C-10', y='C-11', c=df['X'], kind='scatter')"
   ]
  },
  {
   "cell_type": "markdown",
   "metadata": {},
   "source": [
    "## 相关系数矩阵"
   ]
  },
  {
   "cell_type": "code",
   "execution_count": 15,
   "metadata": {},
   "outputs": [],
   "source": [
    "def process(x):\n",
    "    if 0<= x <= 91:\n",
    "        return 0\n",
    "    elif 91< x < 190:\n",
    "        return 1\n",
    "    else:\n",
    "        return 2\n",
    "df['C-09-new'] = df['C-09'].apply(lambda x : process(x))"
   ]
  },
  {
   "cell_type": "markdown",
   "metadata": {},
   "source": [
    "皮尔逊相关系数：\n",
    "    值域为[-1,1], 1表示完全正相关， -1表示完全负相关，0表示无关， 绝对值越大表明相关性越强"
   ]
  },
  {
   "cell_type": "code",
   "execution_count": 16,
   "metadata": {},
   "outputs": [
    {
     "data": {
      "text/html": [
       "<div>\n",
       "<style scoped>\n",
       "    .dataframe tbody tr th:only-of-type {\n",
       "        vertical-align: middle;\n",
       "    }\n",
       "\n",
       "    .dataframe tbody tr th {\n",
       "        vertical-align: top;\n",
       "    }\n",
       "\n",
       "    .dataframe thead th {\n",
       "        text-align: right;\n",
       "    }\n",
       "</style>\n",
       "<table border=\"1\" class=\"dataframe\">\n",
       "  <thead>\n",
       "    <tr style=\"text-align: right;\">\n",
       "      <th></th>\n",
       "      <th>X</th>\n",
       "      <th>C-09-new</th>\n",
       "    </tr>\n",
       "  </thead>\n",
       "  <tbody>\n",
       "    <tr>\n",
       "      <th>X</th>\n",
       "      <td>1.000000</td>\n",
       "      <td>0.119007</td>\n",
       "    </tr>\n",
       "    <tr>\n",
       "      <th>C-09-new</th>\n",
       "      <td>0.119007</td>\n",
       "      <td>1.000000</td>\n",
       "    </tr>\n",
       "  </tbody>\n",
       "</table>\n",
       "</div>"
      ],
      "text/plain": [
       "                 X  C-09-new\n",
       "X         1.000000  0.119007\n",
       "C-09-new  0.119007  1.000000"
      ]
     },
     "execution_count": 16,
     "metadata": {},
     "output_type": "execute_result"
    }
   ],
   "source": [
    "df[['X','C-09-new']].corr(method = 'spearman')"
   ]
  },
  {
   "cell_type": "code",
   "execution_count": 7,
   "metadata": {},
   "outputs": [
    {
     "data": {
      "text/plain": [
       "X       1.000000\n",
       "C-10    0.146106\n",
       "C-08    0.115669\n",
       "C-11    0.112468\n",
       "C-09    0.102376\n",
       "Name: X, dtype: float64"
      ]
     },
     "execution_count": 7,
     "metadata": {},
     "output_type": "execute_result"
    }
   ],
   "source": [
    "corr_mat = df.corr(method = 'pearson')\n",
    "corr_mat['X'].abs().sort_values(ascending = False) #得到性别与其他特征的相关系数  倒序"
   ]
  },
  {
   "cell_type": "markdown",
   "metadata": {},
   "source": [
    "## 协方差矩阵"
   ]
  },
  {
   "cell_type": "code",
   "execution_count": 18,
   "metadata": {},
   "outputs": [
    {
     "name": "stdout",
     "output_type": "stream",
     "text": [
      "计算X,与C-08、C-09、C-10、C-11\n"
     ]
    },
    {
     "data": {
      "text/html": [
       "<div>\n",
       "<style scoped>\n",
       "    .dataframe tbody tr th:only-of-type {\n",
       "        vertical-align: middle;\n",
       "    }\n",
       "\n",
       "    .dataframe tbody tr th {\n",
       "        vertical-align: top;\n",
       "    }\n",
       "\n",
       "    .dataframe thead th {\n",
       "        text-align: right;\n",
       "    }\n",
       "</style>\n",
       "<table border=\"1\" class=\"dataframe\">\n",
       "  <thead>\n",
       "    <tr style=\"text-align: right;\">\n",
       "      <th></th>\n",
       "      <th>X</th>\n",
       "      <th>C-08</th>\n",
       "      <th>C-09</th>\n",
       "      <th>C-10</th>\n",
       "      <th>C-11</th>\n",
       "    </tr>\n",
       "  </thead>\n",
       "  <tbody>\n",
       "    <tr>\n",
       "      <th>X</th>\n",
       "      <td>0.249216</td>\n",
       "      <td>7.520046</td>\n",
       "      <td>2.458834</td>\n",
       "      <td>0.887301</td>\n",
       "      <td>0.627716</td>\n",
       "    </tr>\n",
       "    <tr>\n",
       "      <th>C-08</th>\n",
       "      <td>7.520046</td>\n",
       "      <td>16960.191187</td>\n",
       "      <td>4066.243281</td>\n",
       "      <td>598.196960</td>\n",
       "      <td>303.888678</td>\n",
       "    </tr>\n",
       "    <tr>\n",
       "      <th>C-09</th>\n",
       "      <td>2.458834</td>\n",
       "      <td>4066.243281</td>\n",
       "      <td>2314.651889</td>\n",
       "      <td>204.528531</td>\n",
       "      <td>184.095211</td>\n",
       "    </tr>\n",
       "    <tr>\n",
       "      <th>C-10</th>\n",
       "      <td>0.887301</td>\n",
       "      <td>598.196960</td>\n",
       "      <td>204.528531</td>\n",
       "      <td>147.897742</td>\n",
       "      <td>26.579158</td>\n",
       "    </tr>\n",
       "    <tr>\n",
       "      <th>C-11</th>\n",
       "      <td>0.627716</td>\n",
       "      <td>303.888678</td>\n",
       "      <td>184.095211</td>\n",
       "      <td>26.579158</td>\n",
       "      <td>124.927786</td>\n",
       "    </tr>\n",
       "  </tbody>\n",
       "</table>\n",
       "</div>"
      ],
      "text/plain": [
       "             X          C-08         C-09        C-10        C-11\n",
       "X     0.249216      7.520046     2.458834    0.887301    0.627716\n",
       "C-08  7.520046  16960.191187  4066.243281  598.196960  303.888678\n",
       "C-09  2.458834   4066.243281  2314.651889  204.528531  184.095211\n",
       "C-10  0.887301    598.196960   204.528531  147.897742   26.579158\n",
       "C-11  0.627716    303.888678   184.095211   26.579158  124.927786"
      ]
     },
     "execution_count": 18,
     "metadata": {},
     "output_type": "execute_result"
    }
   ],
   "source": [
    "print('计算X,与C-08、C-09、C-10、C-11')\n",
    "df[['X', 'C-08', 'C-09', 'C-10', 'C-11']].cov()"
   ]
  },
  {
   "cell_type": "markdown",
   "metadata": {},
   "source": [
    "# 预处理和降维\n",
    "\n",
    "## 异常值的处理\n",
    "\n",
    "### 缺失值处理"
   ]
  },
  {
   "cell_type": "code",
   "execution_count": 19,
   "metadata": {},
   "outputs": [
    {
     "name": "stdout",
     "output_type": "stream",
     "text": [
      "观察缺失值的比例，以决定采用填补还是丢弃\n"
     ]
    },
    {
     "data": {
      "text/html": [
       "<div>\n",
       "<style scoped>\n",
       "    .dataframe tbody tr th:only-of-type {\n",
       "        vertical-align: middle;\n",
       "    }\n",
       "\n",
       "    .dataframe tbody tr th {\n",
       "        vertical-align: top;\n",
       "    }\n",
       "\n",
       "    .dataframe thead th {\n",
       "        text-align: right;\n",
       "    }\n",
       "</style>\n",
       "<table border=\"1\" class=\"dataframe\">\n",
       "  <thead>\n",
       "    <tr style=\"text-align: right;\">\n",
       "      <th></th>\n",
       "      <th>ID</th>\n",
       "      <th>X</th>\n",
       "      <th>C-08</th>\n",
       "      <th>C-09</th>\n",
       "      <th>C-10</th>\n",
       "      <th>C-11</th>\n",
       "      <th>Year</th>\n",
       "      <th>C-09-new</th>\n",
       "    </tr>\n",
       "  </thead>\n",
       "  <tbody>\n",
       "    <tr>\n",
       "      <th>count</th>\n",
       "      <td>1314</td>\n",
       "      <td>1314</td>\n",
       "      <td>1314</td>\n",
       "      <td>1314</td>\n",
       "      <td>1314</td>\n",
       "      <td>1314</td>\n",
       "      <td>1314</td>\n",
       "      <td>1314</td>\n",
       "    </tr>\n",
       "    <tr>\n",
       "      <th>unique</th>\n",
       "      <td>1</td>\n",
       "      <td>1</td>\n",
       "      <td>1</td>\n",
       "      <td>1</td>\n",
       "      <td>2</td>\n",
       "      <td>2</td>\n",
       "      <td>1</td>\n",
       "      <td>1</td>\n",
       "    </tr>\n",
       "    <tr>\n",
       "      <th>top</th>\n",
       "      <td>False</td>\n",
       "      <td>False</td>\n",
       "      <td>False</td>\n",
       "      <td>False</td>\n",
       "      <td>False</td>\n",
       "      <td>False</td>\n",
       "      <td>False</td>\n",
       "      <td>False</td>\n",
       "    </tr>\n",
       "    <tr>\n",
       "      <th>freq</th>\n",
       "      <td>1314</td>\n",
       "      <td>1314</td>\n",
       "      <td>1314</td>\n",
       "      <td>1314</td>\n",
       "      <td>1271</td>\n",
       "      <td>1253</td>\n",
       "      <td>1314</td>\n",
       "      <td>1314</td>\n",
       "    </tr>\n",
       "  </tbody>\n",
       "</table>\n",
       "</div>"
      ],
      "text/plain": [
       "           ID      X   C-08   C-09   C-10   C-11   Year C-09-new\n",
       "count    1314   1314   1314   1314   1314   1314   1314     1314\n",
       "unique      1      1      1      1      2      2      1        1\n",
       "top     False  False  False  False  False  False  False    False\n",
       "freq     1314   1314   1314   1314   1271   1253   1314     1314"
      ]
     },
     "execution_count": 19,
     "metadata": {},
     "output_type": "execute_result"
    }
   ],
   "source": [
    "print(\"观察缺失值的比例，以决定采用填补还是丢弃\")\n",
    "df.isnull().describe()"
   ]
  },
  {
   "cell_type": "markdown",
   "metadata": {},
   "source": [
    "这里直接删除包含缺失的样本  \n",
    "实际应用中可能需要适合的fill none算法  "
   ]
  },
  {
   "cell_type": "code",
   "execution_count": 3,
   "metadata": {},
   "outputs": [
    {
     "name": "stdout",
     "output_type": "stream",
     "text": [
      "剩余样本： (1252, 6)\n"
     ]
    }
   ],
   "source": [
    "df.dropna(inplace = True) #数据清洗\n",
    "print('剩余样本：', df.shape)\n",
    "#df.drop(columns = 'Year')"
   ]
  },
  {
   "cell_type": "code",
   "execution_count": 21,
   "metadata": {},
   "outputs": [
    {
     "data": {
      "text/html": [
       "<div>\n",
       "<style scoped>\n",
       "    .dataframe tbody tr th:only-of-type {\n",
       "        vertical-align: middle;\n",
       "    }\n",
       "\n",
       "    .dataframe tbody tr th {\n",
       "        vertical-align: top;\n",
       "    }\n",
       "\n",
       "    .dataframe thead th {\n",
       "        text-align: right;\n",
       "    }\n",
       "</style>\n",
       "<table border=\"1\" class=\"dataframe\">\n",
       "  <thead>\n",
       "    <tr style=\"text-align: right;\">\n",
       "      <th></th>\n",
       "      <th>ID</th>\n",
       "      <th>X</th>\n",
       "      <th>C-08</th>\n",
       "      <th>C-09</th>\n",
       "      <th>C-10</th>\n",
       "      <th>C-11</th>\n",
       "      <th>C-09-new</th>\n",
       "    </tr>\n",
       "  </thead>\n",
       "  <tbody>\n",
       "    <tr>\n",
       "      <th>0</th>\n",
       "      <td>15-10001</td>\n",
       "      <td>0</td>\n",
       "      <td>143</td>\n",
       "      <td>163</td>\n",
       "      <td>38.0</td>\n",
       "      <td>56.6</td>\n",
       "      <td>1</td>\n",
       "    </tr>\n",
       "    <tr>\n",
       "      <th>1</th>\n",
       "      <td>15-10002</td>\n",
       "      <td>0</td>\n",
       "      <td>83</td>\n",
       "      <td>87</td>\n",
       "      <td>29.0</td>\n",
       "      <td>63.2</td>\n",
       "      <td>0</td>\n",
       "    </tr>\n",
       "    <tr>\n",
       "      <th>2</th>\n",
       "      <td>15-10003</td>\n",
       "      <td>1</td>\n",
       "      <td>105</td>\n",
       "      <td>117</td>\n",
       "      <td>36.0</td>\n",
       "      <td>54.7</td>\n",
       "      <td>1</td>\n",
       "    </tr>\n",
       "    <tr>\n",
       "      <th>3</th>\n",
       "      <td>15-10004</td>\n",
       "      <td>0</td>\n",
       "      <td>116</td>\n",
       "      <td>57</td>\n",
       "      <td>24.0</td>\n",
       "      <td>45.4</td>\n",
       "      <td>0</td>\n",
       "    </tr>\n",
       "    <tr>\n",
       "      <th>4</th>\n",
       "      <td>15-10005</td>\n",
       "      <td>1</td>\n",
       "      <td>186</td>\n",
       "      <td>142</td>\n",
       "      <td>66.0</td>\n",
       "      <td>49.9</td>\n",
       "      <td>1</td>\n",
       "    </tr>\n",
       "    <tr>\n",
       "      <th>5</th>\n",
       "      <td>15-10006</td>\n",
       "      <td>1</td>\n",
       "      <td>78</td>\n",
       "      <td>60</td>\n",
       "      <td>25.0</td>\n",
       "      <td>79.4</td>\n",
       "      <td>0</td>\n",
       "    </tr>\n",
       "    <tr>\n",
       "      <th>6</th>\n",
       "      <td>15-10007</td>\n",
       "      <td>1</td>\n",
       "      <td>130</td>\n",
       "      <td>124</td>\n",
       "      <td>33.0</td>\n",
       "      <td>63.7</td>\n",
       "      <td>1</td>\n",
       "    </tr>\n",
       "    <tr>\n",
       "      <th>7</th>\n",
       "      <td>15-10008</td>\n",
       "      <td>0</td>\n",
       "      <td>25</td>\n",
       "      <td>81</td>\n",
       "      <td>43.0</td>\n",
       "      <td>49.8</td>\n",
       "      <td>0</td>\n",
       "    </tr>\n",
       "    <tr>\n",
       "      <th>8</th>\n",
       "      <td>15-10009</td>\n",
       "      <td>1</td>\n",
       "      <td>82</td>\n",
       "      <td>54</td>\n",
       "      <td>19.0</td>\n",
       "      <td>38.3</td>\n",
       "      <td>0</td>\n",
       "    </tr>\n",
       "    <tr>\n",
       "      <th>9</th>\n",
       "      <td>15-10010</td>\n",
       "      <td>0</td>\n",
       "      <td>326</td>\n",
       "      <td>148</td>\n",
       "      <td>30.0</td>\n",
       "      <td>49.6</td>\n",
       "      <td>1</td>\n",
       "    </tr>\n",
       "    <tr>\n",
       "      <th>10</th>\n",
       "      <td>15-10011</td>\n",
       "      <td>1</td>\n",
       "      <td>28</td>\n",
       "      <td>45</td>\n",
       "      <td>19.0</td>\n",
       "      <td>41.4</td>\n",
       "      <td>0</td>\n",
       "    </tr>\n",
       "    <tr>\n",
       "      <th>11</th>\n",
       "      <td>15-10012</td>\n",
       "      <td>1</td>\n",
       "      <td>97</td>\n",
       "      <td>92</td>\n",
       "      <td>24.0</td>\n",
       "      <td>49.6</td>\n",
       "      <td>1</td>\n",
       "    </tr>\n",
       "    <tr>\n",
       "      <th>12</th>\n",
       "      <td>15-10013</td>\n",
       "      <td>1</td>\n",
       "      <td>37</td>\n",
       "      <td>85</td>\n",
       "      <td>31.0</td>\n",
       "      <td>49.2</td>\n",
       "      <td>0</td>\n",
       "    </tr>\n",
       "    <tr>\n",
       "      <th>13</th>\n",
       "      <td>15-10014</td>\n",
       "      <td>1</td>\n",
       "      <td>136</td>\n",
       "      <td>94</td>\n",
       "      <td>26.0</td>\n",
       "      <td>51.1</td>\n",
       "      <td>1</td>\n",
       "    </tr>\n",
       "    <tr>\n",
       "      <th>14</th>\n",
       "      <td>15-10015</td>\n",
       "      <td>1</td>\n",
       "      <td>147</td>\n",
       "      <td>80</td>\n",
       "      <td>45.0</td>\n",
       "      <td>38.0</td>\n",
       "      <td>0</td>\n",
       "    </tr>\n",
       "    <tr>\n",
       "      <th>15</th>\n",
       "      <td>15-10016</td>\n",
       "      <td>0</td>\n",
       "      <td>42</td>\n",
       "      <td>65</td>\n",
       "      <td>23.0</td>\n",
       "      <td>56.3</td>\n",
       "      <td>0</td>\n",
       "    </tr>\n",
       "    <tr>\n",
       "      <th>16</th>\n",
       "      <td>15-10017</td>\n",
       "      <td>1</td>\n",
       "      <td>43</td>\n",
       "      <td>97</td>\n",
       "      <td>27.0</td>\n",
       "      <td>54.0</td>\n",
       "      <td>1</td>\n",
       "    </tr>\n",
       "    <tr>\n",
       "      <th>17</th>\n",
       "      <td>15-10018</td>\n",
       "      <td>0</td>\n",
       "      <td>51</td>\n",
       "      <td>59</td>\n",
       "      <td>18.0</td>\n",
       "      <td>57.4</td>\n",
       "      <td>0</td>\n",
       "    </tr>\n",
       "    <tr>\n",
       "      <th>18</th>\n",
       "      <td>15-10019</td>\n",
       "      <td>1</td>\n",
       "      <td>125</td>\n",
       "      <td>131</td>\n",
       "      <td>19.0</td>\n",
       "      <td>45.4</td>\n",
       "      <td>1</td>\n",
       "    </tr>\n",
       "    <tr>\n",
       "      <th>19</th>\n",
       "      <td>15-10020</td>\n",
       "      <td>1</td>\n",
       "      <td>30</td>\n",
       "      <td>63</td>\n",
       "      <td>34.0</td>\n",
       "      <td>49.6</td>\n",
       "      <td>0</td>\n",
       "    </tr>\n",
       "    <tr>\n",
       "      <th>20</th>\n",
       "      <td>15-10021</td>\n",
       "      <td>1</td>\n",
       "      <td>73</td>\n",
       "      <td>83</td>\n",
       "      <td>36.0</td>\n",
       "      <td>48.0</td>\n",
       "      <td>0</td>\n",
       "    </tr>\n",
       "    <tr>\n",
       "      <th>21</th>\n",
       "      <td>15-10022</td>\n",
       "      <td>1</td>\n",
       "      <td>82</td>\n",
       "      <td>120</td>\n",
       "      <td>38.0</td>\n",
       "      <td>60.3</td>\n",
       "      <td>1</td>\n",
       "    </tr>\n",
       "    <tr>\n",
       "      <th>22</th>\n",
       "      <td>15-10023</td>\n",
       "      <td>0</td>\n",
       "      <td>26</td>\n",
       "      <td>140</td>\n",
       "      <td>31.0</td>\n",
       "      <td>58.6</td>\n",
       "      <td>1</td>\n",
       "    </tr>\n",
       "    <tr>\n",
       "      <th>23</th>\n",
       "      <td>15-10024</td>\n",
       "      <td>0</td>\n",
       "      <td>146</td>\n",
       "      <td>97</td>\n",
       "      <td>20.0</td>\n",
       "      <td>64.9</td>\n",
       "      <td>1</td>\n",
       "    </tr>\n",
       "    <tr>\n",
       "      <th>24</th>\n",
       "      <td>15-10025</td>\n",
       "      <td>1</td>\n",
       "      <td>59</td>\n",
       "      <td>79</td>\n",
       "      <td>29.0</td>\n",
       "      <td>35.3</td>\n",
       "      <td>0</td>\n",
       "    </tr>\n",
       "    <tr>\n",
       "      <th>25</th>\n",
       "      <td>15-10026</td>\n",
       "      <td>0</td>\n",
       "      <td>27</td>\n",
       "      <td>65</td>\n",
       "      <td>21.0</td>\n",
       "      <td>55.7</td>\n",
       "      <td>0</td>\n",
       "    </tr>\n",
       "    <tr>\n",
       "      <th>26</th>\n",
       "      <td>15-10027</td>\n",
       "      <td>0</td>\n",
       "      <td>146</td>\n",
       "      <td>71</td>\n",
       "      <td>43.0</td>\n",
       "      <td>47.4</td>\n",
       "      <td>0</td>\n",
       "    </tr>\n",
       "    <tr>\n",
       "      <th>27</th>\n",
       "      <td>15-10028</td>\n",
       "      <td>1</td>\n",
       "      <td>15</td>\n",
       "      <td>35</td>\n",
       "      <td>19.0</td>\n",
       "      <td>42.3</td>\n",
       "      <td>0</td>\n",
       "    </tr>\n",
       "    <tr>\n",
       "      <th>28</th>\n",
       "      <td>15-10029</td>\n",
       "      <td>0</td>\n",
       "      <td>223</td>\n",
       "      <td>176</td>\n",
       "      <td>44.0</td>\n",
       "      <td>52.5</td>\n",
       "      <td>1</td>\n",
       "    </tr>\n",
       "    <tr>\n",
       "      <th>29</th>\n",
       "      <td>15-10030</td>\n",
       "      <td>1</td>\n",
       "      <td>42</td>\n",
       "      <td>74</td>\n",
       "      <td>24.0</td>\n",
       "      <td>58.0</td>\n",
       "      <td>0</td>\n",
       "    </tr>\n",
       "    <tr>\n",
       "      <th>...</th>\n",
       "      <td>...</td>\n",
       "      <td>...</td>\n",
       "      <td>...</td>\n",
       "      <td>...</td>\n",
       "      <td>...</td>\n",
       "      <td>...</td>\n",
       "      <td>...</td>\n",
       "    </tr>\n",
       "    <tr>\n",
       "      <th>1284</th>\n",
       "      <td>17-10448</td>\n",
       "      <td>0</td>\n",
       "      <td>32</td>\n",
       "      <td>90</td>\n",
       "      <td>27.0</td>\n",
       "      <td>49.2</td>\n",
       "      <td>0</td>\n",
       "    </tr>\n",
       "    <tr>\n",
       "      <th>1285</th>\n",
       "      <td>17-10449</td>\n",
       "      <td>0</td>\n",
       "      <td>70</td>\n",
       "      <td>92</td>\n",
       "      <td>26.0</td>\n",
       "      <td>74.8</td>\n",
       "      <td>1</td>\n",
       "    </tr>\n",
       "    <tr>\n",
       "      <th>1286</th>\n",
       "      <td>17-10450</td>\n",
       "      <td>0</td>\n",
       "      <td>169</td>\n",
       "      <td>192</td>\n",
       "      <td>14.0</td>\n",
       "      <td>68.2</td>\n",
       "      <td>2</td>\n",
       "    </tr>\n",
       "    <tr>\n",
       "      <th>1287</th>\n",
       "      <td>17-10451</td>\n",
       "      <td>0</td>\n",
       "      <td>35</td>\n",
       "      <td>70</td>\n",
       "      <td>23.0</td>\n",
       "      <td>51.6</td>\n",
       "      <td>0</td>\n",
       "    </tr>\n",
       "    <tr>\n",
       "      <th>1288</th>\n",
       "      <td>17-10452</td>\n",
       "      <td>0</td>\n",
       "      <td>21</td>\n",
       "      <td>49</td>\n",
       "      <td>17.0</td>\n",
       "      <td>52.9</td>\n",
       "      <td>0</td>\n",
       "    </tr>\n",
       "    <tr>\n",
       "      <th>1289</th>\n",
       "      <td>17-10453</td>\n",
       "      <td>0</td>\n",
       "      <td>84</td>\n",
       "      <td>77</td>\n",
       "      <td>21.0</td>\n",
       "      <td>63.8</td>\n",
       "      <td>0</td>\n",
       "    </tr>\n",
       "    <tr>\n",
       "      <th>1290</th>\n",
       "      <td>17-10454</td>\n",
       "      <td>1</td>\n",
       "      <td>25</td>\n",
       "      <td>54</td>\n",
       "      <td>21.0</td>\n",
       "      <td>48.6</td>\n",
       "      <td>0</td>\n",
       "    </tr>\n",
       "    <tr>\n",
       "      <th>1291</th>\n",
       "      <td>17-10455</td>\n",
       "      <td>0</td>\n",
       "      <td>20</td>\n",
       "      <td>76</td>\n",
       "      <td>31.0</td>\n",
       "      <td>52.9</td>\n",
       "      <td>0</td>\n",
       "    </tr>\n",
       "    <tr>\n",
       "      <th>1292</th>\n",
       "      <td>17-10456</td>\n",
       "      <td>0</td>\n",
       "      <td>71</td>\n",
       "      <td>75</td>\n",
       "      <td>31.0</td>\n",
       "      <td>72.4</td>\n",
       "      <td>0</td>\n",
       "    </tr>\n",
       "    <tr>\n",
       "      <th>1293</th>\n",
       "      <td>17-10457</td>\n",
       "      <td>1</td>\n",
       "      <td>188</td>\n",
       "      <td>94</td>\n",
       "      <td>37.0</td>\n",
       "      <td>58.3</td>\n",
       "      <td>1</td>\n",
       "    </tr>\n",
       "    <tr>\n",
       "      <th>1294</th>\n",
       "      <td>17-10458</td>\n",
       "      <td>1</td>\n",
       "      <td>271</td>\n",
       "      <td>55</td>\n",
       "      <td>46.0</td>\n",
       "      <td>67.1</td>\n",
       "      <td>0</td>\n",
       "    </tr>\n",
       "    <tr>\n",
       "      <th>1295</th>\n",
       "      <td>17-10459</td>\n",
       "      <td>0</td>\n",
       "      <td>41</td>\n",
       "      <td>89</td>\n",
       "      <td>39.0</td>\n",
       "      <td>45.5</td>\n",
       "      <td>0</td>\n",
       "    </tr>\n",
       "    <tr>\n",
       "      <th>1296</th>\n",
       "      <td>17-10460</td>\n",
       "      <td>1</td>\n",
       "      <td>150</td>\n",
       "      <td>140</td>\n",
       "      <td>29.0</td>\n",
       "      <td>50.2</td>\n",
       "      <td>1</td>\n",
       "    </tr>\n",
       "    <tr>\n",
       "      <th>1297</th>\n",
       "      <td>17-10461</td>\n",
       "      <td>1</td>\n",
       "      <td>31</td>\n",
       "      <td>70</td>\n",
       "      <td>27.0</td>\n",
       "      <td>71.4</td>\n",
       "      <td>0</td>\n",
       "    </tr>\n",
       "    <tr>\n",
       "      <th>1298</th>\n",
       "      <td>17-10462</td>\n",
       "      <td>0</td>\n",
       "      <td>226</td>\n",
       "      <td>136</td>\n",
       "      <td>48.0</td>\n",
       "      <td>64.5</td>\n",
       "      <td>1</td>\n",
       "    </tr>\n",
       "    <tr>\n",
       "      <th>1299</th>\n",
       "      <td>17-10463</td>\n",
       "      <td>1</td>\n",
       "      <td>44</td>\n",
       "      <td>82</td>\n",
       "      <td>21.0</td>\n",
       "      <td>48.2</td>\n",
       "      <td>0</td>\n",
       "    </tr>\n",
       "    <tr>\n",
       "      <th>1300</th>\n",
       "      <td>17-10464</td>\n",
       "      <td>1</td>\n",
       "      <td>237</td>\n",
       "      <td>185</td>\n",
       "      <td>39.0</td>\n",
       "      <td>76.1</td>\n",
       "      <td>1</td>\n",
       "    </tr>\n",
       "    <tr>\n",
       "      <th>1301</th>\n",
       "      <td>17-10465</td>\n",
       "      <td>1</td>\n",
       "      <td>123</td>\n",
       "      <td>71</td>\n",
       "      <td>29.0</td>\n",
       "      <td>51.2</td>\n",
       "      <td>0</td>\n",
       "    </tr>\n",
       "    <tr>\n",
       "      <th>1302</th>\n",
       "      <td>17-10466</td>\n",
       "      <td>0</td>\n",
       "      <td>74</td>\n",
       "      <td>80</td>\n",
       "      <td>28.0</td>\n",
       "      <td>48.1</td>\n",
       "      <td>0</td>\n",
       "    </tr>\n",
       "    <tr>\n",
       "      <th>1303</th>\n",
       "      <td>17-10467</td>\n",
       "      <td>1</td>\n",
       "      <td>32</td>\n",
       "      <td>74</td>\n",
       "      <td>29.0</td>\n",
       "      <td>58.8</td>\n",
       "      <td>0</td>\n",
       "    </tr>\n",
       "    <tr>\n",
       "      <th>1304</th>\n",
       "      <td>17-10468</td>\n",
       "      <td>1</td>\n",
       "      <td>28</td>\n",
       "      <td>77</td>\n",
       "      <td>18.0</td>\n",
       "      <td>37.2</td>\n",
       "      <td>0</td>\n",
       "    </tr>\n",
       "    <tr>\n",
       "      <th>1305</th>\n",
       "      <td>17-10469</td>\n",
       "      <td>0</td>\n",
       "      <td>83</td>\n",
       "      <td>136</td>\n",
       "      <td>22.0</td>\n",
       "      <td>67.8</td>\n",
       "      <td>1</td>\n",
       "    </tr>\n",
       "    <tr>\n",
       "      <th>1306</th>\n",
       "      <td>17-10470</td>\n",
       "      <td>0</td>\n",
       "      <td>23</td>\n",
       "      <td>65</td>\n",
       "      <td>27.0</td>\n",
       "      <td>50.7</td>\n",
       "      <td>0</td>\n",
       "    </tr>\n",
       "    <tr>\n",
       "      <th>1307</th>\n",
       "      <td>17-10471</td>\n",
       "      <td>0</td>\n",
       "      <td>18</td>\n",
       "      <td>73</td>\n",
       "      <td>23.0</td>\n",
       "      <td>48.2</td>\n",
       "      <td>0</td>\n",
       "    </tr>\n",
       "    <tr>\n",
       "      <th>1308</th>\n",
       "      <td>17-10472</td>\n",
       "      <td>0</td>\n",
       "      <td>165</td>\n",
       "      <td>142</td>\n",
       "      <td>27.0</td>\n",
       "      <td>67.2</td>\n",
       "      <td>1</td>\n",
       "    </tr>\n",
       "    <tr>\n",
       "      <th>1309</th>\n",
       "      <td>17-10473</td>\n",
       "      <td>1</td>\n",
       "      <td>27</td>\n",
       "      <td>70</td>\n",
       "      <td>18.0</td>\n",
       "      <td>56.8</td>\n",
       "      <td>0</td>\n",
       "    </tr>\n",
       "    <tr>\n",
       "      <th>1310</th>\n",
       "      <td>17-10474</td>\n",
       "      <td>0</td>\n",
       "      <td>111</td>\n",
       "      <td>70</td>\n",
       "      <td>29.0</td>\n",
       "      <td>49.7</td>\n",
       "      <td>0</td>\n",
       "    </tr>\n",
       "    <tr>\n",
       "      <th>1311</th>\n",
       "      <td>17-10475</td>\n",
       "      <td>0</td>\n",
       "      <td>50</td>\n",
       "      <td>81</td>\n",
       "      <td>22.0</td>\n",
       "      <td>49.9</td>\n",
       "      <td>0</td>\n",
       "    </tr>\n",
       "    <tr>\n",
       "      <th>1312</th>\n",
       "      <td>17-10476</td>\n",
       "      <td>1</td>\n",
       "      <td>45</td>\n",
       "      <td>95</td>\n",
       "      <td>14.0</td>\n",
       "      <td>45.7</td>\n",
       "      <td>1</td>\n",
       "    </tr>\n",
       "    <tr>\n",
       "      <th>1313</th>\n",
       "      <td>17-10477</td>\n",
       "      <td>1</td>\n",
       "      <td>20</td>\n",
       "      <td>74</td>\n",
       "      <td>24.0</td>\n",
       "      <td>44.9</td>\n",
       "      <td>0</td>\n",
       "    </tr>\n",
       "  </tbody>\n",
       "</table>\n",
       "<p>1252 rows × 7 columns</p>\n",
       "</div>"
      ],
      "text/plain": [
       "            ID  X  C-08  C-09  C-10  C-11  C-09-new\n",
       "0     15-10001  0   143   163  38.0  56.6         1\n",
       "1     15-10002  0    83    87  29.0  63.2         0\n",
       "2     15-10003  1   105   117  36.0  54.7         1\n",
       "3     15-10004  0   116    57  24.0  45.4         0\n",
       "4     15-10005  1   186   142  66.0  49.9         1\n",
       "5     15-10006  1    78    60  25.0  79.4         0\n",
       "6     15-10007  1   130   124  33.0  63.7         1\n",
       "7     15-10008  0    25    81  43.0  49.8         0\n",
       "8     15-10009  1    82    54  19.0  38.3         0\n",
       "9     15-10010  0   326   148  30.0  49.6         1\n",
       "10    15-10011  1    28    45  19.0  41.4         0\n",
       "11    15-10012  1    97    92  24.0  49.6         1\n",
       "12    15-10013  1    37    85  31.0  49.2         0\n",
       "13    15-10014  1   136    94  26.0  51.1         1\n",
       "14    15-10015  1   147    80  45.0  38.0         0\n",
       "15    15-10016  0    42    65  23.0  56.3         0\n",
       "16    15-10017  1    43    97  27.0  54.0         1\n",
       "17    15-10018  0    51    59  18.0  57.4         0\n",
       "18    15-10019  1   125   131  19.0  45.4         1\n",
       "19    15-10020  1    30    63  34.0  49.6         0\n",
       "20    15-10021  1    73    83  36.0  48.0         0\n",
       "21    15-10022  1    82   120  38.0  60.3         1\n",
       "22    15-10023  0    26   140  31.0  58.6         1\n",
       "23    15-10024  0   146    97  20.0  64.9         1\n",
       "24    15-10025  1    59    79  29.0  35.3         0\n",
       "25    15-10026  0    27    65  21.0  55.7         0\n",
       "26    15-10027  0   146    71  43.0  47.4         0\n",
       "27    15-10028  1    15    35  19.0  42.3         0\n",
       "28    15-10029  0   223   176  44.0  52.5         1\n",
       "29    15-10030  1    42    74  24.0  58.0         0\n",
       "...        ... ..   ...   ...   ...   ...       ...\n",
       "1284  17-10448  0    32    90  27.0  49.2         0\n",
       "1285  17-10449  0    70    92  26.0  74.8         1\n",
       "1286  17-10450  0   169   192  14.0  68.2         2\n",
       "1287  17-10451  0    35    70  23.0  51.6         0\n",
       "1288  17-10452  0    21    49  17.0  52.9         0\n",
       "1289  17-10453  0    84    77  21.0  63.8         0\n",
       "1290  17-10454  1    25    54  21.0  48.6         0\n",
       "1291  17-10455  0    20    76  31.0  52.9         0\n",
       "1292  17-10456  0    71    75  31.0  72.4         0\n",
       "1293  17-10457  1   188    94  37.0  58.3         1\n",
       "1294  17-10458  1   271    55  46.0  67.1         0\n",
       "1295  17-10459  0    41    89  39.0  45.5         0\n",
       "1296  17-10460  1   150   140  29.0  50.2         1\n",
       "1297  17-10461  1    31    70  27.0  71.4         0\n",
       "1298  17-10462  0   226   136  48.0  64.5         1\n",
       "1299  17-10463  1    44    82  21.0  48.2         0\n",
       "1300  17-10464  1   237   185  39.0  76.1         1\n",
       "1301  17-10465  1   123    71  29.0  51.2         0\n",
       "1302  17-10466  0    74    80  28.0  48.1         0\n",
       "1303  17-10467  1    32    74  29.0  58.8         0\n",
       "1304  17-10468  1    28    77  18.0  37.2         0\n",
       "1305  17-10469  0    83   136  22.0  67.8         1\n",
       "1306  17-10470  0    23    65  27.0  50.7         0\n",
       "1307  17-10471  0    18    73  23.0  48.2         0\n",
       "1308  17-10472  0   165   142  27.0  67.2         1\n",
       "1309  17-10473  1    27    70  18.0  56.8         0\n",
       "1310  17-10474  0   111    70  29.0  49.7         0\n",
       "1311  17-10475  0    50    81  22.0  49.9         0\n",
       "1312  17-10476  1    45    95  14.0  45.7         1\n",
       "1313  17-10477  1    20    74  24.0  44.9         0\n",
       "\n",
       "[1252 rows x 7 columns]"
      ]
     },
     "execution_count": 21,
     "metadata": {},
     "output_type": "execute_result"
    }
   ],
   "source": [
    "df.drop(columns = 'Year')"
   ]
  },
  {
   "cell_type": "markdown",
   "metadata": {},
   "source": [
    "### 离群点处理\n",
    "\n",
    "这里直接用3西格玛原则删除了异常的年龄  \n",
    "实际应用中需要适合的outlier detect算法"
   ]
  },
  {
   "cell_type": "markdown",
   "metadata": {},
   "source": [
    "3西格玛原则：|采样点与均值的差| > 3倍标准差 --》 则剔除\n",
    "变形为：\n",
    "     Xi< X - 3σ or  Xi > X + 3σ"
   ]
  },
  {
   "cell_type": "code",
   "execution_count": 4,
   "metadata": {},
   "outputs": [
    {
     "name": "stdout",
     "output_type": "stream",
     "text": [
      "处理特征C-08, 剩余样本：1231\n",
      "处理特征C-09, 剩余样本：1214\n",
      "处理特征C-10, 剩余样本：1197\n"
     ]
    }
   ],
   "source": [
    "#df.drop(columns = ['Year'], inplace = True)\n",
    "cols = df.columns\n",
    "\n",
    "for i in range(2,df.shape[1]-1):\n",
    "    up_bound = df[cols[i]].mean() + 3*df[cols[i]].std()\n",
    "    low_bound = df[cols[i]].mean() - 3*df[cols[i]].std()\n",
    "    df = df[(df[cols[i]]<=up_bound) & (df[cols[i]]>=low_bound)]\n",
    "    print(\"处理特征%s, 剩余样本：%d\" % (cols[i],df.shape[0]))\n",
    "\n"
   ]
  },
  {
   "cell_type": "markdown",
   "metadata": {},
   "source": [
    "## 数据降维\n",
    "\n",
    "### 主成分分析\n",
    "\n",
    "#### to maximize Var(c1X1 + c2X2 + c3X3 + ...) 其中 c1^2 + c2^2 +....+ cp^2 = 1"
   ]
  },
  {
   "cell_type": "markdown",
   "metadata": {},
   "source": [
    "PCA算法流程：  \n",
    "1) 0均值化：将X的每一维数据分别减去其平均值，即 X=X-Mean（X）  \n",
    "2) 协方差矩阵：协方差矩阵C可以描述m维属性之间的相关关系，即 C=(X'X)/m  \n",
    "3) 数据降维：协方差矩阵C是m*m阶，选取的特征向量矩阵P是m*k阶。通过 Y=XP 即得到投影后的k维样本。"
   ]
  },
  {
   "cell_type": "code",
   "execution_count": 28,
   "metadata": {},
   "outputs": [
    {
     "name": "stdout",
     "output_type": "stream",
     "text": [
      "[0.81699666 0.14430694 0.02274922 0.01592509]\n",
      "[2633.51408674  465.1602535    73.3300434    51.33306234]\n"
     ]
    }
   ],
   "source": [
    "from sklearn.decomposition import PCA\n",
    "# 直接调包实现了，手写也不复杂\n",
    "features = [i for i in df.columns if i not in ['ID', 'X', 'Year']]  #feature中去除了 'ID', 'X', 'Year'\n",
    "X, y = df[features], df['X']\n",
    "#PCA算法所要保留下来的主成分个数\n",
    "pca = PCA(n_components=4)\n",
    "pca.fit(X)\n",
    "#降维后 各主成分的方差值 \n",
    "print(pca.explained_variance_ratio_)\n",
    "#返回各主成分的方差百分比(贡献率)\n",
    "print(pca.explained_variance_)"
   ]
  },
  {
   "cell_type": "code",
   "execution_count": 29,
   "metadata": {},
   "outputs": [
    {
     "data": {
      "image/png": "[encoded data removed]",
      "text/plain": [
       "<Figure size 576x396 with 1 Axes>"
      ]
     },
     "metadata": {},
     "output_type": "display_data"
    }
   ],
   "source": [
    "# n_component PCA算法中要保留的成分个数\n",
    "pca = PCA(n_components=2)\n",
    "#训练模型  用数据X来训练\n",
    "pca.fit(X)\n",
    "#返回降维后的数据\n",
    "X_new = pca.transform(X)\n",
    "#画出散点图\n",
    "plt.scatter(X_new[:, 0], X_new[:, 1], c=y, marker='o')  # y = 0 /1 /2\n",
    "plt.show()"
   ]
  },
  {
   "cell_type": "markdown",
   "metadata": {},
   "source": [
    "# 参数检测和方差分析"
   ]
  },
  {
   "cell_type": "code",
   "execution_count": 30,
   "metadata": {},
   "outputs": [],
   "source": [
    "from scipy.stats.mstats import kruskalwallis\n",
    "import scipy.stats as stats\n",
    "import numpy as np\n",
    "import scipy as sp\n",
    "\n",
    "#啥叫显著性差异\n",
    "# p>0.05 表示差异不显著\n",
    "# 0.01 < p < 0.05 表示差异性显著\n",
    "# p< 0.01 表示差异性极显著\n",
    "\n",
    "#三组非正太分布数据检验\n",
    "def Kruskawallis_test(list1, list2, list3):\n",
    "    # Perform the Kruskal-Wallis test,返回True表示有显著差异，返回False表示无显著差异\n",
    "    print(\"Use kruskawallis test:\")\n",
    "     \n",
    "    h, p = kruskalwallis(list1, list2, list3)\n",
    "    print(\"H value:\",h)\n",
    "    print(\"p value:\",p)\n",
    "      \n",
    "    # Print the results\n",
    "    if p<0.05:\n",
    "        print('There is a significant difference.')\n",
    "        return True\n",
    "    else:\n",
    "        print('No significant difference.')\n",
    "        return False\n",
    "\n",
    "#两组非正态分布数据检验   有关于统计学的知识\n",
    "def Mannwhitneyu(group1, group2):   \n",
    "    #以下处理sp版本问题 \n",
    "    if np.int(sp.__version__.split('.')[1]) > 16:\n",
    "        u, p_value = stats.mannwhitneyu(group1, group2, alternative='two-sided')\n",
    "    else:\n",
    "        u, p_value = stats.mannwhitneyu(group1, group2, use_continuity=True)\n",
    "        p_value *= 2    # because the default was a one-sided p-value\n",
    "    print((\"Mann-Whitney test\", p_value))\n",
    "    if p_value<0.05:\n",
    "        print(\"there is significant difference\")\n",
    "    else:\n",
    "        print(\"there is no significant difference\")"
   ]
  },
  {
   "cell_type": "markdown",
   "metadata": {},
   "source": [
    "## 单因素方差分析"
   ]
  },
  {
   "cell_type": "code",
   "execution_count": 54,
   "metadata": {},
   "outputs": [
    {
     "data": {
      "text/plain": [
       "\"\\n#检验C-09和患病是否有关\\nlist_1 = df[df['C-09'] == 1]['X'].tolist()\\nlist_2 = df[df['C-09'] == 2]['X'].tolist()\\n\\n#独立T检验\\nprint(stats.ttest_ind(list_1, list_2))\\n\\n#Mannwhitneyu 检验\\nprint(Mannwhitneyu(list_1, list_2))\\n\""
      ]
     },
     "execution_count": 54,
     "metadata": {},
     "output_type": "execute_result"
    }
   ],
   "source": [
    "\"\"\"\n",
    "#检验C-09和患病是否有关\n",
    "list_1 = df[df['C-09'] == 1]['X'].tolist()\n",
    "list_2 = df[df['C-09'] == 2]['X'].tolist()\n",
    "\n",
    "#独立T检验\n",
    "print(stats.ttest_ind(list_1, list_2))\n",
    "\n",
    "#Mannwhitneyu 检验\n",
    "print(Mannwhitneyu(list_1, list_2))\n",
    "\"\"\""
   ]
  },
  {
   "cell_type": "markdown",
   "metadata": {},
   "source": [
    "## 多因素方差分析"
   ]
  },
  {
   "cell_type": "markdown",
   "metadata": {},
   "source": [
    "连续型的属性，需要采样后进行多因子的方差分析  \n",
    "例如T-05，可以分成多段bins与其他因素结合 "
   ]
  },
  {
   "cell_type": "code",
   "execution_count": 31,
   "metadata": {},
   "outputs": [
    {
     "data": {
      "text/plain": [
       "0    1\n",
       "1    0\n",
       "2    1\n",
       "3    0\n",
       "5    0\n",
       "Name: C-09-new, dtype: int64"
      ]
     },
     "execution_count": 31,
     "metadata": {},
     "output_type": "execute_result"
    }
   ],
   "source": [
    "def process(x):\n",
    "    if 0<= x <=91:\n",
    "        return 0\n",
    "    elif 91< x< 180:\n",
    "        return 1\n",
    "    else:\n",
    "        return 2\n",
    "\n",
    "df['C-09-new'] = df['C-09'].apply(lambda x : process(x))\n",
    "df['C-09-new'].head()"
   ]
  },
  {
   "cell_type": "code",
   "execution_count": 32,
   "metadata": {},
   "outputs": [
    {
     "name": "stdout",
     "output_type": "stream",
     "text": [
      "Use kruskawallis test:\n",
      "H value: 8.906110457598711\n",
      "p value: 0.011642940727127049\n",
      "There is a significant difference.\n"
     ]
    },
    {
     "data": {
      "text/plain": [
       "True"
      ]
     },
     "execution_count": 32,
     "metadata": {},
     "output_type": "execute_result"
    }
   ],
   "source": [
    "list_C_09_0 = df[df['C-09-new']==0]['X'].tolist()\n",
    "list_C_09_1 = df[df['C-09-new']==1]['X'].tolist()\n",
    "list_C_09_2 = df[df['C-09-new']==2]['X'].tolist()\n",
    "list_group = [list_C_09_0, list_C_09_1, list_C_09_2]\n",
    "\n",
    "#Kruskawallis_test  三组非正太分布数据检验\n",
    "Kruskawallis_test(list_C_09_0, list_C_09_1, list_C_09_2)"
   ]
  },
  {
   "cell_type": "markdown",
   "metadata": {},
   "source": [
    "结果说明，C-09和患病与否具有显著相关"
   ]
  },
  {
   "cell_type": "markdown",
   "metadata": {},
   "source": [
    "# 完整的处理流程"
   ]
  },
  {
   "cell_type": "markdown",
   "metadata": {},
   "source": [
    "## 数据分析\n",
    "\n",
    "## 数据清洗"
   ]
  },
  {
   "cell_type": "markdown",
   "metadata": {},
   "source": [
    "### 删除缺失> 15%的列"
   ]
  },
  {
   "cell_type": "code",
   "execution_count": 33,
   "metadata": {},
   "outputs": [
    {
     "data": {
      "text/html": [
       "<div>\n",
       "<style scoped>\n",
       "    .dataframe tbody tr th:only-of-type {\n",
       "        vertical-align: middle;\n",
       "    }\n",
       "\n",
       "    .dataframe tbody tr th {\n",
       "        vertical-align: top;\n",
       "    }\n",
       "\n",
       "    .dataframe thead th {\n",
       "        text-align: right;\n",
       "    }\n",
       "</style>\n",
       "<table border=\"1\" class=\"dataframe\">\n",
       "  <thead>\n",
       "    <tr style=\"text-align: right;\">\n",
       "      <th></th>\n",
       "      <th>ID</th>\n",
       "      <th>X</th>\n",
       "      <th>C-08</th>\n",
       "      <th>C-09</th>\n",
       "      <th>C-10</th>\n",
       "      <th>C-11</th>\n",
       "      <th>C-09-new</th>\n",
       "    </tr>\n",
       "  </thead>\n",
       "  <tbody>\n",
       "    <tr>\n",
       "      <th>count</th>\n",
       "      <td>1108</td>\n",
       "      <td>1108</td>\n",
       "      <td>1108</td>\n",
       "      <td>1108</td>\n",
       "      <td>1108</td>\n",
       "      <td>1108</td>\n",
       "      <td>1108</td>\n",
       "    </tr>\n",
       "    <tr>\n",
       "      <th>unique</th>\n",
       "      <td>1</td>\n",
       "      <td>1</td>\n",
       "      <td>1</td>\n",
       "      <td>1</td>\n",
       "      <td>1</td>\n",
       "      <td>1</td>\n",
       "      <td>1</td>\n",
       "    </tr>\n",
       "    <tr>\n",
       "      <th>top</th>\n",
       "      <td>False</td>\n",
       "      <td>False</td>\n",
       "      <td>False</td>\n",
       "      <td>False</td>\n",
       "      <td>False</td>\n",
       "      <td>False</td>\n",
       "      <td>False</td>\n",
       "    </tr>\n",
       "    <tr>\n",
       "      <th>freq</th>\n",
       "      <td>1108</td>\n",
       "      <td>1108</td>\n",
       "      <td>1108</td>\n",
       "      <td>1108</td>\n",
       "      <td>1108</td>\n",
       "      <td>1108</td>\n",
       "      <td>1108</td>\n",
       "    </tr>\n",
       "  </tbody>\n",
       "</table>\n",
       "</div>"
      ],
      "text/plain": [
       "           ID      X   C-08   C-09   C-10   C-11 C-09-new\n",
       "count    1108   1108   1108   1108   1108   1108     1108\n",
       "unique      1      1      1      1      1      1        1\n",
       "top     False  False  False  False  False  False    False\n",
       "freq     1108   1108   1108   1108   1108   1108     1108"
      ]
     },
     "execution_count": 33,
     "metadata": {},
     "output_type": "execute_result"
    }
   ],
   "source": [
    "isnull_df = df.isnull().describe()\n",
    "isnull_df"
   ]
  },
  {
   "cell_type": "code",
   "execution_count": 26,
   "metadata": {},
   "outputs": [
    {
     "data": {
      "text/html": [
       "<div>\n",
       "<style scoped>\n",
       "    .dataframe tbody tr th:only-of-type {\n",
       "        vertical-align: middle;\n",
       "    }\n",
       "\n",
       "    .dataframe tbody tr th {\n",
       "        vertical-align: top;\n",
       "    }\n",
       "\n",
       "    .dataframe thead th {\n",
       "        text-align: right;\n",
       "    }\n",
       "</style>\n",
       "<table border=\"1\" class=\"dataframe\">\n",
       "  <thead>\n",
       "    <tr style=\"text-align: right;\">\n",
       "      <th></th>\n",
       "    </tr>\n",
       "  </thead>\n",
       "  <tbody>\n",
       "    <tr>\n",
       "      <th>count</th>\n",
       "    </tr>\n",
       "    <tr>\n",
       "      <th>unique</th>\n",
       "    </tr>\n",
       "    <tr>\n",
       "      <th>top</th>\n",
       "    </tr>\n",
       "    <tr>\n",
       "      <th>freq</th>\n",
       "    </tr>\n",
       "  </tbody>\n",
       "</table>\n",
       "</div>"
      ],
      "text/plain": [
       "Empty DataFrame\n",
       "Columns: []\n",
       "Index: [count, unique, top, freq]"
      ]
     },
     "execution_count": 26,
     "metadata": {},
     "output_type": "execute_result"
    }
   ],
   "source": [
    "isnull_df.loc[:, isnull_df.loc['freq'] < isnull_df.loc['count']*0.85]"
   ]
  },
  {
   "cell_type": "code",
   "execution_count": 27,
   "metadata": {},
   "outputs": [],
   "source": [
    "#删除缺失值比例大于0.85的列\n",
    "#df.drop(columns = [ ''] ,inplace = True)\n",
    "#df.head()"
   ]
  },
  {
   "cell_type": "markdown",
   "metadata": {},
   "source": [
    "### 删除相关性<0.01的列"
   ]
  },
  {
   "cell_type": "code",
   "execution_count": 5,
   "metadata": {},
   "outputs": [
    {
     "data": {
      "text/plain": [
       "X       1.000000\n",
       "C-08    0.168676\n",
       "C-09    0.119146\n",
       "C-10    0.118688\n",
       "C-11    0.102989\n",
       "Name: X, dtype: float64"
      ]
     },
     "execution_count": 5,
     "metadata": {},
     "output_type": "execute_result"
    }
   ],
   "source": [
    "corr_mat = df.corr(method = 'pearson')\n",
    "corr_mat['X'].abs().sort_values(ascending = False)"
   ]
  },
  {
   "cell_type": "code",
   "execution_count": 6,
   "metadata": {},
   "outputs": [
    {
     "name": "stdout",
     "output_type": "stream",
     "text": [
      "Index([], dtype='object')\n"
     ]
    }
   ],
   "source": [
    "corr = corr_mat['X'].abs()\n",
    "print(corr[corr < 0.01].index)"
   ]
  },
  {
   "cell_type": "code",
   "execution_count": 30,
   "metadata": {},
   "outputs": [
    {
     "data": {
      "text/html": [
       "<div>\n",
       "<style scoped>\n",
       "    .dataframe tbody tr th:only-of-type {\n",
       "        vertical-align: middle;\n",
       "    }\n",
       "\n",
       "    .dataframe tbody tr th {\n",
       "        vertical-align: top;\n",
       "    }\n",
       "\n",
       "    .dataframe thead th {\n",
       "        text-align: right;\n",
       "    }\n",
       "</style>\n",
       "<table border=\"1\" class=\"dataframe\">\n",
       "  <thead>\n",
       "    <tr style=\"text-align: right;\">\n",
       "      <th></th>\n",
       "      <th>ID</th>\n",
       "      <th>X</th>\n",
       "      <th>T-01</th>\n",
       "      <th>T-04</th>\n",
       "      <th>T-05</th>\n",
       "      <th>T-06</th>\n",
       "      <th>T-05-new</th>\n",
       "    </tr>\n",
       "  </thead>\n",
       "  <tbody>\n",
       "    <tr>\n",
       "      <th>0</th>\n",
       "      <td>15-10001</td>\n",
       "      <td>0</td>\n",
       "      <td>1.2</td>\n",
       "      <td>36.0</td>\n",
       "      <td>0.0</td>\n",
       "      <td>1.0</td>\n",
       "      <td>0</td>\n",
       "    </tr>\n",
       "    <tr>\n",
       "      <th>1</th>\n",
       "      <td>15-10002</td>\n",
       "      <td>0</td>\n",
       "      <td>19.1</td>\n",
       "      <td>79.0</td>\n",
       "      <td>32.9</td>\n",
       "      <td>2.0</td>\n",
       "      <td>1</td>\n",
       "    </tr>\n",
       "    <tr>\n",
       "      <th>2</th>\n",
       "      <td>15-10003</td>\n",
       "      <td>1</td>\n",
       "      <td>21.8</td>\n",
       "      <td>106.0</td>\n",
       "      <td>9.7</td>\n",
       "      <td>1.0</td>\n",
       "      <td>0</td>\n",
       "    </tr>\n",
       "    <tr>\n",
       "      <th>3</th>\n",
       "      <td>15-10004</td>\n",
       "      <td>0</td>\n",
       "      <td>177.7</td>\n",
       "      <td>699.0</td>\n",
       "      <td>7.1</td>\n",
       "      <td>1.0</td>\n",
       "      <td>0</td>\n",
       "    </tr>\n",
       "    <tr>\n",
       "      <th>4</th>\n",
       "      <td>15-10005</td>\n",
       "      <td>1</td>\n",
       "      <td>138.2</td>\n",
       "      <td>41437.0</td>\n",
       "      <td>8.5</td>\n",
       "      <td>1.0</td>\n",
       "      <td>0</td>\n",
       "    </tr>\n",
       "  </tbody>\n",
       "</table>\n",
       "</div>"
      ],
      "text/plain": [
       "         ID  X   T-01     T-04  T-05  T-06  T-05-new\n",
       "0  15-10001  0    1.2     36.0   0.0   1.0         0\n",
       "1  15-10002  0   19.1     79.0  32.9   2.0         1\n",
       "2  15-10003  1   21.8    106.0   9.7   1.0         0\n",
       "3  15-10004  0  177.7    699.0   7.1   1.0         0\n",
       "4  15-10005  1  138.2  41437.0   8.5   1.0         0"
      ]
     },
     "execution_count": 30,
     "metadata": {},
     "output_type": "execute_result"
    }
   ],
   "source": [
    "df.drop(columns = [] , inplace = True)\n",
    "df.head()"
   ]
  },
  {
   "cell_type": "markdown",
   "metadata": {},
   "source": [
    "## 数据预处理\n",
    "\n",
    "### 删除6sigma离群点"
   ]
  },
  {
   "cell_type": "code",
   "execution_count": 8,
   "metadata": {},
   "outputs": [
    {
     "name": "stdout",
     "output_type": "stream",
     "text": [
      "原始样本 (1197, 6)\n"
     ]
    },
    {
     "data": {
      "text/html": [
       "<div>\n",
       "<style scoped>\n",
       "    .dataframe tbody tr th:only-of-type {\n",
       "        vertical-align: middle;\n",
       "    }\n",
       "\n",
       "    .dataframe tbody tr th {\n",
       "        vertical-align: top;\n",
       "    }\n",
       "\n",
       "    .dataframe thead th {\n",
       "        text-align: right;\n",
       "    }\n",
       "</style>\n",
       "<table border=\"1\" class=\"dataframe\">\n",
       "  <thead>\n",
       "    <tr style=\"text-align: right;\">\n",
       "      <th></th>\n",
       "      <th>X</th>\n",
       "      <th>C-08</th>\n",
       "      <th>C-09</th>\n",
       "      <th>C-10</th>\n",
       "      <th>C-11</th>\n",
       "    </tr>\n",
       "  </thead>\n",
       "  <tbody>\n",
       "    <tr>\n",
       "      <th>count</th>\n",
       "      <td>1197.000000</td>\n",
       "      <td>1197.000000</td>\n",
       "      <td>1197.000000</td>\n",
       "      <td>1197.000000</td>\n",
       "      <td>1197.000000</td>\n",
       "    </tr>\n",
       "    <tr>\n",
       "      <th>mean</th>\n",
       "      <td>0.461988</td>\n",
       "      <td>74.679198</td>\n",
       "      <td>85.233083</td>\n",
       "      <td>26.898914</td>\n",
       "      <td>54.080117</td>\n",
       "    </tr>\n",
       "    <tr>\n",
       "      <th>std</th>\n",
       "      <td>0.498761</td>\n",
       "      <td>68.381106</td>\n",
       "      <td>28.746586</td>\n",
       "      <td>8.995854</td>\n",
       "      <td>10.858577</td>\n",
       "    </tr>\n",
       "    <tr>\n",
       "      <th>min</th>\n",
       "      <td>0.000000</td>\n",
       "      <td>9.000000</td>\n",
       "      <td>18.000000</td>\n",
       "      <td>3.000000</td>\n",
       "      <td>33.900000</td>\n",
       "    </tr>\n",
       "    <tr>\n",
       "      <th>25%</th>\n",
       "      <td>0.000000</td>\n",
       "      <td>31.000000</td>\n",
       "      <td>65.000000</td>\n",
       "      <td>21.000000</td>\n",
       "      <td>47.000000</td>\n",
       "    </tr>\n",
       "    <tr>\n",
       "      <th>50%</th>\n",
       "      <td>0.000000</td>\n",
       "      <td>51.000000</td>\n",
       "      <td>80.000000</td>\n",
       "      <td>25.000000</td>\n",
       "      <td>51.900000</td>\n",
       "    </tr>\n",
       "    <tr>\n",
       "      <th>75%</th>\n",
       "      <td>1.000000</td>\n",
       "      <td>93.000000</td>\n",
       "      <td>99.000000</td>\n",
       "      <td>31.000000</td>\n",
       "      <td>58.400000</td>\n",
       "    </tr>\n",
       "    <tr>\n",
       "      <th>max</th>\n",
       "      <td>1.000000</td>\n",
       "      <td>479.000000</td>\n",
       "      <td>203.000000</td>\n",
       "      <td>61.000000</td>\n",
       "      <td>114.100000</td>\n",
       "    </tr>\n",
       "  </tbody>\n",
       "</table>\n",
       "</div>"
      ],
      "text/plain": [
       "                 X         C-08         C-09         C-10         C-11\n",
       "count  1197.000000  1197.000000  1197.000000  1197.000000  1197.000000\n",
       "mean      0.461988    74.679198    85.233083    26.898914    54.080117\n",
       "std       0.498761    68.381106    28.746586     8.995854    10.858577\n",
       "min       0.000000     9.000000    18.000000     3.000000    33.900000\n",
       "25%       0.000000    31.000000    65.000000    21.000000    47.000000\n",
       "50%       0.000000    51.000000    80.000000    25.000000    51.900000\n",
       "75%       1.000000    93.000000    99.000000    31.000000    58.400000\n",
       "max       1.000000   479.000000   203.000000    61.000000   114.100000"
      ]
     },
     "execution_count": 8,
     "metadata": {},
     "output_type": "execute_result"
    }
   ],
   "source": [
    "print('原始样本', df.shape)\n",
    "des_df = df.describe()\n",
    "des_df"
   ]
  },
  {
   "cell_type": "markdown",
   "metadata": {},
   "source": [
    "离群点大于Q3+1.5*IQR或小于Q1-1.5IQR的值，其中IQR为四分位距 箱线图中上限和下限"
   ]
  },
  {
   "cell_type": "code",
   "execution_count": 35,
   "metadata": {},
   "outputs": [
    {
     "data": {
      "text/plain": [
       "64.0"
      ]
     },
     "execution_count": 35,
     "metadata": {},
     "output_type": "execute_result"
    }
   ],
   "source": [
    "des_df.loc['25%', 'C-09']"
   ]
  },
  {
   "cell_type": "code",
   "execution_count": 9,
   "metadata": {},
   "outputs": [
    {
     "name": "stdout",
     "output_type": "stream",
     "text": [
      "剩余样本： (1197, 6)\n"
     ]
    }
   ],
   "source": [
    "#删除离群点  改为正常值\n",
    "\n",
    "#得到目前为止 经过清洗后的数据的特征名 除 ‘ID’ 'X':病情\n",
    "features = [x for x in df.columns if x not in['ID', 'X']] \n",
    "#提取出除X外 与x相关系数大于0.1的索引\n",
    "importances = [x for x in corr[corr>0.1].index.tolist() if x != 'X']\n",
    "for x in features:\n",
    "#     upper_bound = des_df.loc['75%', x] + 1.5*(des_df.loc['75%', x]-des_df.loc['25%', x])\n",
    "#     lower_bound = des_df.loc['25%', x] - 1.5*(des_df.loc['75%', x]-des_df.loc['25%', x])\n",
    "    upper_bound = des_df.loc['mean', x] + 6*des_df.loc['std', x]\n",
    "    lower_bound = des_df.loc['mean', x] - 6*des_df.loc['std', x]\n",
    "    if x in importances:\n",
    "        df = df[(df[x]<=upper_bound) & (df[x]>=lower_bound)]\n",
    "    else:\n",
    "        df.loc[df[x]>upper_bound, x] = upper_bound\n",
    "        df.loc[df[x]<lower_bound, x] = lower_bound\n",
    "print(\"剩余样本：\", df.shape)"
   ]
  },
  {
   "cell_type": "code",
   "execution_count": 13,
   "metadata": {},
   "outputs": [
    {
     "data": {
      "text/html": [
       "<div>\n",
       "<style scoped>\n",
       "    .dataframe tbody tr th:only-of-type {\n",
       "        vertical-align: middle;\n",
       "    }\n",
       "\n",
       "    .dataframe tbody tr th {\n",
       "        vertical-align: top;\n",
       "    }\n",
       "\n",
       "    .dataframe thead th {\n",
       "        text-align: right;\n",
       "    }\n",
       "</style>\n",
       "<table border=\"1\" class=\"dataframe\">\n",
       "  <thead>\n",
       "    <tr style=\"text-align: right;\">\n",
       "      <th></th>\n",
       "      <th>ID</th>\n",
       "      <th>X</th>\n",
       "      <th>C-08</th>\n",
       "      <th>C-09</th>\n",
       "      <th>C-10</th>\n",
       "      <th>C-11</th>\n",
       "    </tr>\n",
       "  </thead>\n",
       "  <tbody>\n",
       "    <tr>\n",
       "      <th>count</th>\n",
       "      <td>1243</td>\n",
       "      <td>1243</td>\n",
       "      <td>1243</td>\n",
       "      <td>1243</td>\n",
       "      <td>1243</td>\n",
       "      <td>1243</td>\n",
       "    </tr>\n",
       "    <tr>\n",
       "      <th>unique</th>\n",
       "      <td>1</td>\n",
       "      <td>1</td>\n",
       "      <td>1</td>\n",
       "      <td>1</td>\n",
       "      <td>1</td>\n",
       "      <td>1</td>\n",
       "    </tr>\n",
       "    <tr>\n",
       "      <th>top</th>\n",
       "      <td>False</td>\n",
       "      <td>False</td>\n",
       "      <td>False</td>\n",
       "      <td>False</td>\n",
       "      <td>False</td>\n",
       "      <td>False</td>\n",
       "    </tr>\n",
       "    <tr>\n",
       "      <th>freq</th>\n",
       "      <td>1243</td>\n",
       "      <td>1243</td>\n",
       "      <td>1243</td>\n",
       "      <td>1243</td>\n",
       "      <td>1243</td>\n",
       "      <td>1243</td>\n",
       "    </tr>\n",
       "  </tbody>\n",
       "</table>\n",
       "</div>"
      ],
      "text/plain": [
       "           ID      X   C-08   C-09   C-10   C-11\n",
       "count    1243   1243   1243   1243   1243   1243\n",
       "unique      1      1      1      1      1      1\n",
       "top     False  False  False  False  False  False\n",
       "freq     1243   1243   1243   1243   1243   1243"
      ]
     },
     "execution_count": 13,
     "metadata": {},
     "output_type": "execute_result"
    }
   ],
   "source": [
    "df.isnull().describe()"
   ]
  },
  {
   "cell_type": "markdown",
   "metadata": {},
   "source": [
    "### 分段mean 补全缺失值"
   ]
  },
  {
   "cell_type": "code",
   "execution_count": 14,
   "metadata": {},
   "outputs": [
    {
     "data": {
      "text/html": [
       "<div>\n",
       "<style scoped>\n",
       "    .dataframe tbody tr th:only-of-type {\n",
       "        vertical-align: middle;\n",
       "    }\n",
       "\n",
       "    .dataframe tbody tr th {\n",
       "        vertical-align: top;\n",
       "    }\n",
       "\n",
       "    .dataframe thead th {\n",
       "        text-align: right;\n",
       "    }\n",
       "</style>\n",
       "<table border=\"1\" class=\"dataframe\">\n",
       "  <thead>\n",
       "    <tr style=\"text-align: right;\">\n",
       "      <th></th>\n",
       "      <th>ID</th>\n",
       "    </tr>\n",
       "    <tr>\n",
       "      <th>X</th>\n",
       "      <th></th>\n",
       "    </tr>\n",
       "  </thead>\n",
       "  <tbody>\n",
       "    <tr>\n",
       "      <th>0</th>\n",
       "      <td>659</td>\n",
       "    </tr>\n",
       "    <tr>\n",
       "      <th>1</th>\n",
       "      <td>584</td>\n",
       "    </tr>\n",
       "  </tbody>\n",
       "</table>\n",
       "</div>"
      ],
      "text/plain": [
       "    ID\n",
       "X     \n",
       "0  659\n",
       "1  584"
      ]
     },
     "execution_count": 14,
     "metadata": {},
     "output_type": "execute_result"
    }
   ],
   "source": [
    "df[['X', 'ID']].groupby('X').count()"
   ]
  },
  {
   "cell_type": "code",
   "execution_count": 15,
   "metadata": {},
   "outputs": [
    {
     "name": "stdout",
     "output_type": "stream",
     "text": [
      "[0, 1]\n"
     ]
    },
    {
     "data": {
      "text/html": [
       "<div>\n",
       "<style scoped>\n",
       "    .dataframe tbody tr th:only-of-type {\n",
       "        vertical-align: middle;\n",
       "    }\n",
       "\n",
       "    .dataframe tbody tr th {\n",
       "        vertical-align: top;\n",
       "    }\n",
       "\n",
       "    .dataframe thead th {\n",
       "        text-align: right;\n",
       "    }\n",
       "</style>\n",
       "<table border=\"1\" class=\"dataframe\">\n",
       "  <thead>\n",
       "    <tr style=\"text-align: right;\">\n",
       "      <th></th>\n",
       "      <th>ID</th>\n",
       "      <th>X</th>\n",
       "      <th>C-08</th>\n",
       "      <th>C-09</th>\n",
       "      <th>C-10</th>\n",
       "      <th>C-11</th>\n",
       "    </tr>\n",
       "  </thead>\n",
       "  <tbody>\n",
       "    <tr>\n",
       "      <th>count</th>\n",
       "      <td>1243</td>\n",
       "      <td>1243</td>\n",
       "      <td>1243</td>\n",
       "      <td>1243</td>\n",
       "      <td>1243</td>\n",
       "      <td>1243</td>\n",
       "    </tr>\n",
       "    <tr>\n",
       "      <th>unique</th>\n",
       "      <td>1</td>\n",
       "      <td>1</td>\n",
       "      <td>1</td>\n",
       "      <td>1</td>\n",
       "      <td>1</td>\n",
       "      <td>1</td>\n",
       "    </tr>\n",
       "    <tr>\n",
       "      <th>top</th>\n",
       "      <td>False</td>\n",
       "      <td>False</td>\n",
       "      <td>False</td>\n",
       "      <td>False</td>\n",
       "      <td>False</td>\n",
       "      <td>False</td>\n",
       "    </tr>\n",
       "    <tr>\n",
       "      <th>freq</th>\n",
       "      <td>1243</td>\n",
       "      <td>1243</td>\n",
       "      <td>1243</td>\n",
       "      <td>1243</td>\n",
       "      <td>1243</td>\n",
       "      <td>1243</td>\n",
       "    </tr>\n",
       "  </tbody>\n",
       "</table>\n",
       "</div>"
      ],
      "text/plain": [
       "           ID      X   C-08   C-09   C-10   C-11\n",
       "count    1243   1243   1243   1243   1243   1243\n",
       "unique      1      1      1      1      1      1\n",
       "top     False  False  False  False  False  False\n",
       "freq     1243   1243   1243   1243   1243   1243"
      ]
     },
     "execution_count": 15,
     "metadata": {},
     "output_type": "execute_result"
    }
   ],
   "source": [
    "# 分段 按x=0， 1， 2不同情况 把每列进行均值填充\n",
    "print(df['X'].unique().tolist())\n",
    "for x in df['X'].unique().tolist():\n",
    "    #复制所有df['X'] = 当前遍历值 的行\n",
    "    tmp = df[df['X']==x].copy(deep=False)\n",
    "   #tmp.fillna(tmp.mean(axis=0, skipna=True), inplace=True)\n",
    "    #print(tmp.mean())\n",
    "    #以'X' 为分组， NAN均以每列的平均值填充 \n",
    "    df.loc[df['X']==x] = df[df['X']==x].fillna(tmp.mean()) \n",
    "df.isnull().describe()"
   ]
  },
  {
   "cell_type": "markdown",
   "metadata": {},
   "source": [
    "### 数据标准化"
   ]
  },
  {
   "cell_type": "code",
   "execution_count": 10,
   "metadata": {},
   "outputs": [
    {
     "data": {
      "text/html": [
       "<div>\n",
       "<style scoped>\n",
       "    .dataframe tbody tr th:only-of-type {\n",
       "        vertical-align: middle;\n",
       "    }\n",
       "\n",
       "    .dataframe tbody tr th {\n",
       "        vertical-align: top;\n",
       "    }\n",
       "\n",
       "    .dataframe thead th {\n",
       "        text-align: right;\n",
       "    }\n",
       "</style>\n",
       "<table border=\"1\" class=\"dataframe\">\n",
       "  <thead>\n",
       "    <tr style=\"text-align: right;\">\n",
       "      <th></th>\n",
       "      <th>X</th>\n",
       "      <th>C-08</th>\n",
       "      <th>C-09</th>\n",
       "      <th>C-10</th>\n",
       "      <th>C-11</th>\n",
       "    </tr>\n",
       "  </thead>\n",
       "  <tbody>\n",
       "    <tr>\n",
       "      <th>count</th>\n",
       "      <td>1197.000000</td>\n",
       "      <td>1.197000e+03</td>\n",
       "      <td>1.197000e+03</td>\n",
       "      <td>1.197000e+03</td>\n",
       "      <td>1.197000e+03</td>\n",
       "    </tr>\n",
       "    <tr>\n",
       "      <th>mean</th>\n",
       "      <td>0.461988</td>\n",
       "      <td>9.052445e-17</td>\n",
       "      <td>-1.573048e-16</td>\n",
       "      <td>-2.374412e-17</td>\n",
       "      <td>5.342427e-17</td>\n",
       "    </tr>\n",
       "    <tr>\n",
       "      <th>std</th>\n",
       "      <td>0.498761</td>\n",
       "      <td>1.000000e+00</td>\n",
       "      <td>1.000000e+00</td>\n",
       "      <td>9.999999e-01</td>\n",
       "      <td>9.999999e-01</td>\n",
       "    </tr>\n",
       "    <tr>\n",
       "      <th>min</th>\n",
       "      <td>0.000000</td>\n",
       "      <td>-9.604875e-01</td>\n",
       "      <td>-2.338820e+00</td>\n",
       "      <td>-2.656658e+00</td>\n",
       "      <td>-1.858449e+00</td>\n",
       "    </tr>\n",
       "    <tr>\n",
       "      <th>25%</th>\n",
       "      <td>0.000000</td>\n",
       "      <td>-6.387612e-01</td>\n",
       "      <td>-7.038430e-01</td>\n",
       "      <td>-6.557369e-01</td>\n",
       "      <td>-6.520299e-01</td>\n",
       "    </tr>\n",
       "    <tr>\n",
       "      <th>50%</th>\n",
       "      <td>0.000000</td>\n",
       "      <td>-3.462828e-01</td>\n",
       "      <td>-1.820419e-01</td>\n",
       "      <td>-2.110877e-01</td>\n",
       "      <td>-2.007737e-01</td>\n",
       "    </tr>\n",
       "    <tr>\n",
       "      <th>75%</th>\n",
       "      <td>1.000000</td>\n",
       "      <td>2.679220e-01</td>\n",
       "      <td>4.789062e-01</td>\n",
       "      <td>4.558862e-01</td>\n",
       "      <td>3.978314e-01</td>\n",
       "    </tr>\n",
       "    <tr>\n",
       "      <th>max</th>\n",
       "      <td>1.000000</td>\n",
       "      <td>5.912756e+00</td>\n",
       "      <td>4.096727e+00</td>\n",
       "      <td>3.790755e+00</td>\n",
       "      <td>5.527417e+00</td>\n",
       "    </tr>\n",
       "  </tbody>\n",
       "</table>\n",
       "</div>"
      ],
      "text/plain": [
       "                 X          C-08          C-09          C-10          C-11\n",
       "count  1197.000000  1.197000e+03  1.197000e+03  1.197000e+03  1.197000e+03\n",
       "mean      0.461988  9.052445e-17 -1.573048e-16 -2.374412e-17  5.342427e-17\n",
       "std       0.498761  1.000000e+00  1.000000e+00  9.999999e-01  9.999999e-01\n",
       "min       0.000000 -9.604875e-01 -2.338820e+00 -2.656658e+00 -1.858449e+00\n",
       "25%       0.000000 -6.387612e-01 -7.038430e-01 -6.557369e-01 -6.520299e-01\n",
       "50%       0.000000 -3.462828e-01 -1.820419e-01 -2.110877e-01 -2.007737e-01\n",
       "75%       1.000000  2.679220e-01  4.789062e-01  4.558862e-01  3.978314e-01\n",
       "max       1.000000  5.912756e+00  4.096727e+00  3.790755e+00  5.527417e+00"
      ]
     },
     "execution_count": 10,
     "metadata": {},
     "output_type": "execute_result"
    }
   ],
   "source": [
    "\n",
    "for x in features:\n",
    "    delta = 0.000001\n",
    "    df[x] = (df[x] - df[x].mean()) / (df[x].std() + delta)\n",
    "\n",
    "df.describe()"
   ]
  },
  {
   "cell_type": "markdown",
   "metadata": {},
   "source": [
    "计算协方差"
   ]
  },
  {
   "cell_type": "code",
   "execution_count": 17,
   "metadata": {},
   "outputs": [
    {
     "data": {
      "text/plain": [
       "X       0.249290\n",
       "C-08    0.076139\n",
       "C-10    0.071001\n",
       "C-09    0.060966\n",
       "C-11    0.057446\n",
       "Name: X, dtype: float64"
      ]
     },
     "execution_count": 17,
     "metadata": {},
     "output_type": "execute_result"
    }
   ],
   "source": [
    "cov_mat = df.cov()\n",
    "cov_mat['X'].abs().sort_values(ascending = False)"
   ]
  },
  {
   "cell_type": "code",
   "execution_count": 18,
   "metadata": {},
   "outputs": [
    {
     "name": "stdout",
     "output_type": "stream",
     "text": [
      "正向： ['X', 'C-08', 'C-09', 'C-10', 'C-11']\n",
      "负向:  []\n"
     ]
    }
   ],
   "source": [
    "cov = cov_mat['X']\n",
    "print('正向：', cov[cov > 0].index.tolist())\n",
    "print('负向: ', cov[cov < 0].index.tolist())"
   ]
  },
  {
   "cell_type": "markdown",
   "metadata": {},
   "source": [
    "### 保存cleaned数据"
   ]
  },
  {
   "cell_type": "code",
   "execution_count": 44,
   "metadata": {},
   "outputs": [],
   "source": [
    "df.to_csv('secon_chan_Cleaned.csv', index = False, header = True, encoding = 'utf-8')"
   ]
  },
  {
   "cell_type": "code",
   "execution_count": 45,
   "metadata": {},
   "outputs": [
    {
     "data": {
      "text/html": [
       "<div>\n",
       "<style scoped>\n",
       "    .dataframe tbody tr th:only-of-type {\n",
       "        vertical-align: middle;\n",
       "    }\n",
       "\n",
       "    .dataframe tbody tr th {\n",
       "        vertical-align: top;\n",
       "    }\n",
       "\n",
       "    .dataframe thead th {\n",
       "        text-align: right;\n",
       "    }\n",
       "</style>\n",
       "<table border=\"1\" class=\"dataframe\">\n",
       "  <thead>\n",
       "    <tr style=\"text-align: right;\">\n",
       "      <th></th>\n",
       "      <th>ID</th>\n",
       "      <th>X</th>\n",
       "      <th>C-08</th>\n",
       "      <th>C-09</th>\n",
       "      <th>C-10</th>\n",
       "      <th>C-11</th>\n",
       "      <th>C-09-new</th>\n",
       "    </tr>\n",
       "  </thead>\n",
       "  <tbody>\n",
       "    <tr>\n",
       "      <th>0</th>\n",
       "      <td>15-10001</td>\n",
       "      <td>0</td>\n",
       "      <td>1.555791</td>\n",
       "      <td>3.347210</td>\n",
       "      <td>1.483369</td>\n",
       "      <td>0.421158</td>\n",
       "      <td>1.575444</td>\n",
       "    </tr>\n",
       "    <tr>\n",
       "      <th>1</th>\n",
       "      <td>15-10002</td>\n",
       "      <td>0</td>\n",
       "      <td>0.352779</td>\n",
       "      <td>0.222113</td>\n",
       "      <td>0.358576</td>\n",
       "      <td>1.157875</td>\n",
       "      <td>-0.634166</td>\n",
       "    </tr>\n",
       "    <tr>\n",
       "      <th>2</th>\n",
       "      <td>15-10003</td>\n",
       "      <td>1</td>\n",
       "      <td>0.793883</td>\n",
       "      <td>1.455704</td>\n",
       "      <td>1.233415</td>\n",
       "      <td>0.209073</td>\n",
       "      <td>1.575444</td>\n",
       "    </tr>\n",
       "    <tr>\n",
       "      <th>3</th>\n",
       "      <td>15-10004</td>\n",
       "      <td>0</td>\n",
       "      <td>1.014435</td>\n",
       "      <td>-1.011478</td>\n",
       "      <td>-0.266309</td>\n",
       "      <td>-0.829028</td>\n",
       "      <td>-0.634166</td>\n",
       "    </tr>\n",
       "    <tr>\n",
       "      <th>5</th>\n",
       "      <td>15-10006</td>\n",
       "      <td>1</td>\n",
       "      <td>0.252528</td>\n",
       "      <td>-0.888119</td>\n",
       "      <td>-0.141332</td>\n",
       "      <td>2.966179</td>\n",
       "      <td>-0.634166</td>\n",
       "    </tr>\n",
       "  </tbody>\n",
       "</table>\n",
       "</div>"
      ],
      "text/plain": [
       "         ID  X      C-08      C-09      C-10      C-11  C-09-new\n",
       "0  15-10001  0  1.555791  3.347210  1.483369  0.421158  1.575444\n",
       "1  15-10002  0  0.352779  0.222113  0.358576  1.157875 -0.634166\n",
       "2  15-10003  1  0.793883  1.455704  1.233415  0.209073  1.575444\n",
       "3  15-10004  0  1.014435 -1.011478 -0.266309 -0.829028 -0.634166\n",
       "5  15-10006  1  0.252528 -0.888119 -0.141332  2.966179 -0.634166"
      ]
     },
     "execution_count": 45,
     "metadata": {},
     "output_type": "execute_result"
    }
   ],
   "source": [
    "df.head()"
   ]
  },
  {
   "cell_type": "markdown",
   "metadata": {},
   "source": [
    "## 数据建模\n",
    "\n",
    "### 训练逻辑回归LR模型"
   ]
  },
  {
   "cell_type": "code",
   "execution_count": 12,
   "metadata": {},
   "outputs": [],
   "source": [
    "from sklearn.linear_model import LogisticRegressionCV,LinearRegression\n",
    "from sklearn.model_selection import train_test_split\n",
    "from sklearn.preprocessing import StandardScaler\n",
    "#from sklearn.linear_model.coordinate_descent import ConvergenceWarning"
   ]
  },
  {
   "cell_type": "code",
   "execution_count": 13,
   "metadata": {},
   "outputs": [],
   "source": [
    "#划分训练集与测试集  随机\n",
    "target = 'X'\n",
    "features = [x for x in df.columns if x not in['ID', 'X']]\n",
    "X, Y = df[features], df[target]# X = dataSet  and Y =  labels\n",
    "X_train, X_test, Y_train, Y_test = train_test_split(X, Y, test_size=0.2, random_state=0)"
   ]
  },
  {
   "cell_type": "code",
   "execution_count": 14,
   "metadata": {},
   "outputs": [],
   "source": [
    "#构建并训练模型\n",
    "##  multi_class:分类方式选择参数，有\"ovr(默认)\"和\"multinomial\"两个值可选择，在二元逻辑回归中无区别\n",
    "##  cv:几折交叉验证\n",
    "##  solver:优化算法选择参数，当penalty为\"l1\"时，参数只能是\"liblinear(坐标轴下降法)\"\n",
    "##  \"lbfgs\"和\"cg\"都是关于目标函数的二阶泰勒展开\n",
    "##  当penalty为\"l2\"时，参数可以是\"lbfgs(拟牛顿法)\",\"newton_cg(牛顿法变种)\",\"seg(minibactch随机平均梯度下降)\"\n",
    "##  维度<10000时，选择\"lbfgs\"法，维度>10000时，选择\"cs\"法比较好，显卡计算的时候，lbfgs\"和\"cs\"都比\"seg\"快\n",
    "##  penalty:正则化选择参数，用于解决过拟合，可选\"l1\",\"l2\"\n",
    "##  tol:当目标函数下降到该值是就停止，叫：容忍度，防止计算的过多\n",
    "lr = LogisticRegressionCV(\n",
    "    multi_class=\"multinomial\",\n",
    "    fit_intercept=True,\n",
    "    Cs=np.logspace(-2,2,20),\n",
    "    cv=2,\n",
    "    penalty=\"l2\",\n",
    "    solver=\"lbfgs\",\n",
    "    tol=0.01,\n",
    "    max_iter = 1000,\n",
    "    class_weight='balanced',\n",
    "    \n",
    ")\n",
    "re = lr.fit(X_train,Y_train)\n"
   ]
  },
  {
   "cell_type": "code",
   "execution_count": 15,
   "metadata": {
    "collapsed": true
   },
   "outputs": [
    {
     "name": "stdout",
     "output_type": "stream",
     "text": [
      "R值(准确率): 0.58098223615465\n",
      "参数: [[0.1101864  0.02737453 0.02609954 0.0683243 ]]\n",
      "截距: [0.00371395]\n",
      "稀疏化特征比率:0.00%\n",
      "=========sigmoid函数转化的值，即：概率p=========\n",
      "[[0.28069634 0.71930366]\n",
      " [0.5332976  0.4667024 ]\n",
      " [0.53416544 0.46583456]\n",
      " [0.57923233 0.42076767]\n",
      " [0.45369004 0.54630996]\n",
      " [0.47585169 0.52414831]\n",
      " [0.60639699 0.39360301]\n",
      " [0.5695664  0.4304336 ]\n",
      " [0.4963494  0.5036506 ]\n",
      " [0.4620913  0.5379087 ]\n",
      " [0.50519578 0.49480422]\n",
      " [0.4265556  0.5734444 ]\n",
      " [0.44265197 0.55734803]\n",
      " [0.47119182 0.52880818]\n",
      " [0.48966538 0.51033462]\n",
      " [0.50239687 0.49760313]\n",
      " [0.28596651 0.71403349]\n",
      " [0.48820676 0.51179324]\n",
      " [0.53804382 0.46195618]\n",
      " [0.4822647  0.5177353 ]\n",
      " [0.39915475 0.60084525]\n",
      " [0.54836808 0.45163192]\n",
      " [0.42434296 0.57565704]\n",
      " [0.58461319 0.41538681]\n",
      " [0.50617548 0.49382452]\n",
      " [0.35220539 0.64779461]\n",
      " [0.53456396 0.46543604]\n",
      " [0.39747273 0.60252727]\n",
      " [0.50997851 0.49002149]\n",
      " [0.46899078 0.53100922]\n",
      " [0.48911821 0.51088179]\n",
      " [0.53652508 0.46347492]\n",
      " [0.42351046 0.57648954]\n",
      " [0.52667151 0.47332849]\n",
      " [0.48026488 0.51973512]\n",
      " [0.60061144 0.39938856]\n",
      " [0.30084886 0.69915114]\n",
      " [0.42708813 0.57291187]\n",
      " [0.35585576 0.64414424]\n",
      " [0.51640327 0.48359673]\n",
      " [0.49260687 0.50739313]\n",
      " [0.55836202 0.44163798]\n",
      " [0.56140243 0.43859757]\n",
      " [0.56359163 0.43640837]\n",
      " [0.53962118 0.46037882]\n",
      " [0.55395239 0.44604761]\n",
      " [0.43430867 0.56569133]\n",
      " [0.56496486 0.43503514]\n",
      " [0.55739406 0.44260594]\n",
      " [0.45387275 0.54612725]\n",
      " [0.37780063 0.62219937]\n",
      " [0.28935472 0.71064528]\n",
      " [0.48614673 0.51385327]\n",
      " [0.55375521 0.44624479]\n",
      " [0.53273073 0.46726927]\n",
      " [0.16115364 0.83884636]\n",
      " [0.50552649 0.49447351]\n",
      " [0.52911495 0.47088505]\n",
      " [0.48595444 0.51404556]\n",
      " [0.48940304 0.51059696]\n",
      " [0.35490182 0.64509818]\n",
      " [0.59103182 0.40896818]\n",
      " [0.50857416 0.49142584]\n",
      " [0.5653558  0.4346442 ]\n",
      " [0.44497502 0.55502498]\n",
      " [0.45773916 0.54226084]\n",
      " [0.48239546 0.51760454]\n",
      " [0.53310295 0.46689705]\n",
      " [0.46431799 0.53568201]\n",
      " [0.51606586 0.48393414]\n",
      " [0.36070321 0.63929679]\n",
      " [0.57059727 0.42940273]\n",
      " [0.57468731 0.42531269]\n",
      " [0.48643004 0.51356996]\n",
      " [0.5590579  0.4409421 ]\n",
      " [0.38654161 0.61345839]\n",
      " [0.51902618 0.48097382]\n",
      " [0.58177501 0.41822499]\n",
      " [0.39401891 0.60598109]\n",
      " [0.54116747 0.45883253]\n",
      " [0.40172561 0.59827439]\n",
      " [0.51151731 0.48848269]\n",
      " [0.56012432 0.43987568]\n",
      " [0.5281977  0.4718023 ]\n",
      " [0.5061232  0.4938768 ]\n",
      " [0.19606835 0.80393165]\n",
      " [0.54343194 0.45656806]\n",
      " [0.56342059 0.43657941]\n",
      " [0.50370232 0.49629768]\n",
      " [0.52784066 0.47215934]\n",
      " [0.54702293 0.45297707]\n",
      " [0.52557934 0.47442066]\n",
      " [0.5551439  0.4448561 ]\n",
      " [0.55971364 0.44028636]\n",
      " [0.4921097  0.5078903 ]\n",
      " [0.46235722 0.53764278]\n",
      " [0.53363199 0.46636801]\n",
      " [0.4611831  0.5388169 ]\n",
      " [0.57996349 0.42003651]\n",
      " [0.41172982 0.58827018]\n",
      " [0.40794431 0.59205569]\n",
      " [0.4898161  0.5101839 ]\n",
      " [0.49877023 0.50122977]\n",
      " [0.55486485 0.44513515]\n",
      " [0.51412237 0.48587763]\n",
      " [0.54728686 0.45271314]\n",
      " [0.45301006 0.54698994]\n",
      " [0.51476927 0.48523073]\n",
      " [0.43249278 0.56750722]\n",
      " [0.5864091  0.4135909 ]\n",
      " [0.33441967 0.66558033]\n",
      " [0.56540017 0.43459983]\n",
      " [0.54684127 0.45315873]\n",
      " [0.49489437 0.50510563]\n",
      " [0.3759489  0.6240511 ]\n",
      " [0.5786546  0.4213454 ]\n",
      " [0.43911407 0.56088593]\n",
      " [0.2015079  0.7984921 ]\n",
      " [0.57087827 0.42912173]\n",
      " [0.58054191 0.41945809]\n",
      " [0.52758353 0.47241647]\n",
      " [0.6035381  0.3964619 ]\n",
      " [0.27297329 0.72702671]\n",
      " [0.51991486 0.48008514]\n",
      " [0.58049445 0.41950555]\n",
      " [0.41022017 0.58977983]\n",
      " [0.32648455 0.67351545]\n",
      " [0.52889459 0.47110541]\n",
      " [0.56205431 0.43794569]\n",
      " [0.5890578  0.4109422 ]\n",
      " [0.39094438 0.60905562]\n",
      " [0.54393507 0.45606493]\n",
      " [0.56997061 0.43002939]\n",
      " [0.35861601 0.64138399]\n",
      " [0.36288964 0.63711036]\n",
      " [0.4633883  0.5366117 ]\n",
      " [0.52705603 0.47294397]\n",
      " [0.57583459 0.42416541]\n",
      " [0.57691936 0.42308064]\n",
      " [0.57846455 0.42153545]\n",
      " [0.3235208  0.6764792 ]\n",
      " [0.55321936 0.44678064]\n",
      " [0.54300721 0.45699279]\n",
      " [0.36172004 0.63827996]\n",
      " [0.53673113 0.46326887]\n",
      " [0.59282823 0.40717177]\n",
      " [0.47212654 0.52787346]\n",
      " [0.51555543 0.48444457]\n",
      " [0.57820376 0.42179624]\n",
      " [0.44317842 0.55682158]\n",
      " [0.51387548 0.48612452]\n",
      " [0.47855025 0.52144975]\n",
      " [0.45273294 0.54726706]\n",
      " [0.49817768 0.50182232]\n",
      " [0.56887629 0.43112371]\n",
      " [0.49523798 0.50476202]\n",
      " [0.52703577 0.47296423]\n",
      " [0.55389644 0.44610356]\n",
      " [0.4976803  0.5023197 ]\n",
      " [0.4494238  0.5505762 ]\n",
      " [0.53650832 0.46349168]\n",
      " [0.55823836 0.44176164]\n",
      " [0.30186411 0.69813589]\n",
      " [0.40460643 0.59539357]\n",
      " [0.55455143 0.44544857]\n",
      " [0.40364506 0.59635494]\n",
      " [0.27597952 0.72402048]\n",
      " [0.46854014 0.53145986]\n",
      " [0.47582345 0.52417655]\n",
      " [0.57186348 0.42813652]\n",
      " [0.54695271 0.45304729]\n",
      " [0.4992382  0.5007618 ]\n",
      " [0.52049904 0.47950096]\n",
      " [0.55447815 0.44552185]\n",
      " [0.42141526 0.57858474]\n",
      " [0.41335206 0.58664794]\n",
      " [0.45895048 0.54104952]\n",
      " [0.55064902 0.44935098]\n",
      " [0.48679122 0.51320878]\n",
      " [0.48833135 0.51166865]\n",
      " [0.52758261 0.47241739]\n",
      " [0.51859108 0.48140892]\n",
      " [0.47486883 0.52513117]\n",
      " [0.46341685 0.53658315]\n",
      " [0.55166873 0.44833127]\n",
      " [0.47565999 0.52434001]\n",
      " [0.24629546 0.75370454]\n",
      " [0.54129846 0.45870154]\n",
      " [0.5635134  0.4364866 ]\n",
      " [0.57087476 0.42912524]\n",
      " [0.51385771 0.48614229]\n",
      " [0.52004139 0.47995861]\n",
      " [0.60508256 0.39491744]\n",
      " [0.37123274 0.62876726]\n",
      " [0.48534644 0.51465356]\n",
      " [0.51619687 0.48380313]\n",
      " [0.57195231 0.42804769]\n",
      " [0.57239104 0.42760896]\n",
      " [0.61497912 0.38502088]\n",
      " [0.43480871 0.56519129]\n",
      " [0.5542052  0.4457948 ]\n",
      " [0.50337246 0.49662754]\n",
      " [0.50639251 0.49360749]\n",
      " [0.48318286 0.51681714]\n",
      " [0.40988374 0.59011626]\n",
      " [0.54748434 0.45251566]\n",
      " [0.5689394  0.4310606 ]\n",
      " [0.56222792 0.43777208]\n",
      " [0.58686448 0.41313552]\n",
      " [0.45247443 0.54752557]\n",
      " [0.53922021 0.46077979]\n",
      " [0.56832929 0.43167071]\n",
      " [0.45528151 0.54471849]\n",
      " [0.43648513 0.56351487]\n",
      " [0.30572622 0.69427378]\n",
      " [0.58690811 0.41309189]\n",
      " [0.48446123 0.51553877]\n",
      " [0.58298735 0.41701265]\n",
      " [0.57021431 0.42978569]\n",
      " [0.53043839 0.46956161]\n",
      " [0.57215582 0.42784418]\n",
      " [0.52163947 0.47836053]\n",
      " [0.33776172 0.66223828]\n",
      " [0.495429   0.504571  ]\n",
      " [0.53796992 0.46203008]\n",
      " [0.56768872 0.43231128]\n",
      " [0.53679996 0.46320004]\n",
      " [0.56041056 0.43958944]\n",
      " [0.26164923 0.73835077]\n",
      " [0.56169257 0.43830743]\n",
      " [0.48211452 0.51788548]\n",
      " [0.5821894  0.4178106 ]\n",
      " [0.44960328 0.55039672]\n",
      " [0.46775246 0.53224754]\n",
      " [0.51419147 0.48580853]\n",
      " [0.54810744 0.45189256]\n",
      " [0.51987033 0.48012967]\n",
      " [0.47188016 0.52811984]\n",
      " [0.55317797 0.44682203]\n",
      " [0.59888909 0.40111091]]\n"
     ]
    }
   ],
   "source": [
    "#模型效果获取\n",
    "r = re.score(X_train,Y_train)\n",
    "print(\"R值(准确率):\",r)\n",
    "print(\"参数:\",re.coef_)\n",
    "print(\"截距:\",re.intercept_)\n",
    "print(\"稀疏化特征比率:%.2f%%\" %(np.mean(lr.coef_.ravel()==0)*100))\n",
    "print(\"=========sigmoid函数转化的值，即：概率p=========\")\n",
    "print(re.predict_proba(X_test))     #sigmoid函数转化的值，即：概率p"
   ]
  },
  {
   "cell_type": "markdown",
   "metadata": {},
   "source": [
    "### 模型的持久化"
   ]
  },
  {
   "cell_type": "code",
   "execution_count": 78,
   "metadata": {},
   "outputs": [
    {
     "data": {
      "text/plain": [
       "LogisticRegressionCV(Cs=array([1.00000e-02, 1.62378e-02, 2.63665e-02, 4.28133e-02, 6.95193e-02,\n",
       "       1.12884e-01, 1.83298e-01, 2.97635e-01, 4.83293e-01, 7.84760e-01,\n",
       "       1.27427e+00, 2.06914e+00, 3.35982e+00, 5.45559e+00, 8.85867e+00,\n",
       "       1.43845e+01, 2.33572e+01, 3.79269e+01, 6.15848e+01, 1.00000e+02]),\n",
       "           class_weight='balanced', cv=2, dual=False, fit_intercept=True,\n",
       "           intercept_scaling=1.0, max_iter=1000, multi_class='multinomial',\n",
       "           n_jobs=None, penalty='l2', random_state=None, refit=True,\n",
       "           scoring=None, solver='lbfgs', tol=0.01, verbose=0)"
      ]
     },
     "execution_count": 78,
     "metadata": {},
     "output_type": "execute_result"
    }
   ],
   "source": [
    "#模型的保存与持久化\n",
    "from sklearn.externals import joblib\n",
    "# joblib.dump(ss,\"logistic_ss.model\")     #将标准化模型保存\n",
    "joblib.dump(lr,\"secon_chan_logistic_lr.model\")     #将训练后的线性模型保存\n",
    "# joblib.load(\"logistic_ss.model\")        #加载模型,会保存该model文件\n",
    "joblib.load(\"secon_non_logistic_lr.model\")"
   ]
  },
  {
   "cell_type": "markdown",
   "metadata": {},
   "source": [
    "### 预测结果评价"
   ]
  },
  {
   "cell_type": "code",
   "execution_count": 16,
   "metadata": {},
   "outputs": [],
   "source": [
    "import matplotlib as mpl\n",
    "\n",
    "#解决中文显示问题\n",
    "mpl.rcParams['font.sans-serif']=[u'simHei']\n",
    "mpl.rcParams['axes.unicode_minus']=False"
   ]
  },
  {
   "cell_type": "code",
   "execution_count": 17,
   "metadata": {},
   "outputs": [
    {
     "name": "stderr",
     "output_type": "stream",
     "text": [
      "findfont: Font family ['sans-serif'] not found. Falling back to DejaVu Sans.\n",
      "findfont: Font family ['sans-serif'] not found. Falling back to DejaVu Sans.\n",
      "findfont: Font family ['sans-serif'] not found. Falling back to DejaVu Sans.\n"
     ]
    },
    {
     "data": {
      "image/png": "[encoded data removed]",
      "text/plain": [
       "<Figure size 1008x504 with 1 Axes>"
      ]
     },
     "metadata": {},
     "output_type": "display_data"
    },
    {
     "name": "stdout",
     "output_type": "stream",
     "text": [
      "=============Y_test==============\n",
      "[1 0 1 1 0 0 0 1 1 1 0 1 0 0 0 1 1 1 0 0 1 1 0 0 1 1 1 1 0 1 1 0 1 0 0 1 1\n",
      " 0 1 0 0 1 0 0 1 0 1 0 0 1 1 0 0 1 0 1 0 1 1 1 1 1 1 0 1 0 0 1 1 1 0 0 0 1\n",
      " 0 1 1 0 0 0 1 1 1 0 0 1 0 0 1 0 0 0 0 0 0 0 1 0 0 1 1 0 1 1 0 0 1 0 0 0 1\n",
      " 1 0 1 1 0 0 1 0 0 0 1 1 1 0 0 1 1 1 1 1 0 0 0 1 0 0 0 1 0 0 0 0 0 1 0 0 1\n",
      " 0 1 1 0 0 1 0 1 0 0 1 1 0 1 0 0 1 0 1 1 1 0 0 1 0 1 1 1 0 0 0 0 0 0 1 0 0\n",
      " 0 0 1 0 1 1 0 0 0 0 1 1 1 1 1 0 0 0 0 0 0 0 0 0 0 0 1 0 1 1 0 1 1 1 0 1 1\n",
      " 0 0 0 0 1 0 1 1 0 1 0 1 0 1 1 1 1 0]\n",
      "============Y_predict============\n",
      "[1 0 0 0 1 1 0 0 1 1 0 1 1 1 1 0 1 1 0 1 1 0 1 0 0 1 0 1 0 1 1 0 1 0 1 0 1\n",
      " 1 1 0 1 0 0 0 0 0 1 0 0 1 1 1 1 0 0 1 0 0 1 1 1 0 0 0 1 1 1 0 1 0 1 0 0 1\n",
      " 0 1 0 0 1 0 1 0 0 0 0 1 0 0 0 0 0 0 0 0 1 1 0 1 0 1 1 1 1 0 0 0 1 0 1 0 1\n",
      " 0 0 1 1 0 1 1 0 0 0 0 1 0 0 1 1 0 0 0 1 0 0 1 1 1 0 0 0 0 1 0 0 1 0 0 1 0\n",
      " 0 1 0 1 1 1 0 1 0 0 1 1 0 0 1 1 0 1 1 1 1 0 0 1 0 0 1 1 1 0 1 1 0 0 1 1 0\n",
      " 1 1 0 0 0 0 0 0 1 1 0 0 0 0 1 0 0 0 1 1 0 0 0 0 1 0 0 1 1 1 0 1 0 0 0 0 0\n",
      " 1 1 0 0 0 0 1 0 1 0 1 1 0 0 0 1 0 0]\n"
     ]
    }
   ],
   "source": [
    "#预测\n",
    "Y_predict = lr.predict(X_test)\n",
    " \n",
    "#画图对预测值和实际值进行比较\n",
    "x = range(len(X_test))\n",
    "plt.figure(figsize=(14,7),facecolor=\"w\")\n",
    "plt.ylim(0,6)\n",
    "plt.plot(x,Y_test,\"ro\",markersize=8,zorder=3,label=u\"Groud Truth\")\n",
    "plt.plot(x,Y_predict,\"go\",markersize=14,zorder=2,label=u\"Predict Value,$R^2$=%.3f\" %lr.score(X_test,Y_test))\n",
    "plt.legend(loc=\"upper left\")\n",
    "plt.xlabel(u\"sample\",fontsize=18)\n",
    "plt.ylabel(u\"label\",fontsize=18)\n",
    "plt.title(u\"Logistic Model\",fontsize=20)\n",
    "plt.show()\n",
    " \n",
    "print(\"=============Y_test==============\")\n",
    "print(Y_test.ravel())\n",
    "print(\"============Y_predict============\")\n",
    "print(Y_predict)"
   ]
  },
  {
   "cell_type": "code",
   "execution_count": 18,
   "metadata": {},
   "outputs": [
    {
     "name": "stdout",
     "output_type": "stream",
     "text": [
      "预测准确率： 0.575\n",
      "精度： 0.5740092052561309\n",
      "召回率： 0.575\n"
     ]
    }
   ],
   "source": [
    "from sklearn import metrics\n",
    "\n",
    "print(\"预测准确率：\", metrics.accuracy_score(Y_test, Y_predict))\n",
    "print(\"精度：\", metrics.precision_score(Y_test, Y_predict, average=\"weighted\"))\n",
    "print(\"召回率：\", metrics.recall_score(Y_test, Y_predict, average=\"weighted\"))"
   ]
  },
  {
   "cell_type": "code",
   "execution_count": 19,
   "metadata": {},
   "outputs": [],
   "source": [
    "\n",
    "from sklearn.model_selection import train_test_split\n",
    "from sklearn.preprocessing import StandardScaler\n",
    "import numpy as np"
   ]
  },
  {
   "cell_type": "code",
   "execution_count": 20,
   "metadata": {},
   "outputs": [
    {
     "name": "stdout",
     "output_type": "stream",
     "text": [
      "best score 0.59\n",
      "depth 10\n",
      "criterion entropy\n"
     ]
    }
   ],
   "source": [
    "\n",
    "#from sklearn.linear_model.coordinate_descent import ConvergenceWarning\n",
    "from sklearn import tree\n",
    "from matplotlib import pyplot as plt\n",
    "\n",
    "\n",
    "\n",
    "\n",
    "#划分训练集与测试集  随机\n",
    "target = 'X'\n",
    "features = [x for x in df.columns if x not in['ID', 'X']]\n",
    "X, Y = df[features], df[target]# X = dataSet  and Y =  labels\n",
    "X_train, X_test, Y_train, Y_test = train_test_split(X, Y, test_size=0.2, random_state=0)\n",
    "\n",
    "bestTestingScore = 0.0\n",
    "bestDepth = 0\n",
    "bestriterion = ''\n",
    "\n",
    "maxdepth = 40\n",
    "depths = np.arange(2, maxdepth)\n",
    "criterions = ['gini','entropy']\n",
    "for criterion in criterions:\n",
    "    training_scores = []\n",
    "    testing_scores = []\n",
    "    for depth in depths:\n",
    "        clf = tree.DecisionTreeClassifier(criterion = criterion ,max_depth = depth)\n",
    "        clf.fit(X_train, Y_train)\n",
    "        trSc = clf.score(X_train, Y_train)\n",
    "        teSc = clf.score(X_test, Y_test)\n",
    "        training_scores.append(trSc)\n",
    "        testing_scores.append(teSc)\n",
    "        if bestTestingScore< teSc:\n",
    "            bestTestingScore = teSc\n",
    "            bestDepth = depth\n",
    "            bestriterion = criterion\n",
    "print('best score %.2f' % bestTestingScore)\n",
    "print('depth %d' % bestDepth)\n",
    "print('criterion %s' % bestriterion)\n"
   ]
  },
  {
   "cell_type": "code",
   "execution_count": 21,
   "metadata": {},
   "outputs": [
    {
     "name": "stdout",
     "output_type": "stream",
     "text": [
      "linear_svc training score:0.587252\n",
      "linear_svc testing score:0.579167\n",
      "rbf_kernel_svc training score:0.931034\n",
      "rbf_kernel_svc testing score:0.566667\n"
     ]
    },
    {
     "name": "stderr",
     "output_type": "stream",
     "text": [
      "/Users/xiangsong/Library/Python/3.6/lib/python/site-packages/sklearn/svm/base.py:929: ConvergenceWarning: Liblinear failed to converge, increase the number of iterations.\n",
      "  \"the number of iterations.\", ConvergenceWarning)\n"
     ]
    }
   ],
   "source": [
    "from sklearn import datasets\n",
    "from sklearn.pipeline import Pipeline\n",
    "from sklearn.preprocessing import StandardScaler\n",
    "from sklearn.svm import LinearSVC\n",
    "\n",
    "from sklearn.svm import SVC\n",
    "\n",
    "\n",
    "target = 'X'\n",
    "features = [x for x in df.columns if x not in['ID', 'X']]\n",
    "X, Y = df[features], df[target]# X = dataSet  and Y =  labels\n",
    "X_train, X_test, Y_train, Y_test = train_test_split(X, Y, test_size=0.2, random_state=0)\n",
    "\n",
    "\n",
    "svm_clf = Pipeline((\n",
    "                    ('scaler', StandardScaler()),\n",
    "                   ('linear_svc', LinearSVC(C = 1, loss = 'hinge'))\n",
    "                  )).fit(X_train, Y_train)\n",
    "print('linear_svc training score:%f' % svm_clf.score(X_train, Y_train))\n",
    "print('linear_svc testing score:%f' % svm_clf.score(X_test, Y_test))\n",
    "\n",
    "\n",
    "rbf_kernel_svm_clf = Pipeline((('scaler', StandardScaler()),\n",
    "                               ('svm_clf', SVC(kernel = 'rbf', gamma = 5, C = 5 )) #当C为0.001 时 预测非1\n",
    "                               )).fit(X_train, Y_train)\n",
    "print('rbf_kernel_svc training score:%f' % rbf_kernel_svm_clf.score(X_train, Y_train))\n",
    "print('rbf_kernel_svc testing score:%f' % rbf_kernel_svm_clf.score(X_test, Y_test))"
   ]
  },
  {
   "cell_type": "markdown",
   "metadata": {},
   "source": [
    "## CCA 特征"
   ]
  },
  {
   "cell_type": "code",
   "execution_count": null,
   "metadata": {},
   "outputs": [],
   "source": [
    "## CCA 数据 没有\n",
    "\"\"\"\n",
    "CCA_FILES = [\"CCA.csv\", \"DMPCCA.csv\", \"LDCCA.csv\", \"LPCCA.csv\", \"rank-CCA.csv\", \"semi-CCA.csv\"]\n",
    "\n",
    "for fi in CCA_FILES:\n",
    "    df = pd.read_csv(open(fi, encoding='utf-8'), skiprows=0)  \n",
    "    #划分训练集与测试集\n",
    "    target = 't'\n",
    "    features = [x for x in df.columns if x not in['t']]\n",
    "    X, Y = df[features], df[target]\n",
    "    X_train, X_test, Y_train, Y_test = train_test_split(X, Y, test_size=0.2, random_state=0)\n",
    "    lr = LogisticRegressionCV(\n",
    "        multi_class=\"multinomial\",\n",
    "        fit_intercept=True,\n",
    "        Cs=np.logspace(-2,2,20),\n",
    "        cv=2,\n",
    "        penalty=\"l2\",\n",
    "        solver=\"lbfgs\",\n",
    "        tol=0.01,\n",
    "        max_iter = 1000,\n",
    "        class_weight='balanced', \n",
    "    )\n",
    "    re = lr.fit(X_train,Y_train)\n",
    "    Y_predict = lr.predict(X_test)\n",
    "    print(\"===== %s =====\" % fi)\n",
    "    print(\"训练准确率：\", re.score(X_train,Y_train))\n",
    "    print(\"预测准确率：\", metrics.accuracy_score(Y_test, Y_predict))\n",
    "    print(\"精度：\", metrics.precision_score(Y_test, Y_predict, average=\"weighted\"))\n",
    "    print(\"召回率：\", metrics.recall_score(Y_test, Y_predict, average=\"weighted\"))\n",
    "    print(\"==========\")\n",
    "\"\"\""
   ]
  }
 ],
 "metadata": {
  "kernelspec": {
   "display_name": "Python 3",
   "language": "python",
   "name": "python3"
  },
  "language_info": {
   "codemirror_mode": {
    "name": "ipython",
    "version": 3
   },
   "file_extension": ".py",
   "mimetype": "text/x-python",
   "name": "python",
   "nbconvert_exporter": "python",
   "pygments_lexer": "ipython3",
   "version": "3.6.7"
  }
 },
 "nbformat": 4,
 "nbformat_minor": 2
}
