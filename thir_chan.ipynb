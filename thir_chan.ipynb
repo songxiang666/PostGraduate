{
 "cells": [
  {
   "cell_type": "code",
   "execution_count": 1,
   "metadata": {},
   "outputs": [],
   "source": [
    "import numpy as np\n",
    "import pandas as pd\n",
    "from matplotlib import pyplot as plt\n",
    "\n",
    "%matplotlib inline"
   ]
  },
  {
   "cell_type": "code",
   "execution_count": 2,
   "metadata": {},
   "outputs": [
    {
     "name": "stdout",
     "output_type": "stream",
     "text": [
      "data size: (1314, 6)\n"
     ]
    },
    {
     "data": {
      "text/html": [
       "<div>\n",
       "<style scoped>\n",
       "    .dataframe tbody tr th:only-of-type {\n",
       "        vertical-align: middle;\n",
       "    }\n",
       "\n",
       "    .dataframe tbody tr th {\n",
       "        vertical-align: top;\n",
       "    }\n",
       "\n",
       "    .dataframe thead th {\n",
       "        text-align: right;\n",
       "    }\n",
       "</style>\n",
       "<table border=\"1\" class=\"dataframe\">\n",
       "  <thead>\n",
       "    <tr style=\"text-align: right;\">\n",
       "      <th></th>\n",
       "      <th>ID</th>\n",
       "      <th>X</th>\n",
       "      <th>H-12</th>\n",
       "      <th>P-01</th>\n",
       "      <th>C-01</th>\n",
       "      <th>C-04</th>\n",
       "    </tr>\n",
       "  </thead>\n",
       "  <tbody>\n",
       "    <tr>\n",
       "      <th>0</th>\n",
       "      <td>15-10001</td>\n",
       "      <td>0</td>\n",
       "      <td>121</td>\n",
       "      <td>10.8</td>\n",
       "      <td>14.6</td>\n",
       "      <td>41.8</td>\n",
       "    </tr>\n",
       "    <tr>\n",
       "      <th>1</th>\n",
       "      <td>15-10002</td>\n",
       "      <td>0</td>\n",
       "      <td>172</td>\n",
       "      <td>12.5</td>\n",
       "      <td>18.5</td>\n",
       "      <td>45.5</td>\n",
       "    </tr>\n",
       "    <tr>\n",
       "      <th>2</th>\n",
       "      <td>15-10003</td>\n",
       "      <td>1</td>\n",
       "      <td>141</td>\n",
       "      <td>11.7</td>\n",
       "      <td>34.2</td>\n",
       "      <td>41.7</td>\n",
       "    </tr>\n",
       "    <tr>\n",
       "      <th>3</th>\n",
       "      <td>15-10004</td>\n",
       "      <td>0</td>\n",
       "      <td>105</td>\n",
       "      <td>10.8</td>\n",
       "      <td>14.6</td>\n",
       "      <td>46.5</td>\n",
       "    </tr>\n",
       "    <tr>\n",
       "      <th>4</th>\n",
       "      <td>15-10005</td>\n",
       "      <td>1</td>\n",
       "      <td>207</td>\n",
       "      <td>10.1</td>\n",
       "      <td>10.4</td>\n",
       "      <td>41.9</td>\n",
       "    </tr>\n",
       "  </tbody>\n",
       "</table>\n",
       "</div>"
      ],
      "text/plain": [
       "         ID  X  H-12  P-01  C-01  C-04\n",
       "0  15-10001  0   121  10.8  14.6  41.8\n",
       "1  15-10002  0   172  12.5  18.5  45.5\n",
       "2  15-10003  1   141  11.7  34.2  41.7\n",
       "3  15-10004  0   105  10.8  14.6  46.5\n",
       "4  15-10005  1   207  10.1  10.4  41.9"
      ]
     },
     "execution_count": 2,
     "metadata": {},
     "output_type": "execute_result"
    }
   ],
   "source": [
    "data = open('three_kind_andMark/G_in/thir_chan.csv', encoding = 'utf-8')\n",
    "df = pd.read_csv(data, skiprows = 0)\n",
    "print('data size:', df.shape)\n",
    "df.head()"
   ]
  },
  {
   "cell_type": "markdown",
   "metadata": {},
   "source": [
    "ID：病例编号\n",
    "X：分类目标\n",
    "其余特征表示一线标志物"
   ]
  },
  {
   "cell_type": "markdown",
   "metadata": {},
   "source": [
    "# 数据的直观分布\n",
    "\n",
    "## 数据构成比例\n",
    "\n",
    "### 时间与患病数"
   ]
  },
  {
   "cell_type": "code",
   "execution_count": 3,
   "metadata": {},
   "outputs": [
    {
     "data": {
      "text/html": [
       "<div>\n",
       "<style scoped>\n",
       "    .dataframe tbody tr th:only-of-type {\n",
       "        vertical-align: middle;\n",
       "    }\n",
       "\n",
       "    .dataframe tbody tr th {\n",
       "        vertical-align: top;\n",
       "    }\n",
       "\n",
       "    .dataframe thead th {\n",
       "        text-align: right;\n",
       "    }\n",
       "</style>\n",
       "<table border=\"1\" class=\"dataframe\">\n",
       "  <thead>\n",
       "    <tr style=\"text-align: right;\">\n",
       "      <th></th>\n",
       "      <th></th>\n",
       "      <th>ID</th>\n",
       "    </tr>\n",
       "    <tr>\n",
       "      <th>Year</th>\n",
       "      <th>X</th>\n",
       "      <th></th>\n",
       "    </tr>\n",
       "  </thead>\n",
       "  <tbody>\n",
       "    <tr>\n",
       "      <th rowspan=\"2\" valign=\"top\">15</th>\n",
       "      <th>0</th>\n",
       "      <td>199</td>\n",
       "    </tr>\n",
       "    <tr>\n",
       "      <th>1</th>\n",
       "      <td>210</td>\n",
       "    </tr>\n",
       "    <tr>\n",
       "      <th rowspan=\"2\" valign=\"top\">16</th>\n",
       "      <th>0</th>\n",
       "      <td>228</td>\n",
       "    </tr>\n",
       "    <tr>\n",
       "      <th>1</th>\n",
       "      <td>200</td>\n",
       "    </tr>\n",
       "    <tr>\n",
       "      <th rowspan=\"2\" valign=\"top\">17</th>\n",
       "      <th>0</th>\n",
       "      <td>271</td>\n",
       "    </tr>\n",
       "    <tr>\n",
       "      <th>1</th>\n",
       "      <td>206</td>\n",
       "    </tr>\n",
       "  </tbody>\n",
       "</table>\n",
       "</div>"
      ],
      "text/plain": [
       "         ID\n",
       "Year X     \n",
       "15   0  199\n",
       "     1  210\n",
       "16   0  228\n",
       "     1  200\n",
       "17   0  271\n",
       "     1  206"
      ]
     },
     "execution_count": 3,
     "metadata": {},
     "output_type": "execute_result"
    }
   ],
   "source": [
    "df['Year'] = df['ID']. apply(lambda row : row.split('-')[0] )\n",
    "a = df[['Year', 'X', 'ID']].groupby(['Year', 'X']).count()\n",
    "a"
   ]
  },
  {
   "cell_type": "code",
   "execution_count": 4,
   "metadata": {},
   "outputs": [],
   "source": [
    "plt.style.use('seaborn')"
   ]
  },
  {
   "cell_type": "code",
   "execution_count": 5,
   "metadata": {},
   "outputs": [
    {
     "data": {
      "text/plain": [
       "array([<matplotlib.axes._subplots.AxesSubplot object at 0x000001CF1E25F400>,\n",
       "       <matplotlib.axes._subplots.AxesSubplot object at 0x000001CF1E2F4588>,\n",
       "       <matplotlib.axes._subplots.AxesSubplot object at 0x000001CF1E31DDA0>],\n",
       "      dtype=object)"
      ]
     },
     "execution_count": 5,
     "metadata": {},
     "output_type": "execute_result"
    },
    {
     "data": {
      "image/png": "[encoded data removed]",
      "text/plain": [
       "<Figure size 576x396 with 3 Axes>"
      ]
     },
     "metadata": {},
     "output_type": "display_data"
    }
   ],
   "source": [
    "b = a.unstack()\n",
    "b\n",
    "(b.T).plot(kind = 'pie', subplots = True)"
   ]
  },
  {
   "cell_type": "markdown",
   "metadata": {},
   "source": [
    "## 特征的分布规律"
   ]
  },
  {
   "cell_type": "code",
   "execution_count": 6,
   "metadata": {},
   "outputs": [
    {
     "name": "stderr",
     "output_type": "stream",
     "text": [
      "D:\\ANOCONDA\\lib\\site-packages\\IPython\\core\\interactiveshell.py:3267: UserWarning: To output multiple subplots, the figure containing the passed axes is being cleared\n",
      "  exec(code_obj, self.user_global_ns, self.user_ns)\n"
     ]
    },
    {
     "data": {
      "text/plain": [
       "array([[<matplotlib.axes._subplots.AxesSubplot object at 0x000001CF1E3C40B8>,\n",
       "        <matplotlib.axes._subplots.AxesSubplot object at 0x000001CF1E464E48>],\n",
       "       [<matplotlib.axes._subplots.AxesSubplot object at 0x000001CF1E4927F0>,\n",
       "        <matplotlib.axes._subplots.AxesSubplot object at 0x000001CF1E4C3198>]],\n",
       "      dtype=object)"
      ]
     },
     "execution_count": 6,
     "metadata": {},
     "output_type": "execute_result"
    },
    {
     "data": {
      "image/png": "[encoded data removed]",
      "text/plain": [
       "<Figure size 576x396 with 4 Axes>"
      ]
     },
     "metadata": {},
     "output_type": "display_data"
    }
   ],
   "source": [
    "#复制除编号以及病状的所有特征\n",
    "features = [x for x in df.columns if x not in['ID', 'X'] ]\n",
    "plt.figure()\n",
    "ax = plt.subplot(111)\n",
    "df.hist(column = features, bins = 20, ax = ax)"
   ]
  },
  {
   "cell_type": "code",
   "execution_count": null,
   "metadata": {},
   "outputs": [],
   "source": []
  },
  {
   "cell_type": "markdown",
   "metadata": {},
   "source": [
    "正相关的特征分布"
   ]
  },
  {
   "cell_type": "code",
   "execution_count": 7,
   "metadata": {},
   "outputs": [
    {
     "data": {
      "text/plain": [
       "array([[<matplotlib.axes._subplots.AxesSubplot object at 0x000001A2F3303A20>,\n",
       "        <matplotlib.axes._subplots.AxesSubplot object at 0x000001A2F3360048>]],\n",
       "      dtype=object)"
      ]
     },
     "execution_count": 7,
     "metadata": {},
     "output_type": "execute_result"
    },
    {
     "data": {
      "image/png": "[encoded data removed]",
      "text/plain": [
       "<Figure size 576x396 with 2 Axes>"
      ]
     },
     "metadata": {},
     "output_type": "display_data"
    }
   ],
   "source": [
    "df.hist(column = ['C-01','P-01'], bins = 20)"
   ]
  },
  {
   "cell_type": "markdown",
   "metadata": {},
   "source": [
    "负相关的特征分布"
   ]
  },
  {
   "cell_type": "code",
   "execution_count": 8,
   "metadata": {},
   "outputs": [
    {
     "data": {
      "text/plain": [
       "array([[<matplotlib.axes._subplots.AxesSubplot object at 0x000001A2F33F9BE0>,\n",
       "        <matplotlib.axes._subplots.AxesSubplot object at 0x000001A2F345E668>]],\n",
       "      dtype=object)"
      ]
     },
     "execution_count": 8,
     "metadata": {},
     "output_type": "execute_result"
    },
    {
     "data": {
      "image/png": "[encoded data removed]",
      "text/plain": [
       "<Figure size 576x396 with 2 Axes>"
      ]
     },
     "metadata": {},
     "output_type": "display_data"
    }
   ],
   "source": [
    "df.hist(column = ['H-12','C-04'], bins = 20)"
   ]
  },
  {
   "cell_type": "markdown",
   "metadata": {},
   "source": [
    "## 数据的正态化变换\n",
    "\n"
   ]
  },
  {
   "cell_type": "markdown",
   "metadata": {},
   "source": [
    "C-01的分布图不符合正态性"
   ]
  },
  {
   "cell_type": "code",
   "execution_count": 10,
   "metadata": {},
   "outputs": [
    {
     "data": {
      "text/plain": [
       "<matplotlib.legend.Legend at 0x1a2f4f761d0>"
      ]
     },
     "execution_count": 10,
     "metadata": {},
     "output_type": "execute_result"
    },
    {
     "data": {
      "image/png": "[encoded data removed]",
      "text/plain": [
       "<Figure size 576x396 with 1 Axes>"
      ]
     },
     "metadata": {},
     "output_type": "display_data"
    }
   ],
   "source": [
    "df['C-01'].plot(kind = 'kde', xlim = [0,50], label = 'C-01-old')\n",
    "\n",
    "np.log10(df['C-01']).plot(kind = 'kde', xlim = [0,50], label = 'C-01-new')\n",
    "plt.legend()"
   ]
  },
  {
   "cell_type": "code",
   "execution_count": 11,
   "metadata": {},
   "outputs": [
    {
     "data": {
      "text/plain": [
       "<matplotlib.axes._subplots.AxesSubplot at 0x1a2f4fe97b8>"
      ]
     },
     "execution_count": 11,
     "metadata": {},
     "output_type": "execute_result"
    },
    {
     "data": {
      "image/png": "[encoded data removed]",
      "text/plain": [
       "<Figure size 576x396 with 1 Axes>"
      ]
     },
     "metadata": {},
     "output_type": "display_data"
    }
   ],
   "source": [
    "np.log10(df['C-01']).hist(bins = 25)"
   ]
  },
  {
   "cell_type": "markdown",
   "metadata": {},
   "source": [
    "# 数据的浓缩\n",
    "\n",
    "五数概括法：  \n",
    "最小值、最大值、中位数、上四分位数、下四分位数"
   ]
  },
  {
   "cell_type": "code",
   "execution_count": 7,
   "metadata": {},
   "outputs": [
    {
     "name": "stdout",
     "output_type": "stream",
     "text": [
      "数据的概况总览\n"
     ]
    },
    {
     "data": {
      "text/html": [
       "<div>\n",
       "<style scoped>\n",
       "    .dataframe tbody tr th:only-of-type {\n",
       "        vertical-align: middle;\n",
       "    }\n",
       "\n",
       "    .dataframe tbody tr th {\n",
       "        vertical-align: top;\n",
       "    }\n",
       "\n",
       "    .dataframe thead th {\n",
       "        text-align: right;\n",
       "    }\n",
       "</style>\n",
       "<table border=\"1\" class=\"dataframe\">\n",
       "  <thead>\n",
       "    <tr style=\"text-align: right;\">\n",
       "      <th></th>\n",
       "      <th>X</th>\n",
       "      <th>H-12</th>\n",
       "      <th>P-01</th>\n",
       "      <th>C-01</th>\n",
       "      <th>C-04</th>\n",
       "    </tr>\n",
       "  </thead>\n",
       "  <tbody>\n",
       "    <tr>\n",
       "      <th>count</th>\n",
       "      <td>1314.000000</td>\n",
       "      <td>1314.000000</td>\n",
       "      <td>1313.000000</td>\n",
       "      <td>1314.000000</td>\n",
       "      <td>1314.000000</td>\n",
       "    </tr>\n",
       "    <tr>\n",
       "      <th>mean</th>\n",
       "      <td>0.468798</td>\n",
       "      <td>162.200152</td>\n",
       "      <td>11.841813</td>\n",
       "      <td>15.719863</td>\n",
       "      <td>41.864688</td>\n",
       "    </tr>\n",
       "    <tr>\n",
       "      <th>std</th>\n",
       "      <td>0.499215</td>\n",
       "      <td>70.091869</td>\n",
       "      <td>1.047447</td>\n",
       "      <td>14.221567</td>\n",
       "      <td>3.663513</td>\n",
       "    </tr>\n",
       "    <tr>\n",
       "      <th>min</th>\n",
       "      <td>0.000000</td>\n",
       "      <td>16.000000</td>\n",
       "      <td>9.600000</td>\n",
       "      <td>2.400000</td>\n",
       "      <td>26.800000</td>\n",
       "    </tr>\n",
       "    <tr>\n",
       "      <th>25%</th>\n",
       "      <td>0.000000</td>\n",
       "      <td>115.250000</td>\n",
       "      <td>11.200000</td>\n",
       "      <td>11.000000</td>\n",
       "      <td>39.700000</td>\n",
       "    </tr>\n",
       "    <tr>\n",
       "      <th>50%</th>\n",
       "      <td>0.000000</td>\n",
       "      <td>154.000000</td>\n",
       "      <td>11.700000</td>\n",
       "      <td>14.100000</td>\n",
       "      <td>42.100000</td>\n",
       "    </tr>\n",
       "    <tr>\n",
       "      <th>75%</th>\n",
       "      <td>1.000000</td>\n",
       "      <td>196.000000</td>\n",
       "      <td>12.300000</td>\n",
       "      <td>18.000000</td>\n",
       "      <td>44.300000</td>\n",
       "    </tr>\n",
       "    <tr>\n",
       "      <th>max</th>\n",
       "      <td>1.000000</td>\n",
       "      <td>592.000000</td>\n",
       "      <td>22.200000</td>\n",
       "      <td>285.700000</td>\n",
       "      <td>52.900000</td>\n",
       "    </tr>\n",
       "  </tbody>\n",
       "</table>\n",
       "</div>"
      ],
      "text/plain": [
       "                 X         H-12         P-01         C-01         C-04\n",
       "count  1314.000000  1314.000000  1313.000000  1314.000000  1314.000000\n",
       "mean      0.468798   162.200152    11.841813    15.719863    41.864688\n",
       "std       0.499215    70.091869     1.047447    14.221567     3.663513\n",
       "min       0.000000    16.000000     9.600000     2.400000    26.800000\n",
       "25%       0.000000   115.250000    11.200000    11.000000    39.700000\n",
       "50%       0.000000   154.000000    11.700000    14.100000    42.100000\n",
       "75%       1.000000   196.000000    12.300000    18.000000    44.300000\n",
       "max       1.000000   592.000000    22.200000   285.700000    52.900000"
      ]
     },
     "execution_count": 7,
     "metadata": {},
     "output_type": "execute_result"
    }
   ],
   "source": [
    "print('数据的概况总览')\n",
    "df.describe()"
   ]
  },
  {
   "cell_type": "markdown",
   "metadata": {},
   "source": [
    "## 样本的矩\n",
    "\n",
    "\n",
    "1阶原点矩——数学期望、均值  \n",
    "2阶中心矩——方差  \n",
    "3阶中心矩——偏度系数  \n",
    "4阶中心矩——峰度系数"
   ]
  },
  {
   "cell_type": "code",
   "execution_count": 8,
   "metadata": {},
   "outputs": [
    {
     "data": {
      "text/plain": [
       "count    1314.000000\n",
       "mean       41.864688\n",
       "std         3.663513\n",
       "min        26.800000\n",
       "25%        39.700000\n",
       "50%        42.100000\n",
       "75%        44.300000\n",
       "max        52.900000\n",
       "Name: C-04, dtype: float64"
      ]
     },
     "execution_count": 8,
     "metadata": {},
     "output_type": "execute_result"
    }
   ],
   "source": [
    "df['C-04'].describe()"
   ]
  },
  {
   "cell_type": "code",
   "execution_count": 9,
   "metadata": {},
   "outputs": [
    {
     "name": "stdout",
     "output_type": "stream",
     "text": [
      "以特征C-04为例：\n",
      "均值 =  41.86468797564688\n",
      "方差 =  13.42132636867481\n",
      "偏度 =  -0.3685360586476185\n",
      "峰度 =  0.6131902463656678\n"
     ]
    }
   ],
   "source": [
    "print('以特征C-04为例：')\n",
    "print('均值 = ', df['C-04'].mean())\n",
    "print('方差 = ', df['C-04'].var())\n",
    "print('偏度 = ', df['C-04'].skew())\n",
    "print('峰度 = ', df['C-04'].kurt())"
   ]
  },
  {
   "cell_type": "markdown",
   "metadata": {},
   "source": [
    "## 箱型图和异常值"
   ]
  },
  {
   "cell_type": "code",
   "execution_count": 4,
   "metadata": {},
   "outputs": [],
   "source": [
    "import seaborn as sns"
   ]
  },
  {
   "cell_type": "markdown",
   "metadata": {},
   "source": [
    "使用seaborn的箱线图展示"
   ]
  },
  {
   "cell_type": "code",
   "execution_count": 5,
   "metadata": {},
   "outputs": [
    {
     "name": "stdout",
     "output_type": "stream",
     "text": [
      "同样以C-04为例，看各分类的箱型图：\n"
     ]
    },
    {
     "data": {
      "image/png": "[encoded data removed]",
      "text/plain": [
       "<Figure size 432x288 with 1 Axes>"
      ]
     },
     "metadata": {
      "needs_background": "light"
     },
     "output_type": "display_data"
    }
   ],
   "source": [
    "sns.boxplot(x = 'X', y = 'C-04', data = df)\n",
    "print('同样以C-04为例，看各分类的箱型图：')"
   ]
  },
  {
   "cell_type": "markdown",
   "metadata": {},
   "source": [
    "异常值分析：  \n",
    "1) 大于Q3+1.5*IQR或小于Q1-1.5IQR的值，其中IQR为四分位距  \n",
    "2) 3西格玛原则，数值分布在（μ—3σ,μ+3σ)中的概率为0.9974 "
   ]
  },
  {
   "cell_type": "markdown",
   "metadata": {},
   "source": [
    "## 数据相关性"
   ]
  },
  {
   "cell_type": "code",
   "execution_count": 10,
   "metadata": {},
   "outputs": [
    {
     "data": {
      "text/plain": [
       "<matplotlib.axes._subplots.AxesSubplot at 0x1cf1e4d04a8>"
      ]
     },
     "execution_count": 10,
     "metadata": {},
     "output_type": "execute_result"
    },
    {
     "data": {
      "image/png": "[encoded data removed]",
      "text/plain": [
       "<Figure size 576x396 with 1 Axes>"
      ]
     },
     "metadata": {},
     "output_type": "display_data"
    }
   ],
   "source": [
    "df[['X', 'C-04']].plot(x = 'X', y = 'C-04', kind = 'scatter')\n"
   ]
  },
  {
   "cell_type": "code",
   "execution_count": 11,
   "metadata": {},
   "outputs": [
    {
     "data": {
      "text/plain": [
       "<matplotlib.axes._subplots.AxesSubplot at 0x1cf1e6b3828>"
      ]
     },
     "execution_count": 11,
     "metadata": {},
     "output_type": "execute_result"
    },
    {
     "data": {
      "image/png": "[encoded data removed]",
      "text/plain": [
       "<Figure size 576x396 with 1 Axes>"
      ]
     },
     "metadata": {},
     "output_type": "display_data"
    }
   ],
   "source": [
    "df[['X','H-12']].plot(x = 'X', y = 'H-12', kind = 'scatter')"
   ]
  },
  {
   "cell_type": "code",
   "execution_count": 12,
   "metadata": {},
   "outputs": [
    {
     "data": {
      "text/plain": [
       "<matplotlib.axes._subplots.AxesSubplot at 0x1cf1e706f98>"
      ]
     },
     "execution_count": 12,
     "metadata": {},
     "output_type": "execute_result"
    },
    {
     "data": {
      "image/png": "[encoded data removed]",
      "text/plain": [
       "<Figure size 576x396 with 1 Axes>"
      ]
     },
     "metadata": {},
     "output_type": "display_data"
    }
   ],
   "source": [
    "df[['X','P-01']].plot(x = 'X', y = 'P-01', kind = 'scatter')"
   ]
  },
  {
   "cell_type": "code",
   "execution_count": 13,
   "metadata": {},
   "outputs": [
    {
     "data": {
      "text/plain": [
       "<matplotlib.axes._subplots.AxesSubplot at 0x1cf1e6fd9e8>"
      ]
     },
     "execution_count": 13,
     "metadata": {},
     "output_type": "execute_result"
    },
    {
     "data": {
      "image/png": "[encoded data removed]",
      "text/plain": [
       "<Figure size 576x396 with 1 Axes>"
      ]
     },
     "metadata": {},
     "output_type": "display_data"
    }
   ],
   "source": [
    "df[['C-01', 'P-01']].plot(x='C-01', y='P-01', c=df['X'], kind='scatter')\n"
   ]
  },
  {
   "cell_type": "code",
   "execution_count": 14,
   "metadata": {},
   "outputs": [
    {
     "data": {
      "text/plain": [
       "<matplotlib.axes._subplots.AxesSubplot at 0x1cf1e7be080>"
      ]
     },
     "execution_count": 14,
     "metadata": {},
     "output_type": "execute_result"
    },
    {
     "data": {
      "image/png": "[encoded data removed]",
      "text/plain": [
       "<Figure size 576x396 with 1 Axes>"
      ]
     },
     "metadata": {},
     "output_type": "display_data"
    }
   ],
   "source": [
    "df[['C-01', 'C-04']].plot(x='C-01', y='C-04', c=df['X'], kind='scatter')\n"
   ]
  },
  {
   "cell_type": "code",
   "execution_count": 15,
   "metadata": {},
   "outputs": [
    {
     "data": {
      "text/plain": [
       "<matplotlib.axes._subplots.AxesSubplot at 0x1cf1f7f66d8>"
      ]
     },
     "execution_count": 15,
     "metadata": {},
     "output_type": "execute_result"
    },
    {
     "data": {
      "image/png": "[encoded data removed]",
      "text/plain": [
       "<Figure size 576x396 with 1 Axes>"
      ]
     },
     "metadata": {},
     "output_type": "display_data"
    }
   ],
   "source": [
    "df[['H-12', 'C-01']].plot(x='H-12', y='C-01', c=df['X'], kind='scatter')"
   ]
  },
  {
   "cell_type": "markdown",
   "metadata": {},
   "source": [
    "## 相关系数矩阵"
   ]
  },
  {
   "cell_type": "code",
   "execution_count": 16,
   "metadata": {
    "collapsed": true
   },
   "outputs": [
    {
     "data": {
      "text/plain": [
       "0       1\n",
       "1       2\n",
       "2       1\n",
       "3       2\n",
       "4       1\n",
       "5       0\n",
       "6       2\n",
       "7       2\n",
       "8       1\n",
       "9       1\n",
       "10      1\n",
       "11      1\n",
       "12      1\n",
       "13      0\n",
       "14      0\n",
       "15      0\n",
       "16      2\n",
       "17      1\n",
       "18      1\n",
       "19      1\n",
       "20      0\n",
       "21      2\n",
       "22      1\n",
       "23      1\n",
       "24      0\n",
       "25      2\n",
       "26      2\n",
       "27      1\n",
       "28      1\n",
       "29      1\n",
       "       ..\n",
       "1284    2\n",
       "1285    2\n",
       "1286    2\n",
       "1287    2\n",
       "1288    1\n",
       "1289    2\n",
       "1290    1\n",
       "1291    0\n",
       "1292    1\n",
       "1293    1\n",
       "1294    1\n",
       "1295    2\n",
       "1296    2\n",
       "1297    1\n",
       "1298    0\n",
       "1299    1\n",
       "1300    0\n",
       "1301    1\n",
       "1302    0\n",
       "1303    2\n",
       "1304    1\n",
       "1305    1\n",
       "1306    1\n",
       "1307    2\n",
       "1308    1\n",
       "1309    1\n",
       "1310    0\n",
       "1311    1\n",
       "1312    1\n",
       "1313    1\n",
       "Name: C-04-new, Length: 1314, dtype: int64"
      ]
     },
     "execution_count": 16,
     "metadata": {},
     "output_type": "execute_result"
    }
   ],
   "source": [
    "def process(x):\n",
    "    if 0<= x <= 38:\n",
    "        return 0\n",
    "    elif 38< x < 45:\n",
    "        return 1\n",
    "    else:\n",
    "        return 2\n",
    "df['C-04-new'] = df['C-04'].apply(lambda x : process(x))\n",
    "df['C-04-new']"
   ]
  },
  {
   "cell_type": "markdown",
   "metadata": {},
   "source": [
    "皮尔逊相关系数：\n",
    "    值域为[-1,1], 1表示完全正相关， -1表示完全负相关，0表示无关， 绝对值越大表明相关性越强"
   ]
  },
  {
   "cell_type": "code",
   "execution_count": 7,
   "metadata": {},
   "outputs": [],
   "source": [
    "#df[['X','C-04-new']].corr(method = 'spearman')"
   ]
  },
  {
   "cell_type": "code",
   "execution_count": 9,
   "metadata": {},
   "outputs": [
    {
     "data": {
      "text/plain": [
       "X       1.000000\n",
       "C-04    0.102005\n",
       "H-12    0.072997\n",
       "P-01    0.021698\n",
       "C-01    0.003654\n",
       "Name: X, dtype: float64"
      ]
     },
     "execution_count": 9,
     "metadata": {},
     "output_type": "execute_result"
    }
   ],
   "source": [
    "corr_mat = df.corr(method = 'pearson')\n",
    "corr_mat['X'].abs().sort_values(ascending = False) #得到性别与其他特征的相关系数  倒序"
   ]
  },
  {
   "cell_type": "markdown",
   "metadata": {},
   "source": [
    "# 预处理和降维\n",
    "\n",
    "## 异常值的处理\n",
    "\n",
    "### 缺失值处理"
   ]
  },
  {
   "cell_type": "code",
   "execution_count": 3,
   "metadata": {},
   "outputs": [
    {
     "name": "stdout",
     "output_type": "stream",
     "text": [
      "观察缺失值的比例，以决定采用填补还是丢弃\n"
     ]
    },
    {
     "data": {
      "text/html": [
       "<div>\n",
       "<style scoped>\n",
       "    .dataframe tbody tr th:only-of-type {\n",
       "        vertical-align: middle;\n",
       "    }\n",
       "\n",
       "    .dataframe tbody tr th {\n",
       "        vertical-align: top;\n",
       "    }\n",
       "\n",
       "    .dataframe thead th {\n",
       "        text-align: right;\n",
       "    }\n",
       "</style>\n",
       "<table border=\"1\" class=\"dataframe\">\n",
       "  <thead>\n",
       "    <tr style=\"text-align: right;\">\n",
       "      <th></th>\n",
       "      <th>ID</th>\n",
       "      <th>X</th>\n",
       "      <th>H-12</th>\n",
       "      <th>P-01</th>\n",
       "      <th>C-01</th>\n",
       "      <th>C-04</th>\n",
       "    </tr>\n",
       "  </thead>\n",
       "  <tbody>\n",
       "    <tr>\n",
       "      <th>count</th>\n",
       "      <td>1314</td>\n",
       "      <td>1314</td>\n",
       "      <td>1314</td>\n",
       "      <td>1314</td>\n",
       "      <td>1314</td>\n",
       "      <td>1314</td>\n",
       "    </tr>\n",
       "    <tr>\n",
       "      <th>unique</th>\n",
       "      <td>1</td>\n",
       "      <td>1</td>\n",
       "      <td>1</td>\n",
       "      <td>2</td>\n",
       "      <td>1</td>\n",
       "      <td>1</td>\n",
       "    </tr>\n",
       "    <tr>\n",
       "      <th>top</th>\n",
       "      <td>False</td>\n",
       "      <td>False</td>\n",
       "      <td>False</td>\n",
       "      <td>False</td>\n",
       "      <td>False</td>\n",
       "      <td>False</td>\n",
       "    </tr>\n",
       "    <tr>\n",
       "      <th>freq</th>\n",
       "      <td>1314</td>\n",
       "      <td>1314</td>\n",
       "      <td>1314</td>\n",
       "      <td>1313</td>\n",
       "      <td>1314</td>\n",
       "      <td>1314</td>\n",
       "    </tr>\n",
       "  </tbody>\n",
       "</table>\n",
       "</div>"
      ],
      "text/plain": [
       "           ID      X   H-12   P-01   C-01   C-04\n",
       "count    1314   1314   1314   1314   1314   1314\n",
       "unique      1      1      1      2      1      1\n",
       "top     False  False  False  False  False  False\n",
       "freq     1314   1314   1314   1313   1314   1314"
      ]
     },
     "execution_count": 3,
     "metadata": {},
     "output_type": "execute_result"
    }
   ],
   "source": [
    "print(\"观察缺失值的比例，以决定采用填补还是丢弃\")\n",
    "df.isnull().describe()"
   ]
  },
  {
   "cell_type": "markdown",
   "metadata": {},
   "source": [
    "这里直接删除包含缺失的样本  \n",
    "实际应用中可能需要适合的fill none算法  "
   ]
  },
  {
   "cell_type": "code",
   "execution_count": 4,
   "metadata": {},
   "outputs": [
    {
     "name": "stdout",
     "output_type": "stream",
     "text": [
      "剩余样本： (1313, 6)\n"
     ]
    }
   ],
   "source": [
    "df.dropna(inplace = True) #数据清洗\n",
    "print('剩余样本：', df.shape)"
   ]
  },
  {
   "cell_type": "markdown",
   "metadata": {},
   "source": [
    "## 离群点处理\n",
    "\n",
    "这里直接用3西格玛原则删除了异常的年龄  \n",
    "实际应用中需要适合的outlier detect算法"
   ]
  },
  {
   "cell_type": "markdown",
   "metadata": {},
   "source": [
    "3西格玛原则：|采样点与均值的差| > 3倍标准差 --》 则剔除\n",
    "变形为：\n",
    "     Xi< X - 3σ or  Xi > X + 3σ"
   ]
  },
  {
   "cell_type": "code",
   "execution_count": 5,
   "metadata": {},
   "outputs": [
    {
     "name": "stdout",
     "output_type": "stream",
     "text": [
      "处理特征H-12, 剩余样本：1293\n",
      "处理特征P-01, 剩余样本：1276\n",
      "处理特征C-01, 剩余样本：1269\n",
      "处理特征C-04, 剩余样本：1261\n"
     ]
    }
   ],
   "source": [
    "#df.drop(columns = ['Year'], inplace = True)\n",
    "cols = df.columns\n",
    "for i in range(2,df.shape[1]):\n",
    "    up_bound = df[cols[i]].mean() + 3*df[cols[i]].std()\n",
    "    low_bound = df[cols[i]].mean() - 3*df[cols[i]].std()\n",
    "    df = df[(df[cols[i]]<=up_bound) & (df[cols[i]]>=low_bound)]\n",
    "    print(\"处理特征%s, 剩余样本：%d\" % (cols[i],df.shape[0]))"
   ]
  },
  {
   "cell_type": "markdown",
   "metadata": {},
   "source": [
    "## 数据降维\n",
    "\n",
    "### 主成分分析\n",
    "\n",
    "#### to maximize Var(c1X1 + c2X2 + c3X3 + ...) 其中 c1^2 + c2^2 +....+ cp^2 = 1"
   ]
  },
  {
   "cell_type": "markdown",
   "metadata": {},
   "source": [
    "PCA算法流程：  \n",
    "1) 0均值化：将X的每一维数据分别减去其平均值，即 X=X-Mean（X）  \n",
    "2) 协方差矩阵：协方差矩阵C可以描述m维属性之间的相关关系，即 C=(X'X)/m  \n",
    "3) 数据降维：协方差矩阵C是m*m阶，选取的特征向量矩阵P是m*k阶。通过 Y=XP 即得到投影后的k维样本。"
   ]
  },
  {
   "cell_type": "code",
   "execution_count": 25,
   "metadata": {},
   "outputs": [
    {
     "name": "stdout",
     "output_type": "stream",
     "text": [
      "[9.88785183e-01 7.97025509e-03 3.07415198e-03 1.70410156e-04]\n",
      "[3.80447588e+03 3.06665632e+01 1.18281880e+01 6.55674598e-01]\n"
     ]
    }
   ],
   "source": [
    "from sklearn.decomposition import PCA\n",
    "# 直接调包实现了，手写也不复杂\n",
    "features = [i for i in df.columns if i not in ['ID', 'X', 'Year']]  #feature中去除了 'ID', 'X', 'Year'\n",
    "X, y = df[features], df['X']\n",
    "#PCA算法所要保留下来的主成分个数\n",
    "pca = PCA(n_components=4)\n",
    "pca.fit(X)\n",
    "#降维后 各主成分的方差值 \n",
    "print(pca.explained_variance_ratio_)\n",
    "#返回各主成分的方差百分比(贡献率)\n",
    "print(pca.explained_variance_)"
   ]
  },
  {
   "cell_type": "code",
   "execution_count": 13,
   "metadata": {},
   "outputs": [
    {
     "data": {
      "image/png": "[encoded data removed]",
      "text/plain": [
       "<Figure size 432x288 with 1 Axes>"
      ]
     },
     "metadata": {
      "needs_background": "light"
     },
     "output_type": "display_data"
    }
   ],
   "source": [
    "# n_component PCA算法中要保留的成分个数\n",
    "pca = PCA(n_components=2)\n",
    "#训练模型  用数据X来训练\n",
    "pca.fit(X)\n",
    "#返回降维后的数据\n",
    "X_new = pca.transform(X)\n",
    "#画出散点图\n",
    "plt.scatter(X_new[:, 0], X_new[:, 1], c=y, marker='o')  # y = 0 /1 /2\n",
    "plt.show()"
   ]
  },
  {
   "cell_type": "markdown",
   "metadata": {},
   "source": [
    "# 参数检测和方差分析"
   ]
  },
  {
   "cell_type": "code",
   "execution_count": 24,
   "metadata": {},
   "outputs": [],
   "source": [
    "from scipy.stats.mstats import kruskalwallis\n",
    "import scipy.stats as stats\n",
    "import numpy as np\n",
    "import scipy as sp\n",
    "\n",
    "#啥叫显著性差异\n",
    "# p>0.05 表示差异不显著\n",
    "# 0.01 < p < 0.05 表示差异性显著\n",
    "# p< 0.01 表示差异性极显著\n",
    "\n",
    "#三组非正太分布数据检验\n",
    "def Kruskawallis_test(list1, list2, list3):\n",
    "    # Perform the Kruskal-Wallis test,返回True表示有显著差异，返回False表示无显著差异\n",
    "    print(\"Use kruskawallis test:\")\n",
    "     \n",
    "    h, p = kruskalwallis(list1, list2, list3)\n",
    "    print(\"H value:\",h)\n",
    "    print(\"p value:\",p)\n",
    "      \n",
    "    # Print the results\n",
    "    if p<0.05:\n",
    "        print('There is a significant difference.')\n",
    "        return True\n",
    "    else:\n",
    "        print('No significant difference.')\n",
    "        return False\n",
    "\n",
    "#两组非正态分布数据检验   有关于统计学的知识\n",
    "def Mannwhitneyu(group1, group2):   \n",
    "    #以下处理sp版本问题 \n",
    "    if np.int(sp.__version__.split('.')[1]) > 16:\n",
    "        u, p_value = stats.mannwhitneyu(group1, group2, alternative='two-sided')\n",
    "    else:\n",
    "        u, p_value = stats.mannwhitneyu(group1, group2, use_continuity=True)\n",
    "        p_value *= 2    # because the default was a one-sided p-value\n",
    "    print((\"Mann-Whitney test\", p_value))\n",
    "    if p_value<0.05:\n",
    "        print(\"there is significant difference\")\n",
    "    else:\n",
    "        print(\"there is no significant difference\")"
   ]
  },
  {
   "cell_type": "markdown",
   "metadata": {},
   "source": [
    "## 单因素方差分析"
   ]
  },
  {
   "cell_type": "code",
   "execution_count": 14,
   "metadata": {},
   "outputs": [
    {
     "name": "stdout",
     "output_type": "stream",
     "text": [
      "Ttest_indResult(statistic=-8.119339385238147, pvalue=1.1398953086689947e-15)\n",
      "('Mann-Whitney test', 3.3458328186518683e-15)\n",
      "there is significant difference\n",
      "None\n"
     ]
    }
   ],
   "source": [
    "\"\"\"\n",
    "#检验C-04和患病是否有关\n",
    "list_1 = df[df['C-04'] == 1]['X'].tolist()\n",
    "list_2 = df[df['C-04'] == 2]['X'].tolist()\n",
    "\n",
    "#独立T检验\n",
    "print(stats.ttest_ind(list_1, list_2))\n",
    "\n",
    "#Mannwhitneyu 检验\n",
    "print(Mannwhitneyu(list_1, list_2))\n",
    "\"\"\""
   ]
  },
  {
   "cell_type": "markdown",
   "metadata": {},
   "source": [
    "结果说明，T-06和患病与否有显著性相关"
   ]
  },
  {
   "cell_type": "markdown",
   "metadata": {},
   "source": [
    "## 多因素方差分析"
   ]
  },
  {
   "cell_type": "markdown",
   "metadata": {},
   "source": [
    "连续型的属性，需要采样后进行多因子的方差分析  \n",
    "例如C-04，可以分成多段bins与其他因素结合 "
   ]
  },
  {
   "cell_type": "code",
   "execution_count": 25,
   "metadata": {},
   "outputs": [
    {
     "data": {
      "text/plain": [
       "0    1\n",
       "1    2\n",
       "2    1\n",
       "3    2\n",
       "4    1\n",
       "Name: C-04-new, dtype: int64"
      ]
     },
     "execution_count": 25,
     "metadata": {},
     "output_type": "execute_result"
    }
   ],
   "source": [
    "\"\"\"\n",
    "def process(x):\n",
    "    if 0<= x <=30:\n",
    "        return 0\n",
    "    elif 30< x< 60:\n",
    "        return 1\n",
    "    else:\n",
    "        return 2\n",
    "\"\"\"\n",
    "df.drop(columns = ['C-04-new'], inplace = True)\n",
    "df['C-04-new'] = df['C-04'].apply(lambda x : process(x))\n",
    "df['C-04-new'].head()"
   ]
  },
  {
   "cell_type": "code",
   "execution_count": 26,
   "metadata": {},
   "outputs": [
    {
     "name": "stdout",
     "output_type": "stream",
     "text": [
      "Use kruskawallis test:\n",
      "H value: 19.482685558603876\n",
      "p value: 5.8801524336714145e-05\n",
      "There is a significant difference.\n"
     ]
    },
    {
     "data": {
      "text/plain": [
       "True"
      ]
     },
     "execution_count": 26,
     "metadata": {},
     "output_type": "execute_result"
    }
   ],
   "source": [
    "list_C04_0 = df[df['C-04-new']==0]['X'].tolist()\n",
    "list_C04_1 = df[df['C-04-new']==1]['X'].tolist()\n",
    "list_C04_2 = df[df['C-04-new']==2]['X'].tolist()\n",
    "list_group = [list_C04_0, list_C04_1, list_C04_2]\n",
    "\n",
    "#Kruskawallis_test  三组非正太分布数据检验\n",
    "Kruskawallis_test(list_C04_0, list_C04_1, list_C04_2)"
   ]
  },
  {
   "cell_type": "markdown",
   "metadata": {},
   "source": [
    "结果说明，T-05和患病与否具有显著相关"
   ]
  },
  {
   "cell_type": "markdown",
   "metadata": {},
   "source": [
    "# 完整的处理流程"
   ]
  },
  {
   "cell_type": "markdown",
   "metadata": {},
   "source": [
    "## 数据分析\n",
    "\n",
    "## 数据清洗"
   ]
  },
  {
   "cell_type": "markdown",
   "metadata": {},
   "source": [
    "### 删除缺失> 15%的列"
   ]
  },
  {
   "cell_type": "code",
   "execution_count": 6,
   "metadata": {},
   "outputs": [
    {
     "data": {
      "text/html": [
       "<div>\n",
       "<style scoped>\n",
       "    .dataframe tbody tr th:only-of-type {\n",
       "        vertical-align: middle;\n",
       "    }\n",
       "\n",
       "    .dataframe tbody tr th {\n",
       "        vertical-align: top;\n",
       "    }\n",
       "\n",
       "    .dataframe thead th {\n",
       "        text-align: right;\n",
       "    }\n",
       "</style>\n",
       "<table border=\"1\" class=\"dataframe\">\n",
       "  <thead>\n",
       "    <tr style=\"text-align: right;\">\n",
       "      <th></th>\n",
       "      <th>ID</th>\n",
       "      <th>X</th>\n",
       "      <th>H-12</th>\n",
       "      <th>P-01</th>\n",
       "      <th>C-01</th>\n",
       "      <th>C-04</th>\n",
       "    </tr>\n",
       "  </thead>\n",
       "  <tbody>\n",
       "    <tr>\n",
       "      <th>count</th>\n",
       "      <td>1261</td>\n",
       "      <td>1261</td>\n",
       "      <td>1261</td>\n",
       "      <td>1261</td>\n",
       "      <td>1261</td>\n",
       "      <td>1261</td>\n",
       "    </tr>\n",
       "    <tr>\n",
       "      <th>unique</th>\n",
       "      <td>1</td>\n",
       "      <td>1</td>\n",
       "      <td>1</td>\n",
       "      <td>1</td>\n",
       "      <td>1</td>\n",
       "      <td>1</td>\n",
       "    </tr>\n",
       "    <tr>\n",
       "      <th>top</th>\n",
       "      <td>False</td>\n",
       "      <td>False</td>\n",
       "      <td>False</td>\n",
       "      <td>False</td>\n",
       "      <td>False</td>\n",
       "      <td>False</td>\n",
       "    </tr>\n",
       "    <tr>\n",
       "      <th>freq</th>\n",
       "      <td>1261</td>\n",
       "      <td>1261</td>\n",
       "      <td>1261</td>\n",
       "      <td>1261</td>\n",
       "      <td>1261</td>\n",
       "      <td>1261</td>\n",
       "    </tr>\n",
       "  </tbody>\n",
       "</table>\n",
       "</div>"
      ],
      "text/plain": [
       "           ID      X   H-12   P-01   C-01   C-04\n",
       "count    1261   1261   1261   1261   1261   1261\n",
       "unique      1      1      1      1      1      1\n",
       "top     False  False  False  False  False  False\n",
       "freq     1261   1261   1261   1261   1261   1261"
      ]
     },
     "execution_count": 6,
     "metadata": {},
     "output_type": "execute_result"
    }
   ],
   "source": [
    "isnull_df = df.isnull().describe()\n",
    "isnull_df"
   ]
  },
  {
   "cell_type": "code",
   "execution_count": 7,
   "metadata": {},
   "outputs": [
    {
     "data": {
      "text/html": [
       "<div>\n",
       "<style scoped>\n",
       "    .dataframe tbody tr th:only-of-type {\n",
       "        vertical-align: middle;\n",
       "    }\n",
       "\n",
       "    .dataframe tbody tr th {\n",
       "        vertical-align: top;\n",
       "    }\n",
       "\n",
       "    .dataframe thead th {\n",
       "        text-align: right;\n",
       "    }\n",
       "</style>\n",
       "<table border=\"1\" class=\"dataframe\">\n",
       "  <thead>\n",
       "    <tr style=\"text-align: right;\">\n",
       "      <th></th>\n",
       "    </tr>\n",
       "  </thead>\n",
       "  <tbody>\n",
       "    <tr>\n",
       "      <th>count</th>\n",
       "    </tr>\n",
       "    <tr>\n",
       "      <th>unique</th>\n",
       "    </tr>\n",
       "    <tr>\n",
       "      <th>top</th>\n",
       "    </tr>\n",
       "    <tr>\n",
       "      <th>freq</th>\n",
       "    </tr>\n",
       "  </tbody>\n",
       "</table>\n",
       "</div>"
      ],
      "text/plain": [
       "Empty DataFrame\n",
       "Columns: []\n",
       "Index: [count, unique, top, freq]"
      ]
     },
     "execution_count": 7,
     "metadata": {},
     "output_type": "execute_result"
    }
   ],
   "source": [
    "isnull_df.loc[:, isnull_df.loc['freq'] < isnull_df.loc['count']*0.85]"
   ]
  },
  {
   "cell_type": "code",
   "execution_count": 8,
   "metadata": {},
   "outputs": [],
   "source": [
    "#删除缺失值比例大于0.85的列\n",
    "#df.drop(columns = [ ''] ,inplace = True)\n",
    "#df.head()"
   ]
  },
  {
   "cell_type": "markdown",
   "metadata": {},
   "source": [
    "### 删除相关性<0.01的列"
   ]
  },
  {
   "cell_type": "code",
   "execution_count": 9,
   "metadata": {},
   "outputs": [
    {
     "data": {
      "text/plain": [
       "X       1.000000\n",
       "C-04    0.129506\n",
       "H-12    0.081555\n",
       "P-01    0.029954\n",
       "C-01    0.020220\n",
       "Name: X, dtype: float64"
      ]
     },
     "execution_count": 9,
     "metadata": {},
     "output_type": "execute_result"
    }
   ],
   "source": [
    "corr_mat = df.corr(method = 'pearson')\n",
    "corr_mat['X'].abs().sort_values(ascending = False)"
   ]
  },
  {
   "cell_type": "code",
   "execution_count": 10,
   "metadata": {},
   "outputs": [
    {
     "name": "stdout",
     "output_type": "stream",
     "text": [
      "Index([], dtype='object')\n"
     ]
    }
   ],
   "source": [
    "corr = corr_mat['X'].abs()\n",
    "print(corr[corr < 0.01].index)"
   ]
  },
  {
   "cell_type": "code",
   "execution_count": 11,
   "metadata": {},
   "outputs": [
    {
     "data": {
      "text/html": [
       "<div>\n",
       "<style scoped>\n",
       "    .dataframe tbody tr th:only-of-type {\n",
       "        vertical-align: middle;\n",
       "    }\n",
       "\n",
       "    .dataframe tbody tr th {\n",
       "        vertical-align: top;\n",
       "    }\n",
       "\n",
       "    .dataframe thead th {\n",
       "        text-align: right;\n",
       "    }\n",
       "</style>\n",
       "<table border=\"1\" class=\"dataframe\">\n",
       "  <thead>\n",
       "    <tr style=\"text-align: right;\">\n",
       "      <th></th>\n",
       "      <th>ID</th>\n",
       "      <th>X</th>\n",
       "      <th>H-12</th>\n",
       "      <th>P-01</th>\n",
       "      <th>C-01</th>\n",
       "      <th>C-04</th>\n",
       "    </tr>\n",
       "  </thead>\n",
       "  <tbody>\n",
       "    <tr>\n",
       "      <th>0</th>\n",
       "      <td>15-10001</td>\n",
       "      <td>0</td>\n",
       "      <td>121</td>\n",
       "      <td>10.8</td>\n",
       "      <td>14.6</td>\n",
       "      <td>41.8</td>\n",
       "    </tr>\n",
       "    <tr>\n",
       "      <th>1</th>\n",
       "      <td>15-10002</td>\n",
       "      <td>0</td>\n",
       "      <td>172</td>\n",
       "      <td>12.5</td>\n",
       "      <td>18.5</td>\n",
       "      <td>45.5</td>\n",
       "    </tr>\n",
       "    <tr>\n",
       "      <th>2</th>\n",
       "      <td>15-10003</td>\n",
       "      <td>1</td>\n",
       "      <td>141</td>\n",
       "      <td>11.7</td>\n",
       "      <td>34.2</td>\n",
       "      <td>41.7</td>\n",
       "    </tr>\n",
       "    <tr>\n",
       "      <th>3</th>\n",
       "      <td>15-10004</td>\n",
       "      <td>0</td>\n",
       "      <td>105</td>\n",
       "      <td>10.8</td>\n",
       "      <td>14.6</td>\n",
       "      <td>46.5</td>\n",
       "    </tr>\n",
       "    <tr>\n",
       "      <th>4</th>\n",
       "      <td>15-10005</td>\n",
       "      <td>1</td>\n",
       "      <td>207</td>\n",
       "      <td>10.1</td>\n",
       "      <td>10.4</td>\n",
       "      <td>41.9</td>\n",
       "    </tr>\n",
       "  </tbody>\n",
       "</table>\n",
       "</div>"
      ],
      "text/plain": [
       "         ID  X  H-12  P-01  C-01  C-04\n",
       "0  15-10001  0   121  10.8  14.6  41.8\n",
       "1  15-10002  0   172  12.5  18.5  45.5\n",
       "2  15-10003  1   141  11.7  34.2  41.7\n",
       "3  15-10004  0   105  10.8  14.6  46.5\n",
       "4  15-10005  1   207  10.1  10.4  41.9"
      ]
     },
     "execution_count": 11,
     "metadata": {},
     "output_type": "execute_result"
    }
   ],
   "source": [
    "df.drop(columns = [] , inplace = True)\n",
    "df.head()"
   ]
  },
  {
   "cell_type": "markdown",
   "metadata": {},
   "source": [
    "## 数据预处理\n",
    "\n",
    "### 删除6sigma离群点"
   ]
  },
  {
   "cell_type": "code",
   "execution_count": 12,
   "metadata": {},
   "outputs": [
    {
     "name": "stdout",
     "output_type": "stream",
     "text": [
      "原始样本 (1261, 6)\n"
     ]
    },
    {
     "data": {
      "text/html": [
       "<div>\n",
       "<style scoped>\n",
       "    .dataframe tbody tr th:only-of-type {\n",
       "        vertical-align: middle;\n",
       "    }\n",
       "\n",
       "    .dataframe tbody tr th {\n",
       "        vertical-align: top;\n",
       "    }\n",
       "\n",
       "    .dataframe thead th {\n",
       "        text-align: right;\n",
       "    }\n",
       "</style>\n",
       "<table border=\"1\" class=\"dataframe\">\n",
       "  <thead>\n",
       "    <tr style=\"text-align: right;\">\n",
       "      <th></th>\n",
       "      <th>X</th>\n",
       "      <th>H-12</th>\n",
       "      <th>P-01</th>\n",
       "      <th>C-01</th>\n",
       "      <th>C-04</th>\n",
       "    </tr>\n",
       "  </thead>\n",
       "  <tbody>\n",
       "    <tr>\n",
       "      <th>count</th>\n",
       "      <td>1261.000000</td>\n",
       "      <td>1261.000000</td>\n",
       "      <td>1261.000000</td>\n",
       "      <td>1261.000000</td>\n",
       "      <td>1261.000000</td>\n",
       "    </tr>\n",
       "    <tr>\n",
       "      <th>mean</th>\n",
       "      <td>0.467883</td>\n",
       "      <td>158.589215</td>\n",
       "      <td>11.770500</td>\n",
       "      <td>14.887470</td>\n",
       "      <td>42.016416</td>\n",
       "    </tr>\n",
       "    <tr>\n",
       "      <th>std</th>\n",
       "      <td>0.499165</td>\n",
       "      <td>61.670986</td>\n",
       "      <td>0.886711</td>\n",
       "      <td>5.605808</td>\n",
       "      <td>3.479150</td>\n",
       "    </tr>\n",
       "    <tr>\n",
       "      <th>min</th>\n",
       "      <td>0.000000</td>\n",
       "      <td>25.000000</td>\n",
       "      <td>9.600000</td>\n",
       "      <td>2.400000</td>\n",
       "      <td>31.400000</td>\n",
       "    </tr>\n",
       "    <tr>\n",
       "      <th>25%</th>\n",
       "      <td>0.000000</td>\n",
       "      <td>116.000000</td>\n",
       "      <td>11.200000</td>\n",
       "      <td>11.100000</td>\n",
       "      <td>39.800000</td>\n",
       "    </tr>\n",
       "    <tr>\n",
       "      <th>50%</th>\n",
       "      <td>0.000000</td>\n",
       "      <td>153.000000</td>\n",
       "      <td>11.700000</td>\n",
       "      <td>14.100000</td>\n",
       "      <td>42.200000</td>\n",
       "    </tr>\n",
       "    <tr>\n",
       "      <th>75%</th>\n",
       "      <td>1.000000</td>\n",
       "      <td>194.000000</td>\n",
       "      <td>12.300000</td>\n",
       "      <td>17.800000</td>\n",
       "      <td>44.300000</td>\n",
       "    </tr>\n",
       "    <tr>\n",
       "      <th>max</th>\n",
       "      <td>1.000000</td>\n",
       "      <td>371.000000</td>\n",
       "      <td>14.900000</td>\n",
       "      <td>46.100000</td>\n",
       "      <td>52.500000</td>\n",
       "    </tr>\n",
       "  </tbody>\n",
       "</table>\n",
       "</div>"
      ],
      "text/plain": [
       "                 X         H-12         P-01         C-01         C-04\n",
       "count  1261.000000  1261.000000  1261.000000  1261.000000  1261.000000\n",
       "mean      0.467883   158.589215    11.770500    14.887470    42.016416\n",
       "std       0.499165    61.670986     0.886711     5.605808     3.479150\n",
       "min       0.000000    25.000000     9.600000     2.400000    31.400000\n",
       "25%       0.000000   116.000000    11.200000    11.100000    39.800000\n",
       "50%       0.000000   153.000000    11.700000    14.100000    42.200000\n",
       "75%       1.000000   194.000000    12.300000    17.800000    44.300000\n",
       "max       1.000000   371.000000    14.900000    46.100000    52.500000"
      ]
     },
     "execution_count": 12,
     "metadata": {},
     "output_type": "execute_result"
    }
   ],
   "source": [
    "print('原始样本', df.shape)\n",
    "des_df = df.describe()\n",
    "des_df"
   ]
  },
  {
   "cell_type": "markdown",
   "metadata": {},
   "source": [
    "离群点大于Q3+1.5*IQR或小于Q1-1.5IQR的值，其中IQR为四分位距 箱线图中上限和下限"
   ]
  },
  {
   "cell_type": "code",
   "execution_count": 13,
   "metadata": {},
   "outputs": [
    {
     "data": {
      "text/plain": [
       "39.8"
      ]
     },
     "execution_count": 13,
     "metadata": {},
     "output_type": "execute_result"
    }
   ],
   "source": [
    "des_df.loc['25%', 'C-04']"
   ]
  },
  {
   "cell_type": "code",
   "execution_count": 14,
   "metadata": {},
   "outputs": [
    {
     "name": "stdout",
     "output_type": "stream",
     "text": [
      "剩余样本： (1261, 6)\n"
     ]
    }
   ],
   "source": [
    "#删除离群点  改为正常值\n",
    "\n",
    "#得到目前为止 经过清洗后的数据的特征名 除 ‘ID’ 'X':病情\n",
    "features = [x for x in df.columns if x not in['ID', 'X']] \n",
    "#提取出除X外 与x相关系数大于0.1的索引\n",
    "importances = [x for x in corr[corr>0.1].index.tolist() if x != 'X']\n",
    "for x in features:\n",
    "#     upper_bound = des_df.loc['75%', x] + 1.5*(des_df.loc['75%', x]-des_df.loc['25%', x])\n",
    "#     lower_bound = des_df.loc['25%', x] - 1.5*(des_df.loc['75%', x]-des_df.loc['25%', x])\n",
    "    upper_bound = des_df.loc['mean', x] + 6*des_df.loc['std', x]\n",
    "    lower_bound = des_df.loc['mean', x] - 6*des_df.loc['std', x]\n",
    "    if x in importances:\n",
    "        df = df[(df[x]<=upper_bound) & (df[x]>=lower_bound)]\n",
    "    else:\n",
    "        df.loc[df[x]>upper_bound, x] = upper_bound\n",
    "        df.loc[df[x]<lower_bound, x] = lower_bound\n",
    "print(\"剩余样本：\", df.shape)"
   ]
  },
  {
   "cell_type": "code",
   "execution_count": 15,
   "metadata": {},
   "outputs": [
    {
     "data": {
      "text/html": [
       "<div>\n",
       "<style scoped>\n",
       "    .dataframe tbody tr th:only-of-type {\n",
       "        vertical-align: middle;\n",
       "    }\n",
       "\n",
       "    .dataframe tbody tr th {\n",
       "        vertical-align: top;\n",
       "    }\n",
       "\n",
       "    .dataframe thead th {\n",
       "        text-align: right;\n",
       "    }\n",
       "</style>\n",
       "<table border=\"1\" class=\"dataframe\">\n",
       "  <thead>\n",
       "    <tr style=\"text-align: right;\">\n",
       "      <th></th>\n",
       "      <th>ID</th>\n",
       "      <th>X</th>\n",
       "      <th>H-12</th>\n",
       "      <th>P-01</th>\n",
       "      <th>C-01</th>\n",
       "      <th>C-04</th>\n",
       "    </tr>\n",
       "  </thead>\n",
       "  <tbody>\n",
       "    <tr>\n",
       "      <th>count</th>\n",
       "      <td>1261</td>\n",
       "      <td>1261</td>\n",
       "      <td>1261</td>\n",
       "      <td>1261</td>\n",
       "      <td>1261</td>\n",
       "      <td>1261</td>\n",
       "    </tr>\n",
       "    <tr>\n",
       "      <th>unique</th>\n",
       "      <td>1</td>\n",
       "      <td>1</td>\n",
       "      <td>1</td>\n",
       "      <td>1</td>\n",
       "      <td>1</td>\n",
       "      <td>1</td>\n",
       "    </tr>\n",
       "    <tr>\n",
       "      <th>top</th>\n",
       "      <td>False</td>\n",
       "      <td>False</td>\n",
       "      <td>False</td>\n",
       "      <td>False</td>\n",
       "      <td>False</td>\n",
       "      <td>False</td>\n",
       "    </tr>\n",
       "    <tr>\n",
       "      <th>freq</th>\n",
       "      <td>1261</td>\n",
       "      <td>1261</td>\n",
       "      <td>1261</td>\n",
       "      <td>1261</td>\n",
       "      <td>1261</td>\n",
       "      <td>1261</td>\n",
       "    </tr>\n",
       "  </tbody>\n",
       "</table>\n",
       "</div>"
      ],
      "text/plain": [
       "           ID      X   H-12   P-01   C-01   C-04\n",
       "count    1261   1261   1261   1261   1261   1261\n",
       "unique      1      1      1      1      1      1\n",
       "top     False  False  False  False  False  False\n",
       "freq     1261   1261   1261   1261   1261   1261"
      ]
     },
     "execution_count": 15,
     "metadata": {},
     "output_type": "execute_result"
    }
   ],
   "source": [
    "df.isnull().describe()"
   ]
  },
  {
   "cell_type": "markdown",
   "metadata": {},
   "source": [
    "### 分段mean 补全缺失值"
   ]
  },
  {
   "cell_type": "code",
   "execution_count": 16,
   "metadata": {},
   "outputs": [
    {
     "data": {
      "text/html": [
       "<div>\n",
       "<style scoped>\n",
       "    .dataframe tbody tr th:only-of-type {\n",
       "        vertical-align: middle;\n",
       "    }\n",
       "\n",
       "    .dataframe tbody tr th {\n",
       "        vertical-align: top;\n",
       "    }\n",
       "\n",
       "    .dataframe thead th {\n",
       "        text-align: right;\n",
       "    }\n",
       "</style>\n",
       "<table border=\"1\" class=\"dataframe\">\n",
       "  <thead>\n",
       "    <tr style=\"text-align: right;\">\n",
       "      <th></th>\n",
       "      <th>ID</th>\n",
       "    </tr>\n",
       "    <tr>\n",
       "      <th>X</th>\n",
       "      <th></th>\n",
       "    </tr>\n",
       "  </thead>\n",
       "  <tbody>\n",
       "    <tr>\n",
       "      <th>0</th>\n",
       "      <td>671</td>\n",
       "    </tr>\n",
       "    <tr>\n",
       "      <th>1</th>\n",
       "      <td>590</td>\n",
       "    </tr>\n",
       "  </tbody>\n",
       "</table>\n",
       "</div>"
      ],
      "text/plain": [
       "    ID\n",
       "X     \n",
       "0  671\n",
       "1  590"
      ]
     },
     "execution_count": 16,
     "metadata": {},
     "output_type": "execute_result"
    }
   ],
   "source": [
    "df[['X', 'ID']].groupby('X').count()"
   ]
  },
  {
   "cell_type": "code",
   "execution_count": 17,
   "metadata": {},
   "outputs": [
    {
     "name": "stdout",
     "output_type": "stream",
     "text": [
      "[0, 1]\n"
     ]
    },
    {
     "data": {
      "text/html": [
       "<div>\n",
       "<style scoped>\n",
       "    .dataframe tbody tr th:only-of-type {\n",
       "        vertical-align: middle;\n",
       "    }\n",
       "\n",
       "    .dataframe tbody tr th {\n",
       "        vertical-align: top;\n",
       "    }\n",
       "\n",
       "    .dataframe thead th {\n",
       "        text-align: right;\n",
       "    }\n",
       "</style>\n",
       "<table border=\"1\" class=\"dataframe\">\n",
       "  <thead>\n",
       "    <tr style=\"text-align: right;\">\n",
       "      <th></th>\n",
       "      <th>ID</th>\n",
       "      <th>X</th>\n",
       "      <th>H-12</th>\n",
       "      <th>P-01</th>\n",
       "      <th>C-01</th>\n",
       "      <th>C-04</th>\n",
       "    </tr>\n",
       "  </thead>\n",
       "  <tbody>\n",
       "    <tr>\n",
       "      <th>count</th>\n",
       "      <td>1261</td>\n",
       "      <td>1261</td>\n",
       "      <td>1261</td>\n",
       "      <td>1261</td>\n",
       "      <td>1261</td>\n",
       "      <td>1261</td>\n",
       "    </tr>\n",
       "    <tr>\n",
       "      <th>unique</th>\n",
       "      <td>1</td>\n",
       "      <td>1</td>\n",
       "      <td>1</td>\n",
       "      <td>1</td>\n",
       "      <td>1</td>\n",
       "      <td>1</td>\n",
       "    </tr>\n",
       "    <tr>\n",
       "      <th>top</th>\n",
       "      <td>False</td>\n",
       "      <td>False</td>\n",
       "      <td>False</td>\n",
       "      <td>False</td>\n",
       "      <td>False</td>\n",
       "      <td>False</td>\n",
       "    </tr>\n",
       "    <tr>\n",
       "      <th>freq</th>\n",
       "      <td>1261</td>\n",
       "      <td>1261</td>\n",
       "      <td>1261</td>\n",
       "      <td>1261</td>\n",
       "      <td>1261</td>\n",
       "      <td>1261</td>\n",
       "    </tr>\n",
       "  </tbody>\n",
       "</table>\n",
       "</div>"
      ],
      "text/plain": [
       "           ID      X   H-12   P-01   C-01   C-04\n",
       "count    1261   1261   1261   1261   1261   1261\n",
       "unique      1      1      1      1      1      1\n",
       "top     False  False  False  False  False  False\n",
       "freq     1261   1261   1261   1261   1261   1261"
      ]
     },
     "execution_count": 17,
     "metadata": {},
     "output_type": "execute_result"
    }
   ],
   "source": [
    "# 分段 按x=0， 1， 2不同情况 把每列进行均值填充\n",
    "print(df['X'].unique().tolist())\n",
    "for x in df['X'].unique().tolist():\n",
    "    #复制所有df['X'] = 当前遍历值 的行\n",
    "    tmp = df[df['X']==x].copy(deep=False)\n",
    "   #tmp.fillna(tmp.mean(axis=0, skipna=True), inplace=True)\n",
    "    #print(tmp.mean())\n",
    "    #以'X' 为分组， NAN均以每列的平均值填充 \n",
    "    df.loc[df['X']==x] = df[df['X']==x].fillna(tmp.mean()) \n",
    "df.isnull().describe()"
   ]
  },
  {
   "cell_type": "markdown",
   "metadata": {},
   "source": [
    "### 数据标准化"
   ]
  },
  {
   "cell_type": "code",
   "execution_count": 18,
   "metadata": {},
   "outputs": [
    {
     "data": {
      "text/html": [
       "<div>\n",
       "<style scoped>\n",
       "    .dataframe tbody tr th:only-of-type {\n",
       "        vertical-align: middle;\n",
       "    }\n",
       "\n",
       "    .dataframe tbody tr th {\n",
       "        vertical-align: top;\n",
       "    }\n",
       "\n",
       "    .dataframe thead th {\n",
       "        text-align: right;\n",
       "    }\n",
       "</style>\n",
       "<table border=\"1\" class=\"dataframe\">\n",
       "  <thead>\n",
       "    <tr style=\"text-align: right;\">\n",
       "      <th></th>\n",
       "      <th>X</th>\n",
       "      <th>H-12</th>\n",
       "      <th>P-01</th>\n",
       "      <th>C-01</th>\n",
       "      <th>C-04</th>\n",
       "    </tr>\n",
       "  </thead>\n",
       "  <tbody>\n",
       "    <tr>\n",
       "      <th>count</th>\n",
       "      <td>1261.000000</td>\n",
       "      <td>1.261000e+03</td>\n",
       "      <td>1.261000e+03</td>\n",
       "      <td>1.261000e+03</td>\n",
       "      <td>1.261000e+03</td>\n",
       "    </tr>\n",
       "    <tr>\n",
       "      <th>mean</th>\n",
       "      <td>0.467883</td>\n",
       "      <td>-1.267820e-16</td>\n",
       "      <td>-9.015610e-16</td>\n",
       "      <td>2.380684e-16</td>\n",
       "      <td>-1.510115e-15</td>\n",
       "    </tr>\n",
       "    <tr>\n",
       "      <th>std</th>\n",
       "      <td>0.499165</td>\n",
       "      <td>1.000000e+00</td>\n",
       "      <td>9.999989e-01</td>\n",
       "      <td>9.999998e-01</td>\n",
       "      <td>9.999997e-01</td>\n",
       "    </tr>\n",
       "    <tr>\n",
       "      <th>min</th>\n",
       "      <td>0.000000</td>\n",
       "      <td>-2.166160e+00</td>\n",
       "      <td>-2.447807e+00</td>\n",
       "      <td>-2.227595e+00</td>\n",
       "      <td>-3.051439e+00</td>\n",
       "    </tr>\n",
       "    <tr>\n",
       "      <th>25%</th>\n",
       "      <td>0.000000</td>\n",
       "      <td>-6.905875e-01</td>\n",
       "      <td>-6.433879e-01</td>\n",
       "      <td>-6.756332e-01</td>\n",
       "      <td>-6.370564e-01</td>\n",
       "    </tr>\n",
       "    <tr>\n",
       "      <th>50%</th>\n",
       "      <td>0.000000</td>\n",
       "      <td>-9.062957e-02</td>\n",
       "      <td>-7.950679e-02</td>\n",
       "      <td>-1.404740e-01</td>\n",
       "      <td>5.276703e-02</td>\n",
       "    </tr>\n",
       "    <tr>\n",
       "      <th>75%</th>\n",
       "      <td>1.000000</td>\n",
       "      <td>5.741887e-01</td>\n",
       "      <td>5.971505e-01</td>\n",
       "      <td>5.195557e-01</td>\n",
       "      <td>6.563626e-01</td>\n",
       "    </tr>\n",
       "    <tr>\n",
       "      <th>max</th>\n",
       "      <td>1.000000</td>\n",
       "      <td>3.444258e+00</td>\n",
       "      <td>3.529332e+00</td>\n",
       "      <td>5.567891e+00</td>\n",
       "      <td>3.013259e+00</td>\n",
       "    </tr>\n",
       "  </tbody>\n",
       "</table>\n",
       "</div>"
      ],
      "text/plain": [
       "                 X          H-12          P-01          C-01          C-04\n",
       "count  1261.000000  1.261000e+03  1.261000e+03  1.261000e+03  1.261000e+03\n",
       "mean      0.467883 -1.267820e-16 -9.015610e-16  2.380684e-16 -1.510115e-15\n",
       "std       0.499165  1.000000e+00  9.999989e-01  9.999998e-01  9.999997e-01\n",
       "min       0.000000 -2.166160e+00 -2.447807e+00 -2.227595e+00 -3.051439e+00\n",
       "25%       0.000000 -6.905875e-01 -6.433879e-01 -6.756332e-01 -6.370564e-01\n",
       "50%       0.000000 -9.062957e-02 -7.950679e-02 -1.404740e-01  5.276703e-02\n",
       "75%       1.000000  5.741887e-01  5.971505e-01  5.195557e-01  6.563626e-01\n",
       "max       1.000000  3.444258e+00  3.529332e+00  5.567891e+00  3.013259e+00"
      ]
     },
     "execution_count": 18,
     "metadata": {},
     "output_type": "execute_result"
    }
   ],
   "source": [
    "for x in features:\n",
    "    delta = 0.000001\n",
    "    df[x] = (df[x] - df[x].mean()) / (df[x].std() + delta)\n",
    "df.describe()"
   ]
  },
  {
   "cell_type": "markdown",
   "metadata": {},
   "source": [
    "计算协方差"
   ]
  },
  {
   "cell_type": "code",
   "execution_count": 35,
   "metadata": {},
   "outputs": [
    {
     "data": {
      "text/plain": [
       "X       0.249166\n",
       "C-04    0.064645\n",
       "H-12    0.040710\n",
       "P-01    0.014952\n",
       "C-01    0.010093\n",
       "Name: X, dtype: float64"
      ]
     },
     "execution_count": 35,
     "metadata": {},
     "output_type": "execute_result"
    }
   ],
   "source": [
    "#df.drop(columns = ['C-04-new'], inplace = True)\n",
    "cov_mat = df.cov()\n",
    "cov_mat['X'].abs().sort_values(ascending = False)"
   ]
  },
  {
   "cell_type": "code",
   "execution_count": 36,
   "metadata": {},
   "outputs": [
    {
     "name": "stdout",
     "output_type": "stream",
     "text": [
      "正向： ['X', 'H-12', 'P-01', 'C-01']\n",
      "负向:  ['C-04']\n"
     ]
    }
   ],
   "source": [
    "cov = cov_mat['X']\n",
    "print('正向：', cov[cov > 0].index.tolist())\n",
    "print('负向: ', cov[cov < 0].index.tolist())"
   ]
  },
  {
   "cell_type": "markdown",
   "metadata": {},
   "source": [
    "### 保存cleaned数据"
   ]
  },
  {
   "cell_type": "code",
   "execution_count": 40,
   "metadata": {},
   "outputs": [],
   "source": [
    "df.to_csv('thir_non_Cleaned.csv', index = False, header = True, encoding = 'utf-8')"
   ]
  },
  {
   "cell_type": "code",
   "execution_count": 41,
   "metadata": {},
   "outputs": [
    {
     "data": {
      "text/html": [
       "<div>\n",
       "<style scoped>\n",
       "    .dataframe tbody tr th:only-of-type {\n",
       "        vertical-align: middle;\n",
       "    }\n",
       "\n",
       "    .dataframe tbody tr th {\n",
       "        vertical-align: top;\n",
       "    }\n",
       "\n",
       "    .dataframe thead th {\n",
       "        text-align: right;\n",
       "    }\n",
       "</style>\n",
       "<table border=\"1\" class=\"dataframe\">\n",
       "  <thead>\n",
       "    <tr style=\"text-align: right;\">\n",
       "      <th></th>\n",
       "      <th>ID</th>\n",
       "      <th>X</th>\n",
       "      <th>H-12</th>\n",
       "      <th>P-01</th>\n",
       "      <th>C-01</th>\n",
       "      <th>C-04</th>\n",
       "    </tr>\n",
       "  </thead>\n",
       "  <tbody>\n",
       "    <tr>\n",
       "      <th>0</th>\n",
       "      <td>15-10001</td>\n",
       "      <td>0</td>\n",
       "      <td>-0.609512</td>\n",
       "      <td>-1.094493</td>\n",
       "      <td>-0.051281</td>\n",
       "      <td>-0.062204</td>\n",
       "    </tr>\n",
       "    <tr>\n",
       "      <th>1</th>\n",
       "      <td>15-10002</td>\n",
       "      <td>0</td>\n",
       "      <td>0.217457</td>\n",
       "      <td>0.822703</td>\n",
       "      <td>0.644426</td>\n",
       "      <td>1.001274</td>\n",
       "    </tr>\n",
       "    <tr>\n",
       "      <th>2</th>\n",
       "      <td>15-10003</td>\n",
       "      <td>1</td>\n",
       "      <td>-0.285211</td>\n",
       "      <td>-0.079507</td>\n",
       "      <td>3.445092</td>\n",
       "      <td>-0.090946</td>\n",
       "    </tr>\n",
       "    <tr>\n",
       "      <th>3</th>\n",
       "      <td>15-10004</td>\n",
       "      <td>0</td>\n",
       "      <td>-0.868953</td>\n",
       "      <td>-1.094493</td>\n",
       "      <td>-0.051281</td>\n",
       "      <td>1.288701</td>\n",
       "    </tr>\n",
       "    <tr>\n",
       "      <th>4</th>\n",
       "      <td>15-10005</td>\n",
       "      <td>1</td>\n",
       "      <td>0.784985</td>\n",
       "      <td>-1.883926</td>\n",
       "      <td>-0.800504</td>\n",
       "      <td>-0.033461</td>\n",
       "    </tr>\n",
       "  </tbody>\n",
       "</table>\n",
       "</div>"
      ],
      "text/plain": [
       "         ID  X      H-12      P-01      C-01      C-04\n",
       "0  15-10001  0 -0.609512 -1.094493 -0.051281 -0.062204\n",
       "1  15-10002  0  0.217457  0.822703  0.644426  1.001274\n",
       "2  15-10003  1 -0.285211 -0.079507  3.445092 -0.090946\n",
       "3  15-10004  0 -0.868953 -1.094493 -0.051281  1.288701\n",
       "4  15-10005  1  0.784985 -1.883926 -0.800504 -0.033461"
      ]
     },
     "execution_count": 41,
     "metadata": {},
     "output_type": "execute_result"
    }
   ],
   "source": [
    "df.head()"
   ]
  },
  {
   "cell_type": "markdown",
   "metadata": {},
   "source": [
    "## 数据建模\n",
    "\n",
    "### 训练逻辑回归LR模型"
   ]
  },
  {
   "cell_type": "code",
   "execution_count": 22,
   "metadata": {},
   "outputs": [],
   "source": [
    "from sklearn.linear_model import LogisticRegressionCV,LinearRegression\n",
    "from sklearn.model_selection import train_test_split\n",
    "from sklearn.preprocessing import StandardScaler\n",
    "#from sklearn.linear_model.coordinate_descent import ConvergenceWarning"
   ]
  },
  {
   "cell_type": "code",
   "execution_count": 23,
   "metadata": {},
   "outputs": [],
   "source": [
    "#划分训练集与测试集  随机\n",
    "target = 'X'\n",
    "features = [x for x in df.columns if x not in['ID', 'X']]\n",
    "X, Y = df[features], df[target]# X = dataSet  and Y =  labels\n",
    "X_train, X_test, Y_train, Y_test = train_test_split(X, Y, test_size=0.2, random_state=0)"
   ]
  },
  {
   "cell_type": "code",
   "execution_count": 24,
   "metadata": {},
   "outputs": [],
   "source": [
    "#构建并训练模型\n",
    "##  multi_class:分类方式选择参数，有\"ovr(默认)\"和\"multinomial\"两个值可选择，在二元逻辑回归中无区别\n",
    "##  cv:几折交叉验证\n",
    "##  solver:优化算法选择参数，当penalty为\"l1\"时，参数只能是\"liblinear(坐标轴下降法)\"\n",
    "##  \"lbfgs\"和\"cg\"都是关于目标函数的二阶泰勒展开\n",
    "##  当penalty为\"l2\"时，参数可以是\"lbfgs(拟牛顿法)\",\"newton_cg(牛顿法变种)\",\"seg(minibactch随机平均梯度下降)\"\n",
    "##  维度<10000时，选择\"lbfgs\"法，维度>10000时，选择\"cs\"法比较好，显卡计算的时候，lbfgs\"和\"cs\"都比\"seg\"快\n",
    "##  penalty:正则化选择参数，用于解决过拟合，可选\"l1\",\"l2\"\n",
    "##  tol:当目标函数下降到该值是就停止，叫：容忍度，防止计算的过多\n",
    "lr = LogisticRegressionCV(\n",
    "    multi_class=\"multinomial\",\n",
    "    fit_intercept=True,\n",
    "    Cs=np.logspace(-2,2,20),\n",
    "    cv=2,\n",
    "    penalty=\"l2\",\n",
    "    solver=\"lbfgs\",\n",
    "    tol=0.01,\n",
    "    max_iter = 1000,\n",
    "    class_weight='balanced',\n",
    "    \n",
    ")\n",
    "re = lr.fit(X_train,Y_train)\n"
   ]
  },
  {
   "cell_type": "code",
   "execution_count": 25,
   "metadata": {},
   "outputs": [
    {
     "name": "stdout",
     "output_type": "stream",
     "text": [
      "R值(准确率): 0.5625\n",
      "参数: [[ 0.09990179 -0.00633198  0.06243935 -0.1346399 ]]\n",
      "截距: [-0.00373646]\n",
      "稀疏化特征比率:0.00%\n",
      "=========sigmoid函数转化的值，即：概率p=========\n",
      "[[0.37967411 0.62032589]\n",
      " [0.51264211 0.48735789]\n",
      " [0.46412628 0.53587372]\n",
      " [0.61544664 0.38455336]\n",
      " [0.57551161 0.42448839]\n",
      " [0.51036354 0.48963646]\n",
      " [0.53339619 0.46660381]\n",
      " [0.41666032 0.58333968]\n",
      " [0.54801857 0.45198143]\n",
      " [0.54719921 0.45280079]\n",
      " [0.54173304 0.45826696]\n",
      " [0.43586285 0.56413715]\n",
      " [0.38959037 0.61040963]\n",
      " [0.57254783 0.42745217]\n",
      " [0.48055822 0.51944178]\n",
      " [0.49123239 0.50876761]\n",
      " [0.53060011 0.46939989]\n",
      " [0.47791239 0.52208761]\n",
      " [0.57354651 0.42645349]\n",
      " [0.47942825 0.52057175]\n",
      " [0.57891493 0.42108507]\n",
      " [0.60423441 0.39576559]\n",
      " [0.53088668 0.46911332]\n",
      " [0.59914373 0.40085627]\n",
      " [0.61518649 0.38481351]\n",
      " [0.51990068 0.48009932]\n",
      " [0.45591636 0.54408364]\n",
      " [0.49625807 0.50374193]\n",
      " [0.50747074 0.49252926]\n",
      " [0.60020852 0.39979148]\n",
      " [0.53418647 0.46581353]\n",
      " [0.42063127 0.57936873]\n",
      " [0.51115623 0.48884377]\n",
      " [0.45260785 0.54739215]\n",
      " [0.47452209 0.52547791]\n",
      " [0.50661058 0.49338942]\n",
      " [0.44559683 0.55440317]\n",
      " [0.51880876 0.48119124]\n",
      " [0.51327454 0.48672546]\n",
      " [0.3579233  0.6420767 ]\n",
      " [0.50251251 0.49748749]\n",
      " [0.5142494  0.4857506 ]\n",
      " [0.49754451 0.50245549]\n",
      " [0.51687356 0.48312644]\n",
      " [0.42164466 0.57835534]\n",
      " [0.54080673 0.45919327]\n",
      " [0.47283791 0.52716209]\n",
      " [0.48972255 0.51027745]\n",
      " [0.52475408 0.47524592]\n",
      " [0.46917933 0.53082067]\n",
      " [0.50037438 0.49962562]\n",
      " [0.42367201 0.57632799]\n",
      " [0.44326536 0.55673464]\n",
      " [0.5810354  0.4189646 ]\n",
      " [0.54591769 0.45408231]\n",
      " [0.6018011  0.3981989 ]\n",
      " [0.5243368  0.4756632 ]\n",
      " [0.5828034  0.4171966 ]\n",
      " [0.42875138 0.57124862]\n",
      " [0.45584033 0.54415967]\n",
      " [0.53819197 0.46180803]\n",
      " [0.56391784 0.43608216]\n",
      " [0.38842744 0.61157256]\n",
      " [0.53589523 0.46410477]\n",
      " [0.54587529 0.45412471]\n",
      " [0.47599382 0.52400618]\n",
      " [0.52335606 0.47664394]\n",
      " [0.52169524 0.47830476]\n",
      " [0.43032701 0.56967299]\n",
      " [0.40463101 0.59536899]\n",
      " [0.41754123 0.58245877]\n",
      " [0.53077442 0.46922558]\n",
      " [0.43414338 0.56585662]\n",
      " [0.39499612 0.60500388]\n",
      " [0.37271292 0.62728708]\n",
      " [0.57710243 0.42289757]\n",
      " [0.52267553 0.47732447]\n",
      " [0.54182269 0.45817731]\n",
      " [0.47348295 0.52651705]\n",
      " [0.48601495 0.51398505]\n",
      " [0.53688943 0.46311057]\n",
      " [0.53528493 0.46471507]\n",
      " [0.50234915 0.49765085]\n",
      " [0.41750021 0.58249979]\n",
      " [0.49747624 0.50252376]\n",
      " [0.54209858 0.45790142]\n",
      " [0.60345672 0.39654328]\n",
      " [0.42660562 0.57339438]\n",
      " [0.64223556 0.35776444]\n",
      " [0.41855321 0.58144679]\n",
      " [0.47358305 0.52641695]\n",
      " [0.57052742 0.42947258]\n",
      " [0.57129692 0.42870308]\n",
      " [0.61648179 0.38351821]\n",
      " [0.55702154 0.44297846]\n",
      " [0.53765538 0.46234462]\n",
      " [0.49654926 0.50345074]\n",
      " [0.47073652 0.52926348]\n",
      " [0.4083475  0.5916525 ]\n",
      " [0.61328527 0.38671473]\n",
      " [0.36029411 0.63970589]\n",
      " [0.49750037 0.50249963]\n",
      " [0.61695487 0.38304513]\n",
      " [0.63288525 0.36711475]\n",
      " [0.52355894 0.47644106]\n",
      " [0.60285318 0.39714682]\n",
      " [0.61178745 0.38821255]\n",
      " [0.58304494 0.41695506]\n",
      " [0.63157399 0.36842601]\n",
      " [0.39458403 0.60541597]\n",
      " [0.61205697 0.38794303]\n",
      " [0.48211644 0.51788356]\n",
      " [0.50635576 0.49364424]\n",
      " [0.34803258 0.65196742]\n",
      " [0.62451975 0.37548025]\n",
      " [0.46361691 0.53638309]\n",
      " [0.46060671 0.53939329]\n",
      " [0.47890316 0.52109684]\n",
      " [0.59451673 0.40548327]\n",
      " [0.55983578 0.44016422]\n",
      " [0.41461463 0.58538537]\n",
      " [0.56041646 0.43958354]\n",
      " [0.59779158 0.40220842]\n",
      " [0.51418376 0.48581624]\n",
      " [0.57430711 0.42569289]\n",
      " [0.47548005 0.52451995]\n",
      " [0.43261029 0.56738971]\n",
      " [0.47840516 0.52159484]\n",
      " [0.48728356 0.51271644]\n",
      " [0.5230073  0.4769927 ]\n",
      " [0.51296048 0.48703952]\n",
      " [0.46403616 0.53596384]\n",
      " [0.61426097 0.38573903]\n",
      " [0.52736763 0.47263237]\n",
      " [0.6876765  0.3123235 ]\n",
      " [0.44576825 0.55423175]\n",
      " [0.55834752 0.44165248]\n",
      " [0.38858948 0.61141052]\n",
      " [0.5306648  0.4693352 ]\n",
      " [0.48116131 0.51883869]\n",
      " [0.51096264 0.48903736]\n",
      " [0.44041914 0.55958086]\n",
      " [0.56998895 0.43001105]\n",
      " [0.55375525 0.44624475]\n",
      " [0.62031102 0.37968898]\n",
      " [0.44392339 0.55607661]\n",
      " [0.47134426 0.52865574]\n",
      " [0.60256747 0.39743253]\n",
      " [0.5432544  0.4567456 ]\n",
      " [0.54716774 0.45283226]\n",
      " [0.65080653 0.34919347]\n",
      " [0.52438051 0.47561949]\n",
      " [0.49213563 0.50786437]\n",
      " [0.52799857 0.47200143]\n",
      " [0.6314352  0.3685648 ]\n",
      " [0.52002003 0.47997997]\n",
      " [0.34601071 0.65398929]\n",
      " [0.50619695 0.49380305]\n",
      " [0.55052328 0.44947672]\n",
      " [0.54024147 0.45975853]\n",
      " [0.41798123 0.58201877]\n",
      " [0.56317039 0.43682961]\n",
      " [0.51601958 0.48398042]\n",
      " [0.48159778 0.51840222]\n",
      " [0.49386267 0.50613733]\n",
      " [0.4371564  0.5628436 ]\n",
      " [0.58527807 0.41472193]\n",
      " [0.56133695 0.43866305]\n",
      " [0.5986059  0.4013941 ]\n",
      " [0.51556894 0.48443106]\n",
      " [0.61935594 0.38064406]\n",
      " [0.59293387 0.40706613]\n",
      " [0.39897407 0.60102593]\n",
      " [0.50592751 0.49407249]\n",
      " [0.34233192 0.65766808]\n",
      " [0.40331347 0.59668653]\n",
      " [0.44976331 0.55023669]\n",
      " [0.51244327 0.48755673]\n",
      " [0.44134278 0.55865722]\n",
      " [0.56594584 0.43405416]\n",
      " [0.4851833  0.5148167 ]\n",
      " [0.54565815 0.45434185]\n",
      " [0.61916168 0.38083832]\n",
      " [0.56453752 0.43546248]\n",
      " [0.52371593 0.47628407]\n",
      " [0.30596284 0.69403716]\n",
      " [0.52784924 0.47215076]\n",
      " [0.40850999 0.59149001]\n",
      " [0.47127202 0.52872798]\n",
      " [0.54413346 0.45586654]\n",
      " [0.59170583 0.40829417]\n",
      " [0.48861602 0.51138398]\n",
      " [0.42262008 0.57737992]\n",
      " [0.54155359 0.45844641]\n",
      " [0.50774242 0.49225758]\n",
      " [0.55377157 0.44622843]\n",
      " [0.48327858 0.51672142]\n",
      " [0.61888903 0.38111097]\n",
      " [0.51755548 0.48244452]\n",
      " [0.61525742 0.38474258]\n",
      " [0.59617244 0.40382756]\n",
      " [0.34296925 0.65703075]\n",
      " [0.43826074 0.56173926]\n",
      " [0.31273527 0.68726473]\n",
      " [0.50446161 0.49553839]\n",
      " [0.3078324  0.6921676 ]\n",
      " [0.55100907 0.44899093]\n",
      " [0.50835726 0.49164274]\n",
      " [0.54334197 0.45665803]\n",
      " [0.51526558 0.48473442]\n",
      " [0.3476821  0.6523179 ]\n",
      " [0.48190599 0.51809401]\n",
      " [0.46967548 0.53032452]\n",
      " [0.54649915 0.45350085]\n",
      " [0.2765175  0.7234825 ]\n",
      " [0.50410722 0.49589278]\n",
      " [0.4874337  0.5125663 ]\n",
      " [0.54098967 0.45901033]\n",
      " [0.54557868 0.45442132]\n",
      " [0.57216422 0.42783578]\n",
      " [0.55788845 0.44211155]\n",
      " [0.53578395 0.46421605]\n",
      " [0.55199765 0.44800235]\n",
      " [0.40972515 0.59027485]\n",
      " [0.53411724 0.46588276]\n",
      " [0.53594153 0.46405847]\n",
      " [0.49721256 0.50278744]\n",
      " [0.54078746 0.45921254]\n",
      " [0.55688873 0.44311127]\n",
      " [0.45350245 0.54649755]\n",
      " [0.49137785 0.50862215]\n",
      " [0.59332171 0.40667829]\n",
      " [0.56705613 0.43294387]\n",
      " [0.54800324 0.45199676]\n",
      " [0.52349167 0.47650833]\n",
      " [0.71665823 0.28334177]\n",
      " [0.55537845 0.44462155]\n",
      " [0.58239557 0.41760443]\n",
      " [0.5446232  0.4553768 ]\n",
      " [0.35933218 0.64066782]\n",
      " [0.41465709 0.58534291]\n",
      " [0.45965269 0.54034731]\n",
      " [0.60258799 0.39741201]\n",
      " [0.51488014 0.48511986]\n",
      " [0.39450237 0.60549763]\n",
      " [0.49805162 0.50194838]\n",
      " [0.5485685  0.4514315 ]\n",
      " [0.50398197 0.49601803]\n",
      " [0.49575111 0.50424889]\n",
      " [0.42466909 0.57533091]\n",
      " [0.50235441 0.49764559]\n",
      " [0.3552129  0.6447871 ]\n",
      " [0.52377168 0.47622832]]\n"
     ]
    }
   ],
   "source": [
    "#模型效果获取\n",
    "r = re.score(X_train,Y_train)\n",
    "print(\"R值(准确率):\",r)\n",
    "print(\"参数:\",re.coef_)\n",
    "print(\"截距:\",re.intercept_)\n",
    "print(\"稀疏化特征比率:%.2f%%\" %(np.mean(lr.coef_.ravel()==0)*100))\n",
    "print(\"=========sigmoid函数转化的值，即：概率p=========\")\n",
    "print(re.predict_proba(X_test))     #sigmoid函数转化的值，即：概率p"
   ]
  },
  {
   "cell_type": "markdown",
   "metadata": {},
   "source": [
    "### 模型的持久化"
   ]
  },
  {
   "cell_type": "code",
   "execution_count": 47,
   "metadata": {},
   "outputs": [
    {
     "data": {
      "text/plain": [
       "LogisticRegressionCV(Cs=array([1.00000e-02, 1.62378e-02, 2.63665e-02, 4.28133e-02, 6.95193e-02,\n",
       "       1.12884e-01, 1.83298e-01, 2.97635e-01, 4.83293e-01, 7.84760e-01,\n",
       "       1.27427e+00, 2.06914e+00, 3.35982e+00, 5.45559e+00, 8.85867e+00,\n",
       "       1.43845e+01, 2.33572e+01, 3.79269e+01, 6.15848e+01, 1.00000e+02]),\n",
       "           class_weight='balanced', cv=2, dual=False, fit_intercept=True,\n",
       "           intercept_scaling=1.0, max_iter=1000, multi_class='multinomial',\n",
       "           n_jobs=None, penalty='l2', random_state=None, refit=True,\n",
       "           scoring=None, solver='lbfgs', tol=0.01, verbose=0)"
      ]
     },
     "execution_count": 47,
     "metadata": {},
     "output_type": "execute_result"
    }
   ],
   "source": [
    "#模型的保存与持久化\n",
    "from sklearn.externals import joblib\n",
    "# joblib.dump(ss,\"logistic_ss.model\")     #将标准化模型保存\n",
    "joblib.dump(lr,\"thir_chan_logistic_lr.model\")     #将训练后的线性模型保存\n",
    "# joblib.load(\"logistic_ss.model\")        #加载模型,会保存该model文件\n",
    "joblib.load(\"thir_chan_logistic_lr.model\")"
   ]
  },
  {
   "cell_type": "markdown",
   "metadata": {},
   "source": [
    "### 预测结果评价"
   ]
  },
  {
   "cell_type": "code",
   "execution_count": 26,
   "metadata": {},
   "outputs": [],
   "source": [
    "import matplotlib as mpl\n",
    "\n",
    "#解决matplotlib 中文显示问题\n",
    "mpl.rcParams['font.sans-serif']=[u'simHei']\n",
    "mpl.rcParams['axes.unicode_minus']=False"
   ]
  },
  {
   "cell_type": "code",
   "execution_count": 27,
   "metadata": {},
   "outputs": [
    {
     "name": "stderr",
     "output_type": "stream",
     "text": [
      "findfont: Font family ['sans-serif'] not found. Falling back to DejaVu Sans.\n",
      "findfont: Font family ['sans-serif'] not found. Falling back to DejaVu Sans.\n",
      "findfont: Font family ['sans-serif'] not found. Falling back to DejaVu Sans.\n"
     ]
    },
    {
     "data": {
      "image/png": "[encoded data removed]",
      "text/plain": [
       "<Figure size 1008x504 with 1 Axes>"
      ]
     },
     "metadata": {},
     "output_type": "display_data"
    },
    {
     "name": "stdout",
     "output_type": "stream",
     "text": [
      "=============Y_test==============\n",
      "[1 1 1 1 1 1 1 0 0 1 1 1 1 1 0 1 1 0 1 0 0 1 1 1 0 0 0 0 1 0 0 0 0 0 0 1 1\n",
      " 1 1 0 1 0 1 0 1 0 0 0 0 1 0 0 0 0 0 0 1 1 1 0 1 0 0 1 0 1 0 0 1 0 0 0 1 1\n",
      " 1 0 0 0 0 1 1 0 0 1 0 1 0 1 0 0 0 0 0 0 0 1 1 0 0 0 1 0 0 0 0 0 0 0 0 0 1\n",
      " 1 0 1 1 1 0 0 1 0 0 0 1 0 0 0 0 0 1 0 1 0 1 1 0 0 0 1 0 0 0 1 1 0 0 0 1 0\n",
      " 1 0 1 1 1 1 0 0 0 1 0 1 0 1 1 0 0 1 1 1 0 1 1 0 1 0 0 1 1 0 0 0 0 1 0 1 1\n",
      " 1 0 0 0 0 0 0 1 1 0 0 0 0 0 0 0 1 1 1 1 1 1 0 0 0 1 0 0 1 1 0 0 1 0 0 0 0\n",
      " 1 1 1 0 1 0 0 0 0 0 0 0 0 0 1 1 0 1 1 1 1 1 0 1 1 0 1 0 0 1 0]\n",
      "============Y_predict============\n",
      "[1 0 1 0 0 0 0 1 0 0 0 1 1 0 1 1 0 1 0 1 0 0 0 0 0 0 1 1 0 0 0 1 0 1 1 0 1\n",
      " 0 0 1 0 0 1 0 1 0 1 1 0 1 0 1 1 0 0 0 0 0 1 1 0 0 1 0 0 1 0 0 1 1 1 0 1 1\n",
      " 1 0 0 0 1 1 0 0 0 1 1 0 0 1 0 1 1 0 0 0 0 0 1 1 1 0 1 1 0 0 0 0 0 0 0 1 0\n",
      " 1 0 1 0 1 1 1 0 0 1 0 0 0 0 1 1 1 1 0 0 1 0 0 0 1 0 1 0 1 0 1 0 0 0 1 1 0\n",
      " 0 0 0 0 1 0 0 0 1 0 0 0 1 0 0 1 1 1 0 0 0 0 0 0 1 0 1 1 1 0 1 0 1 0 0 0 0\n",
      " 1 0 1 1 0 0 1 1 0 0 0 1 0 0 0 0 1 1 1 0 1 0 0 0 0 1 1 1 0 1 0 1 0 0 0 0 0\n",
      " 0 1 0 0 1 0 0 1 1 0 0 0 0 0 0 0 0 1 1 1 0 0 1 1 0 0 1 1 0 1 0]\n"
     ]
    }
   ],
   "source": [
    "#预测\n",
    "Y_predict = lr.predict(X_test)\n",
    " \n",
    "#画图对预测值和实际值进行比较\n",
    "x = range(len(X_test))\n",
    "plt.figure(figsize=(14,7),facecolor=\"w\")\n",
    "plt.ylim(0,6)\n",
    "plt.plot(x,Y_test,\"ro\",markersize=8,zorder=3,label=u\"Groud Truth\")\n",
    "plt.plot(x,Y_predict,\"go\",markersize=14,zorder=2,label=u\"Predict Value,$R^2$=%.3f\" %lr.score(X_test,Y_test))\n",
    "plt.legend(loc=\"upper left\")\n",
    "plt.xlabel(u\"sample\",fontsize=18)\n",
    "plt.ylabel(u\"label\",fontsize=18)\n",
    "plt.title(u\"Logistic Model\",fontsize=20)\n",
    "plt.show()\n",
    " \n",
    "print(\"=============Y_test==============\")\n",
    "print(Y_test.ravel())\n",
    "print(\"============Y_predict============\")\n",
    "print(Y_predict)"
   ]
  },
  {
   "cell_type": "code",
   "execution_count": 28,
   "metadata": {},
   "outputs": [
    {
     "name": "stdout",
     "output_type": "stream",
     "text": [
      "预测准确率： 0.549407114624506\n",
      "精度： 0.5462752386246229\n",
      "召回率： 0.549407114624506\n"
     ]
    }
   ],
   "source": [
    "from sklearn import metrics\n",
    "\n",
    "print(\"预测准确率：\", metrics.accuracy_score(Y_test, Y_predict))\n",
    "print(\"精度：\", metrics.precision_score(Y_test, Y_predict, average=\"weighted\"))\n",
    "print(\"召回率：\", metrics.recall_score(Y_test, Y_predict, average=\"weighted\"))"
   ]
  },
  {
   "cell_type": "code",
   "execution_count": 29,
   "metadata": {},
   "outputs": [],
   "source": [
    "from sklearn.model_selection import train_test_split\n",
    "from sklearn.preprocessing import StandardScaler\n",
    "import numpy as np"
   ]
  },
  {
   "cell_type": "code",
   "execution_count": 30,
   "metadata": {},
   "outputs": [
    {
     "name": "stdout",
     "output_type": "stream",
     "text": [
      "best score 0.62\n",
      "depth 16\n",
      "criterion entropy\n"
     ]
    }
   ],
   "source": [
    "\n",
    "#from sklearn.linear_model.coordinate_descent import ConvergenceWarning\n",
    "from sklearn import tree\n",
    "from matplotlib import pyplot as plt\n",
    "\n",
    "\n",
    "\n",
    "\n",
    "#划分训练集与测试集  随机\n",
    "target = 'X'\n",
    "features = [x for x in df.columns if x not in['ID', 'X']]\n",
    "X, Y = df[features], df[target]# X = dataSet  and Y =  labels\n",
    "X_train, X_test, Y_train, Y_test = train_test_split(X, Y, test_size=0.2, random_state=0)\n",
    "\n",
    "bestTestingScore = 0.0\n",
    "bestDepth = 0\n",
    "bestriterion = ''\n",
    "\n",
    "maxdepth = 40\n",
    "depths = np.arange(2, maxdepth)\n",
    "criterions = ['gini','entropy']\n",
    "for criterion in criterions:\n",
    "    training_scores = []\n",
    "    testing_scores = []\n",
    "    for depth in depths:\n",
    "        clf = tree.DecisionTreeClassifier(criterion = criterion ,max_depth = depth)\n",
    "        clf.fit(X_train, Y_train)\n",
    "        trSc = clf.score(X_train, Y_train)\n",
    "        teSc = clf.score(X_test, Y_test)\n",
    "        training_scores.append(trSc)\n",
    "        testing_scores.append(teSc)\n",
    "        if bestTestingScore< teSc:\n",
    "            bestTestingScore = teSc\n",
    "            bestDepth = depth\n",
    "            bestriterion = criterion\n",
    "print('best score %.2f' % bestTestingScore)\n",
    "print('depth %d' % bestDepth)\n",
    "print('criterion %s' % bestriterion)\n"
   ]
  },
  {
   "cell_type": "code",
   "execution_count": 31,
   "metadata": {},
   "outputs": [
    {
     "name": "stdout",
     "output_type": "stream",
     "text": [
      "linear_svc training score:0.581349\n",
      "linear_svc testing score:0.584980\n",
      "rbf_kernel_svc training score:0.983135\n",
      "rbf_kernel_svc testing score:0.608696\n"
     ]
    },
    {
     "name": "stderr",
     "output_type": "stream",
     "text": [
      "/Users/xiangsong/Library/Python/3.6/lib/python/site-packages/sklearn/svm/base.py:929: ConvergenceWarning: Liblinear failed to converge, increase the number of iterations.\n",
      "  \"the number of iterations.\", ConvergenceWarning)\n"
     ]
    }
   ],
   "source": [
    "from sklearn import datasets\n",
    "from sklearn.pipeline import Pipeline\n",
    "from sklearn.preprocessing import StandardScaler\n",
    "from sklearn.svm import LinearSVC\n",
    "\n",
    "from sklearn.svm import SVC\n",
    "\n",
    "\n",
    "target = 'X'\n",
    "features = [x for x in df.columns if x not in['ID', 'X']]\n",
    "X, Y = df[features], df[target]# X = dataSet  and Y =  labels\n",
    "X_train, X_test, Y_train, Y_test = train_test_split(X, Y, test_size=0.2, random_state=0)\n",
    "\n",
    "\n",
    "svm_clf = Pipeline((\n",
    "                    ('scaler', StandardScaler()),\n",
    "                   ('linear_svc', LinearSVC(C = 1, loss = 'hinge'))\n",
    "                  )).fit(X_train, Y_train)\n",
    "print('linear_svc training score:%f' % svm_clf.score(X_train, Y_train))\n",
    "print('linear_svc testing score:%f' % svm_clf.score(X_test, Y_test))\n",
    "\n",
    "\n",
    "rbf_kernel_svm_clf = Pipeline((('scaler', StandardScaler()),\n",
    "                               ('svm_clf', SVC(kernel = 'rbf', gamma = 5, C = 5 )) #当C为0.001 时 预测非1\n",
    "                               )).fit(X_train, Y_train)\n",
    "print('rbf_kernel_svc training score:%f' % rbf_kernel_svm_clf.score(X_train, Y_train))\n",
    "print('rbf_kernel_svc testing score:%f' % rbf_kernel_svm_clf.score(X_test, Y_test))"
   ]
  },
  {
   "cell_type": "markdown",
   "metadata": {},
   "source": [
    "## CCA 特征"
   ]
  },
  {
   "cell_type": "code",
   "execution_count": null,
   "metadata": {},
   "outputs": [],
   "source": [
    "## CCA 数据 没有\n",
    "\"\"\"\n",
    "CCA_FILES = [\"CCA.csv\", \"DMPCCA.csv\", \"LDCCA.csv\", \"LPCCA.csv\", \"rank-CCA.csv\", \"semi-CCA.csv\"]\n",
    "\n",
    "for fi in CCA_FILES:\n",
    "    df = pd.read_csv(open(fi, encoding='utf-8'), skiprows=0)  \n",
    "    #划分训练集与测试集\n",
    "    target = 't'\n",
    "    features = [x for x in df.columns if x not in['t']]\n",
    "    X, Y = df[features], df[target]\n",
    "    X_train, X_test, Y_train, Y_test = train_test_split(X, Y, test_size=0.2, random_state=0)\n",
    "    lr = LogisticRegressionCV(\n",
    "        multi_class=\"multinomial\",\n",
    "        fit_intercept=True,\n",
    "        Cs=np.logspace(-2,2,20),\n",
    "        cv=2,\n",
    "        penalty=\"l2\",\n",
    "        solver=\"lbfgs\",\n",
    "        tol=0.01,\n",
    "        max_iter = 1000,\n",
    "        class_weight='balanced', \n",
    "    )\n",
    "    re = lr.fit(X_train,Y_train)\n",
    "    Y_predict = lr.predict(X_test)\n",
    "    print(\"===== %s =====\" % fi)\n",
    "    print(\"训练准确率：\", re.score(X_train,Y_train))\n",
    "    print(\"预测准确率：\", metrics.accuracy_score(Y_test, Y_predict))\n",
    "    print(\"精度：\", metrics.precision_score(Y_test, Y_predict, average=\"weighted\"))\n",
    "    print(\"召回率：\", metrics.recall_score(Y_test, Y_predict, average=\"weighted\"))\n",
    "    print(\"==========\")\n",
    "\"\"\""
   ]
  }
 ],
 "metadata": {
  "kernelspec": {
   "display_name": "Python 3",
   "language": "python",
   "name": "python3"
  },
  "language_info": {
   "codemirror_mode": {
    "name": "ipython",
    "version": 3
   },
   "file_extension": ".py",
   "mimetype": "text/x-python",
   "name": "python",
   "nbconvert_exporter": "python",
   "pygments_lexer": "ipython3",
   "version": "3.6.7"
  }
 },
 "nbformat": 4,
 "nbformat_minor": 2
}
