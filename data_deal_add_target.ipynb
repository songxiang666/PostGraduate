{
 "cells": [
  {
   "cell_type": "code",
   "execution_count": 15,
   "metadata": {},
   "outputs": [],
   "source": [
    "import pandas as pd\n",
    "import numpy as np\n",
    "import os"
   ]
  },
  {
   "cell_type": "code",
   "execution_count": 26,
   "metadata": {},
   "outputs": [
    {
     "name": "stderr",
     "output_type": "stream",
     "text": [
      "/Library/Frameworks/Python.framework/Versions/3.6/lib/python3.6/site-packages/ipykernel_launcher.py:3: SettingWithCopyWarning: \n",
      "A value is trying to be set on a copy of a slice from a DataFrame\n",
      "\n",
      "See the caveats in the documentation: http://pandas.pydata.org/pandas-docs/stable/user_guide/indexing.html#returning-a-view-versus-a-copy\n",
      "  This is separate from the ipykernel package so we can avoid doing imports until\n"
     ]
    }
   ],
   "source": [
    "def change1_attr(df,first,end):\n",
    "    df['t']=0\n",
    "    df['t'][first:end] = 1\n",
    "    return df\n",
    "def change2_attr(df,first,end1,sec,end2):\n",
    "    df['t'] = 0\n",
    "    df['t'][first:end1] = 1\n",
    "    df['t'][sec:end2] = 2\n",
    "    return df\n",
    "path = '/Users/xiangsong/Desktop/数据分析/cleaned_data/CCA/CCA_cleaned/third_chan'\n",
    "first = 3847 #5612:7212  :7212\n",
    "end = 7212\n",
    "sec = 5612\n",
    "end2 = 7212\n",
    "filenames = os.listdir(path)\n",
    "for file in filenames:\n",
    "    data = open(path + '/' + file)\n",
    "    df = pd.read_csv(data, skiprows=0)\n",
    "    #print(df)\n",
    "    df = change1_attr(df,first, end)\n",
    "    df.to_csv(path + '/chan_attr_' + file)"
   ]
  },
  {
   "cell_type": "code",
   "execution_count": null,
   "metadata": {},
   "outputs": [],
   "source": []
  }
 ],
 "metadata": {
  "kernelspec": {
   "display_name": "Python 3",
   "language": "python",
   "name": "python3"
  },
  "language_info": {
   "codemirror_mode": {
    "name": "ipython",
    "version": 3
   },
   "file_extension": ".py",
   "mimetype": "text/x-python",
   "name": "python",
   "nbconvert_exporter": "python",
   "pygments_lexer": "ipython3",
   "version": "3.6.7"
  }
 },
 "nbformat": 4,
 "nbformat_minor": 2
}
