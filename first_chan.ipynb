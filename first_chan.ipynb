{
 "cells": [
  {
   "cell_type": "code",
   "execution_count": 1,
   "metadata": {},
   "outputs": [],
   "source": [
    "import numpy as np\n",
    "import pandas as pd\n",
    "from matplotlib import pyplot as plt\n",
    "\n",
    "%matplotlib inline"
   ]
  },
  {
   "cell_type": "code",
   "execution_count": 2,
   "metadata": {},
   "outputs": [
    {
     "name": "stdout",
     "output_type": "stream",
     "text": [
      "data size: (1314, 6)\n"
     ]
    },
    {
     "data": {
      "text/html": [
       "<div>\n",
       "<style scoped>\n",
       "    .dataframe tbody tr th:only-of-type {\n",
       "        vertical-align: middle;\n",
       "    }\n",
       "\n",
       "    .dataframe tbody tr th {\n",
       "        vertical-align: top;\n",
       "    }\n",
       "\n",
       "    .dataframe thead th {\n",
       "        text-align: right;\n",
       "    }\n",
       "</style>\n",
       "<table border=\"1\" class=\"dataframe\">\n",
       "  <thead>\n",
       "    <tr style=\"text-align: right;\">\n",
       "      <th></th>\n",
       "      <th>ID</th>\n",
       "      <th>X</th>\n",
       "      <th>T-01</th>\n",
       "      <th>T-04</th>\n",
       "      <th>T-05</th>\n",
       "      <th>T-06</th>\n",
       "    </tr>\n",
       "  </thead>\n",
       "  <tbody>\n",
       "    <tr>\n",
       "      <th>0</th>\n",
       "      <td>15-10001</td>\n",
       "      <td>0</td>\n",
       "      <td>1.2</td>\n",
       "      <td>36.0</td>\n",
       "      <td>0.0</td>\n",
       "      <td>1.0</td>\n",
       "    </tr>\n",
       "    <tr>\n",
       "      <th>1</th>\n",
       "      <td>15-10002</td>\n",
       "      <td>0</td>\n",
       "      <td>19.1</td>\n",
       "      <td>79.0</td>\n",
       "      <td>32.9</td>\n",
       "      <td>2.0</td>\n",
       "    </tr>\n",
       "    <tr>\n",
       "      <th>2</th>\n",
       "      <td>15-10003</td>\n",
       "      <td>1</td>\n",
       "      <td>21.8</td>\n",
       "      <td>106.0</td>\n",
       "      <td>9.7</td>\n",
       "      <td>1.0</td>\n",
       "    </tr>\n",
       "    <tr>\n",
       "      <th>3</th>\n",
       "      <td>15-10004</td>\n",
       "      <td>0</td>\n",
       "      <td>177.7</td>\n",
       "      <td>699.0</td>\n",
       "      <td>7.1</td>\n",
       "      <td>1.0</td>\n",
       "    </tr>\n",
       "    <tr>\n",
       "      <th>4</th>\n",
       "      <td>15-10005</td>\n",
       "      <td>1</td>\n",
       "      <td>138.2</td>\n",
       "      <td>41437.0</td>\n",
       "      <td>8.5</td>\n",
       "      <td>1.0</td>\n",
       "    </tr>\n",
       "  </tbody>\n",
       "</table>\n",
       "</div>"
      ],
      "text/plain": [
       "         ID  X   T-01     T-04  T-05  T-06\n",
       "0  15-10001  0    1.2     36.0   0.0   1.0\n",
       "1  15-10002  0   19.1     79.0  32.9   2.0\n",
       "2  15-10003  1   21.8    106.0   9.7   1.0\n",
       "3  15-10004  0  177.7    699.0   7.1   1.0\n",
       "4  15-10005  1  138.2  41437.0   8.5   1.0"
      ]
     },
     "execution_count": 2,
     "metadata": {},
     "output_type": "execute_result"
    }
   ],
   "source": [
    "data = open('three_kind_andMark/G_in/first_chan.csv', encoding = 'utf-8')\n",
    "df = pd.read_csv(data, skiprows = 0)\n",
    "print('data size:', df.shape)\n",
    "df.head()"
   ]
  },
  {
   "cell_type": "code",
   "execution_count": 14,
   "metadata": {},
   "outputs": [
    {
     "name": "stdout",
     "output_type": "stream",
     "text": [
      "292\n"
     ]
    }
   ],
   "source": [
    "#挑选出 T-06 = 1  X = 1\n",
    "li = df[df['T-06'] == 1]\n",
    "li = li[li['X'] == 1]\n",
    "print(li.shape[0])\n",
    "#sum = 0\n",
    "#for i in li:\n",
    "#    if i == 1:\n",
    "#        sum += 1\n",
    "#print(sum)\n",
    "#print(len(li))"
   ]
  },
  {
   "cell_type": "code",
   "execution_count": 15,
   "metadata": {},
   "outputs": [
    {
     "name": "stdout",
     "output_type": "stream",
     "text": [
      "217\n"
     ]
    }
   ],
   "source": [
    "#挑选出 T-06 = 2  X = 0\n",
    "\n",
    "li1 = df[df['T-06'] == 2]\n",
    "li1 = li1[li1['X'] == 0]\n",
    "print(li1.shape[0])\n",
    "\n",
    "#sum1 = 0\n",
    "#for i in li1:\n",
    "#    if i == 0:\n",
    "#        sum1 += 1\n",
    "#print(sum1)\n",
    "#print(len(li1))"
   ]
  },
  {
   "cell_type": "code",
   "execution_count": 17,
   "metadata": {},
   "outputs": [],
   "source": [
    "# 将 li 和 li1合并为新的df\n",
    "df = pd.concat([li, li1], axis = 0)\n",
    "df.shape\n",
    "\n",
    "#保存数据df\n",
    "df.to_csv('first_chan_T06_Cleaned.csv', index = False, header = True, encoding = 'utf-8')"
   ]
  },
  {
   "cell_type": "markdown",
   "metadata": {},
   "source": [
    "ID：病例编号\n",
    "X：分类目标\n",
    "其余特征表示一线标志物"
   ]
  },
  {
   "cell_type": "markdown",
   "metadata": {},
   "source": [
    "# 数据的直观分布\n",
    "\n",
    "## 数据构成比例\n",
    "\n",
    "### 时间与患病数"
   ]
  },
  {
   "cell_type": "code",
   "execution_count": 6,
   "metadata": {},
   "outputs": [
    {
     "data": {
      "text/html": [
       "<div>\n",
       "<style scoped>\n",
       "    .dataframe tbody tr th:only-of-type {\n",
       "        vertical-align: middle;\n",
       "    }\n",
       "\n",
       "    .dataframe tbody tr th {\n",
       "        vertical-align: top;\n",
       "    }\n",
       "\n",
       "    .dataframe thead th {\n",
       "        text-align: right;\n",
       "    }\n",
       "</style>\n",
       "<table border=\"1\" class=\"dataframe\">\n",
       "  <thead>\n",
       "    <tr style=\"text-align: right;\">\n",
       "      <th></th>\n",
       "      <th></th>\n",
       "      <th>ID</th>\n",
       "    </tr>\n",
       "    <tr>\n",
       "      <th>Year</th>\n",
       "      <th>X</th>\n",
       "      <th></th>\n",
       "    </tr>\n",
       "  </thead>\n",
       "  <tbody>\n",
       "    <tr>\n",
       "      <th rowspan=\"2\" valign=\"top\">2015</th>\n",
       "      <th>0</th>\n",
       "      <td>965</td>\n",
       "    </tr>\n",
       "    <tr>\n",
       "      <th>1</th>\n",
       "      <td>1050</td>\n",
       "    </tr>\n",
       "    <tr>\n",
       "      <th rowspan=\"2\" valign=\"top\">2016</th>\n",
       "      <th>0</th>\n",
       "      <td>1441</td>\n",
       "    </tr>\n",
       "    <tr>\n",
       "      <th>1</th>\n",
       "      <td>1206</td>\n",
       "    </tr>\n",
       "    <tr>\n",
       "      <th rowspan=\"2\" valign=\"top\">2017</th>\n",
       "      <th>0</th>\n",
       "      <td>1441</td>\n",
       "    </tr>\n",
       "    <tr>\n",
       "      <th>1</th>\n",
       "      <td>1109</td>\n",
       "    </tr>\n",
       "  </tbody>\n",
       "</table>\n",
       "</div>"
      ],
      "text/plain": [
       "          ID\n",
       "Year X      \n",
       "2015 0   965\n",
       "     1  1050\n",
       "2016 0  1441\n",
       "     1  1206\n",
       "2017 0  1441\n",
       "     1  1109"
      ]
     },
     "execution_count": 6,
     "metadata": {},
     "output_type": "execute_result"
    }
   ],
   "source": [
    "df['Year'] = df['ID']. apply(lambda row : row.split('-')[0] )\n",
    "a = df[['Year', 'X', 'ID']].groupby(['Year', 'X']).count()\n",
    "a"
   ]
  },
  {
   "cell_type": "code",
   "execution_count": 4,
   "metadata": {},
   "outputs": [],
   "source": [
    "plt.style.use('seaborn')"
   ]
  },
  {
   "cell_type": "code",
   "execution_count": 5,
   "metadata": {},
   "outputs": [
    {
     "data": {
      "text/plain": [
       "array([<matplotlib.axes._subplots.AxesSubplot object at 0x0000024B47B76898>,\n",
       "       <matplotlib.axes._subplots.AxesSubplot object at 0x0000024B47C0A780>,\n",
       "       <matplotlib.axes._subplots.AxesSubplot object at 0x0000024B47C35FD0>],\n",
       "      dtype=object)"
      ]
     },
     "execution_count": 5,
     "metadata": {},
     "output_type": "execute_result"
    },
    {
     "data": {
      "image/png": "[encoded data removed]",
      "text/plain": [
       "<Figure size 576x396 with 3 Axes>"
      ]
     },
     "metadata": {},
     "output_type": "display_data"
    }
   ],
   "source": [
    "b = a.unstack()\n",
    "b\n",
    "(b.T).plot(kind = 'pie', subplots = True)"
   ]
  },
  {
   "cell_type": "markdown",
   "metadata": {},
   "source": [
    "## 特征的分布规律"
   ]
  },
  {
   "cell_type": "code",
   "execution_count": 4,
   "metadata": {},
   "outputs": [
    {
     "name": "stderr",
     "output_type": "stream",
     "text": [
      "/Library/Frameworks/Python.framework/Versions/3.6/lib/python3.6/site-packages/ipykernel_launcher.py:5: UserWarning: To output multiple subplots, the figure containing the passed axes is being cleared\n",
      "  \"\"\"\n"
     ]
    },
    {
     "data": {
      "text/plain": [
       "array([[<matplotlib.axes._subplots.AxesSubplot object at 0x111193518>,\n",
       "        <matplotlib.axes._subplots.AxesSubplot object at 0x111009e80>],\n",
       "       [<matplotlib.axes._subplots.AxesSubplot object at 0x111066470>,\n",
       "        <matplotlib.axes._subplots.AxesSubplot object at 0x102ce86d8>]],\n",
       "      dtype=object)"
      ]
     },
     "execution_count": 4,
     "metadata": {},
     "output_type": "execute_result"
    },
    {
     "data": {
      "image/png": "[encoded data removed]",
      "text/plain": [
       "<Figure size 432x288 with 4 Axes>"
      ]
     },
     "metadata": {
      "needs_background": "light"
     },
     "output_type": "display_data"
    }
   ],
   "source": [
    "#复制除编号以及病状的所有特征\n",
    "features = [x for x in df.columns if x not in['ID', 'X'] ]\n",
    "plt.figure()\n",
    "ax = plt.subplot(111)\n",
    "df.hist(column = features, bins = 20, ax = ax)"
   ]
  },
  {
   "cell_type": "code",
   "execution_count": null,
   "metadata": {},
   "outputs": [],
   "source": []
  },
  {
   "cell_type": "markdown",
   "metadata": {},
   "source": [
    "正相关的特征分布"
   ]
  },
  {
   "cell_type": "code",
   "execution_count": null,
   "metadata": {},
   "outputs": [],
   "source": [
    "df.hist(column = ['','',''], bins = 20)"
   ]
  },
  {
   "cell_type": "markdown",
   "metadata": {},
   "source": [
    "负相关的特征分布"
   ]
  },
  {
   "cell_type": "code",
   "execution_count": null,
   "metadata": {},
   "outputs": [],
   "source": [
    "df.hist(column = ['','',''], bins = 20)"
   ]
  },
  {
   "cell_type": "markdown",
   "metadata": {},
   "source": [
    "## 数据的正态化变换\n",
    "\n"
   ]
  },
  {
   "cell_type": "markdown",
   "metadata": {},
   "source": [
    "T-01和T-04两个特征的分布图不符合正态性"
   ]
  },
  {
   "cell_type": "code",
   "execution_count": null,
   "metadata": {},
   "outputs": [],
   "source": []
  },
  {
   "cell_type": "code",
   "execution_count": 38,
   "metadata": {},
   "outputs": [
    {
     "data": {
      "text/plain": [
       "<matplotlib.legend.Legend at 0x1b2dbec17b8>"
      ]
     },
     "execution_count": 38,
     "metadata": {},
     "output_type": "execute_result"
    },
    {
     "data": {
      "image/png": "[encoded data removed]",
      "text/plain": [
       "<Figure size 576x396 with 1 Axes>"
      ]
     },
     "metadata": {},
     "output_type": "display_data"
    }
   ],
   "source": [
    "df['T-04'].plot(kind = 'kde', xlim = [0,80], label = 'T-04-old')\n",
    "\n",
    "np.log10(df['T-04']).plot(kind = 'kde', xlim = [0,80], label = 'T-04-new')\n",
    "plt.legend()"
   ]
  },
  {
   "cell_type": "code",
   "execution_count": 44,
   "metadata": {},
   "outputs": [
    {
     "data": {
      "text/plain": [
       "<matplotlib.axes._subplots.AxesSubplot at 0x1b2da703d68>"
      ]
     },
     "execution_count": 44,
     "metadata": {},
     "output_type": "execute_result"
    },
    {
     "data": {
      "image/png": "[encoded data removed]",
      "text/plain": [
       "<Figure size 576x396 with 1 Axes>"
      ]
     },
     "metadata": {},
     "output_type": "display_data"
    }
   ],
   "source": [
    "np.log10(df['T-04']).hist(bins = 25)"
   ]
  },
  {
   "cell_type": "code",
   "execution_count": 46,
   "metadata": {},
   "outputs": [
    {
     "data": {
      "text/plain": [
       "<matplotlib.legend.Legend at 0x1b2d9e9d588>"
      ]
     },
     "execution_count": 46,
     "metadata": {},
     "output_type": "execute_result"
    },
    {
     "data": {
      "image/png": "[encoded data removed]",
      "text/plain": [
       "<Figure size 576x396 with 1 Axes>"
      ]
     },
     "metadata": {},
     "output_type": "display_data"
    }
   ],
   "source": [
    "df['T-01'].plot(kind = 'kde', xlim = [0,50], label = 'T-01-old')\n",
    "\n",
    "np.log10(df['T-01']).plot(kind = 'kde', xlim = [0,50], label = 'T-01-new')\n",
    "plt.legend()"
   ]
  },
  {
   "cell_type": "code",
   "execution_count": 47,
   "metadata": {},
   "outputs": [
    {
     "data": {
      "text/plain": [
       "<matplotlib.axes._subplots.AxesSubplot at 0x1b2da5366a0>"
      ]
     },
     "execution_count": 47,
     "metadata": {},
     "output_type": "execute_result"
    },
    {
     "data": {
      "image/png": "[encoded data removed]",
      "text/plain": [
       "<Figure size 576x396 with 1 Axes>"
      ]
     },
     "metadata": {},
     "output_type": "display_data"
    }
   ],
   "source": [
    "np.log10(df['T-01']).hist(bins = 25)"
   ]
  },
  {
   "cell_type": "markdown",
   "metadata": {},
   "source": [
    "# 数据的浓缩\n",
    "\n",
    "五数概括法：  \n",
    "最小值、最大值、中位数、上四分位数、下四分位数"
   ]
  },
  {
   "cell_type": "code",
   "execution_count": 5,
   "metadata": {},
   "outputs": [
    {
     "name": "stdout",
     "output_type": "stream",
     "text": [
      "数据的概况总览\n"
     ]
    },
    {
     "data": {
      "text/html": [
       "<div>\n",
       "<style scoped>\n",
       "    .dataframe tbody tr th:only-of-type {\n",
       "        vertical-align: middle;\n",
       "    }\n",
       "\n",
       "    .dataframe tbody tr th {\n",
       "        vertical-align: top;\n",
       "    }\n",
       "\n",
       "    .dataframe thead th {\n",
       "        text-align: right;\n",
       "    }\n",
       "</style>\n",
       "<table border=\"1\" class=\"dataframe\">\n",
       "  <thead>\n",
       "    <tr style=\"text-align: right;\">\n",
       "      <th></th>\n",
       "      <th>X</th>\n",
       "      <th>T-01</th>\n",
       "      <th>T-04</th>\n",
       "      <th>T-05</th>\n",
       "      <th>T-06</th>\n",
       "    </tr>\n",
       "  </thead>\n",
       "  <tbody>\n",
       "    <tr>\n",
       "      <th>count</th>\n",
       "      <td>1314.000000</td>\n",
       "      <td>1.311000e+03</td>\n",
       "      <td>1296.000000</td>\n",
       "      <td>1289.000000</td>\n",
       "      <td>1289.000000</td>\n",
       "    </tr>\n",
       "    <tr>\n",
       "      <th>mean</th>\n",
       "      <td>0.468798</td>\n",
       "      <td>1.011573e+04</td>\n",
       "      <td>7102.325617</td>\n",
       "      <td>13.467029</td>\n",
       "      <td>1.411947</td>\n",
       "    </tr>\n",
       "    <tr>\n",
       "      <th>std</th>\n",
       "      <td>0.499215</td>\n",
       "      <td>5.796223e+04</td>\n",
       "      <td>21964.142833</td>\n",
       "      <td>17.657283</td>\n",
       "      <td>0.492377</td>\n",
       "    </tr>\n",
       "    <tr>\n",
       "      <th>min</th>\n",
       "      <td>0.000000</td>\n",
       "      <td>6.050000e-01</td>\n",
       "      <td>11.000000</td>\n",
       "      <td>0.000000</td>\n",
       "      <td>1.000000</td>\n",
       "    </tr>\n",
       "    <tr>\n",
       "      <th>25%</th>\n",
       "      <td>0.000000</td>\n",
       "      <td>5.800000e+00</td>\n",
       "      <td>61.000000</td>\n",
       "      <td>0.000000</td>\n",
       "      <td>1.000000</td>\n",
       "    </tr>\n",
       "    <tr>\n",
       "      <th>50%</th>\n",
       "      <td>0.000000</td>\n",
       "      <td>7.080000e+01</td>\n",
       "      <td>397.500000</td>\n",
       "      <td>4.800000</td>\n",
       "      <td>1.000000</td>\n",
       "    </tr>\n",
       "    <tr>\n",
       "      <th>75%</th>\n",
       "      <td>1.000000</td>\n",
       "      <td>1.193500e+03</td>\n",
       "      <td>2865.000000</td>\n",
       "      <td>22.400000</td>\n",
       "      <td>2.000000</td>\n",
       "    </tr>\n",
       "    <tr>\n",
       "      <th>max</th>\n",
       "      <td>1.000000</td>\n",
       "      <td>1.261300e+06</td>\n",
       "      <td>336821.000000</td>\n",
       "      <td>82.700000</td>\n",
       "      <td>2.000000</td>\n",
       "    </tr>\n",
       "  </tbody>\n",
       "</table>\n",
       "</div>"
      ],
      "text/plain": [
       "                 X          T-01           T-04         T-05         T-06\n",
       "count  1314.000000  1.311000e+03    1296.000000  1289.000000  1289.000000\n",
       "mean      0.468798  1.011573e+04    7102.325617    13.467029     1.411947\n",
       "std       0.499215  5.796223e+04   21964.142833    17.657283     0.492377\n",
       "min       0.000000  6.050000e-01      11.000000     0.000000     1.000000\n",
       "25%       0.000000  5.800000e+00      61.000000     0.000000     1.000000\n",
       "50%       0.000000  7.080000e+01     397.500000     4.800000     1.000000\n",
       "75%       1.000000  1.193500e+03    2865.000000    22.400000     2.000000\n",
       "max       1.000000  1.261300e+06  336821.000000    82.700000     2.000000"
      ]
     },
     "execution_count": 5,
     "metadata": {},
     "output_type": "execute_result"
    }
   ],
   "source": [
    "print('数据的概况总览')\n",
    "df.describe()"
   ]
  },
  {
   "cell_type": "code",
   "execution_count": 12,
   "metadata": {},
   "outputs": [
    {
     "data": {
      "text/plain": [
       "count    1289.000000\n",
       "mean       13.467029\n",
       "std        17.657283\n",
       "min         0.000000\n",
       "25%         0.000000\n",
       "50%         4.800000\n",
       "75%        22.400000\n",
       "max        82.700000\n",
       "Name: T-05, dtype: float64"
      ]
     },
     "execution_count": 12,
     "metadata": {},
     "output_type": "execute_result"
    }
   ],
   "source": [
    "df['T-05'].describe()"
   ]
  },
  {
   "cell_type": "code",
   "execution_count": 13,
   "metadata": {},
   "outputs": [
    {
     "name": "stdout",
     "output_type": "stream",
     "text": [
      "以特征T-05为例：\n",
      "均值 =  13.467028704422036\n",
      "方差 =  311.7796496272793\n",
      "偏度 =  1.3496123027782139\n",
      "峰度 =  0.9786418187416666\n"
     ]
    }
   ],
   "source": [
    "print('以特征T-05为例：')\n",
    "print('均值 = ', df['T-05'].mean())\n",
    "print('方差 = ', df['T-05'].var())\n",
    "print('偏度 = ', df['T-05'].skew())\n",
    "print('峰度 = ', df['T-05'].kurt())"
   ]
  },
  {
   "cell_type": "markdown",
   "metadata": {},
   "source": [
    "## 箱型图和异常值"
   ]
  },
  {
   "cell_type": "code",
   "execution_count": 14,
   "metadata": {},
   "outputs": [],
   "source": [
    "import seaborn as sns"
   ]
  },
  {
   "cell_type": "markdown",
   "metadata": {},
   "source": [
    "使用seaborn的箱线图展示"
   ]
  },
  {
   "cell_type": "code",
   "execution_count": 15,
   "metadata": {
    "scrolled": true
   },
   "outputs": [
    {
     "name": "stdout",
     "output_type": "stream",
     "text": [
      "同样以T-05为例，看各分类的箱型图：\n"
     ]
    },
    {
     "data": {
      "image/png": "[encoded data removed]",
      "text/plain": [
       "<Figure size 576x396 with 1 Axes>"
      ]
     },
     "metadata": {},
     "output_type": "display_data"
    }
   ],
   "source": [
    "sns.boxplot(x = 'X', y = 'T-05', data = df)\n",
    "print('同样以T-05为例，看各分类的箱型图：')"
   ]
  },
  {
   "cell_type": "markdown",
   "metadata": {},
   "source": [
    "异常值分析：  \n",
    "1) 大于Q3+1.5*IQR或小于Q1-1.5IQR的值，其中IQR为四分位距  \n",
    "2) 3西格玛原则，数值分布在（μ—3σ,μ+3σ)中的概率为0.9974 "
   ]
  },
  {
   "cell_type": "markdown",
   "metadata": {},
   "source": [
    "## 数据相关性"
   ]
  },
  {
   "cell_type": "code",
   "execution_count": 16,
   "metadata": {},
   "outputs": [
    {
     "data": {
      "text/plain": [
       "<matplotlib.axes._subplots.AxesSubplot at 0x24b49e03be0>"
      ]
     },
     "execution_count": 16,
     "metadata": {},
     "output_type": "execute_result"
    },
    {
     "data": {
      "image/png": "[encoded data removed]",
      "text/plain": [
       "<Figure size 576x396 with 1 Axes>"
      ]
     },
     "metadata": {},
     "output_type": "display_data"
    }
   ],
   "source": [
    "df[['X', 'T-05']].plot(x = 'X', y = 'T-05', kind = 'scatter')"
   ]
  },
  {
   "cell_type": "markdown",
   "metadata": {},
   "source": [
    "患病和特征T-05不具有相关性"
   ]
  },
  {
   "cell_type": "code",
   "execution_count": 17,
   "metadata": {},
   "outputs": [
    {
     "data": {
      "text/plain": [
       "<matplotlib.axes._subplots.AxesSubplot at 0x24b49e786a0>"
      ]
     },
     "execution_count": 17,
     "metadata": {},
     "output_type": "execute_result"
    },
    {
     "data": {
      "image/png": "[encoded data removed]",
      "text/plain": [
       "<Figure size 576x396 with 1 Axes>"
      ]
     },
     "metadata": {},
     "output_type": "display_data"
    }
   ],
   "source": [
    "df[['X','T-01']].plot(x = 'X', y = 'T-01', kind = 'scatter')"
   ]
  },
  {
   "cell_type": "code",
   "execution_count": 18,
   "metadata": {},
   "outputs": [
    {
     "data": {
      "text/plain": [
       "<matplotlib.axes._subplots.AxesSubplot at 0x24b49daeb70>"
      ]
     },
     "execution_count": 18,
     "metadata": {},
     "output_type": "execute_result"
    },
    {
     "data": {
      "image/png": "[encoded data removed]",
      "text/plain": [
       "<Figure size 576x396 with 1 Axes>"
      ]
     },
     "metadata": {},
     "output_type": "display_data"
    }
   ],
   "source": [
    "df[['X','T-04']].plot(x = 'X', y = 'T-04', kind = 'scatter')"
   ]
  },
  {
   "cell_type": "code",
   "execution_count": 19,
   "metadata": {},
   "outputs": [
    {
     "name": "stdout",
     "output_type": "stream",
     "text": [
      "T-01和T-05线性无关\n"
     ]
    },
    {
     "data": {
      "image/png": "[encoded data removed]",
      "text/plain": [
       "<Figure size 576x396 with 1 Axes>"
      ]
     },
     "metadata": {},
     "output_type": "display_data"
    }
   ],
   "source": [
    "df[['T-01', 'T-05']].plot(x='T-01', y='T-05', c=df['X'], kind='scatter')\n",
    "print('T-01和T-05线性无关')"
   ]
  },
  {
   "cell_type": "markdown",
   "metadata": {},
   "source": [
    "T-01、T-04、T-05、T-06两两之间线性无关"
   ]
  },
  {
   "cell_type": "markdown",
   "metadata": {},
   "source": [
    "## 相关系数矩阵"
   ]
  },
  {
   "cell_type": "code",
   "execution_count": 75,
   "metadata": {},
   "outputs": [],
   "source": [
    "#def process(x):\n",
    "#    if 0<= x <= 30:\n",
    "#        return 0\n",
    "#    elif 30< x < 60:\n",
    "#        return 1\n",
    "#    else:\n",
    "#        return 2\n",
    "#df['T-05-new'] = df['T-05'].apply(lambda x : process(x))\n",
    "#df['T-05-new']"
   ]
  },
  {
   "cell_type": "markdown",
   "metadata": {},
   "source": [
    "皮尔逊相关系数：\n",
    "    值域为[-1,1], 1表示完全正相关， -1表示完全负相关，0表示无关， 绝对值越大表明相关性越强"
   ]
  },
  {
   "cell_type": "code",
   "execution_count": 6,
   "metadata": {},
   "outputs": [
    {
     "data": {
      "text/html": [
       "<div>\n",
       "<style scoped>\n",
       "    .dataframe tbody tr th:only-of-type {\n",
       "        vertical-align: middle;\n",
       "    }\n",
       "\n",
       "    .dataframe tbody tr th {\n",
       "        vertical-align: top;\n",
       "    }\n",
       "\n",
       "    .dataframe thead th {\n",
       "        text-align: right;\n",
       "    }\n",
       "</style>\n",
       "<table border=\"1\" class=\"dataframe\">\n",
       "  <thead>\n",
       "    <tr style=\"text-align: right;\">\n",
       "      <th></th>\n",
       "      <th>X</th>\n",
       "      <th>T-01</th>\n",
       "      <th>T-04</th>\n",
       "      <th>T-05</th>\n",
       "      <th>T-06</th>\n",
       "    </tr>\n",
       "  </thead>\n",
       "  <tbody>\n",
       "    <tr>\n",
       "      <th>X</th>\n",
       "      <td>1.000000</td>\n",
       "      <td>0.270143</td>\n",
       "      <td>0.240965</td>\n",
       "      <td>0.242085</td>\n",
       "      <td>0.203255</td>\n",
       "    </tr>\n",
       "    <tr>\n",
       "      <th>T-01</th>\n",
       "      <td>0.270143</td>\n",
       "      <td>1.000000</td>\n",
       "      <td>0.327054</td>\n",
       "      <td>0.755613</td>\n",
       "      <td>0.604424</td>\n",
       "    </tr>\n",
       "    <tr>\n",
       "      <th>T-04</th>\n",
       "      <td>0.240965</td>\n",
       "      <td>0.327054</td>\n",
       "      <td>1.000000</td>\n",
       "      <td>0.236672</td>\n",
       "      <td>0.218590</td>\n",
       "    </tr>\n",
       "    <tr>\n",
       "      <th>T-05</th>\n",
       "      <td>0.242085</td>\n",
       "      <td>0.755613</td>\n",
       "      <td>0.236672</td>\n",
       "      <td>1.000000</td>\n",
       "      <td>0.882295</td>\n",
       "    </tr>\n",
       "    <tr>\n",
       "      <th>T-06</th>\n",
       "      <td>0.203255</td>\n",
       "      <td>0.604424</td>\n",
       "      <td>0.218590</td>\n",
       "      <td>0.882295</td>\n",
       "      <td>1.000000</td>\n",
       "    </tr>\n",
       "  </tbody>\n",
       "</table>\n",
       "</div>"
      ],
      "text/plain": [
       "             X      T-01      T-04      T-05      T-06\n",
       "X     1.000000  0.270143  0.240965  0.242085  0.203255\n",
       "T-01  0.270143  1.000000  0.327054  0.755613  0.604424\n",
       "T-04  0.240965  0.327054  1.000000  0.236672  0.218590\n",
       "T-05  0.242085  0.755613  0.236672  1.000000  0.882295\n",
       "T-06  0.203255  0.604424  0.218590  0.882295  1.000000"
      ]
     },
     "execution_count": 6,
     "metadata": {},
     "output_type": "execute_result"
    }
   ],
   "source": [
    "df.corr(method = 'spearman')"
   ]
  },
  {
   "cell_type": "code",
   "execution_count": 7,
   "metadata": {},
   "outputs": [
    {
     "data": {
      "text/plain": [
       "X       1.000000\n",
       "T-06    0.203255\n",
       "T-05    0.200476\n",
       "T-04    0.074018\n",
       "T-01    0.047584\n",
       "Name: X, dtype: float64"
      ]
     },
     "execution_count": 7,
     "metadata": {},
     "output_type": "execute_result"
    }
   ],
   "source": [
    "corr_mat = df.corr(method = 'pearson')\n",
    "corr_mat['X'].abs().sort_values(\n",
    "    ascending = False) #得到性别与其他特征的相关系数  倒序"
   ]
  },
  {
   "cell_type": "markdown",
   "metadata": {},
   "source": [
    "# 预处理和降维\n",
    "\n",
    "## 异常值的处理\n",
    "\n",
    "### 缺失值处理"
   ]
  },
  {
   "cell_type": "code",
   "execution_count": 6,
   "metadata": {},
   "outputs": [
    {
     "name": "stdout",
     "output_type": "stream",
     "text": [
      "观察缺失值的比例，以决定采用填补还是丢弃\n"
     ]
    },
    {
     "data": {
      "text/html": [
       "<div>\n",
       "<style scoped>\n",
       "    .dataframe tbody tr th:only-of-type {\n",
       "        vertical-align: middle;\n",
       "    }\n",
       "\n",
       "    .dataframe tbody tr th {\n",
       "        vertical-align: top;\n",
       "    }\n",
       "\n",
       "    .dataframe thead th {\n",
       "        text-align: right;\n",
       "    }\n",
       "</style>\n",
       "<table border=\"1\" class=\"dataframe\">\n",
       "  <thead>\n",
       "    <tr style=\"text-align: right;\">\n",
       "      <th></th>\n",
       "      <th>ID</th>\n",
       "      <th>X</th>\n",
       "      <th>T-01</th>\n",
       "      <th>T-04</th>\n",
       "      <th>T-05</th>\n",
       "      <th>T-06</th>\n",
       "    </tr>\n",
       "  </thead>\n",
       "  <tbody>\n",
       "    <tr>\n",
       "      <th>count</th>\n",
       "      <td>1314</td>\n",
       "      <td>1314</td>\n",
       "      <td>1314</td>\n",
       "      <td>1314</td>\n",
       "      <td>1314</td>\n",
       "      <td>1314</td>\n",
       "    </tr>\n",
       "    <tr>\n",
       "      <th>unique</th>\n",
       "      <td>1</td>\n",
       "      <td>1</td>\n",
       "      <td>2</td>\n",
       "      <td>2</td>\n",
       "      <td>2</td>\n",
       "      <td>2</td>\n",
       "    </tr>\n",
       "    <tr>\n",
       "      <th>top</th>\n",
       "      <td>False</td>\n",
       "      <td>False</td>\n",
       "      <td>False</td>\n",
       "      <td>False</td>\n",
       "      <td>False</td>\n",
       "      <td>False</td>\n",
       "    </tr>\n",
       "    <tr>\n",
       "      <th>freq</th>\n",
       "      <td>1314</td>\n",
       "      <td>1314</td>\n",
       "      <td>1311</td>\n",
       "      <td>1296</td>\n",
       "      <td>1289</td>\n",
       "      <td>1289</td>\n",
       "    </tr>\n",
       "  </tbody>\n",
       "</table>\n",
       "</div>"
      ],
      "text/plain": [
       "           ID      X   T-01   T-04   T-05   T-06\n",
       "count    1314   1314   1314   1314   1314   1314\n",
       "unique      1      1      2      2      2      2\n",
       "top     False  False  False  False  False  False\n",
       "freq     1314   1314   1311   1296   1289   1289"
      ]
     },
     "execution_count": 6,
     "metadata": {},
     "output_type": "execute_result"
    }
   ],
   "source": [
    "print(\"观察缺失值的比例，以决定采用填补还是丢弃\")\n",
    "df.isnull().describe()"
   ]
  },
  {
   "cell_type": "markdown",
   "metadata": {},
   "source": [
    "这里直接删除包含缺失的样本  \n",
    "实际应用中可能需要适合的fill none算法  "
   ]
  },
  {
   "cell_type": "code",
   "execution_count": 3,
   "metadata": {},
   "outputs": [
    {
     "name": "stdout",
     "output_type": "stream",
     "text": [
      "剩余样本： (1280, 6)\n"
     ]
    }
   ],
   "source": [
    "df.dropna(inplace = True) #数据清洗\n",
    "print('剩余样本：', df.shape)"
   ]
  },
  {
   "cell_type": "markdown",
   "metadata": {},
   "source": [
    "## 离群点处理\n",
    "\n",
    "这里直接用3西格玛原则删除了异常的年龄  \n",
    "实际应用中需要适合的outlier detect算法"
   ]
  },
  {
   "cell_type": "markdown",
   "metadata": {},
   "source": [
    "3西格玛原则：|采样点与均值的差| > 3倍标准差 --》 则剔除\n",
    "变形为：\n",
    "     Xi< X - 3σ or  Xi > X + 3σ"
   ]
  },
  {
   "cell_type": "code",
   "execution_count": 4,
   "metadata": {},
   "outputs": [
    {
     "name": "stdout",
     "output_type": "stream",
     "text": [
      "处理特征T-01, 剩余样本：1264\n",
      "处理特征T-04, 剩余样本：1231\n",
      "处理特征T-05, 剩余样本：1218\n"
     ]
    }
   ],
   "source": [
    "cols = df.columns\n",
    "\n",
    "\n",
    "for i in range(2,df.shape[1]-1):\n",
    "    up_bound = df[cols[i]].mean() + 3*df[cols[i]].std()\n",
    "    low_bound = df[cols[i]].mean() - 3*df[cols[i]].std()\n",
    "    df = df[(df[cols[i]]<=up_bound) & (df[cols[i]]>=low_bound)]\n",
    "    print(\"处理特征%s, 剩余样本：%d\" % (cols[i],df.shape[0]))\n",
    "\n"
   ]
  },
  {
   "cell_type": "markdown",
   "metadata": {},
   "source": [
    "## 数据降维\n",
    "\n",
    "### 主成分分析\n",
    "\n",
    "#### to maximize Var(c1X1 + c2X2 + c3X3 + ...) 其中 c1^2 + c2^2 +....+ cp^2 = 1"
   ]
  },
  {
   "cell_type": "markdown",
   "metadata": {},
   "source": [
    "PCA算法流程：  \n",
    "1) 0均值化：将X的每一维数据分别减去其平均值，即 X=X-Mean（X）  \n",
    "2) 协方差矩阵：协方差矩阵C可以描述m维属性之间的相关关系，即 C=(X'X)/m  \n",
    "3) 数据降维：协方差矩阵C是m*m阶，选取的特征向量矩阵P是m*k阶。通过 Y=XP 即得到投影后的k维样本。"
   ]
  },
  {
   "cell_type": "code",
   "execution_count": 8,
   "metadata": {
    "collapsed": true
   },
   "outputs": [
    {
     "ename": "ModuleNotFoundError",
     "evalue": "No module named 'sklearn'",
     "output_type": "error",
     "traceback": [
      "\u001b[0;31m---------------------------------------------------------------------------\u001b[0m",
      "\u001b[0;31mModuleNotFoundError\u001b[0m                       Traceback (most recent call last)",
      "\u001b[0;32m<ipython-input-8-297a2e3ce91a>\u001b[0m in \u001b[0;36m<module>\u001b[0;34m\u001b[0m\n\u001b[0;32m----> 1\u001b[0;31m \u001b[0;32mfrom\u001b[0m \u001b[0msklearn\u001b[0m\u001b[0;34m.\u001b[0m\u001b[0mdecomposition\u001b[0m \u001b[0;32mimport\u001b[0m \u001b[0mPCA\u001b[0m\u001b[0;34m\u001b[0m\u001b[0;34m\u001b[0m\u001b[0m\n\u001b[0m\u001b[1;32m      2\u001b[0m \u001b[0;31m# 直接调包实现了，手写也不复杂\u001b[0m\u001b[0;34m\u001b[0m\u001b[0;34m\u001b[0m\u001b[0;34m\u001b[0m\u001b[0m\n\u001b[1;32m      3\u001b[0m \u001b[0mfeatures\u001b[0m \u001b[0;34m=\u001b[0m \u001b[0;34m[\u001b[0m\u001b[0mi\u001b[0m \u001b[0;32mfor\u001b[0m \u001b[0mi\u001b[0m \u001b[0;32min\u001b[0m \u001b[0mdf\u001b[0m\u001b[0;34m.\u001b[0m\u001b[0mcolumns\u001b[0m \u001b[0;32mif\u001b[0m \u001b[0mi\u001b[0m \u001b[0;32mnot\u001b[0m \u001b[0;32min\u001b[0m \u001b[0;34m[\u001b[0m\u001b[0;34m'ID'\u001b[0m\u001b[0;34m,\u001b[0m \u001b[0;34m'X'\u001b[0m\u001b[0;34m,\u001b[0m \u001b[0;34m'Year'\u001b[0m\u001b[0;34m]\u001b[0m\u001b[0;34m]\u001b[0m  \u001b[0;31m#feature中去除了 'ID', 'X', 'Year'\u001b[0m\u001b[0;34m\u001b[0m\u001b[0;34m\u001b[0m\u001b[0m\n\u001b[1;32m      4\u001b[0m \u001b[0mX\u001b[0m\u001b[0;34m,\u001b[0m \u001b[0my\u001b[0m \u001b[0;34m=\u001b[0m \u001b[0mdf\u001b[0m\u001b[0;34m[\u001b[0m\u001b[0mfeatures\u001b[0m\u001b[0;34m]\u001b[0m\u001b[0;34m,\u001b[0m \u001b[0mdf\u001b[0m\u001b[0;34m[\u001b[0m\u001b[0;34m'X'\u001b[0m\u001b[0;34m]\u001b[0m\u001b[0;34m\u001b[0m\u001b[0;34m\u001b[0m\u001b[0m\n\u001b[1;32m      5\u001b[0m \u001b[0;31m#PCA算法所要保留下来的主成分个数\u001b[0m\u001b[0;34m\u001b[0m\u001b[0;34m\u001b[0m\u001b[0;34m\u001b[0m\u001b[0m\n",
      "\u001b[0;31mModuleNotFoundError\u001b[0m: No module named 'sklearn'"
     ]
    }
   ],
   "source": [
    "from sklearn.decomposition import PCA\n",
    "# 直接调包实现了，手写也不复杂\n",
    "features = [i for i in df.columns if i not in ['ID', 'X', 'Year']]  #feature中去除了 'ID', 'X', 'Year'\n",
    "X, y = df[features], df['X']\n",
    "#PCA算法所要保留下来的主成分个数\n",
    "pca = PCA(n_components=4)\n",
    "pca.fit(X)\n",
    "print('降维后 各主成分的方差值') \n",
    "print(pca.explained_variance_ratio_)\n",
    "print('返回各主成分的方差百分比(贡献率)')\n",
    "print(pca.explained_variance_)"
   ]
  },
  {
   "cell_type": "code",
   "execution_count": 50,
   "metadata": {},
   "outputs": [
    {
     "data": {
      "image/png": "[encoded data removed]",
      "text/plain": [
       "<Figure size 576x396 with 1 Axes>"
      ]
     },
     "metadata": {},
     "output_type": "display_data"
    }
   ],
   "source": [
    "# n_component PCA算法中要保留的成分个数\n",
    "pca = PCA(n_components=2)\n",
    "#训练模型  用数据X来训练\n",
    "pca.fit(X)\n",
    "#返回降维后的数据\n",
    "X_new = pca.transform(X)\n",
    "#画出散点图\n",
    "plt.scatter(X_new[:, 0], X_new[:, 1], c=y, marker='o')  # y = 0 /1 /2\n",
    "plt.show()"
   ]
  },
  {
   "cell_type": "markdown",
   "metadata": {},
   "source": [
    "# 参数检测和方差分析"
   ]
  },
  {
   "cell_type": "code",
   "execution_count": 51,
   "metadata": {},
   "outputs": [],
   "source": [
    "from scipy.stats.mstats import kruskalwallis\n",
    "import scipy.stats as stats\n",
    "import numpy as np\n",
    "import scipy as sp\n",
    "\n",
    "#啥叫显著性差异\n",
    "# p>0.05 表示差异不显著\n",
    "# 0.01 < p < 0.05 表示差异性显著\n",
    "# p< 0.01 表示差异性极显著\n",
    "\n",
    "#三组非正太分布数据检验\n",
    "def Kruskawallis_test(list1, list2, list3):\n",
    "    # Perform the Kruskal-Wallis test,返回True表示有显著差异，返回False表示无显著差异\n",
    "    print(\"Use kruskawallis test:\")\n",
    "     \n",
    "    h, p = kruskalwallis(list1, list2, list3)\n",
    "    print(\"H value:\",h)\n",
    "    print(\"p value:\",p)\n",
    "      \n",
    "    # Print the results\n",
    "    if p<0.05:\n",
    "        print('There is a significant difference.')\n",
    "        return True\n",
    "    else:\n",
    "        print('No significant difference.')\n",
    "        return False\n",
    "\n",
    "#两组非正态分布数据检验   有关于统计学的知识\n",
    "def Mannwhitneyu(group1, group2):   \n",
    "    #以下处理sp版本问题 \n",
    "    if np.int(sp.__version__.split('.')[1]) > 16:\n",
    "        u, p_value = stats.mannwhitneyu(group1, group2, alternative='two-sided')\n",
    "    else:\n",
    "        u, p_value = stats.mannwhitneyu(group1, group2, use_continuity=True)\n",
    "        p_value *= 2    # because the default was a one-sided p-value\n",
    "    print((\"Mann-Whitney test\", p_value))\n",
    "    if p_value<0.05:\n",
    "        print(\"there is significant difference\")\n",
    "    else:\n",
    "        print(\"there is no significant difference\")"
   ]
  },
  {
   "cell_type": "markdown",
   "metadata": {},
   "source": [
    "## 单因素方差分析"
   ]
  },
  {
   "cell_type": "code",
   "execution_count": 52,
   "metadata": {},
   "outputs": [
    {
     "name": "stdout",
     "output_type": "stream",
     "text": [
      "Ttest_indResult(statistic=-6.8452522153543045, pvalue=1.2444486210770087e-11)\n",
      "('Mann-Whitney test', 1.9250260318708418e-11)\n",
      "there is significant difference\n",
      "None\n"
     ]
    }
   ],
   "source": [
    "#检验T-06和患病是否有关\n",
    "list_1 = df[df['T-06'] == 1]['X'].tolist()\n",
    "list_2 = df[df['T-06'] == 2]['X'].tolist()\n",
    "\n",
    "#独立T检验\n",
    "print(stats.ttest_ind(list_1, list_2))\n",
    "\n",
    "#Mannwhitneyu 检验\n",
    "print(Mannwhitneyu(list_1, list_2))\n"
   ]
  },
  {
   "cell_type": "markdown",
   "metadata": {},
   "source": [
    "结果说明，T-06和患病与否有显著性相关"
   ]
  },
  {
   "cell_type": "markdown",
   "metadata": {},
   "source": [
    "## 多因素方差分析"
   ]
  },
  {
   "cell_type": "markdown",
   "metadata": {},
   "source": [
    "连续型的属性，需要采样后进行多因子的方差分析  \n",
    "例如T-05，可以分成多段bins与其他因素结合 "
   ]
  },
  {
   "cell_type": "code",
   "execution_count": 53,
   "metadata": {},
   "outputs": [
    {
     "data": {
      "text/plain": [
       "0    0\n",
       "1    1\n",
       "2    0\n",
       "3    0\n",
       "5    1\n",
       "Name: T-05-new, dtype: int64"
      ]
     },
     "execution_count": 53,
     "metadata": {},
     "output_type": "execute_result"
    }
   ],
   "source": [
    "def process(x):\n",
    "    if 0<= x <=30:\n",
    "        return 0\n",
    "    elif 30< x< 60:\n",
    "        return 1\n",
    "    else:\n",
    "        return 2\n",
    "\n",
    "df['T-05-new'] = df['T-05'].apply(lambda x : process(x))\n",
    "df['T-05-new'].head()"
   ]
  },
  {
   "cell_type": "code",
   "execution_count": 54,
   "metadata": {},
   "outputs": [
    {
     "name": "stdout",
     "output_type": "stream",
     "text": [
      "Use kruskawallis test:\n",
      "H value: 14.75142613506185\n",
      "p value: 0.0006262799592855557\n",
      "There is a significant difference.\n"
     ]
    },
    {
     "data": {
      "text/plain": [
       "True"
      ]
     },
     "execution_count": 54,
     "metadata": {},
     "output_type": "execute_result"
    }
   ],
   "source": [
    "list_T05_0 = df[df['T-05-new']==0]['X'].tolist()\n",
    "list_T05_1 = df[df['T-05-new']==1]['X'].tolist()\n",
    "list_T05_2 = df[df['T-05-new']==2]['X'].tolist()\n",
    "list_group = [list_T05_0, list_T05_1, list_T05_2]\n",
    "\n",
    "#Kruskawallis_test  三组非正太分布数据检验\n",
    "Kruskawallis_test(list_T05_0, list_T05_1, list_T05_2)"
   ]
  },
  {
   "cell_type": "markdown",
   "metadata": {},
   "source": [
    "结果说明，T-05和患病与否具有显著相关"
   ]
  },
  {
   "cell_type": "markdown",
   "metadata": {},
   "source": [
    "# 完整的处理流程"
   ]
  },
  {
   "cell_type": "markdown",
   "metadata": {},
   "source": [
    "## 数据分析\n",
    "\n",
    "## 数据清洗"
   ]
  },
  {
   "cell_type": "markdown",
   "metadata": {},
   "source": [
    "### 删除缺失> 15%的列"
   ]
  },
  {
   "cell_type": "code",
   "execution_count": 5,
   "metadata": {},
   "outputs": [
    {
     "data": {
      "text/html": [
       "<div>\n",
       "<style scoped>\n",
       "    .dataframe tbody tr th:only-of-type {\n",
       "        vertical-align: middle;\n",
       "    }\n",
       "\n",
       "    .dataframe tbody tr th {\n",
       "        vertical-align: top;\n",
       "    }\n",
       "\n",
       "    .dataframe thead th {\n",
       "        text-align: right;\n",
       "    }\n",
       "</style>\n",
       "<table border=\"1\" class=\"dataframe\">\n",
       "  <thead>\n",
       "    <tr style=\"text-align: right;\">\n",
       "      <th></th>\n",
       "      <th>ID</th>\n",
       "      <th>X</th>\n",
       "      <th>T-01</th>\n",
       "      <th>T-04</th>\n",
       "      <th>T-05</th>\n",
       "      <th>T-06</th>\n",
       "    </tr>\n",
       "  </thead>\n",
       "  <tbody>\n",
       "    <tr>\n",
       "      <th>count</th>\n",
       "      <td>1218</td>\n",
       "      <td>1218</td>\n",
       "      <td>1218</td>\n",
       "      <td>1218</td>\n",
       "      <td>1218</td>\n",
       "      <td>1218</td>\n",
       "    </tr>\n",
       "    <tr>\n",
       "      <th>unique</th>\n",
       "      <td>1</td>\n",
       "      <td>1</td>\n",
       "      <td>1</td>\n",
       "      <td>1</td>\n",
       "      <td>1</td>\n",
       "      <td>1</td>\n",
       "    </tr>\n",
       "    <tr>\n",
       "      <th>top</th>\n",
       "      <td>False</td>\n",
       "      <td>False</td>\n",
       "      <td>False</td>\n",
       "      <td>False</td>\n",
       "      <td>False</td>\n",
       "      <td>False</td>\n",
       "    </tr>\n",
       "    <tr>\n",
       "      <th>freq</th>\n",
       "      <td>1218</td>\n",
       "      <td>1218</td>\n",
       "      <td>1218</td>\n",
       "      <td>1218</td>\n",
       "      <td>1218</td>\n",
       "      <td>1218</td>\n",
       "    </tr>\n",
       "  </tbody>\n",
       "</table>\n",
       "</div>"
      ],
      "text/plain": [
       "           ID      X   T-01   T-04   T-05   T-06\n",
       "count    1218   1218   1218   1218   1218   1218\n",
       "unique      1      1      1      1      1      1\n",
       "top     False  False  False  False  False  False\n",
       "freq     1218   1218   1218   1218   1218   1218"
      ]
     },
     "execution_count": 5,
     "metadata": {},
     "output_type": "execute_result"
    }
   ],
   "source": [
    "isnull_df = df.isnull().describe()\n",
    "isnull_df"
   ]
  },
  {
   "cell_type": "code",
   "execution_count": 6,
   "metadata": {},
   "outputs": [
    {
     "data": {
      "text/html": [
       "<div>\n",
       "<style scoped>\n",
       "    .dataframe tbody tr th:only-of-type {\n",
       "        vertical-align: middle;\n",
       "    }\n",
       "\n",
       "    .dataframe tbody tr th {\n",
       "        vertical-align: top;\n",
       "    }\n",
       "\n",
       "    .dataframe thead th {\n",
       "        text-align: right;\n",
       "    }\n",
       "</style>\n",
       "<table border=\"1\" class=\"dataframe\">\n",
       "  <thead>\n",
       "    <tr style=\"text-align: right;\">\n",
       "      <th></th>\n",
       "    </tr>\n",
       "  </thead>\n",
       "  <tbody>\n",
       "    <tr>\n",
       "      <th>count</th>\n",
       "    </tr>\n",
       "    <tr>\n",
       "      <th>unique</th>\n",
       "    </tr>\n",
       "    <tr>\n",
       "      <th>top</th>\n",
       "    </tr>\n",
       "    <tr>\n",
       "      <th>freq</th>\n",
       "    </tr>\n",
       "  </tbody>\n",
       "</table>\n",
       "</div>"
      ],
      "text/plain": [
       "Empty DataFrame\n",
       "Columns: []\n",
       "Index: [count, unique, top, freq]"
      ]
     },
     "execution_count": 6,
     "metadata": {},
     "output_type": "execute_result"
    }
   ],
   "source": [
    "isnull_df.loc[:, isnull_df.loc['freq'] < isnull_df.loc['count']*0.85]"
   ]
  },
  {
   "cell_type": "code",
   "execution_count": 27,
   "metadata": {},
   "outputs": [],
   "source": [
    "#删除缺失值比例大于0.85的列\n",
    "#df.drop(columns = [ ''] ,inplace = True)\n",
    "#df.head()"
   ]
  },
  {
   "cell_type": "markdown",
   "metadata": {},
   "source": [
    "### 删除相关性<0.01的列"
   ]
  },
  {
   "cell_type": "code",
   "execution_count": 7,
   "metadata": {},
   "outputs": [
    {
     "data": {
      "text/plain": [
       "X       1.000000\n",
       "T-06    0.206570\n",
       "T-05    0.202943\n",
       "T-04    0.125348\n",
       "T-01    0.118387\n",
       "Name: X, dtype: float64"
      ]
     },
     "execution_count": 7,
     "metadata": {},
     "output_type": "execute_result"
    }
   ],
   "source": [
    "corr_mat = df.corr(method = 'pearson')\n",
    "corr_mat['X'].abs().sort_values(ascending = False)"
   ]
  },
  {
   "cell_type": "code",
   "execution_count": 8,
   "metadata": {},
   "outputs": [
    {
     "name": "stdout",
     "output_type": "stream",
     "text": [
      "Index([], dtype='object')\n"
     ]
    }
   ],
   "source": [
    "corr = corr_mat['X'].abs()\n",
    "print(corr[corr < 0.01].index)"
   ]
  },
  {
   "cell_type": "code",
   "execution_count": 9,
   "metadata": {},
   "outputs": [
    {
     "data": {
      "text/html": [
       "<div>\n",
       "<style scoped>\n",
       "    .dataframe tbody tr th:only-of-type {\n",
       "        vertical-align: middle;\n",
       "    }\n",
       "\n",
       "    .dataframe tbody tr th {\n",
       "        vertical-align: top;\n",
       "    }\n",
       "\n",
       "    .dataframe thead th {\n",
       "        text-align: right;\n",
       "    }\n",
       "</style>\n",
       "<table border=\"1\" class=\"dataframe\">\n",
       "  <thead>\n",
       "    <tr style=\"text-align: right;\">\n",
       "      <th></th>\n",
       "      <th>ID</th>\n",
       "      <th>X</th>\n",
       "      <th>T-01</th>\n",
       "      <th>T-04</th>\n",
       "      <th>T-05</th>\n",
       "      <th>T-06</th>\n",
       "    </tr>\n",
       "  </thead>\n",
       "  <tbody>\n",
       "    <tr>\n",
       "      <th>0</th>\n",
       "      <td>15-10001</td>\n",
       "      <td>0</td>\n",
       "      <td>1.2</td>\n",
       "      <td>36.0</td>\n",
       "      <td>0.0</td>\n",
       "      <td>1.0</td>\n",
       "    </tr>\n",
       "    <tr>\n",
       "      <th>1</th>\n",
       "      <td>15-10002</td>\n",
       "      <td>0</td>\n",
       "      <td>19.1</td>\n",
       "      <td>79.0</td>\n",
       "      <td>32.9</td>\n",
       "      <td>2.0</td>\n",
       "    </tr>\n",
       "    <tr>\n",
       "      <th>2</th>\n",
       "      <td>15-10003</td>\n",
       "      <td>1</td>\n",
       "      <td>21.8</td>\n",
       "      <td>106.0</td>\n",
       "      <td>9.7</td>\n",
       "      <td>1.0</td>\n",
       "    </tr>\n",
       "    <tr>\n",
       "      <th>3</th>\n",
       "      <td>15-10004</td>\n",
       "      <td>0</td>\n",
       "      <td>177.7</td>\n",
       "      <td>699.0</td>\n",
       "      <td>7.1</td>\n",
       "      <td>1.0</td>\n",
       "    </tr>\n",
       "    <tr>\n",
       "      <th>4</th>\n",
       "      <td>15-10005</td>\n",
       "      <td>1</td>\n",
       "      <td>138.2</td>\n",
       "      <td>41437.0</td>\n",
       "      <td>8.5</td>\n",
       "      <td>1.0</td>\n",
       "    </tr>\n",
       "  </tbody>\n",
       "</table>\n",
       "</div>"
      ],
      "text/plain": [
       "         ID  X   T-01     T-04  T-05  T-06\n",
       "0  15-10001  0    1.2     36.0   0.0   1.0\n",
       "1  15-10002  0   19.1     79.0  32.9   2.0\n",
       "2  15-10003  1   21.8    106.0   9.7   1.0\n",
       "3  15-10004  0  177.7    699.0   7.1   1.0\n",
       "4  15-10005  1  138.2  41437.0   8.5   1.0"
      ]
     },
     "execution_count": 9,
     "metadata": {},
     "output_type": "execute_result"
    }
   ],
   "source": [
    "df.drop(columns = [] , inplace = True)\n",
    "df.head()"
   ]
  },
  {
   "cell_type": "markdown",
   "metadata": {},
   "source": [
    "## 数据预处理\n",
    "\n",
    "### 删除6sigma离群点"
   ]
  },
  {
   "cell_type": "code",
   "execution_count": 10,
   "metadata": {},
   "outputs": [
    {
     "name": "stdout",
     "output_type": "stream",
     "text": [
      "原始样本 (1218, 6)\n"
     ]
    },
    {
     "data": {
      "text/html": [
       "<div>\n",
       "<style scoped>\n",
       "    .dataframe tbody tr th:only-of-type {\n",
       "        vertical-align: middle;\n",
       "    }\n",
       "\n",
       "    .dataframe tbody tr th {\n",
       "        vertical-align: top;\n",
       "    }\n",
       "\n",
       "    .dataframe thead th {\n",
       "        text-align: right;\n",
       "    }\n",
       "</style>\n",
       "<table border=\"1\" class=\"dataframe\">\n",
       "  <thead>\n",
       "    <tr style=\"text-align: right;\">\n",
       "      <th></th>\n",
       "      <th>X</th>\n",
       "      <th>T-01</th>\n",
       "      <th>T-04</th>\n",
       "      <th>T-05</th>\n",
       "      <th>T-06</th>\n",
       "    </tr>\n",
       "  </thead>\n",
       "  <tbody>\n",
       "    <tr>\n",
       "      <th>count</th>\n",
       "      <td>1218.000000</td>\n",
       "      <td>1218.000000</td>\n",
       "      <td>1218.000000</td>\n",
       "      <td>1218.000000</td>\n",
       "      <td>1218.000000</td>\n",
       "    </tr>\n",
       "    <tr>\n",
       "      <th>mean</th>\n",
       "      <td>0.463875</td>\n",
       "      <td>4967.970369</td>\n",
       "      <td>4191.701970</td>\n",
       "      <td>12.404187</td>\n",
       "      <td>1.392447</td>\n",
       "    </tr>\n",
       "    <tr>\n",
       "      <th>std</th>\n",
       "      <td>0.498898</td>\n",
       "      <td>19341.103813</td>\n",
       "      <td>10352.921945</td>\n",
       "      <td>16.380925</td>\n",
       "      <td>0.488496</td>\n",
       "    </tr>\n",
       "    <tr>\n",
       "      <th>min</th>\n",
       "      <td>0.000000</td>\n",
       "      <td>0.605000</td>\n",
       "      <td>11.000000</td>\n",
       "      <td>0.000000</td>\n",
       "      <td>1.000000</td>\n",
       "    </tr>\n",
       "    <tr>\n",
       "      <th>25%</th>\n",
       "      <td>0.000000</td>\n",
       "      <td>5.500000</td>\n",
       "      <td>56.250000</td>\n",
       "      <td>0.000000</td>\n",
       "      <td>1.000000</td>\n",
       "    </tr>\n",
       "    <tr>\n",
       "      <th>50%</th>\n",
       "      <td>0.000000</td>\n",
       "      <td>57.400000</td>\n",
       "      <td>342.000000</td>\n",
       "      <td>4.000000</td>\n",
       "      <td>1.000000</td>\n",
       "    </tr>\n",
       "    <tr>\n",
       "      <th>75%</th>\n",
       "      <td>1.000000</td>\n",
       "      <td>859.100000</td>\n",
       "      <td>2317.250000</td>\n",
       "      <td>20.875000</td>\n",
       "      <td>2.000000</td>\n",
       "    </tr>\n",
       "    <tr>\n",
       "      <th>max</th>\n",
       "      <td>1.000000</td>\n",
       "      <td>185478.000000</td>\n",
       "      <td>70450.000000</td>\n",
       "      <td>64.500000</td>\n",
       "      <td>2.000000</td>\n",
       "    </tr>\n",
       "  </tbody>\n",
       "</table>\n",
       "</div>"
      ],
      "text/plain": [
       "                 X           T-01          T-04         T-05         T-06\n",
       "count  1218.000000    1218.000000   1218.000000  1218.000000  1218.000000\n",
       "mean      0.463875    4967.970369   4191.701970    12.404187     1.392447\n",
       "std       0.498898   19341.103813  10352.921945    16.380925     0.488496\n",
       "min       0.000000       0.605000     11.000000     0.000000     1.000000\n",
       "25%       0.000000       5.500000     56.250000     0.000000     1.000000\n",
       "50%       0.000000      57.400000    342.000000     4.000000     1.000000\n",
       "75%       1.000000     859.100000   2317.250000    20.875000     2.000000\n",
       "max       1.000000  185478.000000  70450.000000    64.500000     2.000000"
      ]
     },
     "execution_count": 10,
     "metadata": {},
     "output_type": "execute_result"
    }
   ],
   "source": [
    "print('原始样本', df.shape)\n",
    "des_df = df.describe()\n",
    "des_df"
   ]
  },
  {
   "cell_type": "markdown",
   "metadata": {},
   "source": [
    "离群点大于Q3+1.5*IQR或小于Q1-1.5IQR的值，其中IQR为四分位距 箱线图中上限和下限"
   ]
  },
  {
   "cell_type": "code",
   "execution_count": 11,
   "metadata": {},
   "outputs": [
    {
     "data": {
      "text/plain": [
       "0.0"
      ]
     },
     "execution_count": 11,
     "metadata": {},
     "output_type": "execute_result"
    }
   ],
   "source": [
    "des_df.loc['25%', 'T-05']"
   ]
  },
  {
   "cell_type": "code",
   "execution_count": 12,
   "metadata": {},
   "outputs": [
    {
     "name": "stdout",
     "output_type": "stream",
     "text": [
      "剩余样本： (1202, 6)\n"
     ]
    }
   ],
   "source": [
    "\n",
    "\n",
    "#得到目前为止 经过清洗后的数据的特征名 除 ‘ID’ 'X':病情\n",
    "features = [x for x in df.columns if x not in['ID', 'X']] \n",
    "#提取出除X外 与x相关系数大于0.1的索引\n",
    "importances = [x for x in corr[corr>0.1].index.tolist() if x != 'X']\n",
    "for x in features:\n",
    "#     upper_bound = des_df.loc['75%', x] + 1.5*(des_df.loc['75%', x]-des_df.loc['25%', x])\n",
    "#     lower_bound = des_df.loc['25%', x] - 1.5*(des_df.loc['75%', x]-des_df.loc['25%', x])\n",
    "    upper_bound = des_df.loc['mean', x] + 6*des_df.loc['std', x]\n",
    "    lower_bound = des_df.loc['mean', x] - 6*des_df.loc['std', x]\n",
    "    if x in importances:\n",
    "        df = df[(df[x]<=upper_bound) & (df[x]>=lower_bound)]\n",
    "    else:\n",
    "        df.loc[df[x]>upper_bound, x] = upper_bound\n",
    "        df.loc[df[x]<lower_bound, x] = lower_bound\n",
    "print(\"剩余样本：\", df.shape)"
   ]
  },
  {
   "cell_type": "code",
   "execution_count": 13,
   "metadata": {},
   "outputs": [
    {
     "data": {
      "text/html": [
       "<div>\n",
       "<style scoped>\n",
       "    .dataframe tbody tr th:only-of-type {\n",
       "        vertical-align: middle;\n",
       "    }\n",
       "\n",
       "    .dataframe tbody tr th {\n",
       "        vertical-align: top;\n",
       "    }\n",
       "\n",
       "    .dataframe thead th {\n",
       "        text-align: right;\n",
       "    }\n",
       "</style>\n",
       "<table border=\"1\" class=\"dataframe\">\n",
       "  <thead>\n",
       "    <tr style=\"text-align: right;\">\n",
       "      <th></th>\n",
       "      <th>ID</th>\n",
       "      <th>X</th>\n",
       "      <th>T-01</th>\n",
       "      <th>T-04</th>\n",
       "      <th>T-05</th>\n",
       "      <th>T-06</th>\n",
       "    </tr>\n",
       "  </thead>\n",
       "  <tbody>\n",
       "    <tr>\n",
       "      <th>count</th>\n",
       "      <td>1202</td>\n",
       "      <td>1202</td>\n",
       "      <td>1202</td>\n",
       "      <td>1202</td>\n",
       "      <td>1202</td>\n",
       "      <td>1202</td>\n",
       "    </tr>\n",
       "    <tr>\n",
       "      <th>unique</th>\n",
       "      <td>1</td>\n",
       "      <td>1</td>\n",
       "      <td>1</td>\n",
       "      <td>1</td>\n",
       "      <td>1</td>\n",
       "      <td>1</td>\n",
       "    </tr>\n",
       "    <tr>\n",
       "      <th>top</th>\n",
       "      <td>False</td>\n",
       "      <td>False</td>\n",
       "      <td>False</td>\n",
       "      <td>False</td>\n",
       "      <td>False</td>\n",
       "      <td>False</td>\n",
       "    </tr>\n",
       "    <tr>\n",
       "      <th>freq</th>\n",
       "      <td>1202</td>\n",
       "      <td>1202</td>\n",
       "      <td>1202</td>\n",
       "      <td>1202</td>\n",
       "      <td>1202</td>\n",
       "      <td>1202</td>\n",
       "    </tr>\n",
       "  </tbody>\n",
       "</table>\n",
       "</div>"
      ],
      "text/plain": [
       "           ID      X   T-01   T-04   T-05   T-06\n",
       "count    1202   1202   1202   1202   1202   1202\n",
       "unique      1      1      1      1      1      1\n",
       "top     False  False  False  False  False  False\n",
       "freq     1202   1202   1202   1202   1202   1202"
      ]
     },
     "execution_count": 13,
     "metadata": {},
     "output_type": "execute_result"
    }
   ],
   "source": [
    "df.isnull().describe()"
   ]
  },
  {
   "cell_type": "markdown",
   "metadata": {},
   "source": [
    "### 分段mean 补全缺失值"
   ]
  },
  {
   "cell_type": "code",
   "execution_count": 13,
   "metadata": {},
   "outputs": [
    {
     "data": {
      "text/html": [
       "<div>\n",
       "<style scoped>\n",
       "    .dataframe tbody tr th:only-of-type {\n",
       "        vertical-align: middle;\n",
       "    }\n",
       "\n",
       "    .dataframe tbody tr th {\n",
       "        vertical-align: top;\n",
       "    }\n",
       "\n",
       "    .dataframe thead th {\n",
       "        text-align: right;\n",
       "    }\n",
       "</style>\n",
       "<table border=\"1\" class=\"dataframe\">\n",
       "  <thead>\n",
       "    <tr style=\"text-align: right;\">\n",
       "      <th></th>\n",
       "      <th>ID</th>\n",
       "    </tr>\n",
       "    <tr>\n",
       "      <th>X</th>\n",
       "      <th></th>\n",
       "    </tr>\n",
       "  </thead>\n",
       "  <tbody>\n",
       "    <tr>\n",
       "      <th>0</th>\n",
       "      <td>698</td>\n",
       "    </tr>\n",
       "    <tr>\n",
       "      <th>1</th>\n",
       "      <td>616</td>\n",
       "    </tr>\n",
       "  </tbody>\n",
       "</table>\n",
       "</div>"
      ],
      "text/plain": [
       "    ID\n",
       "X     \n",
       "0  698\n",
       "1  616"
      ]
     },
     "execution_count": 13,
     "metadata": {},
     "output_type": "execute_result"
    }
   ],
   "source": [
    "df[['X', 'ID']].groupby('X').count()"
   ]
  },
  {
   "cell_type": "code",
   "execution_count": 14,
   "metadata": {},
   "outputs": [
    {
     "name": "stdout",
     "output_type": "stream",
     "text": [
      "[0, 1]\n"
     ]
    },
    {
     "data": {
      "text/html": [
       "<div>\n",
       "<style scoped>\n",
       "    .dataframe tbody tr th:only-of-type {\n",
       "        vertical-align: middle;\n",
       "    }\n",
       "\n",
       "    .dataframe tbody tr th {\n",
       "        vertical-align: top;\n",
       "    }\n",
       "\n",
       "    .dataframe thead th {\n",
       "        text-align: right;\n",
       "    }\n",
       "</style>\n",
       "<table border=\"1\" class=\"dataframe\">\n",
       "  <thead>\n",
       "    <tr style=\"text-align: right;\">\n",
       "      <th></th>\n",
       "      <th>ID</th>\n",
       "      <th>X</th>\n",
       "      <th>T-01</th>\n",
       "      <th>T-04</th>\n",
       "      <th>T-05</th>\n",
       "      <th>T-06</th>\n",
       "    </tr>\n",
       "  </thead>\n",
       "  <tbody>\n",
       "    <tr>\n",
       "      <th>count</th>\n",
       "      <td>1314</td>\n",
       "      <td>1314</td>\n",
       "      <td>1314</td>\n",
       "      <td>1314</td>\n",
       "      <td>1314</td>\n",
       "      <td>1314</td>\n",
       "    </tr>\n",
       "    <tr>\n",
       "      <th>unique</th>\n",
       "      <td>1</td>\n",
       "      <td>1</td>\n",
       "      <td>1</td>\n",
       "      <td>1</td>\n",
       "      <td>1</td>\n",
       "      <td>1</td>\n",
       "    </tr>\n",
       "    <tr>\n",
       "      <th>top</th>\n",
       "      <td>False</td>\n",
       "      <td>False</td>\n",
       "      <td>False</td>\n",
       "      <td>False</td>\n",
       "      <td>False</td>\n",
       "      <td>False</td>\n",
       "    </tr>\n",
       "    <tr>\n",
       "      <th>freq</th>\n",
       "      <td>1314</td>\n",
       "      <td>1314</td>\n",
       "      <td>1314</td>\n",
       "      <td>1314</td>\n",
       "      <td>1314</td>\n",
       "      <td>1314</td>\n",
       "    </tr>\n",
       "  </tbody>\n",
       "</table>\n",
       "</div>"
      ],
      "text/plain": [
       "           ID      X   T-01   T-04   T-05   T-06\n",
       "count    1314   1314   1314   1314   1314   1314\n",
       "unique      1      1      1      1      1      1\n",
       "top     False  False  False  False  False  False\n",
       "freq     1314   1314   1314   1314   1314   1314"
      ]
     },
     "execution_count": 14,
     "metadata": {},
     "output_type": "execute_result"
    }
   ],
   "source": [
    "# 分段 按x=0， 1， 2不同情况 把每列进行均值填充\n",
    "print(df['X'].unique().tolist())\n",
    "for x in df['X'].unique().tolist():\n",
    "    #复制所有df['X'] = 当前遍历值 的行\n",
    "    tmp = df[df['X']==x].copy(deep=False)\n",
    "   #tmp.fillna(tmp.mean(axis=0, skipna=True), inplace=True)\n",
    "    #print(tmp.mean())\n",
    "    #以'X' 为分组， NAN均以每列的平均值填充 \n",
    "    df.loc[df['X']==x] = df[df['X']==x].fillna(tmp.mean()) \n",
    "df.isnull().describe()"
   ]
  },
  {
   "cell_type": "markdown",
   "metadata": {},
   "source": [
    "### 数据标准化"
   ]
  },
  {
   "cell_type": "code",
   "execution_count": 14,
   "metadata": {},
   "outputs": [
    {
     "data": {
      "text/html": [
       "<div>\n",
       "<style scoped>\n",
       "    .dataframe tbody tr th:only-of-type {\n",
       "        vertical-align: middle;\n",
       "    }\n",
       "\n",
       "    .dataframe tbody tr th {\n",
       "        vertical-align: top;\n",
       "    }\n",
       "\n",
       "    .dataframe thead th {\n",
       "        text-align: right;\n",
       "    }\n",
       "</style>\n",
       "<table border=\"1\" class=\"dataframe\">\n",
       "  <thead>\n",
       "    <tr style=\"text-align: right;\">\n",
       "      <th></th>\n",
       "      <th>X</th>\n",
       "      <th>T-01</th>\n",
       "      <th>T-04</th>\n",
       "      <th>T-05</th>\n",
       "      <th>T-06</th>\n",
       "    </tr>\n",
       "  </thead>\n",
       "  <tbody>\n",
       "    <tr>\n",
       "      <th>count</th>\n",
       "      <td>1202.000000</td>\n",
       "      <td>1.202000e+03</td>\n",
       "      <td>1.202000e+03</td>\n",
       "      <td>1.202000e+03</td>\n",
       "      <td>1.202000e+03</td>\n",
       "    </tr>\n",
       "    <tr>\n",
       "      <th>mean</th>\n",
       "      <td>0.463394</td>\n",
       "      <td>8.867006e-18</td>\n",
       "      <td>-1.477834e-18</td>\n",
       "      <td>1.123154e-16</td>\n",
       "      <td>-1.832515e-16</td>\n",
       "    </tr>\n",
       "    <tr>\n",
       "      <th>std</th>\n",
       "      <td>0.498866</td>\n",
       "      <td>1.000000e+00</td>\n",
       "      <td>1.000000e+00</td>\n",
       "      <td>9.999999e-01</td>\n",
       "      <td>9.999979e-01</td>\n",
       "    </tr>\n",
       "    <tr>\n",
       "      <th>min</th>\n",
       "      <td>0.000000</td>\n",
       "      <td>-2.831801e-01</td>\n",
       "      <td>-4.081940e-01</td>\n",
       "      <td>-7.516557e-01</td>\n",
       "      <td>-7.939828e-01</td>\n",
       "    </tr>\n",
       "    <tr>\n",
       "      <th>25%</th>\n",
       "      <td>0.000000</td>\n",
       "      <td>-2.827803e-01</td>\n",
       "      <td>-4.035165e-01</td>\n",
       "      <td>-7.516557e-01</td>\n",
       "      <td>-7.939828e-01</td>\n",
       "    </tr>\n",
       "    <tr>\n",
       "      <th>50%</th>\n",
       "      <td>0.000000</td>\n",
       "      <td>-2.788680e-01</td>\n",
       "      <td>-3.763236e-01</td>\n",
       "      <td>-5.234954e-01</td>\n",
       "      <td>-7.939828e-01</td>\n",
       "    </tr>\n",
       "    <tr>\n",
       "      <th>75%</th>\n",
       "      <td>1.000000</td>\n",
       "      <td>-2.196718e-01</td>\n",
       "      <td>-1.762746e-01</td>\n",
       "      <td>5.078508e-01</td>\n",
       "      <td>1.258420e+00</td>\n",
       "    </tr>\n",
       "    <tr>\n",
       "      <th>max</th>\n",
       "      <td>1.000000</td>\n",
       "      <td>9.260690e+00</td>\n",
       "      <td>6.467257e+00</td>\n",
       "      <td>3.225733e+00</td>\n",
       "      <td>1.258420e+00</td>\n",
       "    </tr>\n",
       "  </tbody>\n",
       "</table>\n",
       "</div>"
      ],
      "text/plain": [
       "                 X          T-01          T-04          T-05          T-06\n",
       "count  1202.000000  1.202000e+03  1.202000e+03  1.202000e+03  1.202000e+03\n",
       "mean      0.463394  8.867006e-18 -1.477834e-18  1.123154e-16 -1.832515e-16\n",
       "std       0.498866  1.000000e+00  1.000000e+00  9.999999e-01  9.999979e-01\n",
       "min       0.000000 -2.831801e-01 -4.081940e-01 -7.516557e-01 -7.939828e-01\n",
       "25%       0.000000 -2.827803e-01 -4.035165e-01 -7.516557e-01 -7.939828e-01\n",
       "50%       0.000000 -2.788680e-01 -3.763236e-01 -5.234954e-01 -7.939828e-01\n",
       "75%       1.000000 -2.196718e-01 -1.762746e-01  5.078508e-01  1.258420e+00\n",
       "max       1.000000  9.260690e+00  6.467257e+00  3.225733e+00  1.258420e+00"
      ]
     },
     "execution_count": 14,
     "metadata": {},
     "output_type": "execute_result"
    }
   ],
   "source": [
    "features = [x for x in df.columns if x not in['ID', 'X']] \n",
    "for x in features:\n",
    "    delta = 0.000001\n",
    "    df[x] = (df[x] - df[x].mean()) / (df[x].std() + delta)\n",
    "df.describe()"
   ]
  },
  {
   "cell_type": "markdown",
   "metadata": {},
   "source": [
    "计算协方差"
   ]
  },
  {
   "cell_type": "code",
   "execution_count": 15,
   "metadata": {},
   "outputs": [
    {
     "data": {
      "text/plain": [
       "X       0.248867\n",
       "T-06    0.103426\n",
       "T-05    0.100606\n",
       "T-01    0.080558\n",
       "T-04    0.072842\n",
       "Name: X, dtype: float64"
      ]
     },
     "execution_count": 15,
     "metadata": {},
     "output_type": "execute_result"
    }
   ],
   "source": [
    "cov_mat = df.cov()\n",
    "cov_mat['X'].abs().sort_values(ascending = False)"
   ]
  },
  {
   "cell_type": "code",
   "execution_count": 16,
   "metadata": {},
   "outputs": [
    {
     "name": "stdout",
     "output_type": "stream",
     "text": [
      "正向： ['X', 'T-01', 'T-04', 'T-05', 'T-06']\n",
      "负向:  []\n"
     ]
    }
   ],
   "source": [
    "cov = cov_mat['X']\n",
    "print('正向：', cov[cov > 0].index.tolist())\n",
    "print('负向: ', cov[cov < 0].index.tolist())"
   ]
  },
  {
   "cell_type": "markdown",
   "metadata": {},
   "source": [
    "### 保存cleaned数据"
   ]
  },
  {
   "cell_type": "code",
   "execution_count": 19,
   "metadata": {},
   "outputs": [],
   "source": [
    "df.to_csv('first_chan_Cleaned.csv', index = False, header = True, encoding = 'utf-8')"
   ]
  },
  {
   "cell_type": "code",
   "execution_count": 36,
   "metadata": {},
   "outputs": [
    {
     "data": {
      "text/html": [
       "<div>\n",
       "<style scoped>\n",
       "    .dataframe tbody tr th:only-of-type {\n",
       "        vertical-align: middle;\n",
       "    }\n",
       "\n",
       "    .dataframe tbody tr th {\n",
       "        vertical-align: top;\n",
       "    }\n",
       "\n",
       "    .dataframe thead th {\n",
       "        text-align: right;\n",
       "    }\n",
       "</style>\n",
       "<table border=\"1\" class=\"dataframe\">\n",
       "  <thead>\n",
       "    <tr style=\"text-align: right;\">\n",
       "      <th></th>\n",
       "      <th>ID</th>\n",
       "      <th>X</th>\n",
       "      <th>T-01</th>\n",
       "      <th>T-04</th>\n",
       "      <th>T-05</th>\n",
       "      <th>T-06</th>\n",
       "    </tr>\n",
       "  </thead>\n",
       "  <tbody>\n",
       "    <tr>\n",
       "      <th>0</th>\n",
       "      <td>15-10001</td>\n",
       "      <td>0</td>\n",
       "      <td>-0.231459</td>\n",
       "      <td>-0.369976</td>\n",
       "      <td>-0.761465</td>\n",
       "      <td>-0.834904</td>\n",
       "    </tr>\n",
       "    <tr>\n",
       "      <th>1</th>\n",
       "      <td>15-10002</td>\n",
       "      <td>0</td>\n",
       "      <td>-0.230988</td>\n",
       "      <td>-0.367570</td>\n",
       "      <td>1.102289</td>\n",
       "      <td>1.196802</td>\n",
       "    </tr>\n",
       "    <tr>\n",
       "      <th>2</th>\n",
       "      <td>15-10003</td>\n",
       "      <td>1</td>\n",
       "      <td>-0.230917</td>\n",
       "      <td>-0.366059</td>\n",
       "      <td>-0.211969</td>\n",
       "      <td>-0.834904</td>\n",
       "    </tr>\n",
       "    <tr>\n",
       "      <th>3</th>\n",
       "      <td>15-10004</td>\n",
       "      <td>0</td>\n",
       "      <td>-0.226813</td>\n",
       "      <td>-0.332870</td>\n",
       "      <td>-0.359257</td>\n",
       "      <td>-0.834904</td>\n",
       "    </tr>\n",
       "    <tr>\n",
       "      <th>4</th>\n",
       "      <td>15-10005</td>\n",
       "      <td>1</td>\n",
       "      <td>-0.227853</td>\n",
       "      <td>1.947155</td>\n",
       "      <td>-0.279948</td>\n",
       "      <td>-0.834904</td>\n",
       "    </tr>\n",
       "  </tbody>\n",
       "</table>\n",
       "</div>"
      ],
      "text/plain": [
       "         ID  X      T-01      T-04      T-05      T-06\n",
       "0  15-10001  0 -0.231459 -0.369976 -0.761465 -0.834904\n",
       "1  15-10002  0 -0.230988 -0.367570  1.102289  1.196802\n",
       "2  15-10003  1 -0.230917 -0.366059 -0.211969 -0.834904\n",
       "3  15-10004  0 -0.226813 -0.332870 -0.359257 -0.834904\n",
       "4  15-10005  1 -0.227853  1.947155 -0.279948 -0.834904"
      ]
     },
     "execution_count": 36,
     "metadata": {},
     "output_type": "execute_result"
    }
   ],
   "source": [
    "df.head()"
   ]
  },
  {
   "cell_type": "markdown",
   "metadata": {},
   "source": [
    "## 数据建模"
   ]
  },
  {
   "cell_type": "code",
   "execution_count": 18,
   "metadata": {},
   "outputs": [],
   "source": [
    "from sklearn.linear_model import LogisticRegressionCV,LinearRegression\n",
    "from sklearn.model_selection import train_test_split\n",
    "from sklearn.preprocessing import StandardScaler\n",
    "#from sklearn.linear_model.coordinate_descent import ConvergenceWarning\n",
    "from sklearn import tree\n",
    "from matplotlib import pyplot as plt\n",
    "\n",
    "import numpy as np\n",
    "from sklearn import datasets\n",
    "from sklearn.pipeline import Pipeline\n",
    "from sklearn.preprocessing import StandardScaler\n",
    "from sklearn.svm import LinearSVC\n",
    "\n",
    "from sklearn.svm import SVC\n",
    "\n",
    "\n",
    "#划分训练集与测试集  随机\n",
    "target = 'X'\n",
    "features = [x for x in df.columns if x not in['ID', 'X']]\n",
    "X, Y = df[features], df[target]# X = dataSet  and Y =  labels\n",
    "X_train, X_test, Y_train, Y_test = train_test_split(X, Y, test_size=0.2, random_state=0)"
   ]
  },
  {
   "cell_type": "markdown",
   "metadata": {},
   "source": [
    "### 决策树\n",
    "\n",
    "#### 参数：\n",
    "1. max_depth:树的最大深度  如何确定？？\n",
    "2. min_samples_split: 分裂所需的最小数量的节点数：即当叶节点的样本数量小于该参数后，则不再生成分支\n",
    "3. min_samples_leaf; 一个分支所需要的最少样本数\n",
    "4. min_weight_fraction_leaf :最小的权重系数\n",
    "5. max_leaf_nodes:最大叶节点数\n",
    "6.  criterion : 超参数 gini / entropy :决策树分支方式 ： ID3:基于信息熵entropy  CART: 基于基尼 gini\n"
   ]
  },
  {
   "cell_type": "markdown",
   "metadata": {},
   "source": [
    "#### 分支方式不同、maxdepth 不同"
   ]
  },
  {
   "cell_type": "code",
   "execution_count": 19,
   "metadata": {},
   "outputs": [
    {
     "name": "stdout",
     "output_type": "stream",
     "text": [
      "best score 0.62\n",
      "depth 3\n",
      "criterion entropy\n"
     ]
    }
   ],
   "source": [
    "bestTestingScore = 0.0\n",
    "bestDepth = 0\n",
    "bestriterion = ''\n",
    "\n",
    "maxdepth = 40\n",
    "depths = np.arange(2, maxdepth)\n",
    "criterions = ['gini','entropy']\n",
    "for criterion in criterions:\n",
    "    training_scores = []\n",
    "    testing_scores = []\n",
    "    for depth in depths:\n",
    "        clf = tree.DecisionTreeClassifier(criterion = criterion ,max_depth = depth)\n",
    "        clf.fit(X_train, Y_train)\n",
    "        trSc = clf.score(X_train, Y_train)\n",
    "        teSc = clf.score(X_test, Y_test)\n",
    "        training_scores.append(trSc)\n",
    "        testing_scores.append(teSc)\n",
    "        if bestTestingScore< teSc:\n",
    "            bestTestingScore = teSc\n",
    "            bestDepth = depth\n",
    "            bestriterion = criterion\n",
    "print('best score %.2f' % bestTestingScore)\n",
    "print('depth %d' % bestDepth)\n",
    "print('criterion %s' % bestriterion)"
   ]
  },
  {
   "cell_type": "markdown",
   "metadata": {},
   "source": [
    "### 基于SVM\n",
    "#### 分类：\n",
    "##### 1. 线性可分 LinearSVC\n",
    "##### 2. 线性支持 NuSVC\n",
    "##### 3. 非线性支持 SVC"
   ]
  },
  {
   "cell_type": "markdown",
   "metadata": {},
   "source": [
    "#### LinearSVC \n",
    "1. penalty : 正则化参数 L1/L2\n",
    "2. loss : 损失函数 hinge (L1 损失 svm标准损失)/ squared_hinge (L2 损失)\n",
    "3. dual : 是否转换成对偶问题 default = True\n",
    "4. tol : 残差收敛条件 default = 0.0001 同LR\n",
    "5. C: 惩罚系数 类似于LR中正则化系数\n",
    "6. muti_calss : 负责多分类问题中分类策略的制定 'ovr' / 'cramer_singer'\n",
    "7. fit_intercept : 是否计算截距 同LR\n",
    "8. class_weight : 处理不平衡样本数据 { 字典形式指定不同类别的权重 } / balanced\n",
    "9. verbose: 是否冗余 default = false\n",
    "10. random_state : 随机种子的大小\n",
    "11. max_iter : 最大迭代次数 default = 1000\n",
    "\n",
    "##### 对象\n",
    "1. coef_ : 各特征系数\n",
    "2. intercept : 截距大小\n",
    "\n",
    "------------------------------------------------------------------------------\n",
    "#### NuSVC\n",
    "1. nu : 训练误差部分的上限和支持向量部分的下限 (0,1) default = 0.5\n",
    "2. kernel : 核函数 linear 线性/ poly 多项式/ rbf 高斯/ sigmoid / precomputed 自定义\n",
    "3. degree : 控制函数的最高次数 对poly 有用\n",
    "4. gamma : 核函数系数 default = auto 特征维度的倒数\n",
    "5. coef0 : 核函数常数 即 y = kx + b 中的b值 default = 0\n",
    "6. max_iter: \n",
    "7. probability : 是否使用概率估计 default = False\n",
    "8. decision_function_shape: 等同于LeinearSVC中muti_class\n",
    "\n",
    "##### 对象\n",
    "1. support_ : 支持向量索引\n",
    "2. support_vectors : 支持向量\n",
    "3. n_support_ : 每个类别支持向量的个数\n",
    "4. daul_coef_ : 支持向量的系数\n",
    "5. coef_ : 特征系数 用于kernel = Linear\n",
    "6. intercept_ : 截距值\n",
    "\n",
    "\n",
    "------------------------------------------------------------------------------\n",
    "#### SVC\n",
    "1. C : 惩罚参数 同γ 过拟合 减小C 欠拟合 增大C  \n",
    "\n",
    "------------------------------------------------------------------------------\n",
    "#### Function\n",
    "1. decision_function(X) :  获取数据集X到 "
   ]
  },
  {
   "cell_type": "code",
   "execution_count": 23,
   "metadata": {},
   "outputs": [
    {
     "name": "stdout",
     "output_type": "stream",
     "text": [
      "linear_svc training score:0.620362\n",
      "linear_svc testing score:0.581749\n"
     ]
    }
   ],
   "source": [
    "svm_clf = Pipeline((\n",
    "                    ('scaler', StandardScaler()),\n",
    "                   ('linear_svc', LinearSVC(C = 1, loss = 'hinge'))\n",
    "                  )).fit(X_train, Y_train)\n",
    "print('linear_svc training score:%f' % svm_clf.score(X_train, Y_train))\n",
    "print('linear_svc testing score:%f' % svm_clf.score(X_test, Y_test))\n"
   ]
  },
  {
   "cell_type": "code",
   "execution_count": 44,
   "metadata": {},
   "outputs": [
    {
     "name": "stdout",
     "output_type": "stream",
     "text": [
      "poly_kernel_svc training score:1.000000\n",
      "poly_kernel_svc testing score:1.000000\n"
     ]
    }
   ],
   "source": [
    "poly_kernel_svm_clf = Pipeline((('scaler', StandardScaler()),\n",
    "                               ('svm_clf', SVC(kernel = 'poly', degree = 3, coef0 = 1, C = 5))\n",
    "                               )).fit(X_train, Y_train)\n",
    "print('poly_kernel_svc training score:%f' % poly_kernel_svm_clf.score(X_train, Y_train))\n",
    "print('poly_kernel_svc testing score:%f' % poly_kernel_svm_clf.score(X_test, Y_test))"
   ]
  },
  {
   "cell_type": "code",
   "execution_count": 24,
   "metadata": {},
   "outputs": [
    {
     "name": "stdout",
     "output_type": "stream",
     "text": [
      "rbf_kernel_svc training score:0.691722\n",
      "rbf_kernel_svc testing score:0.570342\n"
     ]
    }
   ],
   "source": [
    "rbf_kernel_svm_clf = Pipeline((('scaler', StandardScaler()),\n",
    "                               ('svm_clf', SVC(kernel = 'rbf', gamma = 5, C = 5 )) #当C为0.001 时 预测非1\n",
    "                               )).fit(X_train, Y_train)\n",
    "print('rbf_kernel_svc training score:%f' % rbf_kernel_svm_clf.score(X_train, Y_train))\n",
    "print('rbf_kernel_svc testing score:%f' % rbf_kernel_svm_clf.score(X_test, Y_test))"
   ]
  },
  {
   "cell_type": "markdown",
   "metadata": {},
   "source": [
    "### 训练逻辑回归LR模型"
   ]
  },
  {
   "cell_type": "code",
   "execution_count": 25,
   "metadata": {},
   "outputs": [],
   "source": [
    "#构建并训练模型\n",
    "##  multi_class:分类方式选择参数，有\"ovr(默认)\"和\"multinomial\"两个值可选择，在二元逻辑回归中无区别\n",
    "##  cv:几折交叉验证\n",
    "##  solver:优化算法选择参数，当penalty为\"l1\"时，参数只能是\"liblinear(坐标轴下降法)\"\n",
    "##  \"lbfgs\"和\"cg\"都是关于目标函数的二阶泰勒展开\n",
    "##  当penalty为\"l2\"时，参数可以是\"lbfgs(拟牛顿法)\",\"newton_cg(牛顿法变种)\",\"seg(minibactch随机平均梯度下降)\"\n",
    "##  维度<10000时，选择\"lbfgs\"法，维度>10000时，选择\"cs\"法比较好，显卡计算的时候，lbfgs\"和\"cs\"都比\"seg\"快\n",
    "##  penalty:正则化选择参数，用于解决过拟合，可选\"l1\",\"l2\"\n",
    "##  tol:当目标函数下降到该值是就停止，叫：容忍度，防止计算的过多\n",
    "lr = LogisticRegressionCV(\n",
    "    multi_class=\"multinomial\",\n",
    "    fit_intercept=True,\n",
    "    Cs=np.logspace(-2,2,20),\n",
    "    cv=2,\n",
    "    penalty=\"l2\",\n",
    "    solver=\"lbfgs\",\n",
    "    tol=0.01,\n",
    "    max_iter = 1000,\n",
    "    class_weight='balanced',\n",
    "    \n",
    ")\n",
    "re = lr.fit(X_train,Y_train)\n"
   ]
  },
  {
   "cell_type": "code",
   "execution_count": 26,
   "metadata": {},
   "outputs": [
    {
     "name": "stdout",
     "output_type": "stream",
     "text": [
      "R值(准确率): 0.6251189343482397\n",
      "参数: [[-0.00146783  0.06190137  0.09033205  0.13653275]]\n",
      "截距: [-0.00481399]\n",
      "稀疏化特征比率:0.00%\n",
      "=========sigmoid函数转化的值，即：概率p=========\n",
      "[[0.60015197 0.39984803]\n",
      " [0.49827895 0.50172105]\n",
      " [0.41711877 0.58288123]\n",
      " [0.37440937 0.62559063]\n",
      " [0.41523548 0.58476452]\n",
      " [0.60313761 0.39686239]\n",
      " [0.4268738  0.5731262 ]\n",
      " [0.59005595 0.40994405]\n",
      " [0.60307927 0.39692073]\n",
      " [0.60317297 0.39682703]\n",
      " [0.58211767 0.41788233]\n",
      " [0.60300174 0.39699826]\n",
      " [0.55164296 0.44835704]\n",
      " [0.58398017 0.41601983]\n",
      " [0.37980884 0.62019116]\n",
      " [0.59541558 0.40458442]\n",
      " [0.35679548 0.64320452]\n",
      " [0.20466368 0.79533632]\n",
      " [0.41477558 0.58522442]\n",
      " [0.60314849 0.39685151]\n",
      " [0.32603163 0.67396837]\n",
      " [0.60314174 0.39685826]\n",
      " [0.6015267  0.3984733 ]\n",
      " [0.60005799 0.39994201]\n",
      " [0.49827881 0.50172119]\n",
      " [0.58714168 0.41285832]\n",
      " [0.53411007 0.46588993]\n",
      " [0.37508415 0.62491585]\n",
      " [0.59569398 0.40430602]\n",
      " [0.30148424 0.69851576]\n",
      " [0.40507496 0.59492504]\n",
      " [0.38493277 0.61506723]\n",
      " [0.60305068 0.39694932]\n",
      " [0.58495163 0.41504837]\n",
      " [0.5870242  0.4129758 ]\n",
      " [0.59801872 0.40198128]\n",
      " [0.60282389 0.39717611]\n",
      " [0.3501802  0.6498198 ]\n",
      " [0.60152    0.39848   ]\n",
      " [0.32479587 0.67520413]\n",
      " [0.41892933 0.58107067]\n",
      " [0.42813251 0.57186749]\n",
      " [0.60264575 0.39735425]\n",
      " [0.60308462 0.39691538]\n",
      " [0.59929227 0.40070773]\n",
      " [0.5766011  0.4233989 ]\n",
      " [0.57940094 0.42059906]\n",
      " [0.54841654 0.45158346]\n",
      " [0.34684439 0.65315561]\n",
      " [0.60313087 0.39686913]\n",
      " [0.40644608 0.59355392]\n",
      " [0.6030969  0.3969031 ]\n",
      " [0.38105492 0.61894508]\n",
      " [0.33107247 0.66892753]\n",
      " [0.6021482  0.3978518 ]\n",
      " [0.23254411 0.76745589]\n",
      " [0.60314991 0.39685009]\n",
      " [0.57983176 0.42016824]\n",
      " [0.58754696 0.41245304]\n",
      " [0.40824806 0.59175194]\n",
      " [0.60312539 0.39687461]\n",
      " [0.34837475 0.65162525]\n",
      " [0.58964308 0.41035692]\n",
      " [0.39604956 0.60395044]\n",
      " [0.59119493 0.40880507]\n",
      " [0.59017444 0.40982556]\n",
      " [0.60259686 0.39740314]\n",
      " [0.59076882 0.40923118]\n",
      " [0.34133415 0.65866585]\n",
      " [0.39170171 0.60829829]\n",
      " [0.60315526 0.39684474]\n",
      " [0.60314307 0.39685693]\n",
      " [0.34908115 0.65091885]\n",
      " [0.38056413 0.61943587]\n",
      " [0.38703034 0.61296966]\n",
      " [0.60305882 0.39694118]\n",
      " [0.43717898 0.56282102]\n",
      " [0.40492525 0.59507475]\n",
      " [0.41261143 0.58738857]\n",
      " [0.60142338 0.39857662]\n",
      " [0.6008994  0.3991006 ]\n",
      " [0.5764064  0.4235936 ]\n",
      " [0.55281344 0.44718656]\n",
      " [0.38906819 0.61093181]\n",
      " [0.60314854 0.39685146]\n",
      " [0.3954977  0.6045023 ]\n",
      " [0.42264851 0.57735149]\n",
      " [0.60316363 0.39683637]\n",
      " [0.35771963 0.64228037]\n",
      " [0.59773761 0.40226239]\n",
      " [0.33782948 0.66217052]\n",
      " [0.37202537 0.62797463]\n",
      " [0.50641022 0.49358978]\n",
      " [0.60307386 0.39692614]\n",
      " [0.49827886 0.50172114]\n",
      " [0.39738185 0.60261815]\n",
      " [0.35905547 0.64094453]\n",
      " [0.41344825 0.58655175]\n",
      " [0.384375   0.615625  ]\n",
      " [0.6031555  0.3968445 ]\n",
      " [0.60266885 0.39733115]\n",
      " [0.60314439 0.39685561]\n",
      " [0.60310774 0.39689226]\n",
      " [0.36681343 0.63318657]\n",
      " [0.60314861 0.39685139]\n",
      " [0.6031675  0.3968325 ]\n",
      " [0.5462699  0.4537301 ]\n",
      " [0.4230088  0.5769912 ]\n",
      " [0.3742463  0.6257537 ]\n",
      " [0.59669726 0.40330274]\n",
      " [0.60284687 0.39715313]\n",
      " [0.39776057 0.60223943]\n",
      " [0.60314729 0.39685271]\n",
      " [0.58396353 0.41603647]\n",
      " [0.60231679 0.39768321]\n",
      " [0.6011267  0.3988733 ]\n",
      " [0.39475518 0.60524482]\n",
      " [0.37244867 0.62755133]\n",
      " [0.31633299 0.68366701]\n",
      " [0.60316344 0.39683656]\n",
      " [0.38198256 0.61801744]\n",
      " [0.561205   0.438795  ]\n",
      " [0.36884653 0.63115347]\n",
      " [0.60315935 0.39684065]\n",
      " [0.60214165 0.39785835]\n",
      " [0.60081509 0.39918491]\n",
      " [0.23659442 0.76340558]\n",
      " [0.60272054 0.39727946]\n",
      " [0.59820289 0.40179711]\n",
      " [0.60310094 0.39689906]\n",
      " [0.59892517 0.40107483]\n",
      " [0.59870828 0.40129172]\n",
      " [0.60306411 0.39693589]\n",
      " [0.57767883 0.42232117]\n",
      " [0.42671571 0.57328429]\n",
      " [0.34391745 0.65608255]\n",
      " [0.5897759  0.4102241 ]\n",
      " [0.41497814 0.58502186]\n",
      " [0.24587389 0.75412611]\n",
      " [0.60314578 0.39685422]\n",
      " [0.30573077 0.69426923]\n",
      " [0.59247323 0.40752677]\n",
      " [0.41424015 0.58575985]\n",
      " [0.41856012 0.58143988]\n",
      " [0.58309649 0.41690351]\n",
      " [0.56373913 0.43626087]\n",
      " [0.38829394 0.61170606]\n",
      " [0.29749023 0.70250977]\n",
      " [0.59997487 0.40002513]\n",
      " [0.60314848 0.39685152]\n",
      " [0.38968902 0.61031098]\n",
      " [0.58621533 0.41378467]\n",
      " [0.36506214 0.63493786]\n",
      " [0.6029221  0.3970779 ]\n",
      " [0.58157694 0.41842306]\n",
      " [0.59995584 0.40004416]\n",
      " [0.60298816 0.39701184]\n",
      " [0.60312948 0.39687052]\n",
      " [0.60299495 0.39700505]\n",
      " [0.5534851  0.4465149 ]\n",
      " [0.60033055 0.39966945]\n",
      " [0.52614913 0.47385087]\n",
      " [0.58330866 0.41669134]\n",
      " [0.60303028 0.39696972]\n",
      " [0.35824629 0.64175371]\n",
      " [0.40711979 0.59288021]\n",
      " [0.43053636 0.56946364]\n",
      " [0.40659349 0.59340651]\n",
      " [0.60308871 0.39691129]\n",
      " [0.59716418 0.40283582]\n",
      " [0.59483558 0.40516442]\n",
      " [0.60307104 0.39692896]\n",
      " [0.60024048 0.39975952]\n",
      " [0.59294397 0.40705603]\n",
      " [0.60306561 0.39693439]\n",
      " [0.60309827 0.39690173]\n",
      " [0.60315256 0.39684744]\n",
      " [0.32957376 0.67042624]\n",
      " [0.59978008 0.40021992]\n",
      " [0.59349019 0.40650981]\n",
      " [0.60296647 0.39703353]\n",
      " [0.60171039 0.39828961]\n",
      " [0.43162656 0.56837344]\n",
      " [0.25114152 0.74885848]\n",
      " [0.39788476 0.60211524]\n",
      " [0.60316751 0.39683249]\n",
      " [0.59643194 0.40356806]\n",
      " [0.37340767 0.62659233]\n",
      " [0.59407643 0.40592357]\n",
      " [0.36661618 0.63338382]\n",
      " [0.39278385 0.60721615]\n",
      " [0.60313355 0.39686645]\n",
      " [0.60295965 0.39704035]\n",
      " [0.58889746 0.41110254]\n",
      " [0.60307242 0.39692758]\n",
      " [0.60313489 0.39686511]\n",
      " [0.59846746 0.40153254]\n",
      " [0.60073199 0.39926801]\n",
      " [0.41676706 0.58323294]\n",
      " [0.3594119  0.6405881 ]\n",
      " [0.57846771 0.42153229]\n",
      " [0.37709076 0.62290924]\n",
      " [0.58929918 0.41070082]\n",
      " [0.60316753 0.39683247]\n",
      " [0.34300281 0.65699719]\n",
      " [0.36871348 0.63128652]\n",
      " [0.60312674 0.39687326]\n",
      " [0.59008183 0.40991817]\n",
      " [0.58402055 0.41597945]\n",
      " [0.59284608 0.40715392]\n",
      " [0.43622973 0.56377027]\n",
      " [0.60240666 0.39759334]\n",
      " [0.60315026 0.39684974]\n",
      " [0.54516061 0.45483939]\n",
      " [0.60184638 0.39815362]\n",
      " [0.41678928 0.58321072]\n",
      " [0.6028224  0.3971776 ]\n",
      " [0.58395476 0.41604524]\n",
      " [0.60316477 0.39683523]\n",
      " [0.59716304 0.40283696]\n",
      " [0.60313083 0.39686917]\n",
      " [0.41836993 0.58163007]\n",
      " [0.60304116 0.39695884]\n",
      " [0.60298827 0.39701173]\n",
      " [0.59738134 0.40261866]\n",
      " [0.60310637 0.39689363]\n",
      " [0.60316478 0.39683522]\n",
      " [0.58775575 0.41224425]\n",
      " [0.32366272 0.67633728]\n",
      " [0.60302484 0.39697516]\n",
      " [0.4154714  0.5845286 ]\n",
      " [0.58897438 0.41102562]\n",
      " [0.60315664 0.39684336]\n",
      " [0.42305495 0.57694505]\n",
      " [0.43667272 0.56332728]\n",
      " [0.55690553 0.44309447]\n",
      " [0.6028204  0.3971796 ]\n",
      " [0.60307648 0.39692352]\n",
      " [0.60270298 0.39729702]\n",
      " [0.58937252 0.41062748]\n",
      " [0.36644598 0.63355402]\n",
      " [0.38077258 0.61922742]\n",
      " [0.39863093 0.60136907]\n",
      " [0.53400008 0.46599992]\n",
      " [0.5968691  0.4031309 ]\n",
      " [0.43320179 0.56679821]\n",
      " [0.60240523 0.39759477]\n",
      " [0.31659844 0.68340156]\n",
      " [0.32854307 0.67145693]\n",
      " [0.31219605 0.68780395]\n",
      " [0.32819463 0.67180537]\n",
      " [0.40958383 0.59041617]\n",
      " [0.39591832 0.60408168]\n",
      " [0.60312946 0.39687054]\n",
      " [0.59825175 0.40174825]\n",
      " [0.59861063 0.40138937]\n",
      " [0.34616318 0.65383682]\n",
      " [0.58268822 0.41731178]\n",
      " [0.59160121 0.40839879]\n",
      " [0.58637119 0.41362881]\n",
      " [0.5759448  0.4240552 ]\n",
      " [0.60181913 0.39818087]\n",
      " [0.53386234 0.46613766]]\n"
     ]
    }
   ],
   "source": [
    "#模型效果获取\n",
    "r = re.score(X_train,Y_train)\n",
    "print(\"R值(准确率):\",r)\n",
    "print(\"参数:\",re.coef_)\n",
    "print(\"截距:\",re.intercept_)\n",
    "print(\"稀疏化特征比率:%.2f%%\" %(np.mean(lr.coef_.ravel()==0)*100))\n",
    "print(\"=========sigmoid函数转化的值，即：概率p=========\")\n",
    "print(re.predict_proba(X_test))     #sigmoid函数转化的值，即：概率p"
   ]
  },
  {
   "cell_type": "markdown",
   "metadata": {},
   "source": [
    "### 模型的持久化"
   ]
  },
  {
   "cell_type": "code",
   "execution_count": 32,
   "metadata": {},
   "outputs": [
    {
     "data": {
      "text/plain": [
       "LogisticRegressionCV(Cs=array([1.00000e-02, 1.62378e-02, 2.63665e-02, 4.28133e-02, 6.95193e-02,\n",
       "       1.12884e-01, 1.83298e-01, 2.97635e-01, 4.83293e-01, 7.84760e-01,\n",
       "       1.27427e+00, 2.06914e+00, 3.35982e+00, 5.45559e+00, 8.85867e+00,\n",
       "       1.43845e+01, 2.33572e+01, 3.79269e+01, 6.15848e+01, 1.00000e+02]),\n",
       "           class_weight='balanced', cv=2, dual=False, fit_intercept=True,\n",
       "           intercept_scaling=1.0, max_iter=1000, multi_class='multinomial',\n",
       "           n_jobs=None, penalty='l2', random_state=None, refit=True,\n",
       "           scoring=None, solver='lbfgs', tol=0.01, verbose=0)"
      ]
     },
     "execution_count": 32,
     "metadata": {},
     "output_type": "execute_result"
    }
   ],
   "source": [
    "#模型的保存与持久化\n",
    "from sklearn.externals import joblib\n",
    "# joblib.dump(ss,\"logistic_ss.model\")     #将标准化模型保存\n",
    "joblib.dump(lr,\"first_chan_logistic_lr.model\")     #将训练后的线性模型保存\n",
    "# joblib.load(\"logistic_ss.model\")        #加载模型,会保存该model文件\n",
    "joblib.load(\"first_chan_logistic_lr.model\")"
   ]
  },
  {
   "cell_type": "markdown",
   "metadata": {},
   "source": [
    "### 预测结果评价"
   ]
  },
  {
   "cell_type": "code",
   "execution_count": 27,
   "metadata": {},
   "outputs": [],
   "source": [
    "import matplotlib as mpl\n",
    "\n",
    "#解决中文显示问题\n",
    "mpl.rcParams['font.sans-serif']=[u'simHei']\n",
    "mpl.rcParams['axes.unicode_minus']=False"
   ]
  },
  {
   "cell_type": "code",
   "execution_count": 28,
   "metadata": {},
   "outputs": [
    {
     "data": {
      "image/png": "[encoded data removed]",
      "text/plain": [
       "<Figure size 1008x504 with 1 Axes>"
      ]
     },
     "metadata": {},
     "output_type": "display_data"
    },
    {
     "name": "stdout",
     "output_type": "stream",
     "text": [
      "=============Y_test==============\n",
      "[1 0 1 0 1 0 1 0 0 1 1 0 0 0 1 0 0 1 1 0 1 0 1 1 1 1 0 1 0 1 1 1 1 1 1 0 1\n",
      " 0 1 1 1 1 0 1 0 1 0 0 1 1 0 0 1 1 0 1 0 1 1 1 0 0 0 0 1 1 0 1 1 0 0 1 1 1\n",
      " 1 0 1 0 1 0 0 0 1 0 0 0 1 1 1 1 1 1 1 0 0 0 0 0 1 1 0 0 0 1 0 1 0 0 0 1 1\n",
      " 0 0 1 0 0 0 1 1 0 0 1 1 0 0 1 1 0 0 1 0 0 0 1 1 1 1 0 0 1 1 1 0 0 0 1 0 1\n",
      " 1 0 1 0 0 1 1 0 0 0 1 1 0 0 0 1 0 0 1 0 0 0 1 0 0 0 0 0 1 1 0 1 0 1 0 1 1\n",
      " 0 1 1 1 0 1 0 0 1 0 0 0 1 1 0 0 0 0 1 0 0 0 0 1 0 1 1 1 1 1 1 0 0 0 1 0 1\n",
      " 0 0 0 1 0 0 0 0 0 1 1 1 0 1 0 0 1 1 1 1 1 0 0 1 1 0 0 0 1 0 1 0 0 0 1 1 0\n",
      " 0 1 1 0]\n",
      "============Y_predict============\n",
      "[0 1 1 1 1 0 1 0 0 0 0 0 0 0 1 0 1 1 1 0 1 0 0 0 1 0 0 1 0 1 1 1 0 0 0 0 0\n",
      " 1 0 1 1 1 0 0 0 0 0 0 1 0 1 0 1 1 0 1 0 0 0 1 0 1 0 1 0 0 0 0 1 1 0 0 1 1\n",
      " 1 0 1 1 1 0 0 0 0 1 0 1 1 0 1 0 1 1 0 0 1 1 1 1 1 0 0 0 0 1 0 0 0 1 1 0 0\n",
      " 1 0 0 0 0 1 1 1 0 1 0 1 0 0 0 1 0 0 0 0 0 0 0 1 1 0 1 1 0 1 0 1 1 0 0 1 1\n",
      " 0 0 1 0 1 0 0 0 0 0 0 0 0 0 0 0 1 1 1 1 0 0 0 0 0 0 0 0 0 1 0 0 0 0 1 1 1\n",
      " 0 0 1 0 1 1 0 0 0 0 0 0 0 1 1 0 1 0 0 1 1 0 0 0 0 1 0 0 0 0 1 0 0 0 0 0 1\n",
      " 0 0 0 0 0 0 1 0 1 0 0 1 1 0 0 0 0 0 1 1 1 0 0 1 0 1 1 1 1 1 1 0 0 0 1 0 0\n",
      " 0 0 0 0]\n"
     ]
    }
   ],
   "source": [
    "#预测\n",
    "Y_predict = lr.predict(X_test)\n",
    " \n",
    "#画图对预测值和实际值进行比较\n",
    "x = range(len(X_test))\n",
    "plt.figure(figsize=(14,7),facecolor=\"w\")\n",
    "plt.ylim(0,6)\n",
    "plt.plot(x,Y_test,\"ro\",markersize=8,zorder=3,label=u\"Groud Truth\")\n",
    "plt.plot(x,Y_predict,\"go\",markersize=14,zorder=2,label=u\"Predict Value,$R^2$=%.3f\" %lr.score(X_test,Y_test))\n",
    "plt.legend(loc=\"upper left\")\n",
    "plt.xlabel(u\"sample\",fontsize=18)\n",
    "plt.ylabel(u\"label\",fontsize=18)\n",
    "plt.title(u\"Logistic Model\",fontsize=20)\n",
    "plt.show()\n",
    " \n",
    "print(\"=============Y_test==============\")\n",
    "print(Y_test.ravel())\n",
    "print(\"============Y_predict============\")\n",
    "print(Y_predict)"
   ]
  },
  {
   "cell_type": "code",
   "execution_count": 29,
   "metadata": {},
   "outputs": [
    {
     "name": "stdout",
     "output_type": "stream",
     "text": [
      "预测准确率： 0.5817490494296578\n",
      "精度： 0.5821357378661398\n",
      "召回率： 0.5817490494296578\n"
     ]
    }
   ],
   "source": [
    "from sklearn import metrics\n",
    "\n",
    "print(\"预测准确率：\", metrics.accuracy_score(Y_test, Y_predict))\n",
    "print(\"精度：\", metrics.precision_score(Y_test, Y_predict, average=\"weighted\"))\n",
    "print(\"召回率：\", metrics.recall_score(Y_test, Y_predict, average=\"weighted\"))"
   ]
  },
  {
   "cell_type": "code",
   "execution_count": 17,
   "metadata": {
    "collapsed": true
   },
   "outputs": [
    {
     "ename": "Exception",
     "evalue": "Dot product shape mismatch, (1051,) vs (5, 1051)",
     "output_type": "error",
     "traceback": [
      "\u001b[1;31m---------------------------------------------------------------------------\u001b[0m",
      "\u001b[1;31mException\u001b[0m                                 Traceback (most recent call last)",
      "\u001b[1;32m<ipython-input-17-5f5563b57c38>\u001b[0m in \u001b[0;36m<module>\u001b[1;34m\u001b[0m\n\u001b[0;32m     11\u001b[0m \u001b[1;33m\u001b[0m\u001b[0m\n\u001b[0;32m     12\u001b[0m \u001b[0mrige_clf\u001b[0m \u001b[1;33m=\u001b[0m \u001b[0mRidgeRegression\u001b[0m\u001b[1;33m(\u001b[0m\u001b[1;33m)\u001b[0m\u001b[1;33m\u001b[0m\u001b[1;33m\u001b[0m\u001b[0m\n\u001b[1;32m---> 13\u001b[1;33m \u001b[0mrige_clf\u001b[0m\u001b[1;33m.\u001b[0m\u001b[0mfit\u001b[0m\u001b[1;33m(\u001b[0m\u001b[0mX_train\u001b[0m\u001b[1;33m,\u001b[0m \u001b[0mY_train\u001b[0m\u001b[1;33m)\u001b[0m\u001b[1;33m\u001b[0m\u001b[1;33m\u001b[0m\u001b[0m\n\u001b[0m\u001b[0;32m     14\u001b[0m \u001b[0mY_predict\u001b[0m \u001b[1;33m=\u001b[0m \u001b[0mrige_clf\u001b[0m\u001b[1;33m.\u001b[0m\u001b[0mpredict\u001b[0m\u001b[1;33m(\u001b[0m\u001b[0mX_test\u001b[0m\u001b[1;33m)\u001b[0m\u001b[1;33m\u001b[0m\u001b[1;33m\u001b[0m\u001b[0m\n\u001b[0;32m     15\u001b[0m \u001b[1;33m\u001b[0m\u001b[0m\n",
      "\u001b[1;32m~\\Desktop\\数据分析\\lm.py\u001b[0m in \u001b[0;36mfit\u001b[1;34m(self, X, y)\u001b[0m\n\u001b[0;32m     97\u001b[0m         \u001b[0mA\u001b[0m \u001b[1;33m=\u001b[0m \u001b[0mself\u001b[0m\u001b[1;33m.\u001b[0m\u001b[0malpha\u001b[0m \u001b[1;33m*\u001b[0m \u001b[0mnp\u001b[0m\u001b[1;33m.\u001b[0m\u001b[0meye\u001b[0m\u001b[1;33m(\u001b[0m\u001b[0mX\u001b[0m\u001b[1;33m.\u001b[0m\u001b[0mshape\u001b[0m\u001b[1;33m[\u001b[0m\u001b[1;36m1\u001b[0m\u001b[1;33m]\u001b[0m\u001b[1;33m)\u001b[0m\u001b[1;33m\u001b[0m\u001b[1;33m\u001b[0m\u001b[0m\n\u001b[0;32m     98\u001b[0m         \u001b[0mpseudo_inverse\u001b[0m \u001b[1;33m=\u001b[0m \u001b[0mnp\u001b[0m\u001b[1;33m.\u001b[0m\u001b[0mdot\u001b[0m\u001b[1;33m(\u001b[0m\u001b[0mnp\u001b[0m\u001b[1;33m.\u001b[0m\u001b[0mlinalg\u001b[0m\u001b[1;33m.\u001b[0m\u001b[0minv\u001b[0m\u001b[1;33m(\u001b[0m\u001b[0mX\u001b[0m\u001b[1;33m.\u001b[0m\u001b[0mT\u001b[0m \u001b[1;33m@\u001b[0m \u001b[0mX\u001b[0m \u001b[1;33m+\u001b[0m \u001b[0mA\u001b[0m\u001b[1;33m)\u001b[0m\u001b[1;33m,\u001b[0m \u001b[0mX\u001b[0m\u001b[1;33m.\u001b[0m\u001b[0mT\u001b[0m\u001b[1;33m)\u001b[0m\u001b[1;33m\u001b[0m\u001b[1;33m\u001b[0m\u001b[0m\n\u001b[1;32m---> 99\u001b[1;33m         \u001b[0mself\u001b[0m\u001b[1;33m.\u001b[0m\u001b[0mbeta\u001b[0m \u001b[1;33m=\u001b[0m \u001b[0mpseudo_inverse\u001b[0m \u001b[1;33m@\u001b[0m \u001b[0my\u001b[0m\u001b[1;33m\u001b[0m\u001b[1;33m\u001b[0m\u001b[0m\n\u001b[0m\u001b[0;32m    100\u001b[0m \u001b[1;33m\u001b[0m\u001b[0m\n\u001b[0;32m    101\u001b[0m     \u001b[1;32mdef\u001b[0m \u001b[0mpredict\u001b[0m\u001b[1;33m(\u001b[0m\u001b[0mself\u001b[0m\u001b[1;33m,\u001b[0m \u001b[0mX\u001b[0m\u001b[1;33m)\u001b[0m\u001b[1;33m:\u001b[0m\u001b[1;33m\u001b[0m\u001b[1;33m\u001b[0m\u001b[0m\n",
      "\u001b[1;32mD:\\ANOCONDA\\lib\\site-packages\\pandas\\core\\series.py\u001b[0m in \u001b[0;36m__rmatmul__\u001b[1;34m(self, other)\u001b[0m\n\u001b[0;32m   2059\u001b[0m     \u001b[1;32mdef\u001b[0m \u001b[0m__rmatmul__\u001b[0m\u001b[1;33m(\u001b[0m\u001b[0mself\u001b[0m\u001b[1;33m,\u001b[0m \u001b[0mother\u001b[0m\u001b[1;33m)\u001b[0m\u001b[1;33m:\u001b[0m\u001b[1;33m\u001b[0m\u001b[1;33m\u001b[0m\u001b[0m\n\u001b[0;32m   2060\u001b[0m         \u001b[1;34m\"\"\" Matrix multiplication using binary `@` operator in Python>=3.5 \"\"\"\u001b[0m\u001b[1;33m\u001b[0m\u001b[1;33m\u001b[0m\u001b[0m\n\u001b[1;32m-> 2061\u001b[1;33m         \u001b[1;32mreturn\u001b[0m \u001b[0mself\u001b[0m\u001b[1;33m.\u001b[0m\u001b[0mdot\u001b[0m\u001b[1;33m(\u001b[0m\u001b[0mother\u001b[0m\u001b[1;33m)\u001b[0m\u001b[1;33m\u001b[0m\u001b[1;33m\u001b[0m\u001b[0m\n\u001b[0m\u001b[0;32m   2062\u001b[0m \u001b[1;33m\u001b[0m\u001b[0m\n\u001b[0;32m   2063\u001b[0m     \u001b[1;33m@\u001b[0m\u001b[0mSubstitution\u001b[0m\u001b[1;33m(\u001b[0m\u001b[0mklass\u001b[0m\u001b[1;33m=\u001b[0m\u001b[1;34m'Series'\u001b[0m\u001b[1;33m)\u001b[0m\u001b[1;33m\u001b[0m\u001b[1;33m\u001b[0m\u001b[0m\n",
      "\u001b[1;32mD:\\ANOCONDA\\lib\\site-packages\\pandas\\core\\series.py\u001b[0m in \u001b[0;36mdot\u001b[1;34m(self, other)\u001b[0m\n\u001b[0;32m   2041\u001b[0m             \u001b[1;32mif\u001b[0m \u001b[0mlvals\u001b[0m\u001b[1;33m.\u001b[0m\u001b[0mshape\u001b[0m\u001b[1;33m[\u001b[0m\u001b[1;36m0\u001b[0m\u001b[1;33m]\u001b[0m \u001b[1;33m!=\u001b[0m \u001b[0mrvals\u001b[0m\u001b[1;33m.\u001b[0m\u001b[0mshape\u001b[0m\u001b[1;33m[\u001b[0m\u001b[1;36m0\u001b[0m\u001b[1;33m]\u001b[0m\u001b[1;33m:\u001b[0m\u001b[1;33m\u001b[0m\u001b[1;33m\u001b[0m\u001b[0m\n\u001b[0;32m   2042\u001b[0m                 raise Exception('Dot product shape mismatch, %s vs %s' %\n\u001b[1;32m-> 2043\u001b[1;33m                                 (lvals.shape, rvals.shape))\n\u001b[0m\u001b[0;32m   2044\u001b[0m \u001b[1;33m\u001b[0m\u001b[0m\n\u001b[0;32m   2045\u001b[0m         \u001b[1;32mif\u001b[0m \u001b[0misinstance\u001b[0m\u001b[1;33m(\u001b[0m\u001b[0mother\u001b[0m\u001b[1;33m,\u001b[0m \u001b[0mDataFrame\u001b[0m\u001b[1;33m)\u001b[0m\u001b[1;33m:\u001b[0m\u001b[1;33m\u001b[0m\u001b[1;33m\u001b[0m\u001b[0m\n",
      "\u001b[1;31mException\u001b[0m: Dot product shape mismatch, (1051,) vs (5, 1051)"
     ]
    }
   ],
   "source": [
    "from lm import (\n",
    "    RidgeRegression,\n",
    "    LinearRegression,\n",
    "    BayesianLinearRegressionKnownVariance,\n",
    "    BayesianLinearRegressionUnknownVariance,\n",
    "    LogisticRegression,\n",
    ")\n",
    "\n",
    "import tests as t\n",
    "from sklearn import metrics\n",
    "\n",
    "rige_clf = LinearRegression()\n",
    "rige_clf.fit(X_train, Y_train)\n",
    "Y_predict = rige_clf.predict(X_test)\n",
    "\n",
    "print(\"预测准确率：\", metrics.accuracy_score(Y_test, Y_predict))\n",
    "print(\"精度：\", metrics.precision_score(Y_test, Y_predict, average=\"weighted\"))\n",
    "print(\"召回率：\", metrics.recall_score(Y_test, Y_predict, average=\"weighted\"))"
   ]
  },
  {
   "cell_type": "markdown",
   "metadata": {},
   "source": [
    "## CCA 特征"
   ]
  },
  {
   "cell_type": "code",
   "execution_count": null,
   "metadata": {},
   "outputs": [],
   "source": [
    "## CCA 数据 没有\n",
    "\"\"\"\n",
    "CCA_FILES = [\"CCA.csv\", \"DMPCCA.csv\", \"LDCCA.csv\", \"LPCCA.csv\", \"rank-CCA.csv\", \"semi-CCA.csv\"]\n",
    "\n",
    "for fi in CCA_FILES:\n",
    "    df = pd.read_csv(open(fi, encoding='utf-8'), skiprows=0)  \n",
    "    #划分训练集与测试集\n",
    "    target = 't'\n",
    "    features = [x for x in df.columns if x not in['t']]\n",
    "    X, Y = df[features], df[target]\n",
    "    X_train, X_test, Y_train, Y_test = train_test_split(X, Y, test_size=0.2, random_state=0)\n",
    "    lr = LogisticRegressionCV(\n",
    "        multi_class=\"multinomial\",\n",
    "        fit_intercept=True,\n",
    "        Cs=np.logspace(-2,2,20),\n",
    "        cv=2,\n",
    "        penalty=\"l2\",\n",
    "        solver=\"lbfgs\",\n",
    "        tol=0.01,\n",
    "        max_iter = 1000,\n",
    "        class_weight='balanced', \n",
    "    )\n",
    "    re = lr.fit(X_train,Y_train)\n",
    "    Y_predict = lr.predict(X_test)\n",
    "    print(\"===== %s =====\" % fi)\n",
    "    print(\"训练准确率：\", re.score(X_train,Y_train))\n",
    "    print(\"预测准确率：\", metrics.accuracy_score(Y_test, Y_predict))\n",
    "    print(\"精度：\", metrics.precision_score(Y_test, Y_predict, average=\"weighted\"))\n",
    "    print(\"召回率：\", metrics.recall_score(Y_test, Y_predict, average=\"weighted\"))\n",
    "    print(\"==========\")\n",
    "\"\"\""
   ]
  }
 ],
 "metadata": {
  "kernelspec": {
   "display_name": "Python 3",
   "language": "python",
   "name": "python3"
  },
  "language_info": {
   "codemirror_mode": {
    "name": "ipython",
    "version": 3
   },
   "file_extension": ".py",
   "mimetype": "text/x-python",
   "name": "python",
   "nbconvert_exporter": "python",
   "pygments_lexer": "ipython3",
   "version": "3.6.7"
  }
 },
 "nbformat": 4,
 "nbformat_minor": 2
}
