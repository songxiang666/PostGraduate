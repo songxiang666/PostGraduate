{
 "cells": [
  {
   "cell_type": "code",
   "execution_count": 2,
   "metadata": {},
   "outputs": [],
   "source": [
    "import pandas as pd\n",
    "import scipy\n",
    "from scipy import io\n",
    "import os"
   ]
  },
  {
   "cell_type": "code",
   "execution_count": 50,
   "metadata": {},
   "outputs": [],
   "source": [
    "def getFeature(features_struct):\n",
    "    a = features_struct.keys()\n",
    "    b = []\n",
    "    for fl in a:\n",
    "        b.append(fl)\n",
    "    return b[-1]"
   ]
  },
  {
   "cell_type": "code",
   "execution_count": 52,
   "metadata": {},
   "outputs": [],
   "source": [
    "for filename in filenames:\n",
    "    path = PATH + '/'+ filename\n",
    "    fls = os.listdir(path)\n",
    "    for fl in fls:\n",
    "        features_struct = scipy.io.loadmat(path + '/' + fl)\n",
    "        features = features_struct[getFeature(features_struct)]\n",
    "        dfdata = pd.DataFrame(features)\n",
    "        dfdata.to_csv('/users/xiangsong/Documents/MATLAB/'+ filename + '_' + fl +'.csv', index=False)"
   ]
  },
  {
   "cell_type": "code",
   "execution_count": null,
   "metadata": {},
   "outputs": [],
   "source": []
  },
  {
   "cell_type": "code",
   "execution_count": 33,
   "metadata": {},
   "outputs": [
    {
     "name": "stdout",
     "output_type": "stream",
     "text": [
      "__header__ b'MATLAB 5.0 MAT-file, Platform: MACI64, Created on: Tue Jul 30 10:20:18 2019'\n",
      "__version__ 1.0\n",
      "__globals__ []\n",
      "CCA_DATA [[-0.00533828 -0.01076162]\n",
      " [-0.00415784 -0.01076162]\n",
      " [-0.00522045 -0.01076162]\n",
      " ...\n",
      " [ 0.00143107  0.01539698]\n",
      " [-0.00164727  0.02201563]\n",
      " [-0.00444665 -0.01076162]]\n"
     ]
    }
   ],
   "source": [
    "features_struct = scipy.io.loadmat('/users/xiangsong/Documents/MATLAB/Data/first_non_exG/CCA_data.mat')\n",
    "#print(features_struct)\n",
    "for firstname, name in features_struct.items():\n",
    "    print(firstname,name)"
   ]
  },
  {
   "cell_type": "code",
   "execution_count": 49,
   "metadata": {},
   "outputs": [
    {
     "data": {
      "text/plain": [
       "'CCA_DATA'"
      ]
     },
     "execution_count": 49,
     "metadata": {},
     "output_type": "execute_result"
    }
   ],
   "source": []
  },
  {
   "cell_type": "code",
   "execution_count": null,
   "metadata": {},
   "outputs": [],
   "source": []
  }
 ],
 "metadata": {
  "kernelspec": {
   "display_name": "Python 3",
   "language": "python",
   "name": "python3"
  },
  "language_info": {
   "codemirror_mode": {
    "name": "ipython",
    "version": 3
   },
   "file_extension": ".py",
   "mimetype": "text/x-python",
   "name": "python",
   "nbconvert_exporter": "python",
   "pygments_lexer": "ipython3",
   "version": "3.6.7"
  }
 },
 "nbformat": 4,
 "nbformat_minor": 2
}
